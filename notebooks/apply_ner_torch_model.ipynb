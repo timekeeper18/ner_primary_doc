{
 "cells": [
  {
   "cell_type": "markdown",
   "id": "d41858ea",
   "metadata": {},
   "source": [
    "## Применение модели NER-BERT, дообученной на движке torch"
   ]
  },
  {
   "cell_type": "markdown",
   "id": "bad1a221",
   "metadata": {},
   "source": [
    "В тетрадке 2 основных блока:\n",
    "\n",
    "    1. Получение тегов по одной введенной строке - позволяет ввести свою строку для анализа на наличие тегов\n",
    "    2. Массовое тестирование модели на 20 000 примерах - позволяет сравнить ответы трех моделей: LD, DeepPavlov, Natasha"
   ]
  },
  {
   "cell_type": "code",
   "execution_count": 2,
   "id": "f576d9cc",
   "metadata": {},
   "outputs": [],
   "source": [
    "import torch\n",
    "from pathlib import Path\n",
    "import sys\n",
    "sys.path.append(\"..\")\n",
    "from src import NerTokes, Ner, NerPipe\n",
    "from src.ner_statistic import nomalize_spans, get_stat\n",
    "\n",
    "import pandas as pd\n",
    "from IPython.display import display, HTML\n",
    "\n",
    "from datasets import load_dataset, load_metric\n",
    "\n",
    "import shutil\n",
    "import os\n",
    "from transformers import AutoModelForTokenClassification, AutoTokenizer\n",
    "from deeppavlov.models.tokenizers.nltk_moses_tokenizer import NLTKMosesTokenizer\n",
    "\n",
    "from ipymarkup import show_box_markup\n",
    "from ipymarkup.palette import *\n",
    "\n",
    "import ast\n",
    "import operator\n",
    "\n",
    "BASE_DIR = Path().cwd().parent\n",
    "wikiann_dl_dir = BASE_DIR.joinpath(\"data/interim\")"
   ]
  },
  {
   "cell_type": "markdown",
   "id": "4bc37a62",
   "metadata": {},
   "source": [
    "### Поднимаем модельку с диска"
   ]
  },
  {
   "cell_type": "code",
   "execution_count": 2,
   "id": "9e31f5e4",
   "metadata": {},
   "outputs": [
    {
     "data": {
      "text/plain": [
       "'1.7.0+cu92'"
      ]
     },
     "execution_count": 2,
     "metadata": {},
     "output_type": "execute_result"
    }
   ],
   "source": [
    "import transformers\n",
    "torch.__version__"
   ]
  },
  {
   "cell_type": "code",
   "execution_count": 3,
   "id": "95bfed23",
   "metadata": {},
   "outputs": [],
   "source": [
    "# относительное расположение модели\n",
    "# model_path = 'models/ner_dpbert_100epoch_88f1_95acc.bin'\n",
    "model_path = 'models/ner_dpbert_3epoch_95f1ORG_99acc.bin'\n",
    "# model_path = 'models/ner_dpbert_4epoch_99f1ORG_99acc.bin'\n",
    "# model_path = 'models/ner_dpbert_7epoch_56f1ORG_96acc.bin'\n",
    "\n",
    "# объединяем путь к корневой директории с относительным расположением модели\n",
    "model_checkpoint = BASE_DIR.joinpath(model_path)\n",
    "\n",
    "label_list = ['O', 'B-PER', 'I-PER', 'B-ORG', 'I-ORG', 'B-LOC', 'I-LOC', 'B-INNKPP', 'I-INNKPP', 'B-RSKS', 'I-RSKS', 'B-STAT', 'I-STAT']\n",
    "nlp_ner = NerPipe(model_checkpoint, label_list, '##',0.8) #Ner(model_checkpoint, label_list)\n",
    "\n",
    "#  Функция для получения текста от пользователя.\n",
    "def get_user_text():\n",
    "    \"\"\"\n",
    "    Функция для получения введеной пользователем строки текста.\n",
    "    \"\"\"\n",
    "    while True:\n",
    "        text = input(\"Введите текст:\")\n",
    "        break\n",
    "    return text"
   ]
  },
  {
   "cell_type": "markdown",
   "id": "c50832d2",
   "metadata": {},
   "source": [
    "### Получение тегов по одной введенной строке"
   ]
  },
  {
   "cell_type": "markdown",
   "id": "35f21c5b",
   "metadata": {},
   "source": [
    "Для тестирования необходимо запустить ячейку, далее будет предложено ввести строку и система сразу произведет ее анализ\n",
    "\n",
    "<b>Нер работает для строк из первичных документов, на строках свободного написания сильно ошибается</b>"
   ]
  },
  {
   "cell_type": "code",
   "execution_count": 22,
   "id": "ebe9a0f2",
   "metadata": {},
   "outputs": [
    {
     "name": "stdout",
     "output_type": "stream",
     "text": [
      "Введите текст:получатель ООО \"ТД\" ЭЛЕКОМ \" адресу 197374, Санкт-Петербург город улица Стародеревенская дом 11 корпус 2 ЛИТЕР А ЭТАЖ 4 ОФИС 429 ИННКПП получатель 1814740712 / 781401001\n"
     ]
    },
    {
     "data": {
      "text/html": [
       "<div class=\"tex2jax_ignore\" style=\"white-space: pre-wrap\">получатель <span style=\"padding: 2px; border-radius: 4px; border: 1px solid #ffcdd2; background: #ffebee\">ООО &quot;ТД&quot; ЭЛЕКОМ &quot;<span style=\"vertical-align: middle; margin-left: 2px; font-size: 0.7em; color: #e57373;\">ORG</span></span> адресу <span style=\"padding: 2px; border-radius: 4px; border: 1px solid #c8e6c9; background: #e8f5e9\">197374, Санкт-Петербург город улица Стародеревенская дом 11 корпус 2 ЛИТЕР А ЭТАЖ 4 ОФИС 429<span style=\"vertical-align: middle; margin-left: 2px; font-size: 0.7em; color: #66bb6a;\">LOC</span></span> ИННКПП получатель <span style=\"padding: 2px; border-radius: 4px; border: 1px solid #ffe0b2; background: #fff3e0\">1814740712<span style=\"vertical-align: middle; margin-left: 2px; font-size: 0.7em; color: #ffb74d;\">INNKPP</span></span> / <span style=\"padding: 2px; border-radius: 4px; border: 1px solid #ffe0b2; background: #fff3e0\">781401001<span style=\"vertical-align: middle; margin-left: 2px; font-size: 0.7em; color: #ffb74d;\">INNKPP</span></span></div>"
      ],
      "text/plain": [
       "<IPython.core.display.HTML object>"
      ]
     },
     "metadata": {},
     "output_type": "display_data"
    }
   ],
   "source": [
    "text = get_user_text()\n",
    "\n",
    "nlp_ner.get_spans(text)\n",
    "# nlp_ner.get_span_coordinates()\n",
    "\n",
    "show_box_markup(text, nlp_ner.spans_coord, palette=palette(PER=BLUE, ORG=RED, LOC=GREEN, INNKPP=ORANGE, STAT=PURPLE, RSKS=BROWN))"
   ]
  },
  {
   "cell_type": "code",
   "execution_count": 6,
   "id": "4f99280d",
   "metadata": {},
   "outputs": [
    {
     "name": "stdout",
     "output_type": "stream",
     "text": [
      "Введите текст:Исполнитель Индивидуальный предприниматель Ефимова Наталья Ивановна, +8-826-568-7012 Адрес банка Исп-тель 190098 , г Санкт-Петербург , Адмиралтейский р-н , пл Труда , д 4 литер в , пом 212 231111056 Небанковская кредитная организация \" МОНЕТА \" ( общество с ограниченной ответственностью ) рас/сч 40253440786260473970 Адрес банка 614015 , Пермский край , г Пермь , Ленинский р-н , ул Екатерининская , д 18 тел. 8-885-63-06-595 кор/сч 30647910558312445795 БИК 046792177\n"
     ]
    },
    {
     "data": {
      "text/html": [
       "<div class=\"tex2jax_ignore\" style=\"white-space: pre-wrap\">Исполнитель <span style=\"padding: 2px; border-radius: 4px; border: 1px solid #ffcdd2; background: #ffebee\">Индивидуальный предприниматель Ефимова Наталья Ивановна<span style=\"vertical-align: middle; margin-left: 2px; font-size: 0.7em; color: #e57373;\">ORG</span></span>, <span style=\"padding: 2px; border-radius: 4px; border: 1px solid #d1c4e9; background: #ede7f6\">+<span style=\"vertical-align: middle; margin-left: 2px; font-size: 0.7em; color: #9575cd;\">STAT</span></span><span style=\"padding: 2px; border-radius: 4px; border: 1px solid #d1c4e9; background: #ede7f6\">8<span style=\"vertical-align: middle; margin-left: 2px; font-size: 0.7em; color: #9575cd;\">STAT</span></span><span style=\"padding: 2px; border-radius: 4px; border: 1px solid #d1c4e9; background: #ede7f6\">-<span style=\"vertical-align: middle; margin-left: 2px; font-size: 0.7em; color: #9575cd;\">STAT</span></span><span style=\"padding: 2px; border-radius: 4px; border: 1px solid #d1c4e9; background: #ede7f6\">826<span style=\"vertical-align: middle; margin-left: 2px; font-size: 0.7em; color: #9575cd;\">STAT</span></span><span style=\"padding: 2px; border-radius: 4px; border: 1px solid #d1c4e9; background: #ede7f6\">-<span style=\"vertical-align: middle; margin-left: 2px; font-size: 0.7em; color: #9575cd;\">STAT</span></span><span style=\"padding: 2px; border-radius: 4px; border: 1px solid #d1c4e9; background: #ede7f6\">568<span style=\"vertical-align: middle; margin-left: 2px; font-size: 0.7em; color: #9575cd;\">STAT</span></span><span style=\"padding: 2px; border-radius: 4px; border: 1px solid #d1c4e9; background: #ede7f6\">-<span style=\"vertical-align: middle; margin-left: 2px; font-size: 0.7em; color: #9575cd;\">STAT</span></span><span style=\"padding: 2px; border-radius: 4px; border: 1px solid #d1c4e9; background: #ede7f6\">7012<span style=\"vertical-align: middle; margin-left: 2px; font-size: 0.7em; color: #9575cd;\">STAT</span></span> Адрес банка Исп-тель <span style=\"padding: 2px; border-radius: 4px; border: 1px solid #c8e6c9; background: #e8f5e9\">190098 , г Санкт-Петербург , Адмиралтейский р-н , пл Труда , д 4 литер в , пом 212<span style=\"vertical-align: middle; margin-left: 2px; font-size: 0.7em; color: #66bb6a;\">LOC</span></span> <span style=\"padding: 2px; border-radius: 4px; border: 1px solid #ffe0b2; background: #fff3e0\">231111056<span style=\"vertical-align: middle; margin-left: 2px; font-size: 0.7em; color: #ffb74d;\">INNKPP</span></span> <span style=\"padding: 2px; border-radius: 4px; border: 1px solid #ffcdd2; background: #ffebee\">Небанковская кредитная организация &quot; МОНЕТА &quot; ( общество с ограниченной ответственностью )<span style=\"vertical-align: middle; margin-left: 2px; font-size: 0.7em; color: #e57373;\">ORG</span></span> рас/сч <span style=\"padding: 2px; border-radius: 4px; border: 1px solid #d7ccc8; background: #efebe9\">40253440786260473970<span style=\"vertical-align: middle; margin-left: 2px; font-size: 0.7em; color: #a1887f;\">RSKS</span></span> Адрес банка <span style=\"padding: 2px; border-radius: 4px; border: 1px solid #c8e6c9; background: #e8f5e9\">614015 , Пермский край , г Пермь , Ленинский р-н , ул Екатерининская , д 18<span style=\"vertical-align: middle; margin-left: 2px; font-size: 0.7em; color: #66bb6a;\">LOC</span></span> тел. <span style=\"padding: 2px; border-radius: 4px; border: 1px solid #d1c4e9; background: #ede7f6\">8<span style=\"vertical-align: middle; margin-left: 2px; font-size: 0.7em; color: #9575cd;\">STAT</span></span><span style=\"padding: 2px; border-radius: 4px; border: 1px solid #d1c4e9; background: #ede7f6\">-<span style=\"vertical-align: middle; margin-left: 2px; font-size: 0.7em; color: #9575cd;\">STAT</span></span><span style=\"padding: 2px; border-radius: 4px; border: 1px solid #d1c4e9; background: #ede7f6\">885<span style=\"vertical-align: middle; margin-left: 2px; font-size: 0.7em; color: #9575cd;\">STAT</span></span><span style=\"padding: 2px; border-radius: 4px; border: 1px solid #d1c4e9; background: #ede7f6\">-<span style=\"vertical-align: middle; margin-left: 2px; font-size: 0.7em; color: #9575cd;\">STAT</span></span><span style=\"padding: 2px; border-radius: 4px; border: 1px solid #d1c4e9; background: #ede7f6\">63<span style=\"vertical-align: middle; margin-left: 2px; font-size: 0.7em; color: #9575cd;\">STAT</span></span><span style=\"padding: 2px; border-radius: 4px; border: 1px solid #d1c4e9; background: #ede7f6\">-<span style=\"vertical-align: middle; margin-left: 2px; font-size: 0.7em; color: #9575cd;\">STAT</span></span><span style=\"padding: 2px; border-radius: 4px; border: 1px solid #d1c4e9; background: #ede7f6\">06<span style=\"vertical-align: middle; margin-left: 2px; font-size: 0.7em; color: #9575cd;\">STAT</span></span><span style=\"padding: 2px; border-radius: 4px; border: 1px solid #d1c4e9; background: #ede7f6\">-<span style=\"vertical-align: middle; margin-left: 2px; font-size: 0.7em; color: #9575cd;\">STAT</span></span><span style=\"padding: 2px; border-radius: 4px; border: 1px solid #d1c4e9; background: #ede7f6\">595<span style=\"vertical-align: middle; margin-left: 2px; font-size: 0.7em; color: #9575cd;\">STAT</span></span> кор/сч <span style=\"padding: 2px; border-radius: 4px; border: 1px solid #d7ccc8; background: #efebe9\">30647910558312445795<span style=\"vertical-align: middle; margin-left: 2px; font-size: 0.7em; color: #a1887f;\">RSKS</span></span> БИК <span style=\"padding: 2px; border-radius: 4px; border: 1px solid #d1c4e9; background: #ede7f6\">046792177<span style=\"vertical-align: middle; margin-left: 2px; font-size: 0.7em; color: #9575cd;\">STAT</span></span></div>"
      ],
      "text/plain": [
       "<IPython.core.display.HTML object>"
      ]
     },
     "metadata": {},
     "output_type": "display_data"
    }
   ],
   "source": [
    "text = get_user_text()\n",
    "nlp_ner.get_spans(text)\n",
    "# nlp_ner.get_span_coordinates()\n",
    "\n",
    "show_box_markup(text, nlp_ner.spans_coord, palette=palette(PER=BLUE, ORG=RED, LOC=GREEN, INNKPP=ORANGE, STAT=PURPLE, RSKS=BROWN))"
   ]
  },
  {
   "cell_type": "code",
   "execution_count": 16,
   "id": "3126a760",
   "metadata": {},
   "outputs": [
    {
     "data": {
      "text/plain": [
       "[{'word': 'ром',\n",
       "  'score': 0.7372082471847534,\n",
       "  'entity': 'LABEL_4',\n",
       "  'index': 1,\n",
       "  'start': 0,\n",
       "  'end': 3},\n",
       " {'word': '##ашка',\n",
       "  'score': 0.8091588020324707,\n",
       "  'entity': 'LABEL_4',\n",
       "  'index': 2,\n",
       "  'start': 3,\n",
       "  'end': 7},\n",
       " {'word': '-',\n",
       "  'score': 0.5067232847213745,\n",
       "  'entity': 'LABEL_0',\n",
       "  'index': 3,\n",
       "  'start': 7,\n",
       "  'end': 8},\n",
       " {'word': 'профиль',\n",
       "  'score': 0.8298013806343079,\n",
       "  'entity': 'LABEL_4',\n",
       "  'index': 4,\n",
       "  'start': 8,\n",
       "  'end': 15},\n",
       " {'word': ',',\n",
       "  'score': 0.8108944296836853,\n",
       "  'entity': 'LABEL_4',\n",
       "  'index': 5,\n",
       "  'start': 15,\n",
       "  'end': 16},\n",
       " {'word': 'о',\n",
       "  'score': 0.7483734488487244,\n",
       "  'entity': 'LABEL_4',\n",
       "  'index': 6,\n",
       "  'start': 17,\n",
       "  'end': 18},\n",
       " {'word': '##оо',\n",
       "  'score': 0.6099687814712524,\n",
       "  'entity': 'LABEL_3',\n",
       "  'index': 7,\n",
       "  'start': 18,\n",
       "  'end': 20},\n",
       " {'word': 'о',\n",
       "  'score': 0.8081063628196716,\n",
       "  'entity': 'LABEL_4',\n",
       "  'index': 8,\n",
       "  'start': 22,\n",
       "  'end': 23},\n",
       " {'word': '##оо',\n",
       "  'score': 0.7045565843582153,\n",
       "  'entity': 'LABEL_4',\n",
       "  'index': 9,\n",
       "  'start': 23,\n",
       "  'end': 25},\n",
       " {'word': '\"',\n",
       "  'score': 0.9954476356506348,\n",
       "  'entity': 'LABEL_4',\n",
       "  'index': 10,\n",
       "  'start': 26,\n",
       "  'end': 27},\n",
       " {'word': 'лит',\n",
       "  'score': 0.9984130859375,\n",
       "  'entity': 'LABEL_4',\n",
       "  'index': 11,\n",
       "  'start': 27,\n",
       "  'end': 30},\n",
       " {'word': '##лтон',\n",
       "  'score': 0.9619073271751404,\n",
       "  'entity': 'LABEL_4',\n",
       "  'index': 12,\n",
       "  'start': 30,\n",
       "  'end': 34},\n",
       " {'word': '\"',\n",
       "  'score': 0.9887253642082214,\n",
       "  'entity': 'LABEL_4',\n",
       "  'index': 13,\n",
       "  'start': 34,\n",
       "  'end': 35},\n",
       " {'word': 'кор',\n",
       "  'score': 0.8867760896682739,\n",
       "  'entity': 'LABEL_0',\n",
       "  'index': 14,\n",
       "  'start': 36,\n",
       "  'end': 39},\n",
       " {'word': '.',\n",
       "  'score': 0.9928521513938904,\n",
       "  'entity': 'LABEL_0',\n",
       "  'index': 15,\n",
       "  'start': 39,\n",
       "  'end': 40},\n",
       " {'word': 'счет',\n",
       "  'score': 0.9967038631439209,\n",
       "  'entity': 'LABEL_0',\n",
       "  'index': 16,\n",
       "  'start': 41,\n",
       "  'end': 45},\n",
       " {'word': '301',\n",
       "  'score': 0.6588032841682434,\n",
       "  'entity': 'LABEL_7',\n",
       "  'index': 17,\n",
       "  'start': 46,\n",
       "  'end': 49},\n",
       " {'word': '##01',\n",
       "  'score': 0.556616485118866,\n",
       "  'entity': 'LABEL_9',\n",
       "  'index': 18,\n",
       "  'start': 49,\n",
       "  'end': 51},\n",
       " {'word': '##81',\n",
       "  'score': 0.5151137709617615,\n",
       "  'entity': 'LABEL_7',\n",
       "  'index': 19,\n",
       "  'start': 51,\n",
       "  'end': 53},\n",
       " {'word': '##0',\n",
       "  'score': 0.8194942474365234,\n",
       "  'entity': 'LABEL_9',\n",
       "  'index': 20,\n",
       "  'start': 53,\n",
       "  'end': 54},\n",
       " {'word': '##3000',\n",
       "  'score': 0.5204997062683105,\n",
       "  'entity': 'LABEL_7',\n",
       "  'index': 21,\n",
       "  'start': 54,\n",
       "  'end': 58},\n",
       " {'word': '##0000',\n",
       "  'score': 0.8172072768211365,\n",
       "  'entity': 'LABEL_7',\n",
       "  'index': 22,\n",
       "  'start': 58,\n",
       "  'end': 62},\n",
       " {'word': '##0',\n",
       "  'score': 0.8941485285758972,\n",
       "  'entity': 'LABEL_7',\n",
       "  'index': 23,\n",
       "  'start': 62,\n",
       "  'end': 63},\n",
       " {'word': '##70',\n",
       "  'score': 0.5169146060943604,\n",
       "  'entity': 'LABEL_7',\n",
       "  'index': 24,\n",
       "  'start': 63,\n",
       "  'end': 65},\n",
       " {'word': '##9',\n",
       "  'score': 0.6307351589202881,\n",
       "  'entity': 'LABEL_9',\n",
       "  'index': 25,\n",
       "  'start': 65,\n",
       "  'end': 66},\n",
       " {'word': '920',\n",
       "  'score': 0.4612828195095062,\n",
       "  'entity': 'LABEL_7',\n",
       "  'index': 26,\n",
       "  'start': 67,\n",
       "  'end': 70},\n",
       " {'word': '##400',\n",
       "  'score': 0.6013927459716797,\n",
       "  'entity': 'LABEL_7',\n",
       "  'index': 27,\n",
       "  'start': 70,\n",
       "  'end': 73},\n",
       " {'word': '##04',\n",
       "  'score': 0.7916253805160522,\n",
       "  'entity': 'LABEL_7',\n",
       "  'index': 28,\n",
       "  'start': 73,\n",
       "  'end': 75},\n",
       " {'word': '##92',\n",
       "  'score': 0.6889218091964722,\n",
       "  'entity': 'LABEL_7',\n",
       "  'index': 29,\n",
       "  'start': 75,\n",
       "  'end': 77},\n",
       " {'word': '/',\n",
       "  'score': 0.995729923248291,\n",
       "  'entity': 'LABEL_0',\n",
       "  'index': 30,\n",
       "  'start': 77,\n",
       "  'end': 78},\n",
       " {'word': '920',\n",
       "  'score': 0.3376784920692444,\n",
       "  'entity': 'LABEL_11',\n",
       "  'index': 31,\n",
       "  'start': 78,\n",
       "  'end': 81},\n",
       " {'word': '##400',\n",
       "  'score': 0.3997412323951721,\n",
       "  'entity': 'LABEL_12',\n",
       "  'index': 32,\n",
       "  'start': 81,\n",
       "  'end': 84},\n",
       " {'word': '##01',\n",
       "  'score': 0.4646221399307251,\n",
       "  'entity': 'LABEL_11',\n",
       "  'index': 33,\n",
       "  'start': 84,\n",
       "  'end': 86},\n",
       " {'word': '299',\n",
       "  'score': 0.6351900696754456,\n",
       "  'entity': 'LABEL_7',\n",
       "  'index': 34,\n",
       "  'start': 87,\n",
       "  'end': 90},\n",
       " {'word': '##01',\n",
       "  'score': 0.28074243664741516,\n",
       "  'entity': 'LABEL_11',\n",
       "  'index': 35,\n",
       "  'start': 90,\n",
       "  'end': 92},\n",
       " {'word': '##1',\n",
       "  'score': 0.6175993084907532,\n",
       "  'entity': 'LABEL_7',\n",
       "  'index': 36,\n",
       "  'start': 92,\n",
       "  'end': 93}]"
      ]
     },
     "execution_count": 16,
     "metadata": {},
     "output_type": "execute_result"
    }
   ],
   "source": [
    "nlp_ner.pipe_res"
   ]
  },
  {
   "cell_type": "code",
   "execution_count": 6,
   "id": "ef39bc3d",
   "metadata": {},
   "outputs": [],
   "source": [
    "texts = [\n",
    "        'рес 111394 город Москва проспект ЗЕЛЁНЫЙ 34 ЦОКОЛЬ ПОМ.1 - КОМ.4В',\n",
    "        'Ромашка-профиль, ООО  кор. счет 30101810300000000709 9204000492/92040001  \"ЛИТЛТОН\",ООО 299011 '\\\n",
    "        'г. Севастополь ул. Адмирала Октябрьского д. 13 офис 1 тел (0692) 671710 ‚  в '\\\n",
    "        'Банк вфыSSF d АО \"ТААТТА\", г. Иркутск БИК 049805709 40702810500000007563   по ОКПО',\n",
    "        'валюта наименование код Российская рубль 643',\n",
    "        'Инвестор ООО ДЮКА ИНН КПП 564500394 / 231201001 624134, Свердловская обл, г Новоуральск, ул Чурина, д 12/2, оф 20 рс 44468253734659494408 Филиал банка П-щик АКЦИОНЕРНОЕ ОБЩЕСТВО КОММЕРЧЕСКИЙ БАНК \"КУБАНСКИЙ ТОРГОВЫЙ БАНК\" ',\n",
    "        'СЕВЕРНОЕ ЛИНЕЙНОЕ ПРОИЗВОДСТВЕННОЕ УПРАВЛЕНИЕ МАГИСТРАЛЬНЫХ ГАЗОПРОВОДОВ (СЕВЕРНОЕ ЛПУМГ) 631226435882 ГОРОД МОСКВА УЛИЦА УСАЧЁВА ДОМ 24 Филиал банка Плательщик ООО Банк \"Саратов\" тел. 8 344 741 9083 БИК ',\n",
    "        'ОБЩЕСТВО С ОГРАНИЧЕННОЙ ОТВЕТСТВЕННОСТЬЮ \"МАКТЕЛ\" ИНН П-щик 6330058874',\n",
    "        'исполнитель МКУ ЕДДС Кемеровская область, город Кемерово счет № 43209075037153306310 банк ОТКРЫТОЕ АКЦИОНЕРНОЕ ОБЩЕСТВО \"ВОСТОККРЕДИТБАНК\" к/с 30732437717823862544 тел. +7 (820) 529 92 19',\n",
    "        'ООО АНТ-СОФТ ИНН/КПП 3911800906 / 431201001 Банк ИНН КПП 5519504954 / тел. +8-( 873) -958-9191 БИК 042306734',\n",
    "        'З-чик АО ПРОИЗВОДСТВЕННАЯ КОМПАНИЯ СТАНКОПРЕСС ИНН Покупатель 770856524 ОБЛАСТЬ АМУРСКАЯ ГОРОД БЛАГОВЕЩЕНСК УЛИЦА ЛЕНИНА 181 Банк Подрядчик КБ \"Русский ипотечный банк\" (ООО) тел. +7 (982) 099 40 08 045402896',\n",
    "        'МУП МП ГОРОДСКОГО ОКРУГА САМАРА КРАСНОГЛИНСКИЕ БАНИ +7-830-199-8031 Адрес филиала банка Брянская область, город Новозыбков Банк Инвестор ИНН/КПП 100601303468 / 632501001 корр. счет 30310411361955797442',\n",
    "        ]"
   ]
  },
  {
   "cell_type": "markdown",
   "id": "abaf9975",
   "metadata": {},
   "source": [
    "### Запуск по одному из текстов массива texts"
   ]
  },
  {
   "cell_type": "markdown",
   "id": "0bc03a46",
   "metadata": {},
   "source": [
    "Ниже можно посмотреть как модель отрабатывает точечно на отдельных тестах\n",
    "1. Для запуска работы необходимо проинициализировать массив примеров в ячейке выше и далее в ячейке ниже выбрать по номеру один из них (нумерация начинается с 0)\n",
    "\n",
    "2. Если есть желание изменить содержание какой-либо строки, это можноделать прямо в ячейке выше (незабываем перезапускать ечейку после каждого измменения)\n",
    "\n",
    "3. Если хочется придумать полностью свой текст, то его необходимо присвоить переменной текст в ячейке ниже<br>\n",
    "<br>\n",
    "<b>EX:</b> text = 'Заказчик АО Газпром, 12345789/87000987'"
   ]
  },
  {
   "cell_type": "code",
   "execution_count": 7,
   "id": "016295dd",
   "metadata": {},
   "outputs": [
    {
     "data": {
      "text/html": [
       "<div class=\"tex2jax_ignore\" style=\"white-space: pre-wrap\"><span style=\"padding: 2px; border-radius: 4px; border: 1px solid #ffcdd2; background: #ffebee\">валюта<span style=\"vertical-align: middle; margin-left: 2px; font-size: 0.7em; color: #e57373;\">ORG</span></span> наименование код Российская рубль 643</div>"
      ],
      "text/plain": [
       "<IPython.core.display.HTML object>"
      ]
     },
     "metadata": {},
     "output_type": "display_data"
    }
   ],
   "source": [
    "text = texts[2]\n",
    "nlp_ner.get_spans(text)\n",
    "# nlp_ner.get_span_coordinates()\n",
    "\n",
    "show_box_markup(text, nlp_ner.spans_coord, palette=palette(PER=BLUE, ORG=RED, LOC=GREEN, INNKPP=ORANGE, STAT=PURPLE, RSKS=BROWN))"
   ]
  },
  {
   "cell_type": "code",
   "execution_count": 15,
   "id": "cc004cac",
   "metadata": {},
   "outputs": [],
   "source": []
  },
  {
   "cell_type": "code",
   "execution_count": 7,
   "id": "259329ef",
   "metadata": {},
   "outputs": [
    {
     "data": {
      "text/html": [
       "<div class=\"tex2jax_ignore\" style=\"white-space: pre-wrap\">получатель <span style=\"padding: 2px; border-radius: 4px; border: 1px solid #ffcdd2; background: #ffebee\">ООО &quot;ГАРАНТ-СВ” А ”<span style=\"vertical-align: middle; margin-left: 2px; font-size: 0.7em; color: #e57373;\">ORG</span></span>5№. heOFVS1 Адрес <span style=\"padding: 2px; border-radius: 4px; border: 1px solid #c8e6c9; background: #e8f5e9\">298685<span style=\"vertical-align: middle; margin-left: 2px; font-size: 0.7em; color: #66bb6a;\">LOC</span></span><span style=\"padding: 2px; border-radius: 4px; border: 1px solid #c8e6c9; background: #e8f5e9\">. РФ<span style=\"vertical-align: middle; margin-left: 2px; font-size: 0.7em; color: #66bb6a;\">LOC</span></span> <span style=\"padding: 2px; border-radius: 4px; border: 1px solid #c8e6c9; background: #e8f5e9\">респ<span style=\"vertical-align: middle; margin-left: 2px; font-size: 0.7em; color: #66bb6a;\">LOC</span></span><span style=\"padding: 2px; border-radius: 4px; border: 1px solid #c8e6c9; background: #e8f5e9\">. Крым гор. Ялта ул Генерала О оякова. д. 9 -Р ви<span style=\"vertical-align: middle; margin-left: 2px; font-size: 0.7em; color: #66bb6a;\">LOC</span></span> ИННКПП получатель <span style=\"padding: 2px; border-radius: 4px; border: 1px solid #ffe0b2; background: #fff3e0\">9103007830<span style=\"vertical-align: middle; margin-left: 2px; font-size: 0.7em; color: #ffb74d;\">INNKPP</span></span>/<span style=\"padding: 2px; border-radius: 4px; border: 1px solid #ffe0b2; background: #fff3e0\">910301001<span style=\"vertical-align: middle; margin-left: 2px; font-size: 0.7em; color: #ffb74d;\">INNKPP</span></span></div>"
      ],
      "text/plain": [
       "<IPython.core.display.HTML object>"
      ]
     },
     "metadata": {},
     "output_type": "display_data"
    }
   ],
   "source": [
    "text = 'получатель ООО \"ГАРАНТ-СВ” А ”5№. heOFVS1 Адрес 298685. РФ респ. Крым гор. Ялта ул Генерала О оякова. д. 9 -Р ви ИННКПП получатель 9103007830/910301001'\n",
    "nlp_ner.get_spans(text)\n",
    "# nlp_ner.get_span_coordinates()\n",
    "\n",
    "show_box_markup(text, nlp_ner.spans_coord, palette=palette(PER=BLUE, ORG=RED, LOC=GREEN, INNKPP=ORANGE, STAT=PURPLE, RSKS=BROWN))"
   ]
  },
  {
   "cell_type": "code",
   "execution_count": 2,
   "id": "773e4b81",
   "metadata": {},
   "outputs": [],
   "source": []
  },
  {
   "cell_type": "code",
   "execution_count": 11,
   "id": "e9923b6a",
   "metadata": {},
   "outputs": [
    {
     "data": {
      "text/html": [
       "<div class=\"tex2jax_ignore\" style=\"white-space: pre-wrap\"><span style=\"padding: 2px; border-radius: 4px; border: 1px solid #ffcdd2; background: #ffebee\">акт 112 от 11 июля 2011 года о приемке выполненных работ (оказанных услуг)<span style=\"vertical-align: middle; margin-left: 2px; font-size: 0.7em; color: #e57373;\">ORG</span></span></div>"
      ],
      "text/plain": [
       "<IPython.core.display.HTML object>"
      ]
     },
     "metadata": {},
     "output_type": "display_data"
    }
   ],
   "source": [
    "text = 'акт 112 от 11 июля 2011 года о приемке выполненных работ (оказанных услуг)'\n",
    "nlp_ner.get_spans(text)\n",
    "# nlp_ner.get_span_coordinates()\n",
    "\n",
    "show_box_markup(text, nlp_ner.spans_coord, palette=palette(PER=BLUE, ORG=RED, LOC=GREEN, INNKPP=ORANGE, STAT=PURPLE, RSKS=BROWN))"
   ]
  },
  {
   "cell_type": "markdown",
   "id": "1716d8d8",
   "metadata": {},
   "source": [
    "### Массовый запуск по всему массиву texts"
   ]
  },
  {
   "cell_type": "code",
   "execution_count": 12,
   "id": "387709ad",
   "metadata": {
    "scrolled": true
   },
   "outputs": [
    {
     "name": "stdout",
     "output_type": "stream",
     "text": [
      "ex 0:\n"
     ]
    },
    {
     "data": {
      "text/html": [
       "<div class=\"tex2jax_ignore\" style=\"white-space: pre-wrap\">рес <span style=\"padding: 2px; border-radius: 4px; border: 1px solid #d1c4e9; background: #ede7f6\">111394<span style=\"vertical-align: middle; margin-left: 2px; font-size: 0.7em; color: #9575cd;\">STAT</span></span> <span style=\"padding: 2px; border-radius: 4px; border: 1px solid #c8e6c9; background: #e8f5e9\">город Москва проспект ЗЕЛЁНЫЙ 34 ЦОКОЛЬ ПОМ.1 - КОМ.4В<span style=\"vertical-align: middle; margin-left: 2px; font-size: 0.7em; color: #66bb6a;\">LOC</span></span></div>"
      ],
      "text/plain": [
       "<IPython.core.display.HTML object>"
      ]
     },
     "metadata": {},
     "output_type": "display_data"
    },
    {
     "name": "stdout",
     "output_type": "stream",
     "text": [
      "ex 1:\n"
     ]
    },
    {
     "data": {
      "text/html": [
       "<div class=\"tex2jax_ignore\" style=\"white-space: pre-wrap\"><span style=\"padding: 2px; border-radius: 4px; border: 1px solid #ffcdd2; background: #ffebee\">Ромашка-<span style=\"vertical-align: middle; margin-left: 2px; font-size: 0.7em; color: #e57373;\">ORG</span></span><span style=\"padding: 2px; border-radius: 4px; border: 1px solid #ffcdd2; background: #ffebee\">профиль, ООО<span style=\"vertical-align: middle; margin-left: 2px; font-size: 0.7em; color: #e57373;\">ORG</span></span>  кор. счет <span style=\"padding: 2px; border-radius: 4px; border: 1px solid #d7ccc8; background: #efebe9\">30101810300000000709<span style=\"vertical-align: middle; margin-left: 2px; font-size: 0.7em; color: #a1887f;\">RSKS</span></span> <span style=\"padding: 2px; border-radius: 4px; border: 1px solid #ffe0b2; background: #fff3e0\">9204000492<span style=\"vertical-align: middle; margin-left: 2px; font-size: 0.7em; color: #ffb74d;\">INNKPP</span></span>/<span style=\"padding: 2px; border-radius: 4px; border: 1px solid #ffe0b2; background: #fff3e0\">92040001<span style=\"vertical-align: middle; margin-left: 2px; font-size: 0.7em; color: #ffb74d;\">INNKPP</span></span>  <span style=\"padding: 2px; border-radius: 4px; border: 1px solid #ffcdd2; background: #ffebee\">&quot;ЛИТЛТОН&quot;,ООО<span style=\"vertical-align: middle; margin-left: 2px; font-size: 0.7em; color: #e57373;\">ORG</span></span> <span style=\"padding: 2px; border-radius: 4px; border: 1px solid #ffe0b2; background: #fff3e0\">299011<span style=\"vertical-align: middle; margin-left: 2px; font-size: 0.7em; color: #ffb74d;\">INNKPP</span></span> <span style=\"padding: 2px; border-radius: 4px; border: 1px solid #c8e6c9; background: #e8f5e9\">г. Севастополь ул. Адмирала Октябрьского д. 13 офис 1<span style=\"vertical-align: middle; margin-left: 2px; font-size: 0.7em; color: #66bb6a;\">LOC</span></span> тел (0692) 671710 ‚  в Банк вфыSSF d <span style=\"padding: 2px; border-radius: 4px; border: 1px solid #ffcdd2; background: #ffebee\">АО &quot;ТААТТА&quot;, г<span style=\"vertical-align: middle; margin-left: 2px; font-size: 0.7em; color: #e57373;\">ORG</span></span>. Иркутск БИК <span style=\"padding: 2px; border-radius: 4px; border: 1px solid #d1c4e9; background: #ede7f6\">049805709<span style=\"vertical-align: middle; margin-left: 2px; font-size: 0.7em; color: #9575cd;\">STAT</span></span> <span style=\"padding: 2px; border-radius: 4px; border: 1px solid #d7ccc8; background: #efebe9\">40702810500000007563<span style=\"vertical-align: middle; margin-left: 2px; font-size: 0.7em; color: #a1887f;\">RSKS</span></span>   <span style=\"padding: 2px; border-radius: 4px; border: 1px solid #ffcdd2; background: #ffebee\">по<span style=\"vertical-align: middle; margin-left: 2px; font-size: 0.7em; color: #e57373;\">ORG</span></span> ОКПО</div>"
      ],
      "text/plain": [
       "<IPython.core.display.HTML object>"
      ]
     },
     "metadata": {},
     "output_type": "display_data"
    },
    {
     "name": "stdout",
     "output_type": "stream",
     "text": [
      "ex 2:\n"
     ]
    },
    {
     "data": {
      "text/html": [
       "<div class=\"tex2jax_ignore\" style=\"white-space: pre-wrap\"><span style=\"padding: 2px; border-radius: 4px; border: 1px solid #ffcdd2; background: #ffebee\">валюта<span style=\"vertical-align: middle; margin-left: 2px; font-size: 0.7em; color: #e57373;\">ORG</span></span> наименование код Российская рубль 643</div>"
      ],
      "text/plain": [
       "<IPython.core.display.HTML object>"
      ]
     },
     "metadata": {},
     "output_type": "display_data"
    },
    {
     "name": "stdout",
     "output_type": "stream",
     "text": [
      "ex 3:\n"
     ]
    },
    {
     "data": {
      "text/html": [
       "<div class=\"tex2jax_ignore\" style=\"white-space: pre-wrap\">Инвестор <span style=\"padding: 2px; border-radius: 4px; border: 1px solid #ffcdd2; background: #ffebee\">ООО ДЮКА<span style=\"vertical-align: middle; margin-left: 2px; font-size: 0.7em; color: #e57373;\">ORG</span></span> ИНН КПП <span style=\"padding: 2px; border-radius: 4px; border: 1px solid #ffe0b2; background: #fff3e0\">564500394<span style=\"vertical-align: middle; margin-left: 2px; font-size: 0.7em; color: #ffb74d;\">INNKPP</span></span> / <span style=\"padding: 2px; border-radius: 4px; border: 1px solid #ffe0b2; background: #fff3e0\">231201001<span style=\"vertical-align: middle; margin-left: 2px; font-size: 0.7em; color: #ffb74d;\">INNKPP</span></span> <span style=\"padding: 2px; border-radius: 4px; border: 1px solid #c8e6c9; background: #e8f5e9\">624134, Свердловская обл, г Новоуральск, ул Чурина, д 12/2, оф 20<span style=\"vertical-align: middle; margin-left: 2px; font-size: 0.7em; color: #66bb6a;\">LOC</span></span> рс <span style=\"padding: 2px; border-radius: 4px; border: 1px solid #d7ccc8; background: #efebe9\">44468253734659494408<span style=\"vertical-align: middle; margin-left: 2px; font-size: 0.7em; color: #a1887f;\">RSKS</span></span> Филиал банка П-щик <span style=\"padding: 2px; border-radius: 4px; border: 1px solid #ffcdd2; background: #ffebee\">АКЦИОНЕРНОЕ ОБЩЕСТВО КОММЕРЧЕСКИЙ БАНК &quot;КУБАНСКИЙ ТОРГОВЫЙ БАНК&quot;<span style=\"vertical-align: middle; margin-left: 2px; font-size: 0.7em; color: #e57373;\">ORG</span></span> </div>"
      ],
      "text/plain": [
       "<IPython.core.display.HTML object>"
      ]
     },
     "metadata": {},
     "output_type": "display_data"
    },
    {
     "name": "stdout",
     "output_type": "stream",
     "text": [
      "ex 4:\n"
     ]
    },
    {
     "data": {
      "text/html": [
       "<div class=\"tex2jax_ignore\" style=\"white-space: pre-wrap\"><span style=\"padding: 2px; border-radius: 4px; border: 1px solid #ffcdd2; background: #ffebee\">СЕВЕРНОЕ ЛИНЕЙНОЕ ПРОИЗВОДСТВЕННОЕ УПРАВЛЕНИЕ МАГИСТРАЛЬНЫХ ГАЗОПРОВОДОВ (СЕВЕРНОЕ ЛПУМГ)<span style=\"vertical-align: middle; margin-left: 2px; font-size: 0.7em; color: #e57373;\">ORG</span></span> <span style=\"padding: 2px; border-radius: 4px; border: 1px solid #ffe0b2; background: #fff3e0\">631226435882<span style=\"vertical-align: middle; margin-left: 2px; font-size: 0.7em; color: #ffb74d;\">INNKPP</span></span> <span style=\"padding: 2px; border-radius: 4px; border: 1px solid #c8e6c9; background: #e8f5e9\">ГОРОД МОСКВА УЛИЦА УСАЧЁВА ДОМ 24<span style=\"vertical-align: middle; margin-left: 2px; font-size: 0.7em; color: #66bb6a;\">LOC</span></span> Филиал банка Плательщик <span style=\"padding: 2px; border-radius: 4px; border: 1px solid #ffcdd2; background: #ffebee\">ООО Банк &quot;Саратов&quot;<span style=\"vertical-align: middle; margin-left: 2px; font-size: 0.7em; color: #e57373;\">ORG</span></span> тел. <span style=\"padding: 2px; border-radius: 4px; border: 1px solid #d1c4e9; background: #ede7f6\">8 344 741 9083<span style=\"vertical-align: middle; margin-left: 2px; font-size: 0.7em; color: #9575cd;\">STAT</span></span> БИК </div>"
      ],
      "text/plain": [
       "<IPython.core.display.HTML object>"
      ]
     },
     "metadata": {},
     "output_type": "display_data"
    },
    {
     "name": "stdout",
     "output_type": "stream",
     "text": [
      "ex 5:\n"
     ]
    },
    {
     "data": {
      "text/html": [
       "<div class=\"tex2jax_ignore\" style=\"white-space: pre-wrap\"><span style=\"padding: 2px; border-radius: 4px; border: 1px solid #ffcdd2; background: #ffebee\">ОБЩЕСТВО С ОГРАНИЧЕННОЙ ОТВЕТСТВЕННОСТЬЮ &quot;МАКТЕЛ&quot;<span style=\"vertical-align: middle; margin-left: 2px; font-size: 0.7em; color: #e57373;\">ORG</span></span> ИНН П-щик <span style=\"padding: 2px; border-radius: 4px; border: 1px solid #ffe0b2; background: #fff3e0\">6330058874<span style=\"vertical-align: middle; margin-left: 2px; font-size: 0.7em; color: #ffb74d;\">INNKPP</span></span></div>"
      ],
      "text/plain": [
       "<IPython.core.display.HTML object>"
      ]
     },
     "metadata": {},
     "output_type": "display_data"
    },
    {
     "name": "stdout",
     "output_type": "stream",
     "text": [
      "ex 6:\n"
     ]
    },
    {
     "data": {
      "text/html": [
       "<div class=\"tex2jax_ignore\" style=\"white-space: pre-wrap\">исполнитель <span style=\"padding: 2px; border-radius: 4px; border: 1px solid #ffcdd2; background: #ffebee\">МКУ ЕДДС<span style=\"vertical-align: middle; margin-left: 2px; font-size: 0.7em; color: #e57373;\">ORG</span></span> <span style=\"padding: 2px; border-radius: 4px; border: 1px solid #c8e6c9; background: #e8f5e9\">Кемеровская область, город Кемерово<span style=\"vertical-align: middle; margin-left: 2px; font-size: 0.7em; color: #66bb6a;\">LOC</span></span> счет № <span style=\"padding: 2px; border-radius: 4px; border: 1px solid #d7ccc8; background: #efebe9\">43209075037153306310<span style=\"vertical-align: middle; margin-left: 2px; font-size: 0.7em; color: #a1887f;\">RSKS</span></span> банк <span style=\"padding: 2px; border-radius: 4px; border: 1px solid #ffcdd2; background: #ffebee\">ОТКРЫТОЕ АКЦИОНЕРНОЕ ОБЩЕСТВО &quot;ВОСТОККРЕДИТБАНК&quot;<span style=\"vertical-align: middle; margin-left: 2px; font-size: 0.7em; color: #e57373;\">ORG</span></span> к/с <span style=\"padding: 2px; border-radius: 4px; border: 1px solid #d7ccc8; background: #efebe9\">30732437717823862544<span style=\"vertical-align: middle; margin-left: 2px; font-size: 0.7em; color: #a1887f;\">RSKS</span></span> тел. <span style=\"padding: 2px; border-radius: 4px; border: 1px solid #d1c4e9; background: #ede7f6\">+<span style=\"vertical-align: middle; margin-left: 2px; font-size: 0.7em; color: #9575cd;\">STAT</span></span><span style=\"padding: 2px; border-radius: 4px; border: 1px solid #d1c4e9; background: #ede7f6\">7 (820) 529 92 19<span style=\"vertical-align: middle; margin-left: 2px; font-size: 0.7em; color: #9575cd;\">STAT</span></span></div>"
      ],
      "text/plain": [
       "<IPython.core.display.HTML object>"
      ]
     },
     "metadata": {},
     "output_type": "display_data"
    },
    {
     "name": "stdout",
     "output_type": "stream",
     "text": [
      "ex 7:\n"
     ]
    },
    {
     "data": {
      "text/html": [
       "<div class=\"tex2jax_ignore\" style=\"white-space: pre-wrap\"><span style=\"padding: 2px; border-radius: 4px; border: 1px solid #ffcdd2; background: #ffebee\">ООО АНТ-СОФТ<span style=\"vertical-align: middle; margin-left: 2px; font-size: 0.7em; color: #e57373;\">ORG</span></span> ИНН/КПП <span style=\"padding: 2px; border-radius: 4px; border: 1px solid #ffe0b2; background: #fff3e0\">3911800906<span style=\"vertical-align: middle; margin-left: 2px; font-size: 0.7em; color: #ffb74d;\">INNKPP</span></span> / <span style=\"padding: 2px; border-radius: 4px; border: 1px solid #ffe0b2; background: #fff3e0\">431201001<span style=\"vertical-align: middle; margin-left: 2px; font-size: 0.7em; color: #ffb74d;\">INNKPP</span></span> Банк ИНН КПП <span style=\"padding: 2px; border-radius: 4px; border: 1px solid #ffe0b2; background: #fff3e0\">5519504954<span style=\"vertical-align: middle; margin-left: 2px; font-size: 0.7em; color: #ffb74d;\">INNKPP</span></span> / тел. <span style=\"padding: 2px; border-radius: 4px; border: 1px solid #d1c4e9; background: #ede7f6\">+<span style=\"vertical-align: middle; margin-left: 2px; font-size: 0.7em; color: #9575cd;\">STAT</span></span><span style=\"padding: 2px; border-radius: 4px; border: 1px solid #d1c4e9; background: #ede7f6\">8<span style=\"vertical-align: middle; margin-left: 2px; font-size: 0.7em; color: #9575cd;\">STAT</span></span><span style=\"padding: 2px; border-radius: 4px; border: 1px solid #d1c4e9; background: #ede7f6\">-<span style=\"vertical-align: middle; margin-left: 2px; font-size: 0.7em; color: #9575cd;\">STAT</span></span><span style=\"padding: 2px; border-radius: 4px; border: 1px solid #d1c4e9; background: #ede7f6\">( 873) -958-9191<span style=\"vertical-align: middle; margin-left: 2px; font-size: 0.7em; color: #9575cd;\">STAT</span></span> БИК <span style=\"padding: 2px; border-radius: 4px; border: 1px solid #d1c4e9; background: #ede7f6\">042306734<span style=\"vertical-align: middle; margin-left: 2px; font-size: 0.7em; color: #9575cd;\">STAT</span></span></div>"
      ],
      "text/plain": [
       "<IPython.core.display.HTML object>"
      ]
     },
     "metadata": {},
     "output_type": "display_data"
    },
    {
     "name": "stdout",
     "output_type": "stream",
     "text": [
      "ex 8:\n"
     ]
    },
    {
     "data": {
      "text/html": [
       "<div class=\"tex2jax_ignore\" style=\"white-space: pre-wrap\">З-чик <span style=\"padding: 2px; border-radius: 4px; border: 1px solid #ffcdd2; background: #ffebee\">АО ПРОИЗВОДСТВЕННАЯ КОМПАНИЯ СТАНКОПРЕСС<span style=\"vertical-align: middle; margin-left: 2px; font-size: 0.7em; color: #e57373;\">ORG</span></span> ИНН Покупатель <span style=\"padding: 2px; border-radius: 4px; border: 1px solid #ffe0b2; background: #fff3e0\">770856524<span style=\"vertical-align: middle; margin-left: 2px; font-size: 0.7em; color: #ffb74d;\">INNKPP</span></span> <span style=\"padding: 2px; border-radius: 4px; border: 1px solid #c8e6c9; background: #e8f5e9\">ОБЛАСТЬ АМУРСКАЯ ГОРОД БЛАГОВЕЩЕНСК УЛИЦА ЛЕНИНА 181<span style=\"vertical-align: middle; margin-left: 2px; font-size: 0.7em; color: #66bb6a;\">LOC</span></span> Банк Подрядчик <span style=\"padding: 2px; border-radius: 4px; border: 1px solid #ffcdd2; background: #ffebee\">КБ &quot;Русский ипотечный банк&quot; (ООО)<span style=\"vertical-align: middle; margin-left: 2px; font-size: 0.7em; color: #e57373;\">ORG</span></span> тел. <span style=\"padding: 2px; border-radius: 4px; border: 1px solid #d1c4e9; background: #ede7f6\">+<span style=\"vertical-align: middle; margin-left: 2px; font-size: 0.7em; color: #9575cd;\">STAT</span></span><span style=\"padding: 2px; border-radius: 4px; border: 1px solid #d1c4e9; background: #ede7f6\">7 (982) 099 40<span style=\"vertical-align: middle; margin-left: 2px; font-size: 0.7em; color: #9575cd;\">STAT</span></span> <span style=\"padding: 2px; border-radius: 4px; border: 1px solid #d1c4e9; background: #ede7f6\">08<span style=\"vertical-align: middle; margin-left: 2px; font-size: 0.7em; color: #9575cd;\">STAT</span></span> 045402896</div>"
      ],
      "text/plain": [
       "<IPython.core.display.HTML object>"
      ]
     },
     "metadata": {},
     "output_type": "display_data"
    },
    {
     "name": "stdout",
     "output_type": "stream",
     "text": [
      "ex 9:\n"
     ]
    },
    {
     "data": {
      "text/html": [
       "<div class=\"tex2jax_ignore\" style=\"white-space: pre-wrap\"><span style=\"padding: 2px; border-radius: 4px; border: 1px solid #ffcdd2; background: #ffebee\">МУП МП ГОРОДСКОГО ОКРУГА САМАРА КРАСНОГЛИНСКИЕ БАНИ<span style=\"vertical-align: middle; margin-left: 2px; font-size: 0.7em; color: #e57373;\">ORG</span></span> <span style=\"padding: 2px; border-radius: 4px; border: 1px solid #d1c4e9; background: #ede7f6\">+<span style=\"vertical-align: middle; margin-left: 2px; font-size: 0.7em; color: #9575cd;\">STAT</span></span><span style=\"padding: 2px; border-radius: 4px; border: 1px solid #d1c4e9; background: #ede7f6\">7<span style=\"vertical-align: middle; margin-left: 2px; font-size: 0.7em; color: #9575cd;\">STAT</span></span><span style=\"padding: 2px; border-radius: 4px; border: 1px solid #d1c4e9; background: #ede7f6\">-<span style=\"vertical-align: middle; margin-left: 2px; font-size: 0.7em; color: #9575cd;\">STAT</span></span><span style=\"padding: 2px; border-radius: 4px; border: 1px solid #d1c4e9; background: #ede7f6\">830<span style=\"vertical-align: middle; margin-left: 2px; font-size: 0.7em; color: #9575cd;\">STAT</span></span><span style=\"padding: 2px; border-radius: 4px; border: 1px solid #d1c4e9; background: #ede7f6\">-<span style=\"vertical-align: middle; margin-left: 2px; font-size: 0.7em; color: #9575cd;\">STAT</span></span><span style=\"padding: 2px; border-radius: 4px; border: 1px solid #d1c4e9; background: #ede7f6\">199<span style=\"vertical-align: middle; margin-left: 2px; font-size: 0.7em; color: #9575cd;\">STAT</span></span><span style=\"padding: 2px; border-radius: 4px; border: 1px solid #d1c4e9; background: #ede7f6\">-<span style=\"vertical-align: middle; margin-left: 2px; font-size: 0.7em; color: #9575cd;\">STAT</span></span><span style=\"padding: 2px; border-radius: 4px; border: 1px solid #d1c4e9; background: #ede7f6\">8031<span style=\"vertical-align: middle; margin-left: 2px; font-size: 0.7em; color: #9575cd;\">STAT</span></span> Адрес филиала банка <span style=\"padding: 2px; border-radius: 4px; border: 1px solid #c8e6c9; background: #e8f5e9\">Брянская область, город Новозыбков<span style=\"vertical-align: middle; margin-left: 2px; font-size: 0.7em; color: #66bb6a;\">LOC</span></span> Банк Инвестор ИНН/КПП <span style=\"padding: 2px; border-radius: 4px; border: 1px solid #ffe0b2; background: #fff3e0\">100601303468<span style=\"vertical-align: middle; margin-left: 2px; font-size: 0.7em; color: #ffb74d;\">INNKPP</span></span> / <span style=\"padding: 2px; border-radius: 4px; border: 1px solid #ffe0b2; background: #fff3e0\">632501001<span style=\"vertical-align: middle; margin-left: 2px; font-size: 0.7em; color: #ffb74d;\">INNKPP</span></span> корр. счет <span style=\"padding: 2px; border-radius: 4px; border: 1px solid #d7ccc8; background: #efebe9\">30310411361955797442<span style=\"vertical-align: middle; margin-left: 2px; font-size: 0.7em; color: #a1887f;\">RSKS</span></span></div>"
      ],
      "text/plain": [
       "<IPython.core.display.HTML object>"
      ]
     },
     "metadata": {},
     "output_type": "display_data"
    }
   ],
   "source": [
    "for i, text in enumerate(texts):\n",
    "    _ = nlp_ner.get_spans(text)\n",
    "#     nlp_ner.get_span_coordinates()\n",
    "    print(f'ex {i}:')\n",
    "    show_box_markup(text, nlp_ner.spans_coord, palette=palette(PER=BLUE, ORG=RED, LOC=GREEN, INNKPP=ORANGE, STAT=PURPLE, RSKS=BROWN))"
   ]
  },
  {
   "cell_type": "code",
   "execution_count": null,
   "id": "3dfdfdc3",
   "metadata": {},
   "outputs": [],
   "source": []
  },
  {
   "cell_type": "code",
   "execution_count": null,
   "id": "47e55404",
   "metadata": {},
   "outputs": [],
   "source": []
  },
  {
   "cell_type": "code",
   "execution_count": null,
   "id": "362d7424",
   "metadata": {},
   "outputs": [],
   "source": []
  },
  {
   "cell_type": "code",
   "execution_count": null,
   "id": "8f728615",
   "metadata": {},
   "outputs": [],
   "source": []
  },
  {
   "cell_type": "markdown",
   "id": "fa38a8f5",
   "metadata": {},
   "source": [
    "## Массовое тестирование модели на 20 000 примерах"
   ]
  },
  {
   "cell_type": "markdown",
   "id": "7c06e1cc",
   "metadata": {},
   "source": [
    "Запуск массового тестирования проиводился заранее.<br>\n",
    "Результаты тестирования всех моделей: LD_NER, DEEPPAVLOV, NATASHA занесены в файл NER_TEST_LD.xlsx<br>\n",
    "Чтобы посмотреть результаты по каждой из моделей необходимо подгрузить файлв Dataframe"
   ]
  },
  {
   "cell_type": "markdown",
   "id": "db59daf5",
   "metadata": {},
   "source": [
    "Подгружаем данные для теста из файла в DataFrame"
   ]
  },
  {
   "cell_type": "code",
   "execution_count": 8,
   "id": "08203c3a",
   "metadata": {},
   "outputs": [],
   "source": [
    "test_excel = BASE_DIR.joinpath('data/processed/NER_TEST_LD.xlsx')\n",
    "\n",
    "df_test = pd.read_excel(test_excel, engine='openpyxl')[['ID', 'TEXT', 'ORG_CORRECT', 'ORG_DP', 'ORG_NATASHA', 'LD_NER']]"
   ]
  },
  {
   "cell_type": "markdown",
   "id": "748a0688",
   "metadata": {},
   "source": [
    "Просматриваем данные (первые n элементов)"
   ]
  },
  {
   "cell_type": "code",
   "execution_count": 9,
   "id": "dc595860",
   "metadata": {},
   "outputs": [],
   "source": [
    "# только для ускорения тестирования\n",
    "df_test = df_test.head(1000)"
   ]
  },
  {
   "cell_type": "code",
   "execution_count": 10,
   "id": "8fbacf49",
   "metadata": {
    "scrolled": true
   },
   "outputs": [
    {
     "name": "stdout",
     "output_type": "stream",
     "text": [
      "ex 0:\n"
     ]
    },
    {
     "data": {
      "text/html": [
       "<div class=\"tex2jax_ignore\" style=\"white-space: pre-wrap\">Инвестор <span style=\"padding: 2px; border-radius: 4px; border: 1px solid #ffcdd2; background: #ffebee\">МУП МП ГОРОДСКОГО ОКРУГА САМАРА КРАСНОГЛИНСКИЕ<span style=\"vertical-align: middle; margin-left: 2px; font-size: 0.7em; color: #e57373;\">ORG</span></span> БАНИ Адрес филиала банка <span style=\"padding: 2px; border-radius: 4px; border: 1px solid #c8e6c9; background: #e8f5e9\">Брянская область, город Новозыбков<span style=\"vertical-align: middle; margin-left: 2px; font-size: 0.7em; color: #66bb6a;\">LOC</span></span> Банк Инвестор ИНН/КПП <span style=\"padding: 2px; border-radius: 4px; border: 1px solid #ffe0b2; background: #fff3e0\">100601303468<span style=\"vertical-align: middle; margin-left: 2px; font-size: 0.7em; color: #ffb74d;\">INNKPP</span></span> / <span style=\"padding: 2px; border-radius: 4px; border: 1px solid #ffe0b2; background: #fff3e0\">632501001<span style=\"vertical-align: middle; margin-left: 2px; font-size: 0.7em; color: #ffb74d;\">INNKPP</span></span> тел. <span style=\"padding: 2px; border-radius: 4px; border: 1px solid #d1c4e9; background: #ede7f6\">+<span style=\"vertical-align: middle; margin-left: 2px; font-size: 0.7em; color: #9575cd;\">STAT</span></span><span style=\"padding: 2px; border-radius: 4px; border: 1px solid #d1c4e9; background: #ede7f6\">7<span style=\"vertical-align: middle; margin-left: 2px; font-size: 0.7em; color: #9575cd;\">STAT</span></span><span style=\"padding: 2px; border-radius: 4px; border: 1px solid #d1c4e9; background: #ede7f6\">-<span style=\"vertical-align: middle; margin-left: 2px; font-size: 0.7em; color: #9575cd;\">STAT</span></span><span style=\"padding: 2px; border-radius: 4px; border: 1px solid #d1c4e9; background: #ede7f6\">830<span style=\"vertical-align: middle; margin-left: 2px; font-size: 0.7em; color: #9575cd;\">STAT</span></span><span style=\"padding: 2px; border-radius: 4px; border: 1px solid #d1c4e9; background: #ede7f6\">-<span style=\"vertical-align: middle; margin-left: 2px; font-size: 0.7em; color: #9575cd;\">STAT</span></span><span style=\"padding: 2px; border-radius: 4px; border: 1px solid #d1c4e9; background: #ede7f6\">199<span style=\"vertical-align: middle; margin-left: 2px; font-size: 0.7em; color: #9575cd;\">STAT</span></span><span style=\"padding: 2px; border-radius: 4px; border: 1px solid #d1c4e9; background: #ede7f6\">-<span style=\"vertical-align: middle; margin-left: 2px; font-size: 0.7em; color: #9575cd;\">STAT</span></span><span style=\"padding: 2px; border-radius: 4px; border: 1px solid #d1c4e9; background: #ede7f6\">8031<span style=\"vertical-align: middle; margin-left: 2px; font-size: 0.7em; color: #9575cd;\">STAT</span></span> корр. счет <span style=\"padding: 2px; border-radius: 4px; border: 1px solid #d7ccc8; background: #efebe9\">30310411361955797442<span style=\"vertical-align: middle; margin-left: 2px; font-size: 0.7em; color: #a1887f;\">RSKS</span></span></div>"
      ],
      "text/plain": [
       "<IPython.core.display.HTML object>"
      ]
     },
     "metadata": {},
     "output_type": "display_data"
    },
    {
     "name": "stdout",
     "output_type": "stream",
     "text": [
      "ex 1:\n"
     ]
    },
    {
     "data": {
      "text/html": [
       "<div class=\"tex2jax_ignore\" style=\"white-space: pre-wrap\">Поставщик <span style=\"padding: 2px; border-radius: 4px; border: 1px solid #ffcdd2; background: #ffebee\">ОО НИЖЕГОРОДСКАЯ РЕГИОНАЛЬНАЯ ОБЩЕСТВЕННАЯ ОРГАНИЗАЦИЯ ПРАВОВОЙ ПОДДЕРЖКИ БЫСТРЫЙ ЛЕГИТИМНЫЙ АРБИТРАЖ СПОРОВ<span style=\"vertical-align: middle; margin-left: 2px; font-size: 0.7em; color: #e57373;\">ORG</span></span> ИНН КПП Субподрядчик <span style=\"padding: 2px; border-radius: 4px; border: 1px solid #ffe0b2; background: #fff3e0\">601500724<span style=\"vertical-align: middle; margin-left: 2px; font-size: 0.7em; color: #ffb74d;\">INNKPP</span></span> / <span style=\"padding: 2px; border-radius: 4px; border: 1px solid #ffe0b2; background: #fff3e0\">611501001<span style=\"vertical-align: middle; margin-left: 2px; font-size: 0.7em; color: #ffb74d;\">INNKPP</span></span> тел. <span style=\"padding: 2px; border-radius: 4px; border: 1px solid #d1c4e9; background: #ede7f6\">+<span style=\"vertical-align: middle; margin-left: 2px; font-size: 0.7em; color: #9575cd;\">STAT</span></span><span style=\"padding: 2px; border-radius: 4px; border: 1px solid #d1c4e9; background: #ede7f6\">8<span style=\"vertical-align: middle; margin-left: 2px; font-size: 0.7em; color: #9575cd;\">STAT</span></span><span style=\"padding: 2px; border-radius: 4px; border: 1px solid #d1c4e9; background: #ede7f6\">-<span style=\"vertical-align: middle; margin-left: 2px; font-size: 0.7em; color: #9575cd;\">STAT</span></span><span style=\"padding: 2px; border-radius: 4px; border: 1px solid #d1c4e9; background: #ede7f6\">( 845) -147-5726<span style=\"vertical-align: middle; margin-left: 2px; font-size: 0.7em; color: #9575cd;\">STAT</span></span> счет № <span style=\"padding: 2px; border-radius: 4px; border: 1px solid #d7ccc8; background: #efebe9\">42160059899708393439<span style=\"vertical-align: middle; margin-left: 2px; font-size: 0.7em; color: #a1887f;\">RSKS</span></span> Филиал банка З-чик <span style=\"padding: 2px; border-radius: 4px; border: 1px solid #ffcdd2; background: #ffebee\">КОММЕРЧЕСКИЙ БАНК &quot;КОМПАНИЯ РОЗНИЧНОГО КРЕДИТОВАНИЯ&quot; (ОТКРЫТОЕ АКЦИОНЕРНОЕ ОБЩЕСТВО)<span style=\"vertical-align: middle; margin-left: 2px; font-size: 0.7em; color: #e57373;\">ORG</span></span> <span style=\"padding: 2px; border-radius: 4px; border: 1px solid #ffe0b2; background: #fff3e0\">183116686028<span style=\"vertical-align: middle; margin-left: 2px; font-size: 0.7em; color: #ffb74d;\">INNKPP</span></span> / <span style=\"padding: 2px; border-radius: 4px; border: 1px solid #ffe0b2; background: #fff3e0\">163201001<span style=\"vertical-align: middle; margin-left: 2px; font-size: 0.7em; color: #ffb74d;\">INNKPP</span></span> БИК <span style=\"padding: 2px; border-radius: 4px; border: 1px solid #d1c4e9; background: #ede7f6\">040557259<span style=\"vertical-align: middle; margin-left: 2px; font-size: 0.7em; color: #9575cd;\">STAT</span></span> Адрес банка Подрядчик <span style=\"padding: 2px; border-radius: 4px; border: 1px solid #c8e6c9; background: #e8f5e9\">Чувашская республика<span style=\"vertical-align: middle; margin-left: 2px; font-size: 0.7em; color: #66bb6a;\">LOC</span></span></div>"
      ],
      "text/plain": [
       "<IPython.core.display.HTML object>"
      ]
     },
     "metadata": {},
     "output_type": "display_data"
    },
    {
     "name": "stdout",
     "output_type": "stream",
     "text": [
      "ex 2:\n"
     ]
    },
    {
     "data": {
      "text/html": [
       "<div class=\"tex2jax_ignore\" style=\"white-space: pre-wrap\">Субподрядчик <span style=\"padding: 2px; border-radius: 4px; border: 1px solid #ffcdd2; background: #ffebee\">СЕВЕРНОЕ ЛИНЕЙНОЕ ПРОИЗВОДСТВЕННОЕ УПРАВЛЕНИЕ МАГИСТРАЛЬНЫХ ГАЗОПРОВОДОВ (СЕВЕРНОЕ ЛПУМГ)<span style=\"vertical-align: middle; margin-left: 2px; font-size: 0.7em; color: #e57373;\">ORG</span></span> <span style=\"padding: 2px; border-radius: 4px; border: 1px solid #ffe0b2; background: #fff3e0\">631226435882<span style=\"vertical-align: middle; margin-left: 2px; font-size: 0.7em; color: #ffb74d;\">INNKPP</span></span> <span style=\"padding: 2px; border-radius: 4px; border: 1px solid #c8e6c9; background: #e8f5e9\">ГОРОД МОСКВА УЛИЦА УСАЧЁВА ДОМ 24<span style=\"vertical-align: middle; margin-left: 2px; font-size: 0.7em; color: #66bb6a;\">LOC</span></span> Филиал банка Плательщик <span style=\"padding: 2px; border-radius: 4px; border: 1px solid #ffcdd2; background: #ffebee\">ООО Банк &quot;Саратов&quot;<span style=\"vertical-align: middle; margin-left: 2px; font-size: 0.7em; color: #e57373;\">ORG</span></span> тел. <span style=\"padding: 2px; border-radius: 4px; border: 1px solid #d1c4e9; background: #ede7f6\">8 344 741 9083<span style=\"vertical-align: middle; margin-left: 2px; font-size: 0.7em; color: #9575cd;\">STAT</span></span> БИК <span style=\"padding: 2px; border-radius: 4px; border: 1px solid #d1c4e9; background: #ede7f6\">044175088<span style=\"vertical-align: middle; margin-left: 2px; font-size: 0.7em; color: #9575cd;\">STAT</span></span></div>"
      ],
      "text/plain": [
       "<IPython.core.display.HTML object>"
      ]
     },
     "metadata": {},
     "output_type": "display_data"
    },
    {
     "name": "stdout",
     "output_type": "stream",
     "text": [
      "ex 3:\n"
     ]
    },
    {
     "data": {
      "text/html": [
       "<div class=\"tex2jax_ignore\" style=\"white-space: pre-wrap\">Инвестор <span style=\"padding: 2px; border-radius: 4px; border: 1px solid #ffcdd2; background: #ffebee\">ООО ДЮКА<span style=\"vertical-align: middle; margin-left: 2px; font-size: 0.7em; color: #e57373;\">ORG</span></span> ИНН КПП <span style=\"padding: 2px; border-radius: 4px; border: 1px solid #ffe0b2; background: #fff3e0\">564500394<span style=\"vertical-align: middle; margin-left: 2px; font-size: 0.7em; color: #ffb74d;\">INNKPP</span></span> / <span style=\"padding: 2px; border-radius: 4px; border: 1px solid #ffe0b2; background: #fff3e0\">231201001<span style=\"vertical-align: middle; margin-left: 2px; font-size: 0.7em; color: #ffb74d;\">INNKPP</span></span> <span style=\"padding: 2px; border-radius: 4px; border: 1px solid #c8e6c9; background: #e8f5e9\">624134, Свердловская обл, г Новоуральск, ул Чурина, д 12/2, оф 20<span style=\"vertical-align: middle; margin-left: 2px; font-size: 0.7em; color: #66bb6a;\">LOC</span></span> рс <span style=\"padding: 2px; border-radius: 4px; border: 1px solid #d7ccc8; background: #efebe9\">44468253734659494408<span style=\"vertical-align: middle; margin-left: 2px; font-size: 0.7em; color: #a1887f;\">RSKS</span></span> Филиал банка П-щик <span style=\"padding: 2px; border-radius: 4px; border: 1px solid #ffcdd2; background: #ffebee\">АКЦИОНЕРНОЕ ОБЩЕСТВО КОММЕРЧЕСКИЙ БАНК &quot;КУБАНСКИЙ ТОРГОВЫЙ БАНК&quot;<span style=\"vertical-align: middle; margin-left: 2px; font-size: 0.7em; color: #e57373;\">ORG</span></span> корр/сч <span style=\"padding: 2px; border-radius: 4px; border: 1px solid #d7ccc8; background: #efebe9\">30446422624228206241<span style=\"vertical-align: middle; margin-left: 2px; font-size: 0.7em; color: #a1887f;\">RSKS</span></span></div>"
      ],
      "text/plain": [
       "<IPython.core.display.HTML object>"
      ]
     },
     "metadata": {},
     "output_type": "display_data"
    },
    {
     "name": "stdout",
     "output_type": "stream",
     "text": [
      "ex 4:\n"
     ]
    },
    {
     "data": {
      "text/html": [
       "<div class=\"tex2jax_ignore\" style=\"white-space: pre-wrap\">Заказчик <span style=\"padding: 2px; border-radius: 4px; border: 1px solid #ffcdd2; background: #ffebee\">Индивидуальный предприниматель Умаров Алишер Рустамжонович<span style=\"vertical-align: middle; margin-left: 2px; font-size: 0.7em; color: #e57373;\">ORG</span></span> ИНН <span style=\"padding: 2px; border-radius: 4px; border: 1px solid #ffe0b2; background: #fff3e0\">9101033534<span style=\"vertical-align: middle; margin-left: 2px; font-size: 0.7em; color: #ffb74d;\">INNKPP</span></span> КПП З-чик <span style=\"padding: 2px; border-radius: 4px; border: 1px solid #ffe0b2; background: #fff3e0\">850601001<span style=\"vertical-align: middle; margin-left: 2px; font-size: 0.7em; color: #ffb74d;\">INNKPP</span></span> Банк П-щик <span style=\"padding: 2px; border-radius: 4px; border: 1px solid #ffcdd2; background: #ffebee\">Таурус Банк (АО)<span style=\"vertical-align: middle; margin-left: 2px; font-size: 0.7em; color: #e57373;\">ORG</span></span> кор/сч <span style=\"padding: 2px; border-radius: 4px; border: 1px solid #d7ccc8; background: #efebe9\">30314447881860661838<span style=\"vertical-align: middle; margin-left: 2px; font-size: 0.7em; color: #a1887f;\">RSKS</span></span> тел. <span style=\"padding: 2px; border-radius: 4px; border: 1px solid #d1c4e9; background: #ede7f6\">+<span style=\"vertical-align: middle; margin-left: 2px; font-size: 0.7em; color: #9575cd;\">STAT</span></span><span style=\"padding: 2px; border-radius: 4px; border: 1px solid #d1c4e9; background: #ede7f6\">8 958 641 58 51<span style=\"vertical-align: middle; margin-left: 2px; font-size: 0.7em; color: #9575cd;\">STAT</span></span> тел. <span style=\"padding: 2px; border-radius: 4px; border: 1px solid #d1c4e9; background: #ede7f6\">8<span style=\"vertical-align: middle; margin-left: 2px; font-size: 0.7em; color: #9575cd;\">STAT</span></span><span style=\"padding: 2px; border-radius: 4px; border: 1px solid #d1c4e9; background: #ede7f6\">-<span style=\"vertical-align: middle; margin-left: 2px; font-size: 0.7em; color: #9575cd;\">STAT</span></span><span style=\"padding: 2px; border-radius: 4px; border: 1px solid #d1c4e9; background: #ede7f6\">896<span style=\"vertical-align: middle; margin-left: 2px; font-size: 0.7em; color: #9575cd;\">STAT</span></span><span style=\"padding: 2px; border-radius: 4px; border: 1px solid #d1c4e9; background: #ede7f6\">-<span style=\"vertical-align: middle; margin-left: 2px; font-size: 0.7em; color: #9575cd;\">STAT</span></span><span style=\"padding: 2px; border-radius: 4px; border: 1px solid #d1c4e9; background: #ede7f6\">847<span style=\"vertical-align: middle; margin-left: 2px; font-size: 0.7em; color: #9575cd;\">STAT</span></span><span style=\"padding: 2px; border-radius: 4px; border: 1px solid #d1c4e9; background: #ede7f6\">-<span style=\"vertical-align: middle; margin-left: 2px; font-size: 0.7em; color: #9575cd;\">STAT</span></span><span style=\"padding: 2px; border-radius: 4px; border: 1px solid #d1c4e9; background: #ede7f6\">07<span style=\"vertical-align: middle; margin-left: 2px; font-size: 0.7em; color: #9575cd;\">STAT</span></span><span style=\"padding: 2px; border-radius: 4px; border: 1px solid #d1c4e9; background: #ede7f6\">-<span style=\"vertical-align: middle; margin-left: 2px; font-size: 0.7em; color: #9575cd;\">STAT</span></span>54</div>"
      ],
      "text/plain": [
       "<IPython.core.display.HTML object>"
      ]
     },
     "metadata": {},
     "output_type": "display_data"
    },
    {
     "name": "stdout",
     "output_type": "stream",
     "text": [
      "ex 5:\n"
     ]
    },
    {
     "data": {
      "text/html": [
       "<div class=\"tex2jax_ignore\" style=\"white-space: pre-wrap\">Заказчик <span style=\"padding: 2px; border-radius: 4px; border: 1px solid #ffcdd2; background: #ffebee\">АО ТОРГТЕХНИКА<span style=\"vertical-align: middle; margin-left: 2px; font-size: 0.7em; color: #e57373;\">ORG</span></span> <span style=\"padding: 2px; border-radius: 4px; border: 1px solid #ffe0b2; background: #fff3e0\">7703405973<span style=\"vertical-align: middle; margin-left: 2px; font-size: 0.7em; color: #ffb74d;\">INNKPP</span></span> <span style=\"padding: 2px; border-radius: 4px; border: 1px solid #ffe0b2; background: #fff3e0\">540601001<span style=\"vertical-align: middle; margin-left: 2px; font-size: 0.7em; color: #ffb74d;\">INNKPP</span></span> Банк Поставщик <span style=\"padding: 2px; border-radius: 4px; border: 1px solid #ffcdd2; background: #ffebee\">ООО &quot;ЭСИДБАНК&quot;<span style=\"vertical-align: middle; margin-left: 2px; font-size: 0.7em; color: #e57373;\">ORG</span></span> ИНН КПП Получатель <span style=\"padding: 2px; border-radius: 4px; border: 1px solid #ffe0b2; background: #fff3e0\">7713586119<span style=\"vertical-align: middle; margin-left: 2px; font-size: 0.7em; color: #ffb74d;\">INNKPP</span></span> / <span style=\"padding: 2px; border-radius: 4px; border: 1px solid #ffe0b2; background: #fff3e0\">691301001<span style=\"vertical-align: middle; margin-left: 2px; font-size: 0.7em; color: #ffb74d;\">INNKPP</span></span> <span style=\"padding: 2px; border-radius: 4px; border: 1px solid #c8e6c9; background: #e8f5e9\">190098, г Санкт-Петербург, Адмиралтейский р-н, пл Труда, д 4<span style=\"vertical-align: middle; margin-left: 2px; font-size: 0.7em; color: #66bb6a;\">LOC</span></span> тел. <span style=\"padding: 2px; border-radius: 4px; border: 1px solid #d1c4e9; background: #ede7f6\">+<span style=\"vertical-align: middle; margin-left: 2px; font-size: 0.7em; color: #9575cd;\">STAT</span></span><span style=\"padding: 2px; border-radius: 4px; border: 1px solid #d1c4e9; background: #ede7f6\">8 (958) 392 21 72<span style=\"vertical-align: middle; margin-left: 2px; font-size: 0.7em; color: #9575cd;\">STAT</span></span> тел. <span style=\"padding: 2px; border-radius: 4px; border: 1px solid #d1c4e9; background: #ede7f6\">+<span style=\"vertical-align: middle; margin-left: 2px; font-size: 0.7em; color: #9575cd;\">STAT</span></span><span style=\"padding: 2px; border-radius: 4px; border: 1px solid #d1c4e9; background: #ede7f6\">7<span style=\"vertical-align: middle; margin-left: 2px; font-size: 0.7em; color: #9575cd;\">STAT</span></span><span style=\"padding: 2px; border-radius: 4px; border: 1px solid #d1c4e9; background: #ede7f6\">-<span style=\"vertical-align: middle; margin-left: 2px; font-size: 0.7em; color: #9575cd;\">STAT</span></span><span style=\"padding: 2px; border-radius: 4px; border: 1px solid #d1c4e9; background: #ede7f6\">341<span style=\"vertical-align: middle; margin-left: 2px; font-size: 0.7em; color: #9575cd;\">STAT</span></span><span style=\"padding: 2px; border-radius: 4px; border: 1px solid #d1c4e9; background: #ede7f6\">-<span style=\"vertical-align: middle; margin-left: 2px; font-size: 0.7em; color: #9575cd;\">STAT</span></span><span style=\"padding: 2px; border-radius: 4px; border: 1px solid #d1c4e9; background: #ede7f6\">105<span style=\"vertical-align: middle; margin-left: 2px; font-size: 0.7em; color: #9575cd;\">STAT</span></span><span style=\"padding: 2px; border-radius: 4px; border: 1px solid #d1c4e9; background: #ede7f6\">-<span style=\"vertical-align: middle; margin-left: 2px; font-size: 0.7em; color: #9575cd;\">STAT</span></span>9076</div>"
      ],
      "text/plain": [
       "<IPython.core.display.HTML object>"
      ]
     },
     "metadata": {},
     "output_type": "display_data"
    },
    {
     "name": "stdout",
     "output_type": "stream",
     "text": [
      "ex 6:\n"
     ]
    },
    {
     "data": {
      "text/html": [
       "<div class=\"tex2jax_ignore\" style=\"white-space: pre-wrap\">Исп-тель <span style=\"padding: 2px; border-radius: 4px; border: 1px solid #ffcdd2; background: #ffebee\">ООО &quot;СИБМЕТИНВЕСТ&quot;<span style=\"vertical-align: middle; margin-left: 2px; font-size: 0.7em; color: #e57373;\">ORG</span></span> Адрес филиала банка <span style=\"padding: 2px; border-radius: 4px; border: 1px solid #c8e6c9; background: #e8f5e9\">191036, г Санкт-Петербург, Центральный р-н, ул Кременчугская, д 11 к 2 литер а<span style=\"vertical-align: middle; margin-left: 2px; font-size: 0.7em; color: #66bb6a;\">LOC</span></span> <span style=\"padding: 2px; border-radius: 4px; border: 1px solid #ffe0b2; background: #fff3e0\">7136009758<span style=\"vertical-align: middle; margin-left: 2px; font-size: 0.7em; color: #ffb74d;\">INNKPP</span></span> / тел. <span style=\"padding: 2px; border-radius: 4px; border: 1px solid #d1c4e9; background: #ede7f6\">+<span style=\"vertical-align: middle; margin-left: 2px; font-size: 0.7em; color: #9575cd;\">STAT</span></span><span style=\"padding: 2px; border-radius: 4px; border: 1px solid #d1c4e9; background: #ede7f6\">8<span style=\"vertical-align: middle; margin-left: 2px; font-size: 0.7em; color: #9575cd;\">STAT</span></span><span style=\"padding: 2px; border-radius: 4px; border: 1px solid #d1c4e9; background: #ede7f6\">-<span style=\"vertical-align: middle; margin-left: 2px; font-size: 0.7em; color: #9575cd;\">STAT</span></span><span style=\"padding: 2px; border-radius: 4px; border: 1px solid #d1c4e9; background: #ede7f6\">( 897) -700-7605<span style=\"vertical-align: middle; margin-left: 2px; font-size: 0.7em; color: #9575cd;\">STAT</span></span> корр/сч <span style=\"padding: 2px; border-radius: 4px; border: 1px solid #d7ccc8; background: #efebe9\">30871614386398853276<span style=\"vertical-align: middle; margin-left: 2px; font-size: 0.7em; color: #a1887f;\">RSKS</span></span></div>"
      ],
      "text/plain": [
       "<IPython.core.display.HTML object>"
      ]
     },
     "metadata": {},
     "output_type": "display_data"
    },
    {
     "name": "stdout",
     "output_type": "stream",
     "text": [
      "ex 7:\n"
     ]
    },
    {
     "data": {
      "text/html": [
       "<div class=\"tex2jax_ignore\" style=\"white-space: pre-wrap\">З-чик <span style=\"padding: 2px; border-radius: 4px; border: 1px solid #ffcdd2; background: #ffebee\">ИП Вяткина Любовь Геннадьевна<span style=\"vertical-align: middle; margin-left: 2px; font-size: 0.7em; color: #e57373;\">ORG</span></span> ИНН КПП Получатель <span style=\"padding: 2px; border-radius: 4px; border: 1px solid #ffe0b2; background: #fff3e0\">643909220811<span style=\"vertical-align: middle; margin-left: 2px; font-size: 0.7em; color: #ffb74d;\">INNKPP</span></span> / рас <span style=\"padding: 2px; border-radius: 4px; border: 1px solid #d7ccc8; background: #efebe9\">47586354746769005100<span style=\"vertical-align: middle; margin-left: 2px; font-size: 0.7em; color: #a1887f;\">RSKS</span></span> <span style=\"padding: 2px; border-radius: 4px; border: 1px solid #c8e6c9; background: #e8f5e9\">КРАЙ КРАСНОДАРСКИЙ РАЙОН КУРГАНИНСКИЙ ГОРОД КУРГАНИНСК УЛИЦА МАТРОСОВА 187<span style=\"vertical-align: middle; margin-left: 2px; font-size: 0.7em; color: #66bb6a;\">LOC</span></span></div>"
      ],
      "text/plain": [
       "<IPython.core.display.HTML object>"
      ]
     },
     "metadata": {},
     "output_type": "display_data"
    },
    {
     "name": "stdout",
     "output_type": "stream",
     "text": [
      "ex 8:\n"
     ]
    },
    {
     "data": {
      "text/html": [
       "<div class=\"tex2jax_ignore\" style=\"white-space: pre-wrap\">Исполнитель <span style=\"padding: 2px; border-radius: 4px; border: 1px solid #ffcdd2; background: #ffebee\">ООО ФУДСЕРВИС<span style=\"vertical-align: middle; margin-left: 2px; font-size: 0.7em; color: #e57373;\">ORG</span></span> ИНН Заказчик <span style=\"padding: 2px; border-radius: 4px; border: 1px solid #ffe0b2; background: #fff3e0\">3604016785<span style=\"vertical-align: middle; margin-left: 2px; font-size: 0.7em; color: #ffb74d;\">INNKPP</span></span> КПП банк <span style=\"padding: 2px; border-radius: 4px; border: 1px solid #ffcdd2; background: #ffebee\">ОБЩЕСТВО С ОГРАНИЧЕННОЙ ОТВЕТСТВЕННОСТЬЮ БАНК &quot;ИТУРУП&quot;<span style=\"vertical-align: middle; margin-left: 2px; font-size: 0.7em; color: #e57373;\">ORG</span></span> <span style=\"padding: 2px; border-radius: 4px; border: 1px solid #c8e6c9; background: #e8f5e9\">660028, Красноярский край, г Красноярск, Октябрьский р-н, ул Телевизорная, д 1 стр 16, пом 202<span style=\"vertical-align: middle; margin-left: 2px; font-size: 0.7em; color: #66bb6a;\">LOC</span></span> тел. <span style=\"padding: 2px; border-radius: 4px; border: 1px solid #d1c4e9; background: #ede7f6\">8 929 933 3493<span style=\"vertical-align: middle; margin-left: 2px; font-size: 0.7em; color: #9575cd;\">STAT</span></span> тел. <span style=\"padding: 2px; border-radius: 4px; border: 1px solid #d1c4e9; background: #ede7f6\">8<span style=\"vertical-align: middle; margin-left: 2px; font-size: 0.7em; color: #9575cd;\">STAT</span></span><span style=\"padding: 2px; border-radius: 4px; border: 1px solid #d1c4e9; background: #ede7f6\">-<span style=\"vertical-align: middle; margin-left: 2px; font-size: 0.7em; color: #9575cd;\">STAT</span></span><span style=\"padding: 2px; border-radius: 4px; border: 1px solid #d1c4e9; background: #ede7f6\">997<span style=\"vertical-align: middle; margin-left: 2px; font-size: 0.7em; color: #9575cd;\">STAT</span></span><span style=\"padding: 2px; border-radius: 4px; border: 1px solid #d1c4e9; background: #ede7f6\">-<span style=\"vertical-align: middle; margin-left: 2px; font-size: 0.7em; color: #9575cd;\">STAT</span></span><span style=\"padding: 2px; border-radius: 4px; border: 1px solid #d1c4e9; background: #ede7f6\">03<span style=\"vertical-align: middle; margin-left: 2px; font-size: 0.7em; color: #9575cd;\">STAT</span></span><span style=\"padding: 2px; border-radius: 4px; border: 1px solid #d1c4e9; background: #ede7f6\">-<span style=\"vertical-align: middle; margin-left: 2px; font-size: 0.7em; color: #9575cd;\">STAT</span></span><span style=\"padding: 2px; border-radius: 4px; border: 1px solid #d1c4e9; background: #ede7f6\">86<span style=\"vertical-align: middle; margin-left: 2px; font-size: 0.7em; color: #9575cd;\">STAT</span></span><span style=\"padding: 2px; border-radius: 4px; border: 1px solid #d1c4e9; background: #ede7f6\">-<span style=\"vertical-align: middle; margin-left: 2px; font-size: 0.7em; color: #9575cd;\">STAT</span></span>138</div>"
      ],
      "text/plain": [
       "<IPython.core.display.HTML object>"
      ]
     },
     "metadata": {},
     "output_type": "display_data"
    },
    {
     "name": "stdout",
     "output_type": "stream",
     "text": [
      "ex 9:\n"
     ]
    },
    {
     "data": {
      "text/html": [
       "<div class=\"tex2jax_ignore\" style=\"white-space: pre-wrap\">Подрядчик <span style=\"padding: 2px; border-radius: 4px; border: 1px solid #ffcdd2; background: #ffebee\">АО ПРОИЗВОДСТВЕННАЯ КОМПАНИЯ СТАНКОПРЕСС<span style=\"vertical-align: middle; margin-left: 2px; font-size: 0.7em; color: #e57373;\">ORG</span></span> ИНН <span style=\"padding: 2px; border-radius: 4px; border: 1px solid #ffe0b2; background: #fff3e0\">1837004309<span style=\"vertical-align: middle; margin-left: 2px; font-size: 0.7em; color: #ffb74d;\">INNKPP</span></span> <span style=\"padding: 2px; border-radius: 4px; border: 1px solid #c8e6c9; background: #e8f5e9\">125315, г Москва, р-н Аэропорт, Большой Коптевский проезд, д 3 стр 1, оф 44<span style=\"vertical-align: middle; margin-left: 2px; font-size: 0.7em; color: #66bb6a;\">LOC</span></span> счет № <span style=\"padding: 2px; border-radius: 4px; border: 1px solid #d7ccc8; background: #efebe9\">49811224383454596973<span style=\"vertical-align: middle; margin-left: 2px; font-size: 0.7em; color: #a1887f;\">RSKS</span></span> Банк Поставщик <span style=\"padding: 2px; border-radius: 4px; border: 1px solid #ffcdd2; background: #ffebee\">КБ &quot;СТРОЙЛЕСБАНК&quot; (ООО)<span style=\"vertical-align: middle; margin-left: 2px; font-size: 0.7em; color: #e57373;\">ORG</span></span> БИК Банка <span style=\"padding: 2px; border-radius: 4px; border: 1px solid #d1c4e9; background: #ede7f6\">044342437<span style=\"vertical-align: middle; margin-left: 2px; font-size: 0.7em; color: #9575cd;\">STAT</span></span> к.с. <span style=\"padding: 2px; border-radius: 4px; border: 1px solid #d7ccc8; background: #efebe9\">30888947106174879596<span style=\"vertical-align: middle; margin-left: 2px; font-size: 0.7em; color: #a1887f;\">RSKS</span></span></div>"
      ],
      "text/plain": [
       "<IPython.core.display.HTML object>"
      ]
     },
     "metadata": {},
     "output_type": "display_data"
    },
    {
     "name": "stdout",
     "output_type": "stream",
     "text": [
      "ex 10:\n"
     ]
    },
    {
     "data": {
      "text/html": [
       "<div class=\"tex2jax_ignore\" style=\"white-space: pre-wrap\">Инвестор <span style=\"padding: 2px; border-radius: 4px; border: 1px solid #ffcdd2; background: #ffebee\">ФИЛИАЛ &quot;САРАТОВСКИЙ&quot;<span style=\"vertical-align: middle; margin-left: 2px; font-size: 0.7em; color: #e57373;\">ORG</span></span> ИНН <span style=\"padding: 2px; border-radius: 4px; border: 1px solid #ffe0b2; background: #fff3e0\">3818027569<span style=\"vertical-align: middle; margin-left: 2px; font-size: 0.7em; color: #ffb74d;\">INNKPP</span></span> КПП <span style=\"padding: 2px; border-radius: 4px; border: 1px solid #ffe0b2; background: #fff3e0\">441501001<span style=\"vertical-align: middle; margin-left: 2px; font-size: 0.7em; color: #ffb74d;\">INNKPP</span></span> Филиал банка <span style=\"padding: 2px; border-radius: 4px; border: 1px solid #ffcdd2; background: #ffebee\">АМУРСКИЙ ФИЛИАЛ ОБЩЕСТВА С ОГРАНИЧЕННОЙ ОТВЕТСТВЕННОСТЬЮ &quot;КРОНА-БАНК&quot;<span style=\"vertical-align: middle; margin-left: 2px; font-size: 0.7em; color: #e57373;\">ORG</span></span> <span style=\"padding: 2px; border-radius: 4px; border: 1px solid #c8e6c9; background: #e8f5e9\">ОБЛАСТЬ РОСТОВСКАЯ ГОРОД ТАГАНРОГ УЛИЦА ЧЕХОВА ДОМ 43 ЛИТЕР П/А КОМНАТА 46, 47<span style=\"vertical-align: middle; margin-left: 2px; font-size: 0.7em; color: #66bb6a;\">LOC</span></span> кор/счет <span style=\"padding: 2px; border-radius: 4px; border: 1px solid #d7ccc8; background: #efebe9\">30039263770137789946<span style=\"vertical-align: middle; margin-left: 2px; font-size: 0.7em; color: #a1887f;\">RSKS</span></span> тел. <span style=\"padding: 2px; border-radius: 4px; border: 1px solid #d1c4e9; background: #ede7f6\">8 (323) 242 2152<span style=\"vertical-align: middle; margin-left: 2px; font-size: 0.7em; color: #9575cd;\">STAT</span></span></div>"
      ],
      "text/plain": [
       "<IPython.core.display.HTML object>"
      ]
     },
     "metadata": {},
     "output_type": "display_data"
    },
    {
     "name": "stdout",
     "output_type": "stream",
     "text": [
      "ex 11:\n"
     ]
    },
    {
     "data": {
      "text/html": [
       "<div class=\"tex2jax_ignore\" style=\"white-space: pre-wrap\">Получатель <span style=\"padding: 2px; border-radius: 4px; border: 1px solid #ffcdd2; background: #ffebee\">Индивидуальный предприниматель Яровой Игорь Вячеславович<span style=\"vertical-align: middle; margin-left: 2px; font-size: 0.7em; color: #e57373;\">ORG</span></span> ИНН/КПП Генподрядчик <span style=\"padding: 2px; border-radius: 4px; border: 1px solid #ffe0b2; background: #fff3e0\">615492654222<span style=\"vertical-align: middle; margin-left: 2px; font-size: 0.7em; color: #ffb74d;\">INNKPP</span></span> / <span style=\"padding: 2px; border-radius: 4px; border: 1px solid #ffe0b2; background: #fff3e0\">540501001<span style=\"vertical-align: middle; margin-left: 2px; font-size: 0.7em; color: #ffb74d;\">INNKPP</span></span> тел. <span style=\"padding: 2px; border-radius: 4px; border: 1px solid #d1c4e9; background: #ede7f6\">7<span style=\"vertical-align: middle; margin-left: 2px; font-size: 0.7em; color: #9575cd;\">STAT</span></span><span style=\"padding: 2px; border-radius: 4px; border: 1px solid #d1c4e9; background: #ede7f6\">-<span style=\"vertical-align: middle; margin-left: 2px; font-size: 0.7em; color: #9575cd;\">STAT</span></span><span style=\"padding: 2px; border-radius: 4px; border: 1px solid #d1c4e9; background: #ede7f6\">360<span style=\"vertical-align: middle; margin-left: 2px; font-size: 0.7em; color: #9575cd;\">STAT</span></span><span style=\"padding: 2px; border-radius: 4px; border: 1px solid #d1c4e9; background: #ede7f6\">-<span style=\"vertical-align: middle; margin-left: 2px; font-size: 0.7em; color: #9575cd;\">STAT</span></span><span style=\"padding: 2px; border-radius: 4px; border: 1px solid #d1c4e9; background: #ede7f6\">6949332<span style=\"vertical-align: middle; margin-left: 2px; font-size: 0.7em; color: #9575cd;\">STAT</span></span> БИК <span style=\"padding: 2px; border-radius: 4px; border: 1px solid #d1c4e9; background: #ede7f6\">047632437<span style=\"vertical-align: middle; margin-left: 2px; font-size: 0.7em; color: #9575cd;\">STAT</span></span> корр. счет <span style=\"padding: 2px; border-radius: 4px; border: 1px solid #d7ccc8; background: #efebe9\">30751939829563646811<span style=\"vertical-align: middle; margin-left: 2px; font-size: 0.7em; color: #a1887f;\">RSKS</span></span></div>"
      ],
      "text/plain": [
       "<IPython.core.display.HTML object>"
      ]
     },
     "metadata": {},
     "output_type": "display_data"
    },
    {
     "name": "stdout",
     "output_type": "stream",
     "text": [
      "ex 12:\n"
     ]
    },
    {
     "data": {
      "text/html": [
       "<div class=\"tex2jax_ignore\" style=\"white-space: pre-wrap\">Клиент <span style=\"padding: 2px; border-radius: 4px; border: 1px solid #ffcdd2; background: #ffebee\">ИП Макаров Петр Михайлович<span style=\"vertical-align: middle; margin-left: 2px; font-size: 0.7em; color: #e57373;\">ORG</span></span> <span style=\"padding: 2px; border-radius: 4px; border: 1px solid #c8e6c9; background: #e8f5e9\">Кемеровская область, город Кемерово<span style=\"vertical-align: middle; margin-left: 2px; font-size: 0.7em; color: #66bb6a;\">LOC</span></span> Филиал банка Получатель <span style=\"padding: 2px; border-radius: 4px; border: 1px solid #ffcdd2; background: #ffebee\">ООО КБ &quot;АРЕСБАНК&quot;<span style=\"vertical-align: middle; margin-left: 2px; font-size: 0.7em; color: #e57373;\">ORG</span></span> <span style=\"padding: 2px; border-radius: 4px; border: 1px solid #d1c4e9; background: #ede7f6\">046409928<span style=\"vertical-align: middle; margin-left: 2px; font-size: 0.7em; color: #9575cd;\">STAT</span></span></div>"
      ],
      "text/plain": [
       "<IPython.core.display.HTML object>"
      ]
     },
     "metadata": {},
     "output_type": "display_data"
    },
    {
     "name": "stdout",
     "output_type": "stream",
     "text": [
      "ex 13:\n"
     ]
    },
    {
     "data": {
      "text/html": [
       "<div class=\"tex2jax_ignore\" style=\"white-space: pre-wrap\">Исп-тель <span style=\"padding: 2px; border-radius: 4px; border: 1px solid #ffcdd2; background: #ffebee\">АО КНАУФ ПЕТРОБОРД<span style=\"vertical-align: middle; margin-left: 2px; font-size: 0.7em; color: #e57373;\">ORG</span></span> <span style=\"padding: 2px; border-radius: 4px; border: 1px solid #ffe0b2; background: #fff3e0\">4501022041<span style=\"vertical-align: middle; margin-left: 2px; font-size: 0.7em; color: #ffb74d;\">INNKPP</span></span> / <span style=\"padding: 2px; border-radius: 4px; border: 1px solid #ffe0b2; background: #fff3e0\">352801001<span style=\"vertical-align: middle; margin-left: 2px; font-size: 0.7em; color: #ffb74d;\">INNKPP</span></span> Банк <span style=\"padding: 2px; border-radius: 4px; border: 1px solid #ffcdd2; background: #ffebee\">КБ &quot;СИСТЕМА&quot; ООО<span style=\"vertical-align: middle; margin-left: 2px; font-size: 0.7em; color: #e57373;\">ORG</span></span> Адрес банка Субподрядчик <span style=\"padding: 2px; border-radius: 4px; border: 1px solid #c8e6c9; background: #e8f5e9\">352930, Краснодарский край, Лабинский р-н, поселок Луч, ул Центральная, д 6<span style=\"vertical-align: middle; margin-left: 2px; font-size: 0.7em; color: #66bb6a;\">LOC</span></span> БИК <span style=\"padding: 2px; border-radius: 4px; border: 1px solid #d1c4e9; background: #ede7f6\">048235062<span style=\"vertical-align: middle; margin-left: 2px; font-size: 0.7em; color: #9575cd;\">STAT</span></span> рас/сч <span style=\"padding: 2px; border-radius: 4px; border: 1px solid #d7ccc8; background: #efebe9\">46828778945805289396<span style=\"vertical-align: middle; margin-left: 2px; font-size: 0.7em; color: #a1887f;\">RSKS</span></span> корр. счет <span style=\"padding: 2px; border-radius: 4px; border: 1px solid #d7ccc8; background: #efebe9\">30158676271139701762<span style=\"vertical-align: middle; margin-left: 2px; font-size: 0.7em; color: #a1887f;\">RSKS</span></span> тел. <span style=\"padding: 2px; border-radius: 4px; border: 1px solid #d1c4e9; background: #ede7f6\">+<span style=\"vertical-align: middle; margin-left: 2px; font-size: 0.7em; color: #9575cd;\">STAT</span></span><span style=\"padding: 2px; border-radius: 4px; border: 1px solid #d1c4e9; background: #ede7f6\">8 895 87 16 329<span style=\"vertical-align: middle; margin-left: 2px; font-size: 0.7em; color: #9575cd;\">STAT</span></span></div>"
      ],
      "text/plain": [
       "<IPython.core.display.HTML object>"
      ]
     },
     "metadata": {},
     "output_type": "display_data"
    },
    {
     "name": "stdout",
     "output_type": "stream",
     "text": [
      "ex 14:\n"
     ]
    },
    {
     "data": {
      "text/html": [
       "<div class=\"tex2jax_ignore\" style=\"white-space: pre-wrap\">Генподрядчик <span style=\"padding: 2px; border-radius: 4px; border: 1px solid #ffcdd2; background: #ffebee\">ХП<span style=\"vertical-align: middle; margin-left: 2px; font-size: 0.7em; color: #e57373;\">ORG</span></span> <span style=\"padding: 2px; border-radius: 4px; border: 1px solid #ffcdd2; background: #ffebee\">ХП ИННОВАЦИОННЫЙ ВНЕДРЕНЧЕСКИЙ ЦЕНТР ТРАНСФЕРА ТЕХНОЛОГИЙ<span style=\"vertical-align: middle; margin-left: 2px; font-size: 0.7em; color: #e57373;\">ORG</span></span> ИНН <span style=\"padding: 2px; border-radius: 4px; border: 1px solid #ffe0b2; background: #fff3e0\">1326032962<span style=\"vertical-align: middle; margin-left: 2px; font-size: 0.7em; color: #ffb74d;\">INNKPP</span></span> <span style=\"padding: 2px; border-radius: 4px; border: 1px solid #c8e6c9; background: #e8f5e9\">Г<span style=\"vertical-align: middle; margin-left: 2px; font-size: 0.7em; color: #66bb6a;\">LOC</span></span><span style=\"padding: 2px; border-radius: 4px; border: 1px solid #c8e6c9; background: #e8f5e9\">. МОСКВА УЛ. ВЕРХНЯЯ КРАСНОСЕЛЬСКАЯ Д. 3А ПОМЕЩ. 109<span style=\"vertical-align: middle; margin-left: 2px; font-size: 0.7em; color: #66bb6a;\">LOC</span></span> р.с. <span style=\"padding: 2px; border-radius: 4px; border: 1px solid #d7ccc8; background: #efebe9\">48697448753286414212<span style=\"vertical-align: middle; margin-left: 2px; font-size: 0.7em; color: #a1887f;\">RSKS</span></span> Филиал банка Покупатель <span style=\"padding: 2px; border-radius: 4px; border: 1px solid #ffcdd2; background: #ffebee\">ООО &quot;КЭБ ЭйчЭнБи Банк&quot;<span style=\"vertical-align: middle; margin-left: 2px; font-size: 0.7em; color: #e57373;\">ORG</span></span> <span style=\"padding: 2px; border-radius: 4px; border: 1px solid #d1c4e9; background: #ede7f6\">044378352<span style=\"vertical-align: middle; margin-left: 2px; font-size: 0.7em; color: #9575cd;\">STAT</span></span> корр/сч <span style=\"padding: 2px; border-radius: 4px; border: 1px solid #d7ccc8; background: #efebe9\">30281854986277858405<span style=\"vertical-align: middle; margin-left: 2px; font-size: 0.7em; color: #a1887f;\">RSKS</span></span></div>"
      ],
      "text/plain": [
       "<IPython.core.display.HTML object>"
      ]
     },
     "metadata": {},
     "output_type": "display_data"
    },
    {
     "name": "stdout",
     "output_type": "stream",
     "text": [
      "ex 15:\n"
     ]
    },
    {
     "data": {
      "text/html": [
       "<div class=\"tex2jax_ignore\" style=\"white-space: pre-wrap\">Получатель <span style=\"padding: 2px; border-radius: 4px; border: 1px solid #ffcdd2; background: #ffebee\">ОБЩЕСТВО С ОГРАНИЧЕННОЙ ОТВЕТСТВЕННОСТЬЮ &quot;КОМПАНИЯ СИМБИРСКИЕ ЛОТЕРЕИ&quot;<span style=\"vertical-align: middle; margin-left: 2px; font-size: 0.7em; color: #e57373;\">ORG</span></span> <span style=\"padding: 2px; border-radius: 4px; border: 1px solid #ffe0b2; background: #fff3e0\">6732159625<span style=\"vertical-align: middle; margin-left: 2px; font-size: 0.7em; color: #ffb74d;\">INNKPP</span></span> / Адрес филиала банка П-щик <span style=\"padding: 2px; border-radius: 4px; border: 1px solid #c8e6c9; background: #e8f5e9\">ОБЛАСТЬ НОВОСИБИРСКАЯ ГОРОД НОВОСИБИРСК УЛИЦА ТАГИЛЬСКАЯ ДОМ 41<span style=\"vertical-align: middle; margin-left: 2px; font-size: 0.7em; color: #66bb6a;\">LOC</span></span> БИК Банка <span style=\"padding: 2px; border-radius: 4px; border: 1px solid #d1c4e9; background: #ede7f6\">048021092<span style=\"vertical-align: middle; margin-left: 2px; font-size: 0.7em; color: #9575cd;\">STAT</span></span> рас. счет <span style=\"padding: 2px; border-radius: 4px; border: 1px solid #d7ccc8; background: #efebe9\">41889354795523224679<span style=\"vertical-align: middle; margin-left: 2px; font-size: 0.7em; color: #a1887f;\">RSKS</span></span> тел. <span style=\"padding: 2px; border-radius: 4px; border: 1px solid #d1c4e9; background: #ede7f6\">+<span style=\"vertical-align: middle; margin-left: 2px; font-size: 0.7em; color: #9575cd;\">STAT</span></span><span style=\"padding: 2px; border-radius: 4px; border: 1px solid #d1c4e9; background: #ede7f6\">7 819 6434416<span style=\"vertical-align: middle; margin-left: 2px; font-size: 0.7em; color: #9575cd;\">STAT</span></span></div>"
      ],
      "text/plain": [
       "<IPython.core.display.HTML object>"
      ]
     },
     "metadata": {},
     "output_type": "display_data"
    },
    {
     "name": "stdout",
     "output_type": "stream",
     "text": [
      "ex 16:\n"
     ]
    },
    {
     "data": {
      "text/html": [
       "<div class=\"tex2jax_ignore\" style=\"white-space: pre-wrap\">Генподрядчик <span style=\"padding: 2px; border-radius: 4px; border: 1px solid #ffcdd2; background: #ffebee\">ООО РЕГЛАМЕНТ-Т<span style=\"vertical-align: middle; margin-left: 2px; font-size: 0.7em; color: #e57373;\">ORG</span></span> <span style=\"padding: 2px; border-radius: 4px; border: 1px solid #ffe0b2; background: #fff3e0\">6913011243<span style=\"vertical-align: middle; margin-left: 2px; font-size: 0.7em; color: #ffb74d;\">INNKPP</span></span> / <span style=\"padding: 2px; border-radius: 4px; border: 1px solid #ffe0b2; background: #fff3e0\">770201001<span style=\"vertical-align: middle; margin-left: 2px; font-size: 0.7em; color: #ffb74d;\">INNKPP</span></span></div>"
      ],
      "text/plain": [
       "<IPython.core.display.HTML object>"
      ]
     },
     "metadata": {},
     "output_type": "display_data"
    },
    {
     "name": "stdout",
     "output_type": "stream",
     "text": [
      "ex 17:\n"
     ]
    },
    {
     "data": {
      "text/html": [
       "<div class=\"tex2jax_ignore\" style=\"white-space: pre-wrap\">Плательщик <span style=\"padding: 2px; border-radius: 4px; border: 1px solid #ffcdd2; background: #ffebee\">РОСТОВСКИЙ ФИЛИАЛ (ОБЛ РОСТОВСКАЯ, Г РОСТОВ-<span style=\"vertical-align: middle; margin-left: 2px; font-size: 0.7em; color: #e57373;\">ORG</span></span>НА-ДОНУ, ПР-КТ СОКОЛОВА) ИНН <span style=\"padding: 2px; border-radius: 4px; border: 1px solid #ffe0b2; background: #fff3e0\">9701108707<span style=\"vertical-align: middle; margin-left: 2px; font-size: 0.7em; color: #ffb74d;\">INNKPP</span></span> Адрес Инвестор <span style=\"padding: 2px; border-radius: 4px; border: 1px solid #c8e6c9; background: #e8f5e9\">656023, Алтайский край, г Барнаул, Октябрьский р-н, ул 40 лет Октября, д 19А, кв 8<span style=\"vertical-align: middle; margin-left: 2px; font-size: 0.7em; color: #66bb6a;\">LOC</span></span> Филиал банка З-чик <span style=\"padding: 2px; border-radius: 4px; border: 1px solid #ffcdd2; background: #ffebee\">Публичное акционерное общество &quot;Татфондбанк&quot;<span style=\"vertical-align: middle; margin-left: 2px; font-size: 0.7em; color: #e57373;\">ORG</span></span> БИК Банка <span style=\"padding: 2px; border-radius: 4px; border: 1px solid #d1c4e9; background: #ede7f6\">040895458<span style=\"vertical-align: middle; margin-left: 2px; font-size: 0.7em; color: #9575cd;\">STAT</span></span> Корреспондентский счет <span style=\"padding: 2px; border-radius: 4px; border: 1px solid #d7ccc8; background: #efebe9\">30595917398368746963<span style=\"vertical-align: middle; margin-left: 2px; font-size: 0.7em; color: #a1887f;\">RSKS</span></span></div>"
      ],
      "text/plain": [
       "<IPython.core.display.HTML object>"
      ]
     },
     "metadata": {},
     "output_type": "display_data"
    },
    {
     "name": "stdout",
     "output_type": "stream",
     "text": [
      "ex 18:\n"
     ]
    },
    {
     "data": {
      "text/html": [
       "<div class=\"tex2jax_ignore\" style=\"white-space: pre-wrap\">Плательщик <span style=\"padding: 2px; border-radius: 4px; border: 1px solid #ffcdd2; background: #ffebee\">ООО КУРСКХИМВОЛОКНО<span style=\"vertical-align: middle; margin-left: 2px; font-size: 0.7em; color: #e57373;\">ORG</span></span> Адрес филиала банка Инвестор <span style=\"padding: 2px; border-radius: 4px; border: 1px solid #c8e6c9; background: #e8f5e9\">ОБЛАСТЬ СВЕРДЛОВСКАЯ ГОРОД ВЕРХНЯЯ ПЫШМА УЛИЦА ОСИПЕНКО 1 А<span style=\"vertical-align: middle; margin-left: 2px; font-size: 0.7em; color: #66bb6a;\">LOC</span></span> счет <span style=\"padding: 2px; border-radius: 4px; border: 1px solid #d7ccc8; background: #efebe9\">48175469121306683508<span style=\"vertical-align: middle; margin-left: 2px; font-size: 0.7em; color: #a1887f;\">RSKS</span></span> Филиал банка П-щик <span style=\"padding: 2px; border-radius: 4px; border: 1px solid #ffcdd2; background: #ffebee\">ОБЩЕСТВО С ОГРАНИЧЕННОЙ ОТВЕТСТВЕННОСТЬЮ &quot;КБ 777&quot;<span style=\"vertical-align: middle; margin-left: 2px; font-size: 0.7em; color: #e57373;\">ORG</span></span> к.с. <span style=\"padding: 2px; border-radius: 4px; border: 1px solid #d7ccc8; background: #efebe9\">30080073795381506347<span style=\"vertical-align: middle; margin-left: 2px; font-size: 0.7em; color: #a1887f;\">RSKS</span></span></div>"
      ],
      "text/plain": [
       "<IPython.core.display.HTML object>"
      ]
     },
     "metadata": {},
     "output_type": "display_data"
    },
    {
     "name": "stdout",
     "output_type": "stream",
     "text": [
      "ex 19:\n"
     ]
    },
    {
     "data": {
      "text/html": [
       "<div class=\"tex2jax_ignore\" style=\"white-space: pre-wrap\">Поставщик <span style=\"padding: 2px; border-radius: 4px; border: 1px solid #ffcdd2; background: #ffebee\">ООО &quot;СВЕТОЧ&quot;<span style=\"vertical-align: middle; margin-left: 2px; font-size: 0.7em; color: #e57373;\">ORG</span></span> <span style=\"padding: 2px; border-radius: 4px; border: 1px solid #ffe0b2; background: #fff3e0\">770468163<span style=\"vertical-align: middle; margin-left: 2px; font-size: 0.7em; color: #ffb74d;\">INNKPP</span></span> Адрес филиала банка <span style=\"padding: 2px; border-radius: 4px; border: 1px solid #c8e6c9; background: #e8f5e9\">АВТОНОМНЫЙ ОКРУГ ХАНТЫ-МАНСИЙСКИЙ АВТОНОМНЫЙ ОКРУГ - ЮГРА ГОРОД НИЖНЕВАРТОВСК УЛИЦА ДРУЖБЫ НАРОДОВ ДОМ 30Б КВАРТИРА 32<span style=\"vertical-align: middle; margin-left: 2px; font-size: 0.7em; color: #66bb6a;\">LOC</span></span> рас. счет <span style=\"padding: 2px; border-radius: 4px; border: 1px solid #d7ccc8; background: #efebe9\">48707222646397544203<span style=\"vertical-align: middle; margin-left: 2px; font-size: 0.7em; color: #a1887f;\">RSKS</span></span> Филиал банка П-щик <span style=\"padding: 2px; border-radius: 4px; border: 1px solid #ffcdd2; background: #ffebee\">Акционерное общество &quot;Роял Кредит Банк&quot;<span style=\"vertical-align: middle; margin-left: 2px; font-size: 0.7em; color: #e57373;\">ORG</span></span></div>"
      ],
      "text/plain": [
       "<IPython.core.display.HTML object>"
      ]
     },
     "metadata": {},
     "output_type": "display_data"
    },
    {
     "name": "stdout",
     "output_type": "stream",
     "text": [
      "ex 20:\n"
     ]
    },
    {
     "data": {
      "text/html": [
       "<div class=\"tex2jax_ignore\" style=\"white-space: pre-wrap\">Генподрядчик <span style=\"padding: 2px; border-radius: 4px; border: 1px solid #ffcdd2; background: #ffebee\">ООО ЮРИДИЧЕСКАЯ КОМПАНИЯ ВЕРДИКТ<span style=\"vertical-align: middle; margin-left: 2px; font-size: 0.7em; color: #e57373;\">ORG</span></span> ИНН КПП П-щик <span style=\"padding: 2px; border-radius: 4px; border: 1px solid #ffe0b2; background: #fff3e0\">616709329<span style=\"vertical-align: middle; margin-left: 2px; font-size: 0.7em; color: #ffb74d;\">INNKPP</span></span> / <span style=\"padding: 2px; border-radius: 4px; border: 1px solid #ffe0b2; background: #fff3e0\">710301001<span style=\"vertical-align: middle; margin-left: 2px; font-size: 0.7em; color: #ffb74d;\">INNKPP</span></span> Банк Поставщик <span style=\"padding: 2px; border-radius: 4px; border: 1px solid #ffcdd2; background: #ffebee\">ООО НКО &quot;Мурманский расчетный центр&quot;<span style=\"vertical-align: middle; margin-left: 2px; font-size: 0.7em; color: #e57373;\">ORG</span></span> <span style=\"padding: 2px; border-radius: 4px; border: 1px solid #d7ccc8; background: #efebe9\">30789793338726743266<span style=\"vertical-align: middle; margin-left: 2px; font-size: 0.7em; color: #a1887f;\">RSKS</span></span> тел. <span style=\"padding: 2px; border-radius: 4px; border: 1px solid #d1c4e9; background: #ede7f6\">8 (335) 552 2658<span style=\"vertical-align: middle; margin-left: 2px; font-size: 0.7em; color: #9575cd;\">STAT</span></span></div>"
      ],
      "text/plain": [
       "<IPython.core.display.HTML object>"
      ]
     },
     "metadata": {},
     "output_type": "display_data"
    },
    {
     "name": "stdout",
     "output_type": "stream",
     "text": [
      "ex 21:\n"
     ]
    },
    {
     "data": {
      "text/html": [
       "<div class=\"tex2jax_ignore\" style=\"white-space: pre-wrap\">Подрядчик <span style=\"padding: 2px; border-radius: 4px; border: 1px solid #ffcdd2; background: #ffebee\">ООО &quot;ЧОО&quot; АЛЕКС &quot;<span style=\"vertical-align: middle; margin-left: 2px; font-size: 0.7em; color: #e57373;\">ORG</span></span><span style=\"padding: 2px; border-radius: 4px; border: 1px solid #ffe0b2; background: #fff3e0\">222504633903<span style=\"vertical-align: middle; margin-left: 2px; font-size: 0.7em; color: #ffb74d;\">INNKPP</span></span> / <span style=\"padding: 2px; border-radius: 4px; border: 1px solid #ffe0b2; background: #fff3e0\">280101001<span style=\"vertical-align: middle; margin-left: 2px; font-size: 0.7em; color: #ffb74d;\">INNKPP</span></span> Банк Подрядчик ИНН КПП Получатель <span style=\"padding: 2px; border-radius: 4px; border: 1px solid #ffe0b2; background: #fff3e0\">165110615303<span style=\"vertical-align: middle; margin-left: 2px; font-size: 0.7em; color: #ffb74d;\">INNKPP</span></span> / <span style=\"padding: 2px; border-radius: 4px; border: 1px solid #ffe0b2; background: #fff3e0\">772901001<span style=\"vertical-align: middle; margin-left: 2px; font-size: 0.7em; color: #ffb74d;\">INNKPP</span></span> <span style=\"padding: 2px; border-radius: 4px; border: 1px solid #d1c4e9; background: #ede7f6\">043826904<span style=\"vertical-align: middle; margin-left: 2px; font-size: 0.7em; color: #9575cd;\">STAT</span></span> Адрес П-щик <span style=\"padding: 2px; border-radius: 4px; border: 1px solid #c8e6c9; background: #e8f5e9\">Ленинградская область<span style=\"vertical-align: middle; margin-left: 2px; font-size: 0.7em; color: #66bb6a;\">LOC</span></span> корр.сч <span style=\"padding: 2px; border-radius: 4px; border: 1px solid #d7ccc8; background: #efebe9\">30115402341147993602<span style=\"vertical-align: middle; margin-left: 2px; font-size: 0.7em; color: #a1887f;\">RSKS</span></span> тел. <span style=\"padding: 2px; border-radius: 4px; border: 1px solid #d1c4e9; background: #ede7f6\">+<span style=\"vertical-align: middle; margin-left: 2px; font-size: 0.7em; color: #9575cd;\">STAT</span></span><span style=\"padding: 2px; border-radius: 4px; border: 1px solid #d1c4e9; background: #ede7f6\">7 (876) 45 33 378<span style=\"vertical-align: middle; margin-left: 2px; font-size: 0.7em; color: #9575cd;\">STAT</span></span></div>"
      ],
      "text/plain": [
       "<IPython.core.display.HTML object>"
      ]
     },
     "metadata": {},
     "output_type": "display_data"
    },
    {
     "name": "stdout",
     "output_type": "stream",
     "text": [
      "ex 22:\n"
     ]
    },
    {
     "data": {
      "text/html": [
       "<div class=\"tex2jax_ignore\" style=\"white-space: pre-wrap\">Исп-тель <span style=\"padding: 2px; border-radius: 4px; border: 1px solid #ffcdd2; background: #ffebee\">Индивидуальный предприниматель Федотова Аракси Арамовна<span style=\"vertical-align: middle; margin-left: 2px; font-size: 0.7em; color: #e57373;\">ORG</span></span> ИНН Субподрядчик <span style=\"padding: 2px; border-radius: 4px; border: 1px solid #ffe0b2; background: #fff3e0\">5503214311<span style=\"vertical-align: middle; margin-left: 2px; font-size: 0.7em; color: #ffb74d;\">INNKPP</span></span> рас <span style=\"padding: 2px; border-radius: 4px; border: 1px solid #d7ccc8; background: #efebe9\">41582042651794700155<span style=\"vertical-align: middle; margin-left: 2px; font-size: 0.7em; color: #a1887f;\">RSKS</span></span> Филиал банка Поставщик <span style=\"padding: 2px; border-radius: 4px; border: 1px solid #ffcdd2; background: #ffebee\">НЕБАНКОВСКАЯ КРЕДИТНАЯ ОРГАНИЗАЦИЯ &quot;ПЕРСПЕКТИВА&quot; (ОБЩЕСТВО С ОГРАНИЧЕННОЙ ОТВЕТСТВЕННОСТЬЮ)<span style=\"vertical-align: middle; margin-left: 2px; font-size: 0.7em; color: #e57373;\">ORG</span></span> БИК <span style=\"padding: 2px; border-radius: 4px; border: 1px solid #d1c4e9; background: #ede7f6\">045322642<span style=\"vertical-align: middle; margin-left: 2px; font-size: 0.7em; color: #9575cd;\">STAT</span></span> <span style=\"padding: 2px; border-radius: 4px; border: 1px solid #c8e6c9; background: #e8f5e9\">КРАЙ КРАСНОЯРСКИЙ РАЙОН УЯРСКИЙ ГОРОД УЯР УЛИЦА ПЛ.РЕВОЛЮЦИИ 15<span style=\"vertical-align: middle; margin-left: 2px; font-size: 0.7em; color: #66bb6a;\">LOC</span></span></div>"
      ],
      "text/plain": [
       "<IPython.core.display.HTML object>"
      ]
     },
     "metadata": {},
     "output_type": "display_data"
    },
    {
     "name": "stdout",
     "output_type": "stream",
     "text": [
      "ex 23:\n"
     ]
    },
    {
     "data": {
      "text/html": [
       "<div class=\"tex2jax_ignore\" style=\"white-space: pre-wrap\">Исполнитель <span style=\"padding: 2px; border-radius: 4px; border: 1px solid #ffcdd2; background: #ffebee\">ООО ЭКСПЕРТНО-ПРАВОВОЕ БЮРО СТОЛИЦА<span style=\"vertical-align: middle; margin-left: 2px; font-size: 0.7em; color: #e57373;\">ORG</span></span> <span style=\"padding: 2px; border-radius: 4px; border: 1px solid #ffe0b2; background: #fff3e0\">773607136393<span style=\"vertical-align: middle; margin-left: 2px; font-size: 0.7em; color: #ffb74d;\">INNKPP</span></span> КПП Плательщик <span style=\"padding: 2px; border-radius: 4px; border: 1px solid #ffe0b2; background: #fff3e0\">772101001<span style=\"vertical-align: middle; margin-left: 2px; font-size: 0.7em; color: #ffb74d;\">INNKPP</span></span> Банк Субподрядчик <span style=\"padding: 2px; border-radius: 4px; border: 1px solid #ffcdd2; background: #ffebee\">НЕБАНКОВСКАЯ КРЕДИТНАЯ ОРГАНИЗАЦИЯ - ЦЕНТРАЛЬНЫЙ КОНТРАГЕНТ &quot;РДК&quot; (АКЦИОНЕРНОЕ ОБЩЕСТВО)<span style=\"vertical-align: middle; margin-left: 2px; font-size: 0.7em; color: #e57373;\">ORG</span></span> <span style=\"padding: 2px; border-radius: 4px; border: 1px solid #c8e6c9; background: #e8f5e9\">445043, ОБЛ. САМАРСКАЯ, Г. Тольятти, Ш. ЮЖНОЕ, ВЛД. 36, ПОМЕЩ. 1 КОМ 22<span style=\"vertical-align: middle; margin-left: 2px; font-size: 0.7em; color: #66bb6a;\">LOC</span></span> корр.сч <span style=\"padding: 2px; border-radius: 4px; border: 1px solid #d7ccc8; background: #efebe9\">30896926757446020701<span style=\"vertical-align: middle; margin-left: 2px; font-size: 0.7em; color: #a1887f;\">RSKS</span></span> тел. <span style=\"padding: 2px; border-radius: 4px; border: 1px solid #d1c4e9; background: #ede7f6\">+<span style=\"vertical-align: middle; margin-left: 2px; font-size: 0.7em; color: #9575cd;\">STAT</span></span><span style=\"padding: 2px; border-radius: 4px; border: 1px solid #d1c4e9; background: #ede7f6\">8<span style=\"vertical-align: middle; margin-left: 2px; font-size: 0.7em; color: #9575cd;\">STAT</span></span><span style=\"padding: 2px; border-radius: 4px; border: 1px solid #d1c4e9; background: #ede7f6\">-<span style=\"vertical-align: middle; margin-left: 2px; font-size: 0.7em; color: #9575cd;\">STAT</span></span><span style=\"padding: 2px; border-radius: 4px; border: 1px solid #d1c4e9; background: #ede7f6\">921<span style=\"vertical-align: middle; margin-left: 2px; font-size: 0.7em; color: #9575cd;\">STAT</span></span><span style=\"padding: 2px; border-radius: 4px; border: 1px solid #d1c4e9; background: #ede7f6\">-<span style=\"vertical-align: middle; margin-left: 2px; font-size: 0.7em; color: #9575cd;\">STAT</span></span><span style=\"padding: 2px; border-radius: 4px; border: 1px solid #d1c4e9; background: #ede7f6\">018<span style=\"vertical-align: middle; margin-left: 2px; font-size: 0.7em; color: #9575cd;\">STAT</span></span><span style=\"padding: 2px; border-radius: 4px; border: 1px solid #d1c4e9; background: #ede7f6\">-<span style=\"vertical-align: middle; margin-left: 2px; font-size: 0.7em; color: #9575cd;\">STAT</span></span>1855</div>"
      ],
      "text/plain": [
       "<IPython.core.display.HTML object>"
      ]
     },
     "metadata": {},
     "output_type": "display_data"
    },
    {
     "name": "stdout",
     "output_type": "stream",
     "text": [
      "ex 24:\n"
     ]
    },
    {
     "data": {
      "text/html": [
       "<div class=\"tex2jax_ignore\" style=\"white-space: pre-wrap\">Плательщик <span style=\"padding: 2px; border-radius: 4px; border: 1px solid #ffcdd2; background: #ffebee\">ИП Большанина Елена Сергеевна<span style=\"vertical-align: middle; margin-left: 2px; font-size: 0.7em; color: #e57373;\">ORG</span></span> ИНН КПП Исполнитель <span style=\"padding: 2px; border-radius: 4px; border: 1px solid #ffe0b2; background: #fff3e0\">770850066<span style=\"vertical-align: middle; margin-left: 2px; font-size: 0.7em; color: #ffb74d;\">INNKPP</span></span> / <span style=\"padding: 2px; border-radius: 4px; border: 1px solid #ffe0b2; background: #fff3e0\">781101001<span style=\"vertical-align: middle; margin-left: 2px; font-size: 0.7em; color: #ffb74d;\">INNKPP</span></span> <span style=\"padding: 2px; border-radius: 4px; border: 1px solid #c8e6c9; background: #e8f5e9\">РЕСПУБЛИКА ТАТАРСТАН ГОРОД КАЗАНЬ УЛИЦА ШАЛЯПИНА 41А<span style=\"vertical-align: middle; margin-left: 2px; font-size: 0.7em; color: #66bb6a;\">LOC</span></span> Филиал банка Генподрядчик <span style=\"padding: 2px; border-radius: 4px; border: 1px solid #ffcdd2; background: #ffebee\">открытое акционерное общество &quot;Акционерный Сибирский Нефтяной банк&quot;<span style=\"vertical-align: middle; margin-left: 2px; font-size: 0.7em; color: #e57373;\">ORG</span></span> тел. <span style=\"padding: 2px; border-radius: 4px; border: 1px solid #d1c4e9; background: #ede7f6\">+<span style=\"vertical-align: middle; margin-left: 2px; font-size: 0.7em; color: #9575cd;\">STAT</span></span><span style=\"padding: 2px; border-radius: 4px; border: 1px solid #d1c4e9; background: #ede7f6\">7 (989) 63 68 650<span style=\"vertical-align: middle; margin-left: 2px; font-size: 0.7em; color: #9575cd;\">STAT</span></span> <span style=\"padding: 2px; border-radius: 4px; border: 1px solid #d7ccc8; background: #efebe9\">30820549996356894782<span style=\"vertical-align: middle; margin-left: 2px; font-size: 0.7em; color: #a1887f;\">RSKS</span></span></div>"
      ],
      "text/plain": [
       "<IPython.core.display.HTML object>"
      ]
     },
     "metadata": {},
     "output_type": "display_data"
    },
    {
     "name": "stdout",
     "output_type": "stream",
     "text": [
      "ex 25:\n"
     ]
    },
    {
     "data": {
      "text/html": [
       "<div class=\"tex2jax_ignore\" style=\"white-space: pre-wrap\">Зак-чик <span style=\"padding: 2px; border-radius: 4px; border: 1px solid #ffcdd2; background: #ffebee\">ОБЩЕСТВО С ОГРАНИЧЕННОЙ ОТВЕТСТВЕННОСТЬЮ &quot;АГРОПАРК-ОЛЬХОН&quot;<span style=\"vertical-align: middle; margin-left: 2px; font-size: 0.7em; color: #e57373;\">ORG</span></span> <span style=\"padding: 2px; border-radius: 4px; border: 1px solid #ffe0b2; background: #fff3e0\">5254480913<span style=\"vertical-align: middle; margin-left: 2px; font-size: 0.7em; color: #ffb74d;\">INNKPP</span></span> <span style=\"padding: 2px; border-radius: 4px; border: 1px solid #d7ccc8; background: #efebe9\">42359351947698190665<span style=\"vertical-align: middle; margin-left: 2px; font-size: 0.7em; color: #a1887f;\">RSKS</span></span> Филиал банка Зак-чик <span style=\"padding: 2px; border-radius: 4px; border: 1px solid #ffcdd2; background: #ffebee\">Небанковская кредитная организация &quot;Единая Расчетная Палата&quot; (Общество с ограниченной ответственностью)<span style=\"vertical-align: middle; margin-left: 2px; font-size: 0.7em; color: #e57373;\">ORG</span></span> <span style=\"padding: 2px; border-radius: 4px; border: 1px solid #d1c4e9; background: #ede7f6\">040874100<span style=\"vertical-align: middle; margin-left: 2px; font-size: 0.7em; color: #9575cd;\">STAT</span></span> <span style=\"padding: 2px; border-radius: 4px; border: 1px solid #c8e6c9; background: #e8f5e9\">ОБЛАСТЬ ВОЛГОГРАДСКАЯ РАЙОН ГОРОДИЩЕНСКИЙ РАБОЧИЙ ПОСЕЛОК ГОРОДИЩЕ УЛИЦА ДОРОЖНИКОВ 1 &quot;Г&quot;<span style=\"vertical-align: middle; margin-left: 2px; font-size: 0.7em; color: #66bb6a;\">LOC</span></span></div>"
      ],
      "text/plain": [
       "<IPython.core.display.HTML object>"
      ]
     },
     "metadata": {},
     "output_type": "display_data"
    },
    {
     "name": "stdout",
     "output_type": "stream",
     "text": [
      "ex 26:\n"
     ]
    },
    {
     "data": {
      "text/html": [
       "<div class=\"tex2jax_ignore\" style=\"white-space: pre-wrap\">Подрядчик <span style=\"padding: 2px; border-radius: 4px; border: 1px solid #ffcdd2; background: #ffebee\">Индивидуальный предприниматель Оруджиева Латифа Чобан-Кызы<span style=\"vertical-align: middle; margin-left: 2px; font-size: 0.7em; color: #e57373;\">ORG</span></span> <span style=\"padding: 2px; border-radius: 4px; border: 1px solid #ffe0b2; background: #fff3e0\">6710004603<span style=\"vertical-align: middle; margin-left: 2px; font-size: 0.7em; color: #ffb74d;\">INNKPP</span></span> / Банк Покупатель ФИЛИАЛ <span style=\"padding: 2px; border-radius: 4px; border: 1px solid #ffcdd2; background: #ffebee\">БАНК &quot;НАВИГАТОР&quot; (ОАО)<span style=\"vertical-align: middle; margin-left: 2px; font-size: 0.7em; color: #e57373;\">ORG</span></span> тел. <span style=\"padding: 2px; border-radius: 4px; border: 1px solid #d1c4e9; background: #ede7f6\">+<span style=\"vertical-align: middle; margin-left: 2px; font-size: 0.7em; color: #9575cd;\">STAT</span></span><span style=\"padding: 2px; border-radius: 4px; border: 1px solid #d1c4e9; background: #ede7f6\">7 (857) 450 77 87<span style=\"vertical-align: middle; margin-left: 2px; font-size: 0.7em; color: #9575cd;\">STAT</span></span> тел. <span style=\"padding: 2px; border-radius: 4px; border: 1px solid #d1c4e9; background: #ede7f6\">8<span style=\"vertical-align: middle; margin-left: 2px; font-size: 0.7em; color: #9575cd;\">STAT</span></span><span style=\"padding: 2px; border-radius: 4px; border: 1px solid #d1c4e9; background: #ede7f6\">-<span style=\"vertical-align: middle; margin-left: 2px; font-size: 0.7em; color: #9575cd;\">STAT</span></span><span style=\"padding: 2px; border-radius: 4px; border: 1px solid #d1c4e9; background: #ede7f6\">990<span style=\"vertical-align: middle; margin-left: 2px; font-size: 0.7em; color: #9575cd;\">STAT</span></span><span style=\"padding: 2px; border-radius: 4px; border: 1px solid #d1c4e9; background: #ede7f6\">-<span style=\"vertical-align: middle; margin-left: 2px; font-size: 0.7em; color: #9575cd;\">STAT</span></span><span style=\"padding: 2px; border-radius: 4px; border: 1px solid #d1c4e9; background: #ede7f6\">909<span style=\"vertical-align: middle; margin-left: 2px; font-size: 0.7em; color: #9575cd;\">STAT</span></span><span style=\"padding: 2px; border-radius: 4px; border: 1px solid #d1c4e9; background: #ede7f6\">-<span style=\"vertical-align: middle; margin-left: 2px; font-size: 0.7em; color: #9575cd;\">STAT</span></span><span style=\"padding: 2px; border-radius: 4px; border: 1px solid #d1c4e9; background: #ede7f6\">81<span style=\"vertical-align: middle; margin-left: 2px; font-size: 0.7em; color: #9575cd;\">STAT</span></span><span style=\"padding: 2px; border-radius: 4px; border: 1px solid #d1c4e9; background: #ede7f6\">-<span style=\"vertical-align: middle; margin-left: 2px; font-size: 0.7em; color: #9575cd;\">STAT</span></span>05</div>"
      ],
      "text/plain": [
       "<IPython.core.display.HTML object>"
      ]
     },
     "metadata": {},
     "output_type": "display_data"
    },
    {
     "name": "stdout",
     "output_type": "stream",
     "text": [
      "ex 27:\n"
     ]
    },
    {
     "data": {
      "text/html": [
       "<div class=\"tex2jax_ignore\" style=\"white-space: pre-wrap\">Инвестор <span style=\"padding: 2px; border-radius: 4px; border: 1px solid #ffcdd2; background: #ffebee\">ИП Дмитрюкова Лариса Александровна<span style=\"vertical-align: middle; margin-left: 2px; font-size: 0.7em; color: #e57373;\">ORG</span></span> Филиал банка <span style=\"padding: 2px; border-radius: 4px; border: 1px solid #ffcdd2; background: #ffebee\">ОТКРЫТОЕ АКЦИОНЕРНОЕ ОБЩЕСТВО СЕВЕРО-ЗАПАДНЫЙ АКЦИОНЕРНЫЙ КОММЕРЧЕСКИЙ БАНК &quot;КАРТЕЛЬБАНК&quot;<span style=\"vertical-align: middle; margin-left: 2px; font-size: 0.7em; color: #e57373;\">ORG</span></span> кор/счет <span style=\"padding: 2px; border-radius: 4px; border: 1px solid #d7ccc8; background: #efebe9\">30063591382544590349<span style=\"vertical-align: middle; margin-left: 2px; font-size: 0.7em; color: #a1887f;\">RSKS</span></span> тел. <span style=\"padding: 2px; border-radius: 4px; border: 1px solid #d1c4e9; background: #ede7f6\">+<span style=\"vertical-align: middle; margin-left: 2px; font-size: 0.7em; color: #9575cd;\">STAT</span></span><span style=\"padding: 2px; border-radius: 4px; border: 1px solid #d1c4e9; background: #ede7f6\">8 962 922 82 30<span style=\"vertical-align: middle; margin-left: 2px; font-size: 0.7em; color: #9575cd;\">STAT</span></span></div>"
      ],
      "text/plain": [
       "<IPython.core.display.HTML object>"
      ]
     },
     "metadata": {},
     "output_type": "display_data"
    },
    {
     "name": "stdout",
     "output_type": "stream",
     "text": [
      "ex 28:\n"
     ]
    },
    {
     "data": {
      "text/html": [
       "<div class=\"tex2jax_ignore\" style=\"white-space: pre-wrap\">Инвестор <span style=\"padding: 2px; border-radius: 4px; border: 1px solid #ffcdd2; background: #ffebee\">ООО РУССКИЕ ПЕЛЬМЕНИ<span style=\"vertical-align: middle; margin-left: 2px; font-size: 0.7em; color: #e57373;\">ORG</span></span> <span style=\"padding: 2px; border-radius: 4px; border: 1px solid #ffe0b2; background: #fff3e0\">771086167<span style=\"vertical-align: middle; margin-left: 2px; font-size: 0.7em; color: #ffb74d;\">INNKPP</span></span> / <span style=\"padding: 2px; border-radius: 4px; border: 1px solid #ffe0b2; background: #fff3e0\">771501001<span style=\"vertical-align: middle; margin-left: 2px; font-size: 0.7em; color: #ffb74d;\">INNKPP</span></span> Филиал банка Подрядчик <span style=\"padding: 2px; border-radius: 4px; border: 1px solid #ffcdd2; background: #ffebee\">АКЦИОНЕРНОЕ ОБЩЕСТВО &quot;РН БАНК&quot;<span style=\"vertical-align: middle; margin-left: 2px; font-size: 0.7em; color: #e57373;\">ORG</span></span> Адрес банка <span style=\"padding: 2px; border-radius: 4px; border: 1px solid #c8e6c9; background: #e8f5e9\">125183, г Москва, р-н Коптево, ул Большая Академическая, д 81 стр 1<span style=\"vertical-align: middle; margin-left: 2px; font-size: 0.7em; color: #66bb6a;\">LOC</span></span> корр. счет <span style=\"padding: 2px; border-radius: 4px; border: 1px solid #d7ccc8; background: #efebe9\">30682466248763841497<span style=\"vertical-align: middle; margin-left: 2px; font-size: 0.7em; color: #a1887f;\">RSKS</span></span> тел. <span style=\"padding: 2px; border-radius: 4px; border: 1px solid #d1c4e9; background: #ede7f6\">+<span style=\"vertical-align: middle; margin-left: 2px; font-size: 0.7em; color: #9575cd;\">STAT</span></span><span style=\"padding: 2px; border-radius: 4px; border: 1px solid #d1c4e9; background: #ede7f6\">8 (970) 4083599<span style=\"vertical-align: middle; margin-left: 2px; font-size: 0.7em; color: #9575cd;\">STAT</span></span> тел. <span style=\"padding: 2px; border-radius: 4px; border: 1px solid #d1c4e9; background: #ede7f6\">7<span style=\"vertical-align: middle; margin-left: 2px; font-size: 0.7em; color: #9575cd;\">STAT</span></span><span style=\"padding: 2px; border-radius: 4px; border: 1px solid #d1c4e9; background: #ede7f6\">-<span style=\"vertical-align: middle; margin-left: 2px; font-size: 0.7em; color: #9575cd;\">STAT</span></span><span style=\"padding: 2px; border-radius: 4px; border: 1px solid #d1c4e9; background: #ede7f6\">385<span style=\"vertical-align: middle; margin-left: 2px; font-size: 0.7em; color: #9575cd;\">STAT</span></span><span style=\"padding: 2px; border-radius: 4px; border: 1px solid #d1c4e9; background: #ede7f6\">-<span style=\"vertical-align: middle; margin-left: 2px; font-size: 0.7em; color: #9575cd;\">STAT</span></span>8999382</div>"
      ],
      "text/plain": [
       "<IPython.core.display.HTML object>"
      ]
     },
     "metadata": {},
     "output_type": "display_data"
    },
    {
     "name": "stdout",
     "output_type": "stream",
     "text": [
      "ex 29:\n"
     ]
    },
    {
     "data": {
      "text/html": [
       "<div class=\"tex2jax_ignore\" style=\"white-space: pre-wrap\">З-чик <span style=\"padding: 2px; border-radius: 4px; border: 1px solid #ffcdd2; background: #ffebee\">ООО НОВОСТРОЙ<span style=\"vertical-align: middle; margin-left: 2px; font-size: 0.7em; color: #e57373;\">ORG</span></span> <span style=\"padding: 2px; border-radius: 4px; border: 1px solid #ffe0b2; background: #fff3e0\">1658034635<span style=\"vertical-align: middle; margin-left: 2px; font-size: 0.7em; color: #ffb74d;\">INNKPP</span></span> КПП <span style=\"padding: 2px; border-radius: 4px; border: 1px solid #ffe0b2; background: #fff3e0\">668501001<span style=\"vertical-align: middle; margin-left: 2px; font-size: 0.7em; color: #ffb74d;\">INNKPP</span></span> Адрес банка Подрядчик <span style=\"padding: 2px; border-radius: 4px; border: 1px solid #c8e6c9; background: #e8f5e9\">ОБЛАСТЬ ЯРОСЛАВСКАЯ РАЙОН РЫБИНСКИЙ СЕЛО ПОГОРЕЛКА (ПОГОРЕЛЬСКАЯ С/А) УЛИЦА ЦЕНТРАЛЬНАЯ 3<span style=\"vertical-align: middle; margin-left: 2px; font-size: 0.7em; color: #66bb6a;\">LOC</span></span> БИК Банка <span style=\"padding: 2px; border-radius: 4px; border: 1px solid #d1c4e9; background: #ede7f6\">045254101<span style=\"vertical-align: middle; margin-left: 2px; font-size: 0.7em; color: #9575cd;\">STAT</span></span> рас <span style=\"padding: 2px; border-radius: 4px; border: 1px solid #d7ccc8; background: #efebe9\">46134046048312539912<span style=\"vertical-align: middle; margin-left: 2px; font-size: 0.7em; color: #a1887f;\">RSKS</span></span> <span style=\"padding: 2px; border-radius: 4px; border: 1px solid #d7ccc8; background: #efebe9\">30662121256896521160<span style=\"vertical-align: middle; margin-left: 2px; font-size: 0.7em; color: #a1887f;\">RSKS</span></span> тел. <span style=\"padding: 2px; border-radius: 4px; border: 1px solid #d1c4e9; background: #ede7f6\">8<span style=\"vertical-align: middle; margin-left: 2px; font-size: 0.7em; color: #9575cd;\">STAT</span></span><span style=\"padding: 2px; border-radius: 4px; border: 1px solid #d1c4e9; background: #ede7f6\">-<span style=\"vertical-align: middle; margin-left: 2px; font-size: 0.7em; color: #9575cd;\">STAT</span></span><span style=\"padding: 2px; border-radius: 4px; border: 1px solid #d1c4e9; background: #ede7f6\">949<span style=\"vertical-align: middle; margin-left: 2px; font-size: 0.7em; color: #9575cd;\">STAT</span></span><span style=\"padding: 2px; border-radius: 4px; border: 1px solid #d1c4e9; background: #ede7f6\">-<span style=\"vertical-align: middle; margin-left: 2px; font-size: 0.7em; color: #9575cd;\">STAT</span></span><span style=\"padding: 2px; border-radius: 4px; border: 1px solid #d1c4e9; background: #ede7f6\">793<span style=\"vertical-align: middle; margin-left: 2px; font-size: 0.7em; color: #9575cd;\">STAT</span></span><span style=\"padding: 2px; border-radius: 4px; border: 1px solid #d1c4e9; background: #ede7f6\">-<span style=\"vertical-align: middle; margin-left: 2px; font-size: 0.7em; color: #9575cd;\">STAT</span></span><span style=\"padding: 2px; border-radius: 4px; border: 1px solid #d1c4e9; background: #ede7f6\">38<span style=\"vertical-align: middle; margin-left: 2px; font-size: 0.7em; color: #9575cd;\">STAT</span></span><span style=\"padding: 2px; border-radius: 4px; border: 1px solid #d1c4e9; background: #ede7f6\">-<span style=\"vertical-align: middle; margin-left: 2px; font-size: 0.7em; color: #9575cd;\">STAT</span></span>94</div>"
      ],
      "text/plain": [
       "<IPython.core.display.HTML object>"
      ]
     },
     "metadata": {},
     "output_type": "display_data"
    },
    {
     "name": "stdout",
     "output_type": "stream",
     "text": [
      "ex 30:\n"
     ]
    },
    {
     "data": {
      "text/html": [
       "<div class=\"tex2jax_ignore\" style=\"white-space: pre-wrap\">Получатель <span style=\"padding: 2px; border-radius: 4px; border: 1px solid #ffcdd2; background: #ffebee\">ИП Васютина Ольга Ивановна<span style=\"vertical-align: middle; margin-left: 2px; font-size: 0.7em; color: #e57373;\">ORG</span></span> рас. счет <span style=\"padding: 2px; border-radius: 4px; border: 1px solid #d7ccc8; background: #efebe9\">42384909009287742144<span style=\"vertical-align: middle; margin-left: 2px; font-size: 0.7em; color: #a1887f;\">RSKS</span></span> Банк Плательщик <span style=\"padding: 2px; border-radius: 4px; border: 1px solid #ffcdd2; background: #ffebee\">АО &quot;КАБ&quot; Викинг &quot;<span style=\"vertical-align: middle; margin-left: 2px; font-size: 0.7em; color: #e57373;\">ORG</span></span>тел. <span style=\"padding: 2px; border-radius: 4px; border: 1px solid #d1c4e9; background: #ede7f6\">+<span style=\"vertical-align: middle; margin-left: 2px; font-size: 0.7em; color: #9575cd;\">STAT</span></span><span style=\"padding: 2px; border-radius: 4px; border: 1px solid #d1c4e9; background: #ede7f6\">7 (874) 405 38 88<span style=\"vertical-align: middle; margin-left: 2px; font-size: 0.7em; color: #9575cd;\">STAT</span></span></div>"
      ],
      "text/plain": [
       "<IPython.core.display.HTML object>"
      ]
     },
     "metadata": {},
     "output_type": "display_data"
    },
    {
     "name": "stdout",
     "output_type": "stream",
     "text": [
      "ex 31:\n"
     ]
    },
    {
     "data": {
      "text/html": [
       "<div class=\"tex2jax_ignore\" style=\"white-space: pre-wrap\">Исп-тель <span style=\"padding: 2px; border-radius: 4px; border: 1px solid #ffcdd2; background: #ffebee\">ООО &quot;ТРАНСНЕФТЬ - СЕРВИС&quot;<span style=\"vertical-align: middle; margin-left: 2px; font-size: 0.7em; color: #e57373;\">ORG</span></span> <span style=\"padding: 2px; border-radius: 4px; border: 1px solid #ffe0b2; background: #fff3e0\">42170887205<span style=\"vertical-align: middle; margin-left: 2px; font-size: 0.7em; color: #ffb74d;\">INNKPP</span></span></div>"
      ],
      "text/plain": [
       "<IPython.core.display.HTML object>"
      ]
     },
     "metadata": {},
     "output_type": "display_data"
    },
    {
     "name": "stdout",
     "output_type": "stream",
     "text": [
      "ex 32:\n"
     ]
    },
    {
     "data": {
      "text/html": [
       "<div class=\"tex2jax_ignore\" style=\"white-space: pre-wrap\">Покупатель <span style=\"padding: 2px; border-radius: 4px; border: 1px solid #ffcdd2; background: #ffebee\">ООО РОКВУЛ-УРАЛ<span style=\"vertical-align: middle; margin-left: 2px; font-size: 0.7em; color: #e57373;\">ORG</span></span> Адрес банка Подрядчик <span style=\"padding: 2px; border-radius: 4px; border: 1px solid #c8e6c9; background: #e8f5e9\">171205, Тверская обл, Лихославльский р-н, пгт Калашниково, ул Ленина, д 45<span style=\"vertical-align: middle; margin-left: 2px; font-size: 0.7em; color: #66bb6a;\">LOC</span></span> р. счет <span style=\"padding: 2px; border-radius: 4px; border: 1px solid #d7ccc8; background: #efebe9\">40550831996562428004<span style=\"vertical-align: middle; margin-left: 2px; font-size: 0.7em; color: #a1887f;\">RSKS</span></span> Филиал банка Покупатель <span style=\"padding: 2px; border-radius: 4px; border: 1px solid #ffcdd2; background: #ffebee\">ОБЩЕСТВО С ОГРАНИЧЕННОЙ ОТВЕТСТВЕННОСТЬЮ &quot;ХОУМ КРЕДИТ ЭНД ФИНАНС БАНК&quot;<span style=\"vertical-align: middle; margin-left: 2px; font-size: 0.7em; color: #e57373;\">ORG</span></span> <span style=\"padding: 2px; border-radius: 4px; border: 1px solid #d1c4e9; background: #ede7f6\">042693942<span style=\"vertical-align: middle; margin-left: 2px; font-size: 0.7em; color: #9575cd;\">STAT</span></span> корр./счет <span style=\"padding: 2px; border-radius: 4px; border: 1px solid #d7ccc8; background: #efebe9\">30508331317094269717<span style=\"vertical-align: middle; margin-left: 2px; font-size: 0.7em; color: #a1887f;\">RSKS</span></span></div>"
      ],
      "text/plain": [
       "<IPython.core.display.HTML object>"
      ]
     },
     "metadata": {},
     "output_type": "display_data"
    },
    {
     "name": "stdout",
     "output_type": "stream",
     "text": [
      "ex 33:\n"
     ]
    },
    {
     "data": {
      "text/html": [
       "<div class=\"tex2jax_ignore\" style=\"white-space: pre-wrap\"><span style=\"padding: 2px; border-radius: 4px; border: 1px solid #ffcdd2; background: #ffebee\">ФИЛИАЛ &quot;КАМЧАТСКИЙ&quot; АКЦИОНЕРНОГО ОБЩЕСТВА &quot;ОБОРОНЭНЕРГО&quot;<span style=\"vertical-align: middle; margin-left: 2px; font-size: 0.7em; color: #e57373;\">ORG</span></span> <span style=\"padding: 2px; border-radius: 4px; border: 1px solid #ffe0b2; background: #fff3e0\">770501745537<span style=\"vertical-align: middle; margin-left: 2px; font-size: 0.7em; color: #ffb74d;\">INNKPP</span></span> / <span style=\"padding: 2px; border-radius: 4px; border: 1px solid #ffe0b2; background: #fff3e0\">770201001<span style=\"vertical-align: middle; margin-left: 2px; font-size: 0.7em; color: #ffb74d;\">INNKPP</span></span> банк <span style=\"padding: 2px; border-radius: 4px; border: 1px solid #ffcdd2; background: #ffebee\">МЕЖДУНАРОДНЫЙ КОММЕРЧЕСКИЙ ИНВЕСТИЦИОННЫЙ БАНК &quot;РОССИТА-БАНК&quot; ОБЩЕСТВО С ОГРАНИЧЕННОЙ ОТВЕТСТВЕННОСТЬЮ<span style=\"vertical-align: middle; margin-left: 2px; font-size: 0.7em; color: #e57373;\">ORG</span></span> Адрес Поставщик <span style=\"padding: 2px; border-radius: 4px; border: 1px solid #c8e6c9; background: #e8f5e9\">652600, Кемеровская область - Кузбасс, г Белово<span style=\"vertical-align: middle; margin-left: 2px; font-size: 0.7em; color: #66bb6a;\">LOC</span></span> к/с <span style=\"padding: 2px; border-radius: 4px; border: 1px solid #d7ccc8; background: #efebe9\">30468815588639679691<span style=\"vertical-align: middle; margin-left: 2px; font-size: 0.7em; color: #a1887f;\">RSKS</span></span> тел. <span style=\"padding: 2px; border-radius: 4px; border: 1px solid #d1c4e9; background: #ede7f6\">7 (984) 436 3024<span style=\"vertical-align: middle; margin-left: 2px; font-size: 0.7em; color: #9575cd;\">STAT</span></span> тел. <span style=\"padding: 2px; border-radius: 4px; border: 1px solid #d1c4e9; background: #ede7f6\">+<span style=\"vertical-align: middle; margin-left: 2px; font-size: 0.7em; color: #9575cd;\">STAT</span></span><span style=\"padding: 2px; border-radius: 4px; border: 1px solid #d1c4e9; background: #ede7f6\">7 (959) 8887304<span style=\"vertical-align: middle; margin-left: 2px; font-size: 0.7em; color: #9575cd;\">STAT</span></span></div>"
      ],
      "text/plain": [
       "<IPython.core.display.HTML object>"
      ]
     },
     "metadata": {},
     "output_type": "display_data"
    },
    {
     "name": "stdout",
     "output_type": "stream",
     "text": [
      "ex 34:\n"
     ]
    },
    {
     "data": {
      "text/html": [
       "<div class=\"tex2jax_ignore\" style=\"white-space: pre-wrap\"><span style=\"padding: 2px; border-radius: 4px; border: 1px solid #ffcdd2; background: #ffebee\">ООО АНТ-СОФТ<span style=\"vertical-align: middle; margin-left: 2px; font-size: 0.7em; color: #e57373;\">ORG</span></span> ИНН/КПП <span style=\"padding: 2px; border-radius: 4px; border: 1px solid #ffe0b2; background: #fff3e0\">3911800906<span style=\"vertical-align: middle; margin-left: 2px; font-size: 0.7em; color: #ffb74d;\">INNKPP</span></span> / <span style=\"padding: 2px; border-radius: 4px; border: 1px solid #ffe0b2; background: #fff3e0\">431201001<span style=\"vertical-align: middle; margin-left: 2px; font-size: 0.7em; color: #ffb74d;\">INNKPP</span></span> Банк ИНН КПП <span style=\"padding: 2px; border-radius: 4px; border: 1px solid #ffe0b2; background: #fff3e0\">5519504954<span style=\"vertical-align: middle; margin-left: 2px; font-size: 0.7em; color: #ffb74d;\">INNKPP</span></span> / тел. <span style=\"padding: 2px; border-radius: 4px; border: 1px solid #d1c4e9; background: #ede7f6\">+<span style=\"vertical-align: middle; margin-left: 2px; font-size: 0.7em; color: #9575cd;\">STAT</span></span><span style=\"padding: 2px; border-radius: 4px; border: 1px solid #d1c4e9; background: #ede7f6\">8<span style=\"vertical-align: middle; margin-left: 2px; font-size: 0.7em; color: #9575cd;\">STAT</span></span><span style=\"padding: 2px; border-radius: 4px; border: 1px solid #d1c4e9; background: #ede7f6\">-<span style=\"vertical-align: middle; margin-left: 2px; font-size: 0.7em; color: #9575cd;\">STAT</span></span><span style=\"padding: 2px; border-radius: 4px; border: 1px solid #d1c4e9; background: #ede7f6\">( 873) -958-9191<span style=\"vertical-align: middle; margin-left: 2px; font-size: 0.7em; color: #9575cd;\">STAT</span></span> БИК <span style=\"padding: 2px; border-radius: 4px; border: 1px solid #d1c4e9; background: #ede7f6\">042306734<span style=\"vertical-align: middle; margin-left: 2px; font-size: 0.7em; color: #9575cd;\">STAT</span></span></div>"
      ],
      "text/plain": [
       "<IPython.core.display.HTML object>"
      ]
     },
     "metadata": {},
     "output_type": "display_data"
    },
    {
     "name": "stdout",
     "output_type": "stream",
     "text": [
      "ex 35:\n"
     ]
    },
    {
     "data": {
      "text/html": [
       "<div class=\"tex2jax_ignore\" style=\"white-space: pre-wrap\">З-чик <span style=\"padding: 2px; border-radius: 4px; border: 1px solid #ffcdd2; background: #ffebee\">АО ПРОИЗВОДСТВЕННАЯ КОМПАНИЯ СТАНКОПРЕСС<span style=\"vertical-align: middle; margin-left: 2px; font-size: 0.7em; color: #e57373;\">ORG</span></span> ИНН Покупатель <span style=\"padding: 2px; border-radius: 4px; border: 1px solid #ffe0b2; background: #fff3e0\">770856524<span style=\"vertical-align: middle; margin-left: 2px; font-size: 0.7em; color: #ffb74d;\">INNKPP</span></span> <span style=\"padding: 2px; border-radius: 4px; border: 1px solid #c8e6c9; background: #e8f5e9\">ОБЛАСТЬ АМУРСКАЯ ГОРОД БЛАГОВЕЩЕНСК УЛИЦА ЛЕНИНА 181<span style=\"vertical-align: middle; margin-left: 2px; font-size: 0.7em; color: #66bb6a;\">LOC</span></span> Банк Подрядчик <span style=\"padding: 2px; border-radius: 4px; border: 1px solid #ffcdd2; background: #ffebee\">КБ &quot;Русский ипотечный банк&quot; (ООО)<span style=\"vertical-align: middle; margin-left: 2px; font-size: 0.7em; color: #e57373;\">ORG</span></span> тел. <span style=\"padding: 2px; border-radius: 4px; border: 1px solid #d1c4e9; background: #ede7f6\">+<span style=\"vertical-align: middle; margin-left: 2px; font-size: 0.7em; color: #9575cd;\">STAT</span></span><span style=\"padding: 2px; border-radius: 4px; border: 1px solid #d1c4e9; background: #ede7f6\">7 (982) 099 40<span style=\"vertical-align: middle; margin-left: 2px; font-size: 0.7em; color: #9575cd;\">STAT</span></span> <span style=\"padding: 2px; border-radius: 4px; border: 1px solid #d1c4e9; background: #ede7f6\">08<span style=\"vertical-align: middle; margin-left: 2px; font-size: 0.7em; color: #9575cd;\">STAT</span></span> 045402896</div>"
      ],
      "text/plain": [
       "<IPython.core.display.HTML object>"
      ]
     },
     "metadata": {},
     "output_type": "display_data"
    },
    {
     "name": "stdout",
     "output_type": "stream",
     "text": [
      "ex 36:\n"
     ]
    },
    {
     "data": {
      "text/html": [
       "<div class=\"tex2jax_ignore\" style=\"white-space: pre-wrap\">Плательщик <span style=\"padding: 2px; border-radius: 4px; border: 1px solid #ffcdd2; background: #ffebee\">ООО ЦЕНТР НПН<span style=\"vertical-align: middle; margin-left: 2px; font-size: 0.7em; color: #e57373;\">ORG</span></span> ИНН Подрядчик <span style=\"padding: 2px; border-radius: 4px; border: 1px solid #ffe0b2; background: #fff3e0\">6646011216<span style=\"vertical-align: middle; margin-left: 2px; font-size: 0.7em; color: #ffb74d;\">INNKPP</span></span> <span style=\"padding: 2px; border-radius: 4px; border: 1px solid #c8e6c9; background: #e8f5e9\">414000, Астраханская обл, г Астрахань<span style=\"vertical-align: middle; margin-left: 2px; font-size: 0.7em; color: #66bb6a;\">LOC</span></span> <span style=\"padding: 2px; border-radius: 4px; border: 1px solid #d7ccc8; background: #efebe9\">49055865210431613595<span style=\"vertical-align: middle; margin-left: 2px; font-size: 0.7em; color: #a1887f;\">RSKS</span></span> Банк <span style=\"padding: 2px; border-radius: 4px; border: 1px solid #ffcdd2; background: #ffebee\">ОБЩЕСТВО С ОГРАНИЧЕННОЙ ОТВЕТСТВЕННОСТЬЮ &quot;АМТ БАНК&quot;<span style=\"vertical-align: middle; margin-left: 2px; font-size: 0.7em; color: #e57373;\">ORG</span></span> БИК Банка <span style=\"padding: 2px; border-radius: 4px; border: 1px solid #d1c4e9; background: #ede7f6\">046556301<span style=\"vertical-align: middle; margin-left: 2px; font-size: 0.7em; color: #9575cd;\">STAT</span></span> тел. <span style=\"padding: 2px; border-radius: 4px; border: 1px solid #d1c4e9; background: #ede7f6\">8<span style=\"vertical-align: middle; margin-left: 2px; font-size: 0.7em; color: #9575cd;\">STAT</span></span><span style=\"padding: 2px; border-radius: 4px; border: 1px solid #d1c4e9; background: #ede7f6\">-<span style=\"vertical-align: middle; margin-left: 2px; font-size: 0.7em; color: #9575cd;\">STAT</span></span><span style=\"padding: 2px; border-radius: 4px; border: 1px solid #d1c4e9; background: #ede7f6\">( 971) -5157399<span style=\"vertical-align: middle; margin-left: 2px; font-size: 0.7em; color: #9575cd;\">STAT</span></span></div>"
      ],
      "text/plain": [
       "<IPython.core.display.HTML object>"
      ]
     },
     "metadata": {},
     "output_type": "display_data"
    },
    {
     "name": "stdout",
     "output_type": "stream",
     "text": [
      "ex 37:\n"
     ]
    },
    {
     "data": {
      "text/html": [
       "<div class=\"tex2jax_ignore\" style=\"white-space: pre-wrap\"><span style=\"padding: 2px; border-radius: 4px; border: 1px solid #ffcdd2; background: #ffebee\">ОБЩЕСТВО С ОГРАНИЧЕННОЙ ОТВЕТСТВЕННОСТЬЮ &quot;МАКТЕЛ&quot;<span style=\"vertical-align: middle; margin-left: 2px; font-size: 0.7em; color: #e57373;\">ORG</span></span> ИНН П-щик <span style=\"padding: 2px; border-radius: 4px; border: 1px solid #ffe0b2; background: #fff3e0\">6330058874<span style=\"vertical-align: middle; margin-left: 2px; font-size: 0.7em; color: #ffb74d;\">INNKPP</span></span></div>"
      ],
      "text/plain": [
       "<IPython.core.display.HTML object>"
      ]
     },
     "metadata": {},
     "output_type": "display_data"
    },
    {
     "name": "stdout",
     "output_type": "stream",
     "text": [
      "ex 38:\n"
     ]
    },
    {
     "data": {
      "text/html": [
       "<div class=\"tex2jax_ignore\" style=\"white-space: pre-wrap\">З-чик <span style=\"padding: 2px; border-radius: 4px; border: 1px solid #ffcdd2; background: #ffebee\">ИП Йоргу Галина Николаевна<span style=\"vertical-align: middle; margin-left: 2px; font-size: 0.7em; color: #e57373;\">ORG</span></span> ИНН <span style=\"padding: 2px; border-radius: 4px; border: 1px solid #ffe0b2; background: #fff3e0\">5103300502<span style=\"vertical-align: middle; margin-left: 2px; font-size: 0.7em; color: #ffb74d;\">INNKPP</span></span> КПП Исполнитель <span style=\"padding: 2px; border-radius: 4px; border: 1px solid #ffe0b2; background: #fff3e0\">352601001<span style=\"vertical-align: middle; margin-left: 2px; font-size: 0.7em; color: #ffb74d;\">INNKPP</span></span> Банк Зак-чик <span style=\"padding: 2px; border-radius: 4px; border: 1px solid #ffcdd2; background: #ffebee\">ПВ<span style=\"vertical-align: middle; margin-left: 2px; font-size: 0.7em; color: #e57373;\">ORG</span></span><span style=\"padding: 2px; border-radius: 4px; border: 1px solid #ffcdd2; background: #ffebee\">-<span style=\"vertical-align: middle; margin-left: 2px; font-size: 0.7em; color: #e57373;\">ORG</span></span><span style=\"padding: 2px; border-radius: 4px; border: 1px solid #ffcdd2; background: #ffebee\">Банк (ЗАО)<span style=\"vertical-align: middle; margin-left: 2px; font-size: 0.7em; color: #e57373;\">ORG</span></span> <span style=\"padding: 2px; border-radius: 4px; border: 1px solid #c8e6c9; background: #e8f5e9\">445041, Самарская обл, г Тольятти, Комсомольский р-н, ул Гидротехническая, д 22, кв 109<span style=\"vertical-align: middle; margin-left: 2px; font-size: 0.7em; color: #66bb6a;\">LOC</span></span> к.с. <span style=\"padding: 2px; border-radius: 4px; border: 1px solid #d7ccc8; background: #efebe9\">30753931665033663091<span style=\"vertical-align: middle; margin-left: 2px; font-size: 0.7em; color: #a1887f;\">RSKS</span></span> тел. <span style=\"padding: 2px; border-radius: 4px; border: 1px solid #d1c4e9; background: #ede7f6\">+<span style=\"vertical-align: middle; margin-left: 2px; font-size: 0.7em; color: #9575cd;\">STAT</span></span><span style=\"padding: 2px; border-radius: 4px; border: 1px solid #d1c4e9; background: #ede7f6\">8<span style=\"vertical-align: middle; margin-left: 2px; font-size: 0.7em; color: #9575cd;\">STAT</span></span><span style=\"padding: 2px; border-radius: 4px; border: 1px solid #d1c4e9; background: #ede7f6\">-<span style=\"vertical-align: middle; margin-left: 2px; font-size: 0.7em; color: #9575cd;\">STAT</span></span><span style=\"padding: 2px; border-radius: 4px; border: 1px solid #d1c4e9; background: #ede7f6\">( 890) -051-0454<span style=\"vertical-align: middle; margin-left: 2px; font-size: 0.7em; color: #9575cd;\">STAT</span></span> тел. <span style=\"padding: 2px; border-radius: 4px; border: 1px solid #d1c4e9; background: #ede7f6\">7<span style=\"vertical-align: middle; margin-left: 2px; font-size: 0.7em; color: #9575cd;\">STAT</span></span><span style=\"padding: 2px; border-radius: 4px; border: 1px solid #d1c4e9; background: #ede7f6\">-<span style=\"vertical-align: middle; margin-left: 2px; font-size: 0.7em; color: #9575cd;\">STAT</span></span><span style=\"padding: 2px; border-radius: 4px; border: 1px solid #d1c4e9; background: #ede7f6\">( 813) -7733046<span style=\"vertical-align: middle; margin-left: 2px; font-size: 0.7em; color: #9575cd;\">STAT</span></span></div>"
      ],
      "text/plain": [
       "<IPython.core.display.HTML object>"
      ]
     },
     "metadata": {},
     "output_type": "display_data"
    },
    {
     "name": "stdout",
     "output_type": "stream",
     "text": [
      "ex 39:\n"
     ]
    },
    {
     "data": {
      "text/html": [
       "<div class=\"tex2jax_ignore\" style=\"white-space: pre-wrap\">Исполнитель <span style=\"padding: 2px; border-radius: 4px; border: 1px solid #ffcdd2; background: #ffebee\">ООО ПАНСИОНАТ С ЛЕЧЕНИЕМ ПАЛЬМИРО САД<span style=\"vertical-align: middle; margin-left: 2px; font-size: 0.7em; color: #e57373;\">ORG</span></span> ИНН П-щик <span style=\"padding: 2px; border-radius: 4px; border: 1px solid #ffe0b2; background: #fff3e0\">164511946205<span style=\"vertical-align: middle; margin-left: 2px; font-size: 0.7em; color: #ffb74d;\">INNKPP</span></span> <span style=\"padding: 2px; border-radius: 4px; border: 1px solid #c8e6c9; background: #e8f5e9\">416372, Астраханская обл, Икрянинский р-н, село Джамба<span style=\"vertical-align: middle; margin-left: 2px; font-size: 0.7em; color: #66bb6a;\">LOC</span></span> тел. <span style=\"padding: 2px; border-radius: 4px; border: 1px solid #d1c4e9; background: #ede7f6\">8<span style=\"vertical-align: middle; margin-left: 2px; font-size: 0.7em; color: #9575cd;\">STAT</span></span><span style=\"padding: 2px; border-radius: 4px; border: 1px solid #d1c4e9; background: #ede7f6\">-<span style=\"vertical-align: middle; margin-left: 2px; font-size: 0.7em; color: #9575cd;\">STAT</span></span><span style=\"padding: 2px; border-radius: 4px; border: 1px solid #d1c4e9; background: #ede7f6\">341<span style=\"vertical-align: middle; margin-left: 2px; font-size: 0.7em; color: #9575cd;\">STAT</span></span><span style=\"padding: 2px; border-radius: 4px; border: 1px solid #d1c4e9; background: #ede7f6\">-<span style=\"vertical-align: middle; margin-left: 2px; font-size: 0.7em; color: #9575cd;\">STAT</span></span><span style=\"padding: 2px; border-radius: 4px; border: 1px solid #d1c4e9; background: #ede7f6\">921<span style=\"vertical-align: middle; margin-left: 2px; font-size: 0.7em; color: #9575cd;\">STAT</span></span><span style=\"padding: 2px; border-radius: 4px; border: 1px solid #d1c4e9; background: #ede7f6\">-<span style=\"vertical-align: middle; margin-left: 2px; font-size: 0.7em; color: #9575cd;\">STAT</span></span><span style=\"padding: 2px; border-radius: 4px; border: 1px solid #d1c4e9; background: #ede7f6\">73<span style=\"vertical-align: middle; margin-left: 2px; font-size: 0.7em; color: #9575cd;\">STAT</span></span><span style=\"padding: 2px; border-radius: 4px; border: 1px solid #d1c4e9; background: #ede7f6\">-<span style=\"vertical-align: middle; margin-left: 2px; font-size: 0.7em; color: #9575cd;\">STAT</span></span><span style=\"padding: 2px; border-radius: 4px; border: 1px solid #d1c4e9; background: #ede7f6\">71<span style=\"vertical-align: middle; margin-left: 2px; font-size: 0.7em; color: #9575cd;\">STAT</span></span> рас <span style=\"padding: 2px; border-radius: 4px; border: 1px solid #d7ccc8; background: #efebe9\">41799602790638747621<span style=\"vertical-align: middle; margin-left: 2px; font-size: 0.7em; color: #a1887f;\">RSKS</span></span> <span style=\"padding: 2px; border-radius: 4px; border: 1px solid #ffcdd2; background: #ffebee\">ОАО Банк &quot;Западный&quot;<span style=\"vertical-align: middle; margin-left: 2px; font-size: 0.7em; color: #e57373;\">ORG</span></span> к/счет <span style=\"padding: 2px; border-radius: 4px; border: 1px solid #d7ccc8; background: #efebe9\">30259777684303035652<span style=\"vertical-align: middle; margin-left: 2px; font-size: 0.7em; color: #a1887f;\">RSKS</span></span></div>"
      ],
      "text/plain": [
       "<IPython.core.display.HTML object>"
      ]
     },
     "metadata": {},
     "output_type": "display_data"
    },
    {
     "name": "stdout",
     "output_type": "stream",
     "text": [
      "ex 40:\n"
     ]
    },
    {
     "data": {
      "text/html": [
       "<div class=\"tex2jax_ignore\" style=\"white-space: pre-wrap\">Получатель <span style=\"padding: 2px; border-radius: 4px; border: 1px solid #ffcdd2; background: #ffebee\">ООО &quot;ФЛ ТЕХНИКС ЛАЙН&quot;<span style=\"vertical-align: middle; margin-left: 2px; font-size: 0.7em; color: #e57373;\">ORG</span></span> ИНН КПП <span style=\"padding: 2px; border-radius: 4px; border: 1px solid #ffe0b2; background: #fff3e0\">6732159625<span style=\"vertical-align: middle; margin-left: 2px; font-size: 0.7em; color: #ffb74d;\">INNKPP</span></span> / <span style=\"padding: 2px; border-radius: 4px; border: 1px solid #ffe0b2; background: #fff3e0\">701401001<span style=\"vertical-align: middle; margin-left: 2px; font-size: 0.7em; color: #ffb74d;\">INNKPP</span></span> Филиал банка Подрядчик <span style=\"padding: 2px; border-radius: 4px; border: 1px solid #ffcdd2; background: #ffebee\">Банк - Т (Открытое акционерное общество)<span style=\"vertical-align: middle; margin-left: 2px; font-size: 0.7em; color: #e57373;\">ORG</span></span> кс <span style=\"padding: 2px; border-radius: 4px; border: 1px solid #d7ccc8; background: #efebe9\">30349840168836041609<span style=\"vertical-align: middle; margin-left: 2px; font-size: 0.7em; color: #a1887f;\">RSKS</span></span> тел. <span style=\"padding: 2px; border-radius: 4px; border: 1px solid #d1c4e9; background: #ede7f6\">7<span style=\"vertical-align: middle; margin-left: 2px; font-size: 0.7em; color: #9575cd;\">STAT</span></span><span style=\"padding: 2px; border-radius: 4px; border: 1px solid #d1c4e9; background: #ede7f6\">-<span style=\"vertical-align: middle; margin-left: 2px; font-size: 0.7em; color: #9575cd;\">STAT</span></span><span style=\"padding: 2px; border-radius: 4px; border: 1px solid #d1c4e9; background: #ede7f6\">( 800) -43-26-061<span style=\"vertical-align: middle; margin-left: 2px; font-size: 0.7em; color: #9575cd;\">STAT</span></span></div>"
      ],
      "text/plain": [
       "<IPython.core.display.HTML object>"
      ]
     },
     "metadata": {},
     "output_type": "display_data"
    },
    {
     "name": "stdout",
     "output_type": "stream",
     "text": [
      "ex 41:\n"
     ]
    },
    {
     "data": {
      "text/html": [
       "<div class=\"tex2jax_ignore\" style=\"white-space: pre-wrap\">П-щик <span style=\"padding: 2px; border-radius: 4px; border: 1px solid #ffcdd2; background: #ffebee\">ОБЩЕСТВО С ОГРАНИЧЕННОЙ ОТВЕТСТВЕННОСТЬЮ &quot;СПЕЦКОМПАНИЯ ДЕНЕЖНИКОВО&quot;<span style=\"vertical-align: middle; margin-left: 2px; font-size: 0.7em; color: #e57373;\">ORG</span></span> Банк Плательщик <span style=\"padding: 2px; border-radius: 4px; border: 1px solid #ffcdd2; background: #ffebee\">ООО КБ &quot;Адмиралтейский&quot;<span style=\"vertical-align: middle; margin-left: 2px; font-size: 0.7em; color: #e57373;\">ORG</span></span> кор. <span style=\"padding: 2px; border-radius: 4px; border: 1px solid #d7ccc8; background: #efebe9\">30076239071553804340<span style=\"vertical-align: middle; margin-left: 2px; font-size: 0.7em; color: #a1887f;\">RSKS</span></span> тел. <span style=\"padding: 2px; border-radius: 4px; border: 1px solid #d1c4e9; background: #ede7f6\">8 928 540 1225<span style=\"vertical-align: middle; margin-left: 2px; font-size: 0.7em; color: #9575cd;\">STAT</span></span></div>"
      ],
      "text/plain": [
       "<IPython.core.display.HTML object>"
      ]
     },
     "metadata": {},
     "output_type": "display_data"
    },
    {
     "name": "stdout",
     "output_type": "stream",
     "text": [
      "ex 42:\n"
     ]
    },
    {
     "data": {
      "text/html": [
       "<div class=\"tex2jax_ignore\" style=\"white-space: pre-wrap\">Исп-тель <span style=\"padding: 2px; border-radius: 4px; border: 1px solid #ffcdd2; background: #ffebee\">ИП Ахмеров Зиннур Растямович<span style=\"vertical-align: middle; margin-left: 2px; font-size: 0.7em; color: #e57373;\">ORG</span></span> <span style=\"padding: 2px; border-radius: 4px; border: 1px solid #c8e6c9; background: #e8f5e9\">Автономный округ Ханты-Мансийский Автономный округ - Югра Город Сургут Улица Производственная 10<span style=\"vertical-align: middle; margin-left: 2px; font-size: 0.7em; color: #66bb6a;\">LOC</span></span> Филиал банка Генподрядчик <span style=\"padding: 2px; border-radius: 4px; border: 1px solid #ffcdd2; background: #ffebee\">ПУБЛИЧНОЕ АКЦИОНЕРНОЕ ОБЩЕСТВО &quot;БАНК&quot; САНКТ-ПЕТЕРБУРГ &quot;<span style=\"vertical-align: middle; margin-left: 2px; font-size: 0.7em; color: #e57373;\">ORG</span></span>БИК Банка <span style=\"padding: 2px; border-radius: 4px; border: 1px solid #d1c4e9; background: #ede7f6\">047530018<span style=\"vertical-align: middle; margin-left: 2px; font-size: 0.7em; color: #9575cd;\">STAT</span></span></div>"
      ],
      "text/plain": [
       "<IPython.core.display.HTML object>"
      ]
     },
     "metadata": {},
     "output_type": "display_data"
    },
    {
     "name": "stdout",
     "output_type": "stream",
     "text": [
      "ex 43:\n"
     ]
    },
    {
     "data": {
      "text/html": [
       "<div class=\"tex2jax_ignore\" style=\"white-space: pre-wrap\">Заказчик <span style=\"padding: 2px; border-radius: 4px; border: 1px solid #ffcdd2; background: #ffebee\">ИП Тохтаров Руслан Раифович<span style=\"vertical-align: middle; margin-left: 2px; font-size: 0.7em; color: #e57373;\">ORG</span></span> ИНН <span style=\"padding: 2px; border-radius: 4px; border: 1px solid #ffe0b2; background: #fff3e0\">4826034804<span style=\"vertical-align: middle; margin-left: 2px; font-size: 0.7em; color: #ffb74d;\">INNKPP</span></span> Адрес филиала банка Клиент <span style=\"padding: 2px; border-radius: 4px; border: 1px solid #c8e6c9; background: #e8f5e9\">ГОРОД МОСКВА УЛИЦА ДОРОЖНАЯ ДОМ 3 КОРПУС 6 КОМНАТА 8Б<span style=\"vertical-align: middle; margin-left: 2px; font-size: 0.7em; color: #66bb6a;\">LOC</span></span> банк <span style=\"padding: 2px; border-radius: 4px; border: 1px solid #ffcdd2; background: #ffebee\">ФИЛИАЛ ПАО &quot;ХАНТЫ-МАНСИЙСКИЙ БАНК ОТКРЫТИЕ&quot; (Г ЕКАТЕРИНБУРГ)<span style=\"vertical-align: middle; margin-left: 2px; font-size: 0.7em; color: #e57373;\">ORG</span></span> БИК <span style=\"padding: 2px; border-radius: 4px; border: 1px solid #d1c4e9; background: #ede7f6\">044662435<span style=\"vertical-align: middle; margin-left: 2px; font-size: 0.7em; color: #9575cd;\">STAT</span></span> кор/сч <span style=\"padding: 2px; border-radius: 4px; border: 1px solid #d7ccc8; background: #efebe9\">30145662405694255472<span style=\"vertical-align: middle; margin-left: 2px; font-size: 0.7em; color: #a1887f;\">RSKS</span></span></div>"
      ],
      "text/plain": [
       "<IPython.core.display.HTML object>"
      ]
     },
     "metadata": {},
     "output_type": "display_data"
    },
    {
     "name": "stdout",
     "output_type": "stream",
     "text": [
      "ex 44:\n"
     ]
    },
    {
     "data": {
      "text/html": [
       "<div class=\"tex2jax_ignore\" style=\"white-space: pre-wrap\">Подрядчик <span style=\"padding: 2px; border-radius: 4px; border: 1px solid #ffcdd2; background: #ffebee\">ИП Левина Элина Юрьевна<span style=\"vertical-align: middle; margin-left: 2px; font-size: 0.7em; color: #e57373;\">ORG</span></span> ИНН Заказчик <span style=\"padding: 2px; border-radius: 4px; border: 1px solid #ffe0b2; background: #fff3e0\">312341362<span style=\"vertical-align: middle; margin-left: 2px; font-size: 0.7em; color: #ffb74d;\">INNKPP</span></span> КПП Подрядчик <span style=\"padding: 2px; border-radius: 4px; border: 1px solid #ffe0b2; background: #fff3e0\">166001001<span style=\"vertical-align: middle; margin-left: 2px; font-size: 0.7em; color: #ffb74d;\">INNKPP</span></span> Банк Зак-чик <span style=\"padding: 2px; border-radius: 4px; border: 1px solid #ffcdd2; background: #ffebee\">ОБЩЕСТВО С ОГРАНИЧЕННОЙ ОТВЕТСТВЕННОСТЬЮ КОММЕРЧЕСКИЙ БАНК &quot;РАЗВИТИЕ&quot;<span style=\"vertical-align: middle; margin-left: 2px; font-size: 0.7em; color: #e57373;\">ORG</span></span> ИНН/КПП <span style=\"padding: 2px; border-radius: 4px; border: 1px solid #ffe0b2; background: #fff3e0\">2443019371<span style=\"vertical-align: middle; margin-left: 2px; font-size: 0.7em; color: #ffb74d;\">INNKPP</span></span> / <span style=\"padding: 2px; border-radius: 4px; border: 1px solid #ffe0b2; background: #fff3e0\">470701001<span style=\"vertical-align: middle; margin-left: 2px; font-size: 0.7em; color: #ffb74d;\">INNKPP</span></span> Адрес филиала банка Зак-чик <span style=\"padding: 2px; border-radius: 4px; border: 1px solid #c8e6c9; background: #e8f5e9\">614575, Пермский край, пгт Звездный, ул Ленина, д 1 литер г<span style=\"vertical-align: middle; margin-left: 2px; font-size: 0.7em; color: #66bb6a;\">LOC</span></span> Корреспондентский счет <span style=\"padding: 2px; border-radius: 4px; border: 1px solid #d7ccc8; background: #efebe9\">30402249475973413757<span style=\"vertical-align: middle; margin-left: 2px; font-size: 0.7em; color: #a1887f;\">RSKS</span></span> тел. <span style=\"padding: 2px; border-radius: 4px; border: 1px solid #d1c4e9; background: #ede7f6\">56<span style=\"vertical-align: middle; margin-left: 2px; font-size: 0.7em; color: #9575cd;\">STAT</span></span><span style=\"padding: 2px; border-radius: 4px; border: 1px solid #d1c4e9; background: #ede7f6\">-<span style=\"vertical-align: middle; margin-left: 2px; font-size: 0.7em; color: #9575cd;\">STAT</span></span><span style=\"padding: 2px; border-radius: 4px; border: 1px solid #d1c4e9; background: #ede7f6\">26<span style=\"vertical-align: middle; margin-left: 2px; font-size: 0.7em; color: #9575cd;\">STAT</span></span><span style=\"padding: 2px; border-radius: 4px; border: 1px solid #d1c4e9; background: #ede7f6\">-<span style=\"vertical-align: middle; margin-left: 2px; font-size: 0.7em; color: #9575cd;\">STAT</span></span><span style=\"padding: 2px; border-radius: 4px; border: 1px solid #d1c4e9; background: #ede7f6\">58<span style=\"vertical-align: middle; margin-left: 2px; font-size: 0.7em; color: #9575cd;\">STAT</span></span> тел. <span style=\"padding: 2px; border-radius: 4px; border: 1px solid #d1c4e9; background: #ede7f6\">+<span style=\"vertical-align: middle; margin-left: 2px; font-size: 0.7em; color: #9575cd;\">STAT</span></span><span style=\"padding: 2px; border-radius: 4px; border: 1px solid #d1c4e9; background: #ede7f6\">7 323 401 50 18<span style=\"vertical-align: middle; margin-left: 2px; font-size: 0.7em; color: #9575cd;\">STAT</span></span></div>"
      ],
      "text/plain": [
       "<IPython.core.display.HTML object>"
      ]
     },
     "metadata": {},
     "output_type": "display_data"
    },
    {
     "name": "stdout",
     "output_type": "stream",
     "text": [
      "ex 45:\n"
     ]
    },
    {
     "data": {
      "text/html": [
       "<div class=\"tex2jax_ignore\" style=\"white-space: pre-wrap\">З-чик <span style=\"padding: 2px; border-radius: 4px; border: 1px solid #ffcdd2; background: #ffebee\">АО КЭС-ХОЛДИНГ<span style=\"vertical-align: middle; margin-left: 2px; font-size: 0.7em; color: #e57373;\">ORG</span></span> ИНН КПП Исп-тель <span style=\"padding: 2px; border-radius: 4px; border: 1px solid #ffe0b2; background: #fff3e0\">5218004274<span style=\"vertical-align: middle; margin-left: 2px; font-size: 0.7em; color: #ffb74d;\">INNKPP</span></span> / <span style=\"padding: 2px; border-radius: 4px; border: 1px solid #c8e6c9; background: #e8f5e9\">614051, Пермский край, г Пермь, Мотовилихинский р-н, ул Юрша, д 25, оф 26<span style=\"vertical-align: middle; margin-left: 2px; font-size: 0.7em; color: #66bb6a;\">LOC</span></span> Филиал банка <span style=\"padding: 2px; border-radius: 4px; border: 1px solid #ffcdd2; background: #ffebee\">АКЦИОНЕРНЫЙ КОММЕРЧЕСКИЙ БАНК &quot;АЗИЯ-ИНВЕСТ БАНК&quot; (АКЦИОНЕРНОЕ ОБЩЕСТВО)<span style=\"vertical-align: middle; margin-left: 2px; font-size: 0.7em; color: #e57373;\">ORG</span></span> тел. <span style=\"padding: 2px; border-radius: 4px; border: 1px solid #d1c4e9; background: #ede7f6\">+<span style=\"vertical-align: middle; margin-left: 2px; font-size: 0.7em; color: #9575cd;\">STAT</span></span><span style=\"padding: 2px; border-radius: 4px; border: 1px solid #d1c4e9; background: #ede7f6\">7 (836) 66 65 842<span style=\"vertical-align: middle; margin-left: 2px; font-size: 0.7em; color: #9575cd;\">STAT</span></span> корр./счет <span style=\"padding: 2px; border-radius: 4px; border: 1px solid #d7ccc8; background: #efebe9\">30168504432234580236<span style=\"vertical-align: middle; margin-left: 2px; font-size: 0.7em; color: #a1887f;\">RSKS</span></span></div>"
      ],
      "text/plain": [
       "<IPython.core.display.HTML object>"
      ]
     },
     "metadata": {},
     "output_type": "display_data"
    },
    {
     "name": "stdout",
     "output_type": "stream",
     "text": [
      "ex 46:\n"
     ]
    },
    {
     "data": {
      "text/html": [
       "<div class=\"tex2jax_ignore\" style=\"white-space: pre-wrap\">Подрядчик <span style=\"padding: 2px; border-radius: 4px; border: 1px solid #ffcdd2; background: #ffebee\">ОБЩЕСТВО С ОГРАНИЧЕННОЙ ОТВЕТСТВЕННОСТЬЮ &quot;ТАМБОВСКИЙ ЦЕНТР РЕГИОНАЛЬНОГО РАЗВИТИЯ&quot;<span style=\"vertical-align: middle; margin-left: 2px; font-size: 0.7em; color: #e57373;\">ORG</span></span> <span style=\"padding: 2px; border-radius: 4px; border: 1px solid #ffe0b2; background: #fff3e0\">4704084068<span style=\"vertical-align: middle; margin-left: 2px; font-size: 0.7em; color: #ffb74d;\">INNKPP</span></span> Адрес Исполнитель <span style=\"padding: 2px; border-radius: 4px; border: 1px solid #c8e6c9; background: #e8f5e9\">КРАЙ КРАСНОДАРСКИЙ РАЙОН БЕЛОРЕЧЕНСКИЙ ГОРОД БЕЛОРЕЧЕНСК УЛИЦА БРИГАДНАЯ 1 Б<span style=\"vertical-align: middle; margin-left: 2px; font-size: 0.7em; color: #66bb6a;\">LOC</span></span> р.сч. <span style=\"padding: 2px; border-radius: 4px; border: 1px solid #d7ccc8; background: #efebe9\">41894988241473837453<span style=\"vertical-align: middle; margin-left: 2px; font-size: 0.7em; color: #a1887f;\">RSKS</span></span> банк <span style=\"padding: 2px; border-radius: 4px; border: 1px solid #ffcdd2; background: #ffebee\">ООО &quot;Внешпромбанк&quot;<span style=\"vertical-align: middle; margin-left: 2px; font-size: 0.7em; color: #e57373;\">ORG</span></span> к/с <span style=\"padding: 2px; border-radius: 4px; border: 1px solid #d7ccc8; background: #efebe9\">30565397838996973081<span style=\"vertical-align: middle; margin-left: 2px; font-size: 0.7em; color: #a1887f;\">RSKS</span></span></div>"
      ],
      "text/plain": [
       "<IPython.core.display.HTML object>"
      ]
     },
     "metadata": {},
     "output_type": "display_data"
    },
    {
     "name": "stdout",
     "output_type": "stream",
     "text": [
      "ex 47:\n"
     ]
    },
    {
     "data": {
      "text/html": [
       "<div class=\"tex2jax_ignore\" style=\"white-space: pre-wrap\">Клиент <span style=\"padding: 2px; border-radius: 4px; border: 1px solid #ffcdd2; background: #ffebee\">Индивидуальный предприниматель Ёлчиев Джаваншир Гароглан Оглы<span style=\"vertical-align: middle; margin-left: 2px; font-size: 0.7em; color: #e57373;\">ORG</span></span> ИНН/КПП <span style=\"padding: 2px; border-radius: 4px; border: 1px solid #ffe0b2; background: #fff3e0\">6620009445<span style=\"vertical-align: middle; margin-left: 2px; font-size: 0.7em; color: #ffb74d;\">INNKPP</span></span> / <span style=\"padding: 2px; border-radius: 4px; border: 1px solid #ffe0b2; background: #fff3e0\">312301001<span style=\"vertical-align: middle; margin-left: 2px; font-size: 0.7em; color: #ffb74d;\">INNKPP</span></span> Адрес Получатель <span style=\"padding: 2px; border-radius: 4px; border: 1px solid #c8e6c9; background: #e8f5e9\">КРАЙ АЛТАЙСКИЙ ГОРОД БИЙСК УЛИЦА ЕФИМА МАМОНТОВА ДОМ 1 ОФИС 2<span style=\"vertical-align: middle; margin-left: 2px; font-size: 0.7em; color: #66bb6a;\">LOC</span></span> банк <span style=\"padding: 2px; border-radius: 4px; border: 1px solid #ffcdd2; background: #ffebee\">КБ &quot;РБА&quot; (ООО)<span style=\"vertical-align: middle; margin-left: 2px; font-size: 0.7em; color: #e57373;\">ORG</span></span> кс <span style=\"padding: 2px; border-radius: 4px; border: 1px solid #d7ccc8; background: #efebe9\">30072276139180553394<span style=\"vertical-align: middle; margin-left: 2px; font-size: 0.7em; color: #a1887f;\">RSKS</span></span> тел. <span style=\"padding: 2px; border-radius: 4px; border: 1px solid #d1c4e9; background: #ede7f6\">+<span style=\"vertical-align: middle; margin-left: 2px; font-size: 0.7em; color: #9575cd;\">STAT</span></span><span style=\"padding: 2px; border-radius: 4px; border: 1px solid #d1c4e9; background: #ede7f6\">7<span style=\"vertical-align: middle; margin-left: 2px; font-size: 0.7em; color: #9575cd;\">STAT</span></span><span style=\"padding: 2px; border-radius: 4px; border: 1px solid #d1c4e9; background: #ede7f6\">-<span style=\"vertical-align: middle; margin-left: 2px; font-size: 0.7em; color: #9575cd;\">STAT</span></span><span style=\"padding: 2px; border-radius: 4px; border: 1px solid #d1c4e9; background: #ede7f6\">( 338) -859-8023<span style=\"vertical-align: middle; margin-left: 2px; font-size: 0.7em; color: #9575cd;\">STAT</span></span></div>"
      ],
      "text/plain": [
       "<IPython.core.display.HTML object>"
      ]
     },
     "metadata": {},
     "output_type": "display_data"
    },
    {
     "name": "stdout",
     "output_type": "stream",
     "text": [
      "ex 48:\n"
     ]
    },
    {
     "data": {
      "text/html": [
       "<div class=\"tex2jax_ignore\" style=\"white-space: pre-wrap\">Подрядчик <span style=\"padding: 2px; border-radius: 4px; border: 1px solid #ffcdd2; background: #ffebee\">АО РОСГЕОЛОГИЯ<span style=\"vertical-align: middle; margin-left: 2px; font-size: 0.7em; color: #e57373;\">ORG</span></span> ИНН Генподрядчик <span style=\"padding: 2px; border-radius: 4px; border: 1px solid #ffe0b2; background: #fff3e0\">6706005812<span style=\"vertical-align: middle; margin-left: 2px; font-size: 0.7em; color: #ffb74d;\">INNKPP</span></span> КПП Получатель <span style=\"padding: 2px; border-radius: 4px; border: 1px solid #ffe0b2; background: #fff3e0\">772001001<span style=\"vertical-align: middle; margin-left: 2px; font-size: 0.7em; color: #ffb74d;\">INNKPP</span></span> Банк Плательщик <span style=\"padding: 2px; border-radius: 4px; border: 1px solid #ffcdd2; background: #ffebee\">&quot;Уральский Промышленный Банк&quot; (акционерное общество)<span style=\"vertical-align: middle; margin-left: 2px; font-size: 0.7em; color: #e57373;\">ORG</span></span> <span style=\"padding: 2px; border-radius: 4px; border: 1px solid #c8e6c9; background: #e8f5e9\">Забайкальский край, город Чита<span style=\"vertical-align: middle; margin-left: 2px; font-size: 0.7em; color: #66bb6a;\">LOC</span></span> тел. <span style=\"padding: 2px; border-radius: 4px; border: 1px solid #d1c4e9; background: #ede7f6\">+<span style=\"vertical-align: middle; margin-left: 2px; font-size: 0.7em; color: #9575cd;\">STAT</span></span><span style=\"padding: 2px; border-radius: 4px; border: 1px solid #d1c4e9; background: #ede7f6\">88432776874<span style=\"vertical-align: middle; margin-left: 2px; font-size: 0.7em; color: #9575cd;\">STAT</span></span> тел. <span style=\"padding: 2px; border-radius: 4px; border: 1px solid #d1c4e9; background: #ede7f6\">+<span style=\"vertical-align: middle; margin-left: 2px; font-size: 0.7em; color: #9575cd;\">STAT</span></span><span style=\"padding: 2px; border-radius: 4px; border: 1px solid #d1c4e9; background: #ede7f6\">7 (877) 8684999<span style=\"vertical-align: middle; margin-left: 2px; font-size: 0.7em; color: #9575cd;\">STAT</span></span></div>"
      ],
      "text/plain": [
       "<IPython.core.display.HTML object>"
      ]
     },
     "metadata": {},
     "output_type": "display_data"
    },
    {
     "name": "stdout",
     "output_type": "stream",
     "text": [
      "ex 49:\n"
     ]
    },
    {
     "data": {
      "text/html": [
       "<div class=\"tex2jax_ignore\" style=\"white-space: pre-wrap\"><span style=\"padding: 2px; border-radius: 4px; border: 1px solid #ffcdd2; background: #ffebee\">МКУ ЕДДС<span style=\"vertical-align: middle; margin-left: 2px; font-size: 0.7em; color: #e57373;\">ORG</span></span> <span style=\"padding: 2px; border-radius: 4px; border: 1px solid #c8e6c9; background: #e8f5e9\">Кемеровская область, город Кемерово<span style=\"vertical-align: middle; margin-left: 2px; font-size: 0.7em; color: #66bb6a;\">LOC</span></span> счет № <span style=\"padding: 2px; border-radius: 4px; border: 1px solid #d7ccc8; background: #efebe9\">43209075037153306310<span style=\"vertical-align: middle; margin-left: 2px; font-size: 0.7em; color: #a1887f;\">RSKS</span></span> банк <span style=\"padding: 2px; border-radius: 4px; border: 1px solid #ffcdd2; background: #ffebee\">ОТКРЫТОЕ АКЦИОНЕРНОЕ ОБЩЕСТВО &quot;ВОСТОККРЕДИТБАНК&quot;<span style=\"vertical-align: middle; margin-left: 2px; font-size: 0.7em; color: #e57373;\">ORG</span></span> к/с <span style=\"padding: 2px; border-radius: 4px; border: 1px solid #d7ccc8; background: #efebe9\">30732437717823862544<span style=\"vertical-align: middle; margin-left: 2px; font-size: 0.7em; color: #a1887f;\">RSKS</span></span> тел. <span style=\"padding: 2px; border-radius: 4px; border: 1px solid #d1c4e9; background: #ede7f6\">+<span style=\"vertical-align: middle; margin-left: 2px; font-size: 0.7em; color: #9575cd;\">STAT</span></span><span style=\"padding: 2px; border-radius: 4px; border: 1px solid #d1c4e9; background: #ede7f6\">7 (820) 529 92 19<span style=\"vertical-align: middle; margin-left: 2px; font-size: 0.7em; color: #9575cd;\">STAT</span></span></div>"
      ],
      "text/plain": [
       "<IPython.core.display.HTML object>"
      ]
     },
     "metadata": {},
     "output_type": "display_data"
    }
   ],
   "source": [
    "for i, text in enumerate(df_test['TEXT'].values[:50]):\n",
    "    _ = nlp_ner.get_spans(text)\n",
    "#     nlp_ner.get_span_coordinates()\n",
    "    print(f'ex {i}:')\n",
    "    show_box_markup(text, nlp_ner.spans_coord, palette=palette(PER=BLUE, ORG=RED, LOC=GREEN, INNKPP=ORANGE, STAT=PURPLE, RSKS=BROWN))"
   ]
  },
  {
   "cell_type": "code",
   "execution_count": 15,
   "id": "26525279",
   "metadata": {
    "scrolled": true
   },
   "outputs": [
    {
     "data": {
      "text/html": [
       "<H3>ex 0:</H3>"
      ],
      "text/plain": [
       "<IPython.core.display.HTML object>"
      ]
     },
     "metadata": {},
     "output_type": "display_data"
    },
    {
     "data": {
      "text/html": [
       "<H4>DP:</H4>"
      ],
      "text/plain": [
       "<IPython.core.display.HTML object>"
      ]
     },
     "metadata": {},
     "output_type": "display_data"
    },
    {
     "data": {
      "text/html": [
       "<div class=\"tex2jax_ignore\" style=\"white-space: pre-wrap\">Инвестор <span style=\"padding: 2px; border-radius: 4px; border: 1px solid #ffcdd2; background: #ffebee\">МУП МП<span style=\"vertical-align: middle; margin-left: 2px; font-size: 0.7em; color: #e57373;\">ORG</span></span> ГОРОДСКОГО ОКРУГА САМАРА КРАСНОГЛИНСКИЕ БАНИ Адрес филиала <span style=\"padding: 2px; border-radius: 4px; border: 1px solid #ffcdd2; background: #ffebee\">банка<span style=\"vertical-align: middle; margin-left: 2px; font-size: 0.7em; color: #e57373;\">ORG</span></span> Брянская область, город Новозыбков Банк Инвестор ИНН/КПП 100601303468 / 632501001 тел. +7-830-199-8031 корр. счет 30310411361955797442</div>"
      ],
      "text/plain": [
       "<IPython.core.display.HTML object>"
      ]
     },
     "metadata": {},
     "output_type": "display_data"
    },
    {
     "data": {
      "text/html": [
       "<H4>NT:</H4>"
      ],
      "text/plain": [
       "<IPython.core.display.HTML object>"
      ]
     },
     "metadata": {},
     "output_type": "display_data"
    },
    {
     "data": {
      "text/html": [
       "<div class=\"tex2jax_ignore\" style=\"white-space: pre-wrap\">Инвестор <span style=\"padding: 2px; border-radius: 4px; border: 1px solid #ffcdd2; background: #ffebee\">МУП МП ГОРОДСКОГО ОКРУГА САМАРА КРАСНОГЛИНСКИЕ БАНИ Адрес филиала банка<span style=\"vertical-align: middle; margin-left: 2px; font-size: 0.7em; color: #e57373;\">ORG</span></span> Брянская область, город Новозыбков Банк Инвестор ИНН/КПП 100601303468 / 632501001 тел. +7-830-199-8031 корр. счет 30310411361955797442</div>"
      ],
      "text/plain": [
       "<IPython.core.display.HTML object>"
      ]
     },
     "metadata": {},
     "output_type": "display_data"
    },
    {
     "data": {
      "text/html": [
       "<H4>LD:</H4>"
      ],
      "text/plain": [
       "<IPython.core.display.HTML object>"
      ]
     },
     "metadata": {},
     "output_type": "display_data"
    },
    {
     "data": {
      "text/html": [
       "<div class=\"tex2jax_ignore\" style=\"white-space: pre-wrap\">Инвестор МУП <span style=\"padding: 2px; border-radius: 4px; border: 1px solid #ffcdd2; background: #ffebee\">МП ГОРОДСКОГО ОКРУГА САМАРА КРАСНОГЛИНСКИЕ<span style=\"vertical-align: middle; margin-left: 2px; font-size: 0.7em; color: #e57373;\">ORG</span></span> <span style=\"padding: 2px; border-radius: 4px; border: 1px solid #c8e6c9; background: #e8f5e9\">БАНИ<span style=\"vertical-align: middle; margin-left: 2px; font-size: 0.7em; color: #66bb6a;\">LOC</span></span> Адрес филиала банка <span style=\"padding: 2px; border-radius: 4px; border: 1px solid #ffcdd2; background: #ffebee\">Брянская<span style=\"vertical-align: middle; margin-left: 2px; font-size: 0.7em; color: #e57373;\">ORG</span></span> <span style=\"padding: 2px; border-radius: 4px; border: 1px solid #c8e6c9; background: #e8f5e9\">область, город Новозыбков Банк<span style=\"vertical-align: middle; margin-left: 2px; font-size: 0.7em; color: #66bb6a;\">LOC</span></span> Инвестор ИНН/КПП <span style=\"padding: 2px; border-radius: 4px; border: 1px solid #ffe0b2; background: #fff3e0\">100601303468<span style=\"vertical-align: middle; margin-left: 2px; font-size: 0.7em; color: #ffb74d;\">INNKPP</span></span> / <span style=\"padding: 2px; border-radius: 4px; border: 1px solid #ffe0b2; background: #fff3e0\">632501001<span style=\"vertical-align: middle; margin-left: 2px; font-size: 0.7em; color: #ffb74d;\">INNKPP</span></span> тел. +7-830-199-<span style=\"padding: 2px; border-radius: 4px; border: 1px solid #d1c4e9; background: #ede7f6\">8031<span style=\"vertical-align: middle; margin-left: 2px; font-size: 0.7em; color: #9575cd;\">STAT</span></span> корр. счет <span style=\"padding: 2px; border-radius: 4px; border: 1px solid #d7ccc8; background: #efebe9\">30310411361955797442<span style=\"vertical-align: middle; margin-left: 2px; font-size: 0.7em; color: #a1887f;\">RSKS</span></span></div>"
      ],
      "text/plain": [
       "<IPython.core.display.HTML object>"
      ]
     },
     "metadata": {},
     "output_type": "display_data"
    },
    {
     "data": {
      "text/html": [
       "<H3>ex 1:</H3>"
      ],
      "text/plain": [
       "<IPython.core.display.HTML object>"
      ]
     },
     "metadata": {},
     "output_type": "display_data"
    },
    {
     "data": {
      "text/html": [
       "<H4>DP:</H4>"
      ],
      "text/plain": [
       "<IPython.core.display.HTML object>"
      ]
     },
     "metadata": {},
     "output_type": "display_data"
    },
    {
     "data": {
      "text/html": [
       "<div class=\"tex2jax_ignore\" style=\"white-space: pre-wrap\">Поставщик ОО НИЖЕГОРОДСКАЯ РЕГИОНАЛЬНАЯ ОБЩЕСТВЕННАЯ ОРГАНИЗАЦИЯ ПРАВОВОЙ ПОДДЕРЖКИ БЫСТРЫЙ ЛЕГИТИМНЫЙ АРБИТРАЖ СПОРОВ ИНН КПП Субподрядчик 601500724 / 611501001 тел. +8-( 845) -147-5726 счет № 42160059899708393439 Филиал банка З-чик КОММЕРЧЕСКИЙ БАНК &quot;КОМПАНИЯ РОЗНИЧНОГО КРЕДИТОВАНИЯ&quot; (<span style=\"padding: 2px; border-radius: 4px; border: 1px solid #ffcdd2; background: #ffebee\">ОТКРЫТОЕ АКЦИОНЕРНОЕ ОБЩЕСТВО<span style=\"vertical-align: middle; margin-left: 2px; font-size: 0.7em; color: #e57373;\">ORG</span></span>) 183116686028 / 163201001 БИК 040557259 Адрес <span style=\"padding: 2px; border-radius: 4px; border: 1px solid #ffcdd2; background: #ffebee\">банка Подрядчик<span style=\"vertical-align: middle; margin-left: 2px; font-size: 0.7em; color: #e57373;\">ORG</span></span> Чувашская республика</div>"
      ],
      "text/plain": [
       "<IPython.core.display.HTML object>"
      ]
     },
     "metadata": {},
     "output_type": "display_data"
    },
    {
     "data": {
      "text/html": [
       "<H4>NT:</H4>"
      ],
      "text/plain": [
       "<IPython.core.display.HTML object>"
      ]
     },
     "metadata": {},
     "output_type": "display_data"
    },
    {
     "data": {
      "text/html": [
       "<div class=\"tex2jax_ignore\" style=\"white-space: pre-wrap\"><span style=\"padding: 2px; border-radius: 4px; border: 1px solid #ffcdd2; background: #ffebee\">Поставщик ОО НИЖЕГОРОДСКАЯ РЕГИОНАЛЬНАЯ ОБЩЕСТВЕННАЯ ОРГАНИЗАЦИЯ ПРАВОВОЙ ПОДДЕРЖКИ БЫСТРЫЙ ЛЕГИТИМНЫЙ АРБИТРАЖ СПОРОВ ИНН КПП<span style=\"vertical-align: middle; margin-left: 2px; font-size: 0.7em; color: #e57373;\">ORG</span></span> Субподрядчик 601500724 / 611501001 тел. +8-( 845) -147-5726 счет № 42160059899708393439 Филиал банка <span style=\"padding: 2px; border-radius: 4px; border: 1px solid #ffcdd2; background: #ffebee\">З-чик КОММЕРЧЕСКИЙ БАНК &quot;КОМПАНИЯ РОЗНИЧНОГО КРЕДИТОВАНИЯ&quot; (ОТКРЫТОЕ АКЦИОНЕРНОЕ ОБЩЕСТВО)<span style=\"vertical-align: middle; margin-left: 2px; font-size: 0.7em; color: #e57373;\">ORG</span></span> 183116686028 / 163201001 БИК 040557259 Адрес банка <span style=\"padding: 2px; border-radius: 4px; border: 1px solid #ffcdd2; background: #ffebee\">Подрядчик Чувашская республика<span style=\"vertical-align: middle; margin-left: 2px; font-size: 0.7em; color: #e57373;\">ORG</span></span></div>"
      ],
      "text/plain": [
       "<IPython.core.display.HTML object>"
      ]
     },
     "metadata": {},
     "output_type": "display_data"
    },
    {
     "data": {
      "text/html": [
       "<H4>LD:</H4>"
      ],
      "text/plain": [
       "<IPython.core.display.HTML object>"
      ]
     },
     "metadata": {},
     "output_type": "display_data"
    },
    {
     "data": {
      "text/html": [
       "<div class=\"tex2jax_ignore\" style=\"white-space: pre-wrap\">Поставщик <span style=\"padding: 2px; border-radius: 4px; border: 1px solid #ffcdd2; background: #ffebee\">ОО НИЖЕГОРОДСКАЯ РЕГИОНАЛЬНАЯ ОБЩЕСТВЕННАЯ ОРГАНИЗАЦИЯ ПРАВОВОЙ ПОДДЕРЖКИ БЫСТРЫЙ ЛЕГИТИМНЫЙ АРБИТРАЖ<span style=\"vertical-align: middle; margin-left: 2px; font-size: 0.7em; color: #e57373;\">ORG</span></span> СПОРОВ ИНН КПП Субподрядчик <span style=\"padding: 2px; border-radius: 4px; border: 1px solid #ffe0b2; background: #fff3e0\">601500724<span style=\"vertical-align: middle; margin-left: 2px; font-size: 0.7em; color: #ffb74d;\">INNKPP</span></span> / <span style=\"padding: 2px; border-radius: 4px; border: 1px solid #ffe0b2; background: #fff3e0\">611501001<span style=\"vertical-align: middle; margin-left: 2px; font-size: 0.7em; color: #ffb74d;\">INNKPP</span></span> тел. +8-( 845) -147-5726 счет № <span style=\"padding: 2px; border-radius: 4px; border: 1px solid #d7ccc8; background: #efebe9\">42160059899708393439<span style=\"vertical-align: middle; margin-left: 2px; font-size: 0.7em; color: #a1887f;\">RSKS</span></span> Филиал банка З-чик <span style=\"padding: 2px; border-radius: 4px; border: 1px solid #ffcdd2; background: #ffebee\">КОММЕРЧЕСКИЙ БАНК &quot;КОМПАНИЯ РОЗНИЧНОГО КРЕДИТОВАНИЯ&quot; (ОТКРЫТОЕ АКЦИОНЕРНОЕ ОБЩЕСТВО)<span style=\"vertical-align: middle; margin-left: 2px; font-size: 0.7em; color: #e57373;\">ORG</span></span> <span style=\"padding: 2px; border-radius: 4px; border: 1px solid #ffe0b2; background: #fff3e0\">183116686028<span style=\"vertical-align: middle; margin-left: 2px; font-size: 0.7em; color: #ffb74d;\">INNKPP</span></span> / <span style=\"padding: 2px; border-radius: 4px; border: 1px solid #ffe0b2; background: #fff3e0\">163201001<span style=\"vertical-align: middle; margin-left: 2px; font-size: 0.7em; color: #ffb74d;\">INNKPP</span></span> БИК <span style=\"padding: 2px; border-radius: 4px; border: 1px solid #d1c4e9; background: #ede7f6\">040557259<span style=\"vertical-align: middle; margin-left: 2px; font-size: 0.7em; color: #9575cd;\">STAT</span></span> Адрес банка Подрядчик <span style=\"padding: 2px; border-radius: 4px; border: 1px solid #c8e6c9; background: #e8f5e9\">Чувашская республика<span style=\"vertical-align: middle; margin-left: 2px; font-size: 0.7em; color: #66bb6a;\">LOC</span></span></div>"
      ],
      "text/plain": [
       "<IPython.core.display.HTML object>"
      ]
     },
     "metadata": {},
     "output_type": "display_data"
    }
   ],
   "source": [
    "for i, v in enumerate(df_test.values[:2]):\n",
    "    text = v[1]\n",
    "    dp = ast.literal_eval(v[3])\n",
    "    nt = ast.literal_eval(v[4])\n",
    "    ld = ast.literal_eval(v[5])\n",
    "    display(HTML(f'<H3>ex {v[0]}:</H3>'))\n",
    "    display(HTML(f'<H4>DP:</H4>'))\n",
    "    show_box_markup(text, nlp_ner.get_span_coordinates_any(dp, text, False), palette=palette(PER=BLUE, ORG=RED, LOC=GREEN, INNKPP=ORANGE, STAT=PURPLE, RSKS=BROWN))\n",
    "    display(HTML(f'<H4>NT:</H4>'))\n",
    "    show_box_markup(text, nlp_ner.get_span_coordinates_any(nt, text), palette=palette(PER=BLUE, ORG=RED, LOC=GREEN, INNKPP=ORANGE, STAT=PURPLE, RSKS=BROWN))\n",
    "    display(HTML(f'<H4>LD:</H4>'))\n",
    "    show_box_markup(text, nlp_ner.get_span_coordinates_any(ld, text), palette=palette(PER=BLUE, ORG=RED, LOC=GREEN, INNKPP=ORANGE, STAT=PURPLE, RSKS=BROWN))"
   ]
  },
  {
   "cell_type": "markdown",
   "id": "ff587536",
   "metadata": {},
   "source": [
    "### Подсчитываем статистику по исследуемым моделям"
   ]
  },
  {
   "cell_type": "markdown",
   "id": "58f57404",
   "metadata": {},
   "source": [
    "Запуск нашей модели на все 20 000 текстов\n",
    "\n",
    "Внимание! Обработка длится около 30 мин."
   ]
  },
  {
   "cell_type": "code",
   "execution_count": 11,
   "id": "1fad37e5",
   "metadata": {},
   "outputs": [
    {
     "name": "stdout",
     "output_type": "stream",
     "text": [
      "CPU times: user 5min 58s, sys: 631 ms, total: 5min 59s\n",
      "Wall time: 1min 30s\n"
     ]
    }
   ],
   "source": [
    "%%time\n",
    "# обновление поля в датафрейме\n",
    "\n",
    "df_test['LD_NER_PIPE'] = df_test['TEXT'].apply(nlp_ner.get_spans)\n",
    "df_test['LD_NER_PIPE'] = df_test['LD_NER_PIPE'].apply(str)\n",
    "# df_test.to_excel(BASE_DIR.joinpath('data/interim/NER_TEST_LD.xlsx'), index=False, engine='openpyxl')"
   ]
  },
  {
   "cell_type": "code",
   "execution_count": 74,
   "id": "1524f1fe",
   "metadata": {},
   "outputs": [
    {
     "data": {
      "text/plain": [
       "array([['Инвестор МУП МП ГОРОДСКОГО ОКРУГА САМАРА КРАСНОГЛИНСКИЕ БАНИ Адрес филиала банка Брянская область, город Новозыбков Банк Инвестор ИНН/КПП 100601303468 / 632501001 тел. +7-830-199-8031 корр. счет 30310411361955797442'],\n",
       "       ['Поставщик ОО НИЖЕГОРОДСКАЯ РЕГИОНАЛЬНАЯ ОБЩЕСТВЕННАЯ ОРГАНИЗАЦИЯ ПРАВОВОЙ ПОДДЕРЖКИ БЫСТРЫЙ ЛЕГИТИМНЫЙ АРБИТРАЖ СПОРОВ ИНН КПП Субподрядчик 601500724 / 611501001 тел. +8-( 845) -147-5726 счет № 42160059899708393439 Филиал банка З-чик КОММЕРЧЕСКИЙ БАНК \"КОМПАНИЯ РОЗНИЧНОГО КРЕДИТОВАНИЯ\" (ОТКРЫТОЕ АКЦИОНЕРНОЕ ОБЩЕСТВО) 183116686028 / 163201001 БИК 040557259 Адрес банка Подрядчик Чувашская республика'],\n",
       "       ['Субподрядчик СЕВЕРНОЕ ЛИНЕЙНОЕ ПРОИЗВОДСТВЕННОЕ УПРАВЛЕНИЕ МАГИСТРАЛЬНЫХ ГАЗОПРОВОДОВ (СЕВЕРНОЕ ЛПУМГ) 631226435882 ГОРОД МОСКВА УЛИЦА УСАЧЁВА ДОМ 24 Филиал банка Плательщик ООО Банк \"Саратов\" тел. 8 344 741 9083 БИК 044175088'],\n",
       "       ['Инвестор ООО ДЮКА ИНН КПП 564500394 / 231201001 624134, Свердловская обл, г Новоуральск, ул Чурина, д 12/2, оф 20 рс 44468253734659494408 Филиал банка П-щик АКЦИОНЕРНОЕ ОБЩЕСТВО КОММЕРЧЕСКИЙ БАНК \"КУБАНСКИЙ ТОРГОВЫЙ БАНК\" корр/сч 30446422624228206241'],\n",
       "       ['Заказчик Индивидуальный предприниматель Умаров Алишер Рустамжонович ИНН 9101033534 КПП З-чик 850601001 Банк П-щик Таурус Банк (АО) кор/сч 30314447881860661838 тел. +8 958 641 58 51 тел. 8-896-847-07-54']],\n",
       "      dtype=object)"
      ]
     },
     "execution_count": 74,
     "metadata": {},
     "output_type": "execute_result"
    }
   ],
   "source": [
    "df_test[['TEXT']].head(5).values"
   ]
  },
  {
   "cell_type": "code",
   "execution_count": 12,
   "id": "3193f7e9",
   "metadata": {},
   "outputs": [],
   "source": [
    "# подсчет статистики\n",
    "org_text = df_test['TEXT']\n",
    "correct_result = df_test['ORG_CORRECT']\n",
    "dp_result = df_test['ORG_DP']\n",
    "nt_result = df_test['ORG_NATASHA']\n",
    "ld_result = df_test['LD_NER_PIPE']\n",
    "\n",
    "correct_result = nomalize_spans(correct_result)\n",
    "dp_result = nomalize_spans(dp_result, False)\n",
    "nt_result = nomalize_spans(nt_result)\n",
    "ld_result = nomalize_spans(ld_result)\n",
    "\n",
    "res = [get_stat(df_test, correct_result, ld_result, 'LD_NER'),\n",
    "       get_stat(df_test, correct_result, dp_result, 'DPAVLOV_NER'),\n",
    "       get_stat(df_test, correct_result, nt_result, 'NATASHA_NER')]\n",
    "df_res = pd.DataFrame(res)[['name','correct', 'incorrect', 'partial', 'missed', 'spurious', 'possible', 'actual', 'precision', 'recall', 'f1', 'acuracy']]"
   ]
  },
  {
   "cell_type": "code",
   "execution_count": 13,
   "id": "8409e831",
   "metadata": {},
   "outputs": [
    {
     "data": {
      "text/html": [
       "<div>\n",
       "<style scoped>\n",
       "    .dataframe tbody tr th:only-of-type {\n",
       "        vertical-align: middle;\n",
       "    }\n",
       "\n",
       "    .dataframe tbody tr th {\n",
       "        vertical-align: top;\n",
       "    }\n",
       "\n",
       "    .dataframe thead th {\n",
       "        text-align: right;\n",
       "    }\n",
       "</style>\n",
       "<table border=\"1\" class=\"dataframe\">\n",
       "  <thead>\n",
       "    <tr style=\"text-align: right;\">\n",
       "      <th></th>\n",
       "      <th>name</th>\n",
       "      <th>correct</th>\n",
       "      <th>incorrect</th>\n",
       "      <th>partial</th>\n",
       "      <th>missed</th>\n",
       "      <th>spurious</th>\n",
       "      <th>possible</th>\n",
       "      <th>actual</th>\n",
       "      <th>precision</th>\n",
       "      <th>recall</th>\n",
       "      <th>f1</th>\n",
       "      <th>acuracy</th>\n",
       "    </tr>\n",
       "  </thead>\n",
       "  <tbody>\n",
       "    <tr>\n",
       "      <th>0</th>\n",
       "      <td>LD_NER</td>\n",
       "      <td>817</td>\n",
       "      <td>30</td>\n",
       "      <td>0</td>\n",
       "      <td>7</td>\n",
       "      <td>29</td>\n",
       "      <td>854</td>\n",
       "      <td>876</td>\n",
       "      <td>0.932648</td>\n",
       "      <td>0.956674</td>\n",
       "      <td>0.944509</td>\n",
       "      <td>0.944859</td>\n",
       "    </tr>\n",
       "    <tr>\n",
       "      <th>1</th>\n",
       "      <td>DPAVLOV_NER</td>\n",
       "      <td>445</td>\n",
       "      <td>227</td>\n",
       "      <td>0</td>\n",
       "      <td>233</td>\n",
       "      <td>671</td>\n",
       "      <td>905</td>\n",
       "      <td>1343</td>\n",
       "      <td>0.331348</td>\n",
       "      <td>0.491713</td>\n",
       "      <td>0.395907</td>\n",
       "      <td>0.219989</td>\n",
       "    </tr>\n",
       "    <tr>\n",
       "      <th>2</th>\n",
       "      <td>NATASHA_NER</td>\n",
       "      <td>113</td>\n",
       "      <td>380</td>\n",
       "      <td>0</td>\n",
       "      <td>362</td>\n",
       "      <td>355</td>\n",
       "      <td>855</td>\n",
       "      <td>848</td>\n",
       "      <td>0.133255</td>\n",
       "      <td>0.132164</td>\n",
       "      <td>0.132707</td>\n",
       "      <td>0.151637</td>\n",
       "    </tr>\n",
       "  </tbody>\n",
       "</table>\n",
       "</div>"
      ],
      "text/plain": [
       "          name  correct  incorrect  partial  missed  spurious  possible  \\\n",
       "0       LD_NER      817         30        0       7        29       854   \n",
       "1  DPAVLOV_NER      445        227        0     233       671       905   \n",
       "2  NATASHA_NER      113        380        0     362       355       855   \n",
       "\n",
       "   actual  precision    recall        f1   acuracy  \n",
       "0     876   0.932648  0.956674  0.944509  0.944859  \n",
       "1    1343   0.331348  0.491713  0.395907  0.219989  \n",
       "2     848   0.133255  0.132164  0.132707  0.151637  "
      ]
     },
     "execution_count": 13,
     "metadata": {},
     "output_type": "execute_result"
    }
   ],
   "source": [
    "df_res"
   ]
  },
  {
   "cell_type": "code",
   "execution_count": 57,
   "id": "f2cd38b8",
   "metadata": {},
   "outputs": [
    {
     "data": {
      "text/html": [
       "<div>\n",
       "<style scoped>\n",
       "    .dataframe tbody tr th:only-of-type {\n",
       "        vertical-align: middle;\n",
       "    }\n",
       "\n",
       "    .dataframe tbody tr th {\n",
       "        vertical-align: top;\n",
       "    }\n",
       "\n",
       "    .dataframe thead th {\n",
       "        text-align: right;\n",
       "    }\n",
       "</style>\n",
       "<table border=\"1\" class=\"dataframe\">\n",
       "  <thead>\n",
       "    <tr style=\"text-align: right;\">\n",
       "      <th></th>\n",
       "      <th>name</th>\n",
       "      <th>correct</th>\n",
       "      <th>incorrect</th>\n",
       "      <th>partial</th>\n",
       "      <th>missed</th>\n",
       "      <th>spurious</th>\n",
       "      <th>possible</th>\n",
       "      <th>actual</th>\n",
       "      <th>precision</th>\n",
       "      <th>recall</th>\n",
       "      <th>f1</th>\n",
       "      <th>acuracy</th>\n",
       "    </tr>\n",
       "  </thead>\n",
       "  <tbody>\n",
       "    <tr>\n",
       "      <th>0</th>\n",
       "      <td>LD_NER</td>\n",
       "      <td>16662</td>\n",
       "      <td>488</td>\n",
       "      <td>0</td>\n",
       "      <td>81</td>\n",
       "      <td>383</td>\n",
       "      <td>17231</td>\n",
       "      <td>17533</td>\n",
       "      <td>0.950322</td>\n",
       "      <td>0.966978</td>\n",
       "      <td>0.958578</td>\n",
       "      <td>0.958861</td>\n",
       "    </tr>\n",
       "    <tr>\n",
       "      <th>1</th>\n",
       "      <td>DPAVLOV_NER</td>\n",
       "      <td>8800</td>\n",
       "      <td>4660</td>\n",
       "      <td>0</td>\n",
       "      <td>4655</td>\n",
       "      <td>13690</td>\n",
       "      <td>18115</td>\n",
       "      <td>27150</td>\n",
       "      <td>0.324125</td>\n",
       "      <td>0.485785</td>\n",
       "      <td>0.388821</td>\n",
       "      <td>0.209639</td>\n",
       "    </tr>\n",
       "    <tr>\n",
       "      <th>2</th>\n",
       "      <td>NATASHA_NER</td>\n",
       "      <td>2219</td>\n",
       "      <td>7814</td>\n",
       "      <td>0</td>\n",
       "      <td>7236</td>\n",
       "      <td>7582</td>\n",
       "      <td>17269</td>\n",
       "      <td>17615</td>\n",
       "      <td>0.125972</td>\n",
       "      <td>0.128496</td>\n",
       "      <td>0.127222</td>\n",
       "      <td>0.130189</td>\n",
       "    </tr>\n",
       "  </tbody>\n",
       "</table>\n",
       "</div>"
      ],
      "text/plain": [
       "          name  correct  incorrect  partial  missed  spurious  possible  \\\n",
       "0       LD_NER    16662        488        0      81       383     17231   \n",
       "1  DPAVLOV_NER     8800       4660        0    4655     13690     18115   \n",
       "2  NATASHA_NER     2219       7814        0    7236      7582     17269   \n",
       "\n",
       "   actual  precision    recall        f1   acuracy  \n",
       "0   17533   0.950322  0.966978  0.958578  0.958861  \n",
       "1   27150   0.324125  0.485785  0.388821  0.209639  \n",
       "2   17615   0.125972  0.128496  0.127222  0.130189  "
      ]
     },
     "execution_count": 57,
     "metadata": {},
     "output_type": "execute_result"
    }
   ],
   "source": [
    "# 'models/ner_dpbert_3epoch_95f1ORG_99acc.bin' = 100k\n",
    "df_res"
   ]
  },
  {
   "cell_type": "code",
   "execution_count": 25,
   "id": "dfd6f94a",
   "metadata": {},
   "outputs": [
    {
     "data": {
      "text/html": [
       "<div>\n",
       "<style scoped>\n",
       "    .dataframe tbody tr th:only-of-type {\n",
       "        vertical-align: middle;\n",
       "    }\n",
       "\n",
       "    .dataframe tbody tr th {\n",
       "        vertical-align: top;\n",
       "    }\n",
       "\n",
       "    .dataframe thead th {\n",
       "        text-align: right;\n",
       "    }\n",
       "</style>\n",
       "<table border=\"1\" class=\"dataframe\">\n",
       "  <thead>\n",
       "    <tr style=\"text-align: right;\">\n",
       "      <th></th>\n",
       "      <th>name</th>\n",
       "      <th>correct</th>\n",
       "      <th>incorrect</th>\n",
       "      <th>partial</th>\n",
       "      <th>missed</th>\n",
       "      <th>spurious</th>\n",
       "      <th>possible</th>\n",
       "      <th>actual</th>\n",
       "      <th>precision</th>\n",
       "      <th>recall</th>\n",
       "      <th>f1</th>\n",
       "      <th>acuracy</th>\n",
       "    </tr>\n",
       "  </thead>\n",
       "  <tbody>\n",
       "    <tr>\n",
       "      <th>0</th>\n",
       "      <td>LD_NER</td>\n",
       "      <td>12478</td>\n",
       "      <td>4334</td>\n",
       "      <td>0</td>\n",
       "      <td>460</td>\n",
       "      <td>2692</td>\n",
       "      <td>17272</td>\n",
       "      <td>19504</td>\n",
       "      <td>0.639766</td>\n",
       "      <td>0.722441</td>\n",
       "      <td>0.678595</td>\n",
       "      <td>0.662315</td>\n",
       "    </tr>\n",
       "    <tr>\n",
       "      <th>1</th>\n",
       "      <td>DPAVLOV_NER</td>\n",
       "      <td>8800</td>\n",
       "      <td>4660</td>\n",
       "      <td>0</td>\n",
       "      <td>4655</td>\n",
       "      <td>13690</td>\n",
       "      <td>18115</td>\n",
       "      <td>27150</td>\n",
       "      <td>0.324125</td>\n",
       "      <td>0.485785</td>\n",
       "      <td>0.388821</td>\n",
       "      <td>0.209639</td>\n",
       "    </tr>\n",
       "    <tr>\n",
       "      <th>2</th>\n",
       "      <td>NATASHA_NER</td>\n",
       "      <td>2219</td>\n",
       "      <td>7814</td>\n",
       "      <td>0</td>\n",
       "      <td>7236</td>\n",
       "      <td>7582</td>\n",
       "      <td>17269</td>\n",
       "      <td>17615</td>\n",
       "      <td>0.125972</td>\n",
       "      <td>0.128496</td>\n",
       "      <td>0.127222</td>\n",
       "      <td>0.130189</td>\n",
       "    </tr>\n",
       "  </tbody>\n",
       "</table>\n",
       "</div>"
      ],
      "text/plain": [
       "          name  correct  incorrect  partial  missed  spurious  possible  \\\n",
       "0       LD_NER    12478       4334        0     460      2692     17272   \n",
       "1  DPAVLOV_NER     8800       4660        0    4655     13690     18115   \n",
       "2  NATASHA_NER     2219       7814        0    7236      7582     17269   \n",
       "\n",
       "   actual  precision    recall        f1   acuracy  \n",
       "0   19504   0.639766  0.722441  0.678595  0.662315  \n",
       "1   27150   0.324125  0.485785  0.388821  0.209639  \n",
       "2   17615   0.125972  0.128496  0.127222  0.130189  "
      ]
     },
     "execution_count": 25,
     "metadata": {},
     "output_type": "execute_result"
    }
   ],
   "source": [
    "#ner_dpbert_37epoch_86f1_93acc.bin\n",
    "df_res"
   ]
  },
  {
   "cell_type": "code",
   "execution_count": 16,
   "id": "1b6017d4",
   "metadata": {},
   "outputs": [
    {
     "data": {
      "text/html": [
       "<div>\n",
       "<style scoped>\n",
       "    .dataframe tbody tr th:only-of-type {\n",
       "        vertical-align: middle;\n",
       "    }\n",
       "\n",
       "    .dataframe tbody tr th {\n",
       "        vertical-align: top;\n",
       "    }\n",
       "\n",
       "    .dataframe thead th {\n",
       "        text-align: right;\n",
       "    }\n",
       "</style>\n",
       "<table border=\"1\" class=\"dataframe\">\n",
       "  <thead>\n",
       "    <tr style=\"text-align: right;\">\n",
       "      <th></th>\n",
       "      <th>name</th>\n",
       "      <th>correct</th>\n",
       "      <th>incorrect</th>\n",
       "      <th>partial</th>\n",
       "      <th>missed</th>\n",
       "      <th>spurious</th>\n",
       "      <th>possible</th>\n",
       "      <th>actual</th>\n",
       "      <th>precision</th>\n",
       "      <th>recall</th>\n",
       "      <th>f1</th>\n",
       "      <th>acuracy</th>\n",
       "    </tr>\n",
       "  </thead>\n",
       "  <tbody>\n",
       "    <tr>\n",
       "      <th>0</th>\n",
       "      <td>LD_NER</td>\n",
       "      <td>12432</td>\n",
       "      <td>4261</td>\n",
       "      <td>0</td>\n",
       "      <td>556</td>\n",
       "      <td>2693</td>\n",
       "      <td>17249</td>\n",
       "      <td>19386</td>\n",
       "      <td>0.641288</td>\n",
       "      <td>0.720737</td>\n",
       "      <td>0.678695</td>\n",
       "      <td>0.663715</td>\n",
       "    </tr>\n",
       "    <tr>\n",
       "      <th>1</th>\n",
       "      <td>DPAVLOV_NER</td>\n",
       "      <td>8800</td>\n",
       "      <td>4660</td>\n",
       "      <td>0</td>\n",
       "      <td>4655</td>\n",
       "      <td>13690</td>\n",
       "      <td>18115</td>\n",
       "      <td>27150</td>\n",
       "      <td>0.324125</td>\n",
       "      <td>0.485785</td>\n",
       "      <td>0.388821</td>\n",
       "      <td>0.209639</td>\n",
       "    </tr>\n",
       "    <tr>\n",
       "      <th>2</th>\n",
       "      <td>NATASHA_NER</td>\n",
       "      <td>2219</td>\n",
       "      <td>7814</td>\n",
       "      <td>0</td>\n",
       "      <td>7236</td>\n",
       "      <td>7582</td>\n",
       "      <td>17269</td>\n",
       "      <td>17615</td>\n",
       "      <td>0.125972</td>\n",
       "      <td>0.128496</td>\n",
       "      <td>0.127222</td>\n",
       "      <td>0.130189</td>\n",
       "    </tr>\n",
       "  </tbody>\n",
       "</table>\n",
       "</div>"
      ],
      "text/plain": [
       "          name  correct  incorrect  partial  missed  spurious  possible  \\\n",
       "0       LD_NER    12432       4261        0     556      2693     17249   \n",
       "1  DPAVLOV_NER     8800       4660        0    4655     13690     18115   \n",
       "2  NATASHA_NER     2219       7814        0    7236      7582     17269   \n",
       "\n",
       "   actual  precision    recall        f1   acuracy  \n",
       "0   19386   0.641288  0.720737  0.678695  0.663715  \n",
       "1   27150   0.324125  0.485785  0.388821  0.209639  \n",
       "2   17615   0.125972  0.128496  0.127222  0.130189  "
      ]
     },
     "execution_count": 16,
     "metadata": {},
     "output_type": "execute_result"
    }
   ],
   "source": [
    "#с учетом обновленной постобработки вывода НЕРа и порогом меры уверенности 0.8\n",
    "df_res"
   ]
  },
  {
   "cell_type": "code",
   "execution_count": 29,
   "id": "2cffa90d",
   "metadata": {},
   "outputs": [
    {
     "data": {
      "text/html": [
       "<div>\n",
       "<style scoped>\n",
       "    .dataframe tbody tr th:only-of-type {\n",
       "        vertical-align: middle;\n",
       "    }\n",
       "\n",
       "    .dataframe tbody tr th {\n",
       "        vertical-align: top;\n",
       "    }\n",
       "\n",
       "    .dataframe thead th {\n",
       "        text-align: right;\n",
       "    }\n",
       "</style>\n",
       "<table border=\"1\" class=\"dataframe\">\n",
       "  <thead>\n",
       "    <tr style=\"text-align: right;\">\n",
       "      <th></th>\n",
       "      <th>name</th>\n",
       "      <th>correct</th>\n",
       "      <th>incorrect</th>\n",
       "      <th>partial</th>\n",
       "      <th>missed</th>\n",
       "      <th>spurious</th>\n",
       "      <th>possible</th>\n",
       "      <th>actual</th>\n",
       "      <th>precision</th>\n",
       "      <th>recall</th>\n",
       "      <th>f1</th>\n",
       "      <th>acuracy</th>\n",
       "    </tr>\n",
       "  </thead>\n",
       "  <tbody>\n",
       "    <tr>\n",
       "      <th>0</th>\n",
       "      <td>LD_NER</td>\n",
       "      <td>12198</td>\n",
       "      <td>4517</td>\n",
       "      <td>0</td>\n",
       "      <td>538</td>\n",
       "      <td>3959</td>\n",
       "      <td>17253</td>\n",
       "      <td>20674</td>\n",
       "      <td>0.590016</td>\n",
       "      <td>0.707007</td>\n",
       "      <td>0.643236</td>\n",
       "      <td>0.613433</td>\n",
       "    </tr>\n",
       "    <tr>\n",
       "      <th>1</th>\n",
       "      <td>DPAVLOV_NER</td>\n",
       "      <td>8800</td>\n",
       "      <td>4660</td>\n",
       "      <td>0</td>\n",
       "      <td>4655</td>\n",
       "      <td>13690</td>\n",
       "      <td>18115</td>\n",
       "      <td>27150</td>\n",
       "      <td>0.324125</td>\n",
       "      <td>0.485785</td>\n",
       "      <td>0.388821</td>\n",
       "      <td>0.209639</td>\n",
       "    </tr>\n",
       "    <tr>\n",
       "      <th>2</th>\n",
       "      <td>NATASHA_NER</td>\n",
       "      <td>2219</td>\n",
       "      <td>7814</td>\n",
       "      <td>0</td>\n",
       "      <td>7236</td>\n",
       "      <td>7582</td>\n",
       "      <td>17269</td>\n",
       "      <td>17615</td>\n",
       "      <td>0.125972</td>\n",
       "      <td>0.128496</td>\n",
       "      <td>0.127222</td>\n",
       "      <td>0.130189</td>\n",
       "    </tr>\n",
       "  </tbody>\n",
       "</table>\n",
       "</div>"
      ],
      "text/plain": [
       "          name  correct  incorrect  partial  missed  spurious  possible  \\\n",
       "0       LD_NER    12198       4517        0     538      3959     17253   \n",
       "1  DPAVLOV_NER     8800       4660        0    4655     13690     18115   \n",
       "2  NATASHA_NER     2219       7814        0    7236      7582     17269   \n",
       "\n",
       "   actual  precision    recall        f1   acuracy  \n",
       "0   20674   0.590016  0.707007  0.643236  0.613433  \n",
       "1   27150   0.324125  0.485785  0.388821  0.209639  \n",
       "2   17615   0.125972  0.128496  0.127222  0.130189  "
      ]
     },
     "execution_count": 29,
     "metadata": {},
     "output_type": "execute_result"
    }
   ],
   "source": [
    "# До обновления постобработки с учетм мер уверенности\n",
    "df_res"
   ]
  },
  {
   "cell_type": "markdown",
   "id": "1d22acfa",
   "metadata": {},
   "source": [
    "### Подсчитываем статистику по шаблонам, с перепутанным порядком сущностей = из тестов на обучении"
   ]
  },
  {
   "cell_type": "code",
   "execution_count": 13,
   "id": "36b7880e",
   "metadata": {},
   "outputs": [],
   "source": [
    "import ast\n",
    "test_excel = BASE_DIR.joinpath('data/interim/df_test.xlsx')\n",
    "\n",
    "df_test_rnd = pd.read_excel(test_excel, engine='openpyxl')\n",
    "df_test_rnd['TEXT'] = df_test_rnd['tokens'].apply(lambda x: ' '.join(ast.literal_eval(x)))\n",
    "df_test_rnd['ORG_CORRECT'] = df_test_rnd['spans'].apply(lambda x: [i.split(':')for i in ast.literal_eval(x)])\n",
    "df_test_rnd['ORG_CORRECT'] = df_test_rnd['ORG_CORRECT'].apply(str)"
   ]
  },
  {
   "cell_type": "code",
   "execution_count": 14,
   "id": "a504c630",
   "metadata": {},
   "outputs": [
    {
     "name": "stdout",
     "output_type": "stream",
     "text": [
      "ex 0:\n"
     ]
    },
    {
     "data": {
      "text/html": [
       "<div class=\"tex2jax_ignore\" style=\"white-space: pre-wrap\">Адрес банка Подрядчик <span style=\"padding: 2px; border-radius: 4px; border: 1px solid #d1c4e9; background: #ede7f6\">+<span style=\"vertical-align: middle; margin-left: 2px; font-size: 0.7em; color: #9575cd;\">STAT</span></span><span style=\"padding: 2px; border-radius: 4px; border: 1px solid #d1c4e9; background: #ede7f6\">8<span style=\"vertical-align: middle; margin-left: 2px; font-size: 0.7em; color: #9575cd;\">STAT</span></span><span style=\"padding: 2px; border-radius: 4px; border: 1px solid #d1c4e9; background: #ede7f6\">-<span style=\"vertical-align: middle; margin-left: 2px; font-size: 0.7em; color: #9575cd;\">STAT</span></span><span style=\"padding: 2px; border-radius: 4px; border: 1px solid #d1c4e9; background: #ede7f6\">910<span style=\"vertical-align: middle; margin-left: 2px; font-size: 0.7em; color: #9575cd;\">STAT</span></span><span style=\"padding: 2px; border-radius: 4px; border: 1px solid #d1c4e9; background: #ede7f6\">-<span style=\"vertical-align: middle; margin-left: 2px; font-size: 0.7em; color: #9575cd;\">STAT</span></span><span style=\"padding: 2px; border-radius: 4px; border: 1px solid #d1c4e9; background: #ede7f6\">247<span style=\"vertical-align: middle; margin-left: 2px; font-size: 0.7em; color: #9575cd;\">STAT</span></span><span style=\"padding: 2px; border-radius: 4px; border: 1px solid #d1c4e9; background: #ede7f6\">-<span style=\"vertical-align: middle; margin-left: 2px; font-size: 0.7em; color: #9575cd;\">STAT</span></span><span style=\"padding: 2px; border-radius: 4px; border: 1px solid #d1c4e9; background: #ede7f6\">7869<span style=\"vertical-align: middle; margin-left: 2px; font-size: 0.7em; color: #9575cd;\">STAT</span></span> Генподрядчик <span style=\"padding: 2px; border-radius: 4px; border: 1px solid #ffcdd2; background: #ffebee\">ИП Войтицкая Мария Викторовна<span style=\"vertical-align: middle; margin-left: 2px; font-size: 0.7em; color: #e57373;\">ORG</span></span> КПП Поставщик <span style=\"padding: 2px; border-radius: 4px; border: 1px solid #ffe0b2; background: #fff3e0\">7802032391<span style=\"vertical-align: middle; margin-left: 2px; font-size: 0.7em; color: #ffb74d;\">INNKPP</span></span> <span style=\"padding: 2px; border-radius: 4px; border: 1px solid #ffe0b2; background: #fff3e0\">773601001<span style=\"vertical-align: middle; margin-left: 2px; font-size: 0.7em; color: #ffb74d;\">INNKPP</span></span> рас. счет <span style=\"padding: 2px; border-radius: 4px; border: 1px solid #d7ccc8; background: #efebe9\">44131401836252830059<span style=\"vertical-align: middle; margin-left: 2px; font-size: 0.7em; color: #a1887f;\">RSKS</span></span> Адрес банка <span style=\"padding: 2px; border-radius: 4px; border: 1px solid #c8e6c9; background: #e8f5e9\">455019 , Челябинская обл , г Магнитогорск , Орджоникидзевский р-н , ул Маяковского , д 21А , оф 64<span style=\"vertical-align: middle; margin-left: 2px; font-size: 0.7em; color: #66bb6a;\">LOC</span></span> Филиал банка <span style=\"padding: 2px; border-radius: 4px; border: 1px solid #ffcdd2; background: #ffebee\">&quot; Международный коммерческий банк &quot; ( акционерное общество )<span style=\"vertical-align: middle; margin-left: 2px; font-size: 0.7em; color: #e57373;\">ORG</span></span> <span style=\"padding: 2px; border-radius: 4px; border: 1px solid #d1c4e9; background: #ede7f6\">+<span style=\"vertical-align: middle; margin-left: 2px; font-size: 0.7em; color: #9575cd;\">STAT</span></span><span style=\"padding: 2px; border-radius: 4px; border: 1px solid #d1c4e9; background: #ede7f6\">8 ( 381 ) 21 93 410<span style=\"vertical-align: middle; margin-left: 2px; font-size: 0.7em; color: #9575cd;\">STAT</span></span> к/с <span style=\"padding: 2px; border-radius: 4px; border: 1px solid #d7ccc8; background: #efebe9\">30559546944389521518<span style=\"vertical-align: middle; margin-left: 2px; font-size: 0.7em; color: #a1887f;\">RSKS</span></span> БИК <span style=\"padding: 2px; border-radius: 4px; border: 1px solid #d1c4e9; background: #ede7f6\">043816894<span style=\"vertical-align: middle; margin-left: 2px; font-size: 0.7em; color: #9575cd;\">STAT</span></span></div>"
      ],
      "text/plain": [
       "<IPython.core.display.HTML object>"
      ]
     },
     "metadata": {},
     "output_type": "display_data"
    },
    {
     "name": "stdout",
     "output_type": "stream",
     "text": [
      "ex 1:\n"
     ]
    },
    {
     "data": {
      "text/html": [
       "<div class=\"tex2jax_ignore\" style=\"white-space: pre-wrap\">Плательщик Банк Зак-чик БИК Банка <span style=\"padding: 2px; border-radius: 4px; border: 1px solid #d1c4e9; background: #ede7f6\">046204230<span style=\"vertical-align: middle; margin-left: 2px; font-size: 0.7em; color: #9575cd;\">STAT</span></span> <span style=\"padding: 2px; border-radius: 4px; border: 1px solid #d7ccc8; background: #efebe9\">30368682457670344545<span style=\"vertical-align: middle; margin-left: 2px; font-size: 0.7em; color: #a1887f;\">RSKS</span></span> тел. <span style=\"padding: 2px; border-radius: 4px; border: 1px solid #d1c4e9; background: #ede7f6\">7<span style=\"vertical-align: middle; margin-left: 2px; font-size: 0.7em; color: #9575cd;\">STAT</span></span><span style=\"padding: 2px; border-radius: 4px; border: 1px solid #d1c4e9; background: #ede7f6\">-<span style=\"vertical-align: middle; margin-left: 2px; font-size: 0.7em; color: #9575cd;\">STAT</span></span><span style=\"padding: 2px; border-radius: 4px; border: 1px solid #d1c4e9; background: #ede7f6\">( 335 ) -5702925<span style=\"vertical-align: middle; margin-left: 2px; font-size: 0.7em; color: #9575cd;\">STAT</span></span></div>"
      ],
      "text/plain": [
       "<IPython.core.display.HTML object>"
      ]
     },
     "metadata": {},
     "output_type": "display_data"
    },
    {
     "name": "stdout",
     "output_type": "stream",
     "text": [
      "ex 2:\n"
     ]
    },
    {
     "data": {
      "text/html": [
       "<div class=\"tex2jax_ignore\" style=\"white-space: pre-wrap\">Лицензиат <span style=\"padding: 2px; border-radius: 4px; border: 1px solid #ffcdd2; background: #ffebee\">НП НП ПО СОДЕЙСТВИЮ ВЕТЕРИНАРНОЙ ДЕЯТЕЛЬНОСТИ ТВЕРСКАЯ ГИЛЬДИЯ ВЕТЕРИНАРНЫХ ПРАКТИКУЮЩИХ ВРАЧЕЙ<span style=\"vertical-align: middle; margin-left: 2px; font-size: 0.7em; color: #e57373;\">ORG</span></span> Лицензиар КПП/ИНН <span style=\"padding: 2px; border-radius: 4px; border: 1px solid #ffe0b2; background: #fff3e0\">272402001<span style=\"vertical-align: middle; margin-left: 2px; font-size: 0.7em; color: #ffb74d;\">INNKPP</span></span> <span style=\"padding: 2px; border-radius: 4px; border: 1px solid #ffe0b2; background: #fff3e0\">6316271431<span style=\"vertical-align: middle; margin-left: 2px; font-size: 0.7em; color: #ffb74d;\">INNKPP</span></span> Адрес филиала банка Получатель <span style=\"padding: 2px; border-radius: 4px; border: 1px solid #d1c4e9; background: #ede7f6\">+<span style=\"vertical-align: middle; margin-left: 2px; font-size: 0.7em; color: #9575cd;\">STAT</span></span><span style=\"padding: 2px; border-radius: 4px; border: 1px solid #d1c4e9; background: #ede7f6\">7 392 21 88 543<span style=\"vertical-align: middle; margin-left: 2px; font-size: 0.7em; color: #9575cd;\">STAT</span></span> Банк <span style=\"padding: 2px; border-radius: 4px; border: 1px solid #ffcdd2; background: #ffebee\">ИНВЕСТТОРГБАНК АО<span style=\"vertical-align: middle; margin-left: 2px; font-size: 0.7em; color: #e57373;\">ORG</span></span> кор. <span style=\"padding: 2px; border-radius: 4px; border: 1px solid #d7ccc8; background: #efebe9\">30259076610344358617<span style=\"vertical-align: middle; margin-left: 2px; font-size: 0.7em; color: #a1887f;\">RSKS</span></span> счет № <span style=\"padding: 2px; border-radius: 4px; border: 1px solid #d7ccc8; background: #efebe9\">43383883433132771547<span style=\"vertical-align: middle; margin-left: 2px; font-size: 0.7em; color: #a1887f;\">RSKS</span></span> Адрес банка Покупатель <span style=\"padding: 2px; border-radius: 4px; border: 1px solid #c8e6c9; background: #e8f5e9\">353807 , Краснодарский край , Красноармейский р-н , ст-ца Полтавская , пер Л.Толстого , д 6<span style=\"vertical-align: middle; margin-left: 2px; font-size: 0.7em; color: #66bb6a;\">LOC</span></span> БИК Банка</div>"
      ],
      "text/plain": [
       "<IPython.core.display.HTML object>"
      ]
     },
     "metadata": {},
     "output_type": "display_data"
    },
    {
     "name": "stdout",
     "output_type": "stream",
     "text": [
      "ex 3:\n"
     ]
    },
    {
     "data": {
      "text/html": [
       "<div class=\"tex2jax_ignore\" style=\"white-space: pre-wrap\">Поставщик ИНН <span style=\"padding: 2px; border-radius: 4px; border: 1px solid #ffe0b2; background: #fff3e0\">9715272376<span style=\"vertical-align: middle; margin-left: 2px; font-size: 0.7em; color: #ffb74d;\">INNKPP</span></span> КПП банк <span style=\"padding: 2px; border-radius: 4px; border: 1px solid #ffcdd2; background: #ffebee\">АКЦИОНЕРНЫЙ КОММЕРЧЕСКИЙ БАНК &quot; АНДЖИБАНК &quot; ( ОТКРЫТОЕ АКЦИОНЕРНОЕ ОБЩЕСТВО )<span style=\"vertical-align: middle; margin-left: 2px; font-size: 0.7em; color: #e57373;\">ORG</span></span> <span style=\"padding: 2px; border-radius: 4px; border: 1px solid #ffe0b2; background: #fff3e0\">301700281861<span style=\"vertical-align: middle; margin-left: 2px; font-size: 0.7em; color: #ffb74d;\">INNKPP</span></span> <span style=\"padding: 2px; border-radius: 4px; border: 1px solid #ffe0b2; background: #fff3e0\">121501001<span style=\"vertical-align: middle; margin-left: 2px; font-size: 0.7em; color: #ffb74d;\">INNKPP</span></span> Адрес филиала банка Лицензиар <span style=\"padding: 2px; border-radius: 4px; border: 1px solid #c8e6c9; background: #e8f5e9\">ГОРОД МОСКВА УЛИЦА ИВАНА ФРАНКО ДОМ 48 СТРОЕНИЕ 11<span style=\"vertical-align: middle; margin-left: 2px; font-size: 0.7em; color: #66bb6a;\">LOC</span></span> р/сч <span style=\"padding: 2px; border-radius: 4px; border: 1px solid #d7ccc8; background: #efebe9\">45554033357265180201<span style=\"vertical-align: middle; margin-left: 2px; font-size: 0.7em; color: #a1887f;\">RSKS</span></span> тел. <span style=\"padding: 2px; border-radius: 4px; border: 1px solid #d1c4e9; background: #ede7f6\">+<span style=\"vertical-align: middle; margin-left: 2px; font-size: 0.7em; color: #9575cd;\">STAT</span></span><span style=\"padding: 2px; border-radius: 4px; border: 1px solid #d1c4e9; background: #ede7f6\">7 394 482 05 16<span style=\"vertical-align: middle; margin-left: 2px; font-size: 0.7em; color: #9575cd;\">STAT</span></span></div>"
      ],
      "text/plain": [
       "<IPython.core.display.HTML object>"
      ]
     },
     "metadata": {},
     "output_type": "display_data"
    },
    {
     "name": "stdout",
     "output_type": "stream",
     "text": [
      "ex 4:\n"
     ]
    },
    {
     "data": {
      "text/html": [
       "<div class=\"tex2jax_ignore\" style=\"white-space: pre-wrap\">П-щик <span style=\"padding: 2px; border-radius: 4px; border: 1px solid #ffcdd2; background: #ffebee\">ООО &quot; ПАСИФИК &quot;<span style=\"vertical-align: middle; margin-left: 2px; font-size: 0.7em; color: #e57373;\">ORG</span></span> Исп-тель ИНН КПП Плательщик <span style=\"padding: 2px; border-radius: 4px; border: 1px solid #ffe0b2; background: #fff3e0\">100100433138<span style=\"vertical-align: middle; margin-left: 2px; font-size: 0.7em; color: #ffb74d;\">INNKPP</span></span> / <span style=\"padding: 2px; border-radius: 4px; border: 1px solid #c8e6c9; background: #e8f5e9\">ОБЛАСТЬ КОСТРОМСКАЯ ГОРОД КОСТРОМА УЛИЦА ИНДУСТРИАЛЬНАЯ 6 97<span style=\"vertical-align: middle; margin-left: 2px; font-size: 0.7em; color: #66bb6a;\">LOC</span></span> тел. <span style=\"padding: 2px; border-radius: 4px; border: 1px solid #d1c4e9; background: #ede7f6\">+<span style=\"vertical-align: middle; margin-left: 2px; font-size: 0.7em; color: #9575cd;\">STAT</span></span><span style=\"padding: 2px; border-radius: 4px; border: 1px solid #d1c4e9; background: #ede7f6\">7 386 08 97 935<span style=\"vertical-align: middle; margin-left: 2px; font-size: 0.7em; color: #9575cd;\">STAT</span></span> Адрес филиала банка Покупатель <span style=\"padding: 2px; border-radius: 4px; border: 1px solid #c8e6c9; background: #e8f5e9\">108814 , Г. МОСКВА , П. Сосенское , Б-Р ВЕЛАСКЕСА , Д. 4 , ЭТАЖ/СЕК. 1/2 КОМ. 5<span style=\"vertical-align: middle; margin-left: 2px; font-size: 0.7em; color: #66bb6a;\">LOC</span></span> <span style=\"padding: 2px; border-radius: 4px; border: 1px solid #d1c4e9; background: #ede7f6\">+<span style=\"vertical-align: middle; margin-left: 2px; font-size: 0.7em; color: #9575cd;\">STAT</span></span><span style=\"padding: 2px; border-radius: 4px; border: 1px solid #d1c4e9; background: #ede7f6\">8 983 4607560<span style=\"vertical-align: middle; margin-left: 2px; font-size: 0.7em; color: #9575cd;\">STAT</span></span> р. счет БИК Банка <span style=\"padding: 2px; border-radius: 4px; border: 1px solid #d1c4e9; background: #ede7f6\">046203181<span style=\"vertical-align: middle; margin-left: 2px; font-size: 0.7em; color: #9575cd;\">STAT</span></span> банк <span style=\"padding: 2px; border-radius: 4px; border: 1px solid #ffcdd2; background: #ffebee\">АКБ &quot; Ланта-Банк &quot; ( АО )<span style=\"vertical-align: middle; margin-left: 2px; font-size: 0.7em; color: #e57373;\">ORG</span></span> корр./счет</div>"
      ],
      "text/plain": [
       "<IPython.core.display.HTML object>"
      ]
     },
     "metadata": {},
     "output_type": "display_data"
    },
    {
     "name": "stdout",
     "output_type": "stream",
     "text": [
      "ex 5:\n"
     ]
    },
    {
     "data": {
      "text/html": [
       "<div class=\"tex2jax_ignore\" style=\"white-space: pre-wrap\">Исп-тель <span style=\"padding: 2px; border-radius: 4px; border: 1px solid #ffcdd2; background: #ffebee\">АКЦИОНЕРНОЕ ОБЩЕСТВО &quot; АМТЕЛ-СВЯЗЬ &quot;<span style=\"vertical-align: middle; margin-left: 2px; font-size: 0.7em; color: #e57373;\">ORG</span></span> Адрес банка Подрядчик <span style=\"padding: 2px; border-radius: 4px; border: 1px solid #c8e6c9; background: #e8f5e9\">Астраханская область , город Астрахань<span style=\"vertical-align: middle; margin-left: 2px; font-size: 0.7em; color: #66bb6a;\">LOC</span></span> Лицензиат <span style=\"padding: 2px; border-radius: 4px; border: 1px solid #ffe0b2; background: #fff3e0\">631601001<span style=\"vertical-align: middle; margin-left: 2px; font-size: 0.7em; color: #ffb74d;\">INNKPP</span></span> <span style=\"padding: 2px; border-radius: 4px; border: 1px solid #d1c4e9; background: #ede7f6\">+<span style=\"vertical-align: middle; margin-left: 2px; font-size: 0.7em; color: #9575cd;\">STAT</span></span><span style=\"padding: 2px; border-radius: 4px; border: 1px solid #d1c4e9; background: #ede7f6\">8 ( 819 ) 977 43 13<span style=\"vertical-align: middle; margin-left: 2px; font-size: 0.7em; color: #9575cd;\">STAT</span></span> БИК <span style=\"padding: 2px; border-radius: 4px; border: 1px solid #d1c4e9; background: #ede7f6\">048820121<span style=\"vertical-align: middle; margin-left: 2px; font-size: 0.7em; color: #9575cd;\">STAT</span></span> <span style=\"padding: 2px; border-radius: 4px; border: 1px solid #d7ccc8; background: #efebe9\">30550798173204531427<span style=\"vertical-align: middle; margin-left: 2px; font-size: 0.7em; color: #a1887f;\">RSKS</span></span> Банк <span style=\"padding: 2px; border-radius: 4px; border: 1px solid #d1c4e9; background: #ede7f6\">7<span style=\"vertical-align: middle; margin-left: 2px; font-size: 0.7em; color: #9575cd;\">STAT</span></span><span style=\"padding: 2px; border-radius: 4px; border: 1px solid #d1c4e9; background: #ede7f6\">-<span style=\"vertical-align: middle; margin-left: 2px; font-size: 0.7em; color: #9575cd;\">STAT</span></span><span style=\"padding: 2px; border-radius: 4px; border: 1px solid #d1c4e9; background: #ede7f6\">932<span style=\"vertical-align: middle; margin-left: 2px; font-size: 0.7em; color: #9575cd;\">STAT</span></span><span style=\"padding: 2px; border-radius: 4px; border: 1px solid #d1c4e9; background: #ede7f6\">-<span style=\"vertical-align: middle; margin-left: 2px; font-size: 0.7em; color: #9575cd;\">STAT</span></span><span style=\"padding: 2px; border-radius: 4px; border: 1px solid #d1c4e9; background: #ede7f6\">8204057<span style=\"vertical-align: middle; margin-left: 2px; font-size: 0.7em; color: #9575cd;\">STAT</span></span> <span style=\"padding: 2px; border-radius: 4px; border: 1px solid #d7ccc8; background: #efebe9\">49798154642453529204<span style=\"vertical-align: middle; margin-left: 2px; font-size: 0.7em; color: #a1887f;\">RSKS</span></span></div>"
      ],
      "text/plain": [
       "<IPython.core.display.HTML object>"
      ]
     },
     "metadata": {},
     "output_type": "display_data"
    },
    {
     "name": "stdout",
     "output_type": "stream",
     "text": [
      "ex 6:\n"
     ]
    },
    {
     "data": {
      "text/html": [
       "<div class=\"tex2jax_ignore\" style=\"white-space: pre-wrap\">в дальнейшем &quot;Заказчик&quot;, в лице директора <span style=\"padding: 2px; border-radius: 4px; border: 1px solid #bbdefb; background: #e3f2fd\">Ткачева Ирина Александровна<span style=\"vertical-align: middle; margin-left: 2px; font-size: 0.7em; color: #64b5f6;\">PER</span></span></div>"
      ],
      "text/plain": [
       "<IPython.core.display.HTML object>"
      ]
     },
     "metadata": {},
     "output_type": "display_data"
    },
    {
     "name": "stdout",
     "output_type": "stream",
     "text": [
      "ex 7:\n"
     ]
    },
    {
     "data": {
      "text/html": [
       "<div class=\"tex2jax_ignore\" style=\"white-space: pre-wrap\"><span style=\"padding: 2px; border-radius: 4px; border: 1px solid #ffe0b2; background: #fff3e0\">382701001<span style=\"vertical-align: middle; margin-left: 2px; font-size: 0.7em; color: #ffb74d;\">INNKPP</span></span> / <span style=\"padding: 2px; border-radius: 4px; border: 1px solid #ffe0b2; background: #fff3e0\">2801222859<span style=\"vertical-align: middle; margin-left: 2px; font-size: 0.7em; color: #ffb74d;\">INNKPP</span></span> <span style=\"padding: 2px; border-radius: 4px; border: 1px solid #d1c4e9; background: #ede7f6\">+<span style=\"vertical-align: middle; margin-left: 2px; font-size: 0.7em; color: #9575cd;\">STAT</span></span><span style=\"padding: 2px; border-radius: 4px; border: 1px solid #d1c4e9; background: #ede7f6\">8 ( 963 ) 645 32 14<span style=\"vertical-align: middle; margin-left: 2px; font-size: 0.7em; color: #9575cd;\">STAT</span></span> Адрес банка <span style=\"padding: 2px; border-radius: 4px; border: 1px solid #c8e6c9; background: #e8f5e9\">ОБЛАСТЬ ВЛАДИМИРСКАЯ ГОРОД КОВРОВ УЛИЦА ПАРКОВАЯ 2 2 51<span style=\"vertical-align: middle; margin-left: 2px; font-size: 0.7em; color: #66bb6a;\">LOC</span></span> Инвестор <span style=\"padding: 2px; border-radius: 4px; border: 1px solid #ffcdd2; background: #ffebee\">&quot; ГЛОРИЯ &quot; , Общество с ограниченной ответственностью<span style=\"vertical-align: middle; margin-left: 2px; font-size: 0.7em; color: #e57373;\">ORG</span></span> <span style=\"padding: 2px; border-radius: 4px; border: 1px solid #d1c4e9; background: #ede7f6\">041778831<span style=\"vertical-align: middle; margin-left: 2px; font-size: 0.7em; color: #9575cd;\">STAT</span></span> Банк Исп-тель <span style=\"padding: 2px; border-radius: 4px; border: 1px solid #ffcdd2; background: #ffebee\">АКЦИОНЕРНЫЙ КОММЕРЧЕСКИЙ БАНК &quot; МЕТАЛЛУРГИЧЕСКИЙ ИНВЕСТИЦИОННЫЙ БАНК &quot; ( ПУБЛИЧНОЕ АКЦИОНЕРНОЕ ОБЩЕСТВО )<span style=\"vertical-align: middle; margin-left: 2px; font-size: 0.7em; color: #e57373;\">ORG</span></span> <span style=\"padding: 2px; border-radius: 4px; border: 1px solid #c8e6c9; background: #e8f5e9\">ОБЛАСТЬ ОРЕНБУРГСКАЯ ГОРОД НОВОТРОИЦК УЛИЦА ЗЕЛЕНАЯ 32<span style=\"vertical-align: middle; margin-left: 2px; font-size: 0.7em; color: #66bb6a;\">LOC</span></span> <span style=\"padding: 2px; border-radius: 4px; border: 1px solid #d7ccc8; background: #efebe9\">45765804693112071769<span style=\"vertical-align: middle; margin-left: 2px; font-size: 0.7em; color: #a1887f;\">RSKS</span></span> тел. <span style=\"padding: 2px; border-radius: 4px; border: 1px solid #d1c4e9; background: #ede7f6\">7<span style=\"vertical-align: middle; margin-left: 2px; font-size: 0.7em; color: #9575cd;\">STAT</span></span><span style=\"padding: 2px; border-radius: 4px; border: 1px solid #d1c4e9; background: #ede7f6\">-<span style=\"vertical-align: middle; margin-left: 2px; font-size: 0.7em; color: #9575cd;\">STAT</span></span><span style=\"padding: 2px; border-radius: 4px; border: 1px solid #d1c4e9; background: #ede7f6\">369<span style=\"vertical-align: middle; margin-left: 2px; font-size: 0.7em; color: #9575cd;\">STAT</span></span><span style=\"padding: 2px; border-radius: 4px; border: 1px solid #d1c4e9; background: #ede7f6\">-<span style=\"vertical-align: middle; margin-left: 2px; font-size: 0.7em; color: #9575cd;\">STAT</span></span><span style=\"padding: 2px; border-radius: 4px; border: 1px solid #d1c4e9; background: #ede7f6\">58<span style=\"vertical-align: middle; margin-left: 2px; font-size: 0.7em; color: #9575cd;\">STAT</span></span><span style=\"padding: 2px; border-radius: 4px; border: 1px solid #d1c4e9; background: #ede7f6\">-<span style=\"vertical-align: middle; margin-left: 2px; font-size: 0.7em; color: #9575cd;\">STAT</span></span><span style=\"padding: 2px; border-radius: 4px; border: 1px solid #d1c4e9; background: #ede7f6\">50<span style=\"vertical-align: middle; margin-left: 2px; font-size: 0.7em; color: #9575cd;\">STAT</span></span><span style=\"padding: 2px; border-radius: 4px; border: 1px solid #d1c4e9; background: #ede7f6\">-<span style=\"vertical-align: middle; margin-left: 2px; font-size: 0.7em; color: #9575cd;\">STAT</span></span>385</div>"
      ],
      "text/plain": [
       "<IPython.core.display.HTML object>"
      ]
     },
     "metadata": {},
     "output_type": "display_data"
    },
    {
     "name": "stdout",
     "output_type": "stream",
     "text": [
      "ex 8:\n"
     ]
    },
    {
     "data": {
      "text/html": [
       "<div class=\"tex2jax_ignore\" style=\"white-space: pre-wrap\">Покупатель <span style=\"padding: 2px; border-radius: 4px; border: 1px solid #ffcdd2; background: #ffebee\">РЕГИОНАЛЬНОЕ ОТДЕЛЕНИЕ В КИРОВСКОЙ ОБЛАСТИ МЕЖРЕГИОНАЛЬНОЙ ОБЩЕСТВЕННОЙ ОРГАНИЗАЦИИ - ОБЩЕСТВО РОССИЙСКО-КИТАЙСКОЙ ДРУЖБЫ<span style=\"vertical-align: middle; margin-left: 2px; font-size: 0.7em; color: #e57373;\">ORG</span></span> Адрес банка <span style=\"padding: 2px; border-radius: 4px; border: 1px solid #c8e6c9; background: #e8f5e9\">141342 , Московская обл , г Сергиев Посад , рп Богородское , д 100<span style=\"vertical-align: middle; margin-left: 2px; font-size: 0.7em; color: #66bb6a;\">LOC</span></span> тел. <span style=\"padding: 2px; border-radius: 4px; border: 1px solid #d1c4e9; background: #ede7f6\">+<span style=\"vertical-align: middle; margin-left: 2px; font-size: 0.7em; color: #9575cd;\">STAT</span></span><span style=\"padding: 2px; border-radius: 4px; border: 1px solid #d1c4e9; background: #ede7f6\">7<span style=\"vertical-align: middle; margin-left: 2px; font-size: 0.7em; color: #9575cd;\">STAT</span></span><span style=\"padding: 2px; border-radius: 4px; border: 1px solid #d1c4e9; background: #ede7f6\">-<span style=\"vertical-align: middle; margin-left: 2px; font-size: 0.7em; color: #9575cd;\">STAT</span></span><span style=\"padding: 2px; border-radius: 4px; border: 1px solid #d1c4e9; background: #ede7f6\">397<span style=\"vertical-align: middle; margin-left: 2px; font-size: 0.7em; color: #9575cd;\">STAT</span></span><span style=\"padding: 2px; border-radius: 4px; border: 1px solid #d1c4e9; background: #ede7f6\">-<span style=\"vertical-align: middle; margin-left: 2px; font-size: 0.7em; color: #9575cd;\">STAT</span></span><span style=\"padding: 2px; border-radius: 4px; border: 1px solid #d1c4e9; background: #ede7f6\">625<span style=\"vertical-align: middle; margin-left: 2px; font-size: 0.7em; color: #9575cd;\">STAT</span></span><span style=\"padding: 2px; border-radius: 4px; border: 1px solid #d1c4e9; background: #ede7f6\">-<span style=\"vertical-align: middle; margin-left: 2px; font-size: 0.7em; color: #9575cd;\">STAT</span></span><span style=\"padding: 2px; border-radius: 4px; border: 1px solid #d1c4e9; background: #ede7f6\">7221<span style=\"vertical-align: middle; margin-left: 2px; font-size: 0.7em; color: #9575cd;\">STAT</span></span> <span style=\"padding: 2px; border-radius: 4px; border: 1px solid #d1c4e9; background: #ede7f6\">7 834 414 9814<span style=\"vertical-align: middle; margin-left: 2px; font-size: 0.7em; color: #9575cd;\">STAT</span></span> <span style=\"padding: 2px; border-radius: 4px; border: 1px solid #d1c4e9; background: #ede7f6\">046342578<span style=\"vertical-align: middle; margin-left: 2px; font-size: 0.7em; color: #9575cd;\">STAT</span></span> Адрес банка З-чик <span style=\"padding: 2px; border-radius: 4px; border: 1px solid #c8e6c9; background: #e8f5e9\">630000 , Новосибирская обл , г Новосибирск<span style=\"vertical-align: middle; margin-left: 2px; font-size: 0.7em; color: #66bb6a;\">LOC</span></span> <span style=\"padding: 2px; border-radius: 4px; border: 1px solid #d7ccc8; background: #efebe9\">30032869914415487423<span style=\"vertical-align: middle; margin-left: 2px; font-size: 0.7em; color: #a1887f;\">RSKS</span></span> <span style=\"padding: 2px; border-radius: 4px; border: 1px solid #ffcdd2; background: #ffebee\">НЕБАНКОВСКАЯ КРЕДИТНАЯ ОРГАНИЗАЦИЯ &quot; АЛЬТЕРНАТИВА &quot; ( ОБЩЕСТВО С ОГРАНИЧЕННОЙ ОТВЕТСТВЕННОСТЬЮ )<span style=\"vertical-align: middle; margin-left: 2px; font-size: 0.7em; color: #e57373;\">ORG</span></span> рас/счет <span style=\"padding: 2px; border-radius: 4px; border: 1px solid #d7ccc8; background: #efebe9\">41015510539919929469<span style=\"vertical-align: middle; margin-left: 2px; font-size: 0.7em; color: #a1887f;\">RSKS</span></span></div>"
      ],
      "text/plain": [
       "<IPython.core.display.HTML object>"
      ]
     },
     "metadata": {},
     "output_type": "display_data"
    },
    {
     "name": "stdout",
     "output_type": "stream",
     "text": [
      "ex 9:\n"
     ]
    },
    {
     "data": {
      "text/html": [
       "<div class=\"tex2jax_ignore\" style=\"white-space: pre-wrap\">Заказчик <span style=\"padding: 2px; border-radius: 4px; border: 1px solid #ffcdd2; background: #ffebee\">ИП Курзанова И. М<span style=\"vertical-align: middle; margin-left: 2px; font-size: 0.7em; color: #e57373;\">ORG</span></span>. / <span style=\"padding: 2px; border-radius: 4px; border: 1px solid #ffcdd2; background: #ffebee\">Акционерное общество &quot; Великие Луки банк &quot;<span style=\"vertical-align: middle; margin-left: 2px; font-size: 0.7em; color: #e57373;\">ORG</span></span> Адрес филиала банка Генподрядчик БИК Банка <span style=\"padding: 2px; border-radius: 4px; border: 1px solid #d1c4e9; background: #ede7f6\">043398962<span style=\"vertical-align: middle; margin-left: 2px; font-size: 0.7em; color: #9575cd;\">STAT</span></span> <span style=\"padding: 2px; border-radius: 4px; border: 1px solid #d1c4e9; background: #ede7f6\">7<span style=\"vertical-align: middle; margin-left: 2px; font-size: 0.7em; color: #9575cd;\">STAT</span></span><span style=\"padding: 2px; border-radius: 4px; border: 1px solid #d1c4e9; background: #ede7f6\">-<span style=\"vertical-align: middle; margin-left: 2px; font-size: 0.7em; color: #9575cd;\">STAT</span></span><span style=\"padding: 2px; border-radius: 4px; border: 1px solid #d1c4e9; background: #ede7f6\">930<span style=\"vertical-align: middle; margin-left: 2px; font-size: 0.7em; color: #9575cd;\">STAT</span></span><span style=\"padding: 2px; border-radius: 4px; border: 1px solid #d1c4e9; background: #ede7f6\">-<span style=\"vertical-align: middle; margin-left: 2px; font-size: 0.7em; color: #9575cd;\">STAT</span></span><span style=\"padding: 2px; border-radius: 4px; border: 1px solid #d1c4e9; background: #ede7f6\">600<span style=\"vertical-align: middle; margin-left: 2px; font-size: 0.7em; color: #9575cd;\">STAT</span></span><span style=\"padding: 2px; border-radius: 4px; border: 1px solid #d1c4e9; background: #ede7f6\">-<span style=\"vertical-align: middle; margin-left: 2px; font-size: 0.7em; color: #9575cd;\">STAT</span></span><span style=\"padding: 2px; border-radius: 4px; border: 1px solid #d1c4e9; background: #ede7f6\">23<span style=\"vertical-align: middle; margin-left: 2px; font-size: 0.7em; color: #9575cd;\">STAT</span></span><span style=\"padding: 2px; border-radius: 4px; border: 1px solid #d1c4e9; background: #ede7f6\">-<span style=\"vertical-align: middle; margin-left: 2px; font-size: 0.7em; color: #9575cd;\">STAT</span></span>74</div>"
      ],
      "text/plain": [
       "<IPython.core.display.HTML object>"
      ]
     },
     "metadata": {},
     "output_type": "display_data"
    },
    {
     "name": "stdout",
     "output_type": "stream",
     "text": [
      "ex 10:\n"
     ]
    },
    {
     "data": {
      "text/html": [
       "<div class=\"tex2jax_ignore\" style=\"white-space: pre-wrap\"><span style=\"padding: 2px; border-radius: 4px; border: 1px solid #ffcdd2; background: #ffebee\">ФГКУ ФЕДЕРАЛЬНОЕ КАЗЕННОЕ УЧРЕЖДЕНИЕ ГЛАВНОЕ БЮРО МЕДИКО-СОЦИАЛЬНОЙ ЭКСПЕРТИЗЫ ПО ТВЕРСКОЙ ОБЛАСТИ МИНИСТЕРСТВА ТРУДА И СОЦИАЛЬНОЙ ЗАЩИТЫ РОССИЙСКОЙ ФЕДЕРАЦИИ , Филиал<span style=\"vertical-align: middle; margin-left: 2px; font-size: 0.7em; color: #e57373;\">ORG</span></span> именуемое в с одной стороны</div>"
      ],
      "text/plain": [
       "<IPython.core.display.HTML object>"
      ]
     },
     "metadata": {},
     "output_type": "display_data"
    },
    {
     "name": "stdout",
     "output_type": "stream",
     "text": [
      "ex 11:\n"
     ]
    },
    {
     "data": {
      "text/html": [
       "<div class=\"tex2jax_ignore\" style=\"white-space: pre-wrap\">Лицензиат КПП/ИНН / <span style=\"padding: 2px; border-radius: 4px; border: 1px solid #ffe0b2; background: #fff3e0\">7736035485<span style=\"vertical-align: middle; margin-left: 2px; font-size: 0.7em; color: #ffb74d;\">INNKPP</span></span> Адрес филиала банка Зак-чик <span style=\"padding: 2px; border-radius: 4px; border: 1px solid #c8e6c9; background: #e8f5e9\">628600 , Ханты-Мансийский Автономный округ - Югра , г Нижневартовск<span style=\"vertical-align: middle; margin-left: 2px; font-size: 0.7em; color: #66bb6a;\">LOC</span></span> Подрядчик <span style=\"padding: 2px; border-radius: 4px; border: 1px solid #ffcdd2; background: #ffebee\">ИП Юзвицков Дмитрий Сергеевич<span style=\"vertical-align: middle; margin-left: 2px; font-size: 0.7em; color: #e57373;\">ORG</span></span> р/с <span style=\"padding: 2px; border-radius: 4px; border: 1px solid #d7ccc8; background: #efebe9\">41375171560341400938<span style=\"vertical-align: middle; margin-left: 2px; font-size: 0.7em; color: #a1887f;\">RSKS</span></span> Банк Плательщик кор/сч <span style=\"padding: 2px; border-radius: 4px; border: 1px solid #d7ccc8; background: #efebe9\">30095532240031631653<span style=\"vertical-align: middle; margin-left: 2px; font-size: 0.7em; color: #a1887f;\">RSKS</span></span> <span style=\"padding: 2px; border-radius: 4px; border: 1px solid #d1c4e9; background: #ede7f6\">044389131<span style=\"vertical-align: middle; margin-left: 2px; font-size: 0.7em; color: #9575cd;\">STAT</span></span> <span style=\"padding: 2px; border-radius: 4px; border: 1px solid #d1c4e9; background: #ede7f6\">8<span style=\"vertical-align: middle; margin-left: 2px; font-size: 0.7em; color: #9575cd;\">STAT</span></span><span style=\"padding: 2px; border-radius: 4px; border: 1px solid #d1c4e9; background: #ede7f6\">-<span style=\"vertical-align: middle; margin-left: 2px; font-size: 0.7em; color: #9575cd;\">STAT</span></span><span style=\"padding: 2px; border-radius: 4px; border: 1px solid #d1c4e9; background: #ede7f6\">814<span style=\"vertical-align: middle; margin-left: 2px; font-size: 0.7em; color: #9575cd;\">STAT</span></span><span style=\"padding: 2px; border-radius: 4px; border: 1px solid #d1c4e9; background: #ede7f6\">-<span style=\"vertical-align: middle; margin-left: 2px; font-size: 0.7em; color: #9575cd;\">STAT</span></span><span style=\"padding: 2px; border-radius: 4px; border: 1px solid #d1c4e9; background: #ede7f6\">27<span style=\"vertical-align: middle; margin-left: 2px; font-size: 0.7em; color: #9575cd;\">STAT</span></span><span style=\"padding: 2px; border-radius: 4px; border: 1px solid #d1c4e9; background: #ede7f6\">-<span style=\"vertical-align: middle; margin-left: 2px; font-size: 0.7em; color: #9575cd;\">STAT</span></span><span style=\"padding: 2px; border-radius: 4px; border: 1px solid #d1c4e9; background: #ede7f6\">11<span style=\"vertical-align: middle; margin-left: 2px; font-size: 0.7em; color: #9575cd;\">STAT</span></span><span style=\"padding: 2px; border-radius: 4px; border: 1px solid #d1c4e9; background: #ede7f6\">-<span style=\"vertical-align: middle; margin-left: 2px; font-size: 0.7em; color: #9575cd;\">STAT</span></span>710</div>"
      ],
      "text/plain": [
       "<IPython.core.display.HTML object>"
      ]
     },
     "metadata": {},
     "output_type": "display_data"
    },
    {
     "name": "stdout",
     "output_type": "stream",
     "text": [
      "ex 12:\n"
     ]
    },
    {
     "data": {
      "text/html": [
       "<div class=\"tex2jax_ignore\" style=\"white-space: pre-wrap\">Генподрядчик <span style=\"padding: 2px; border-radius: 4px; border: 1px solid #ffcdd2; background: #ffebee\">Индивидуальный предприниматель Павлов Д. И<span style=\"vertical-align: middle; margin-left: 2px; font-size: 0.7em; color: #e57373;\">ORG</span></span>. ,. рас. счет <span style=\"padding: 2px; border-radius: 4px; border: 1px solid #d7ccc8; background: #efebe9\">44504335785435619220<span style=\"vertical-align: middle; margin-left: 2px; font-size: 0.7em; color: #a1887f;\">RSKS</span></span> Банк <span style=\"padding: 2px; border-radius: 4px; border: 1px solid #ffcdd2; background: #ffebee\">АКБ &quot; БРР &quot; ( ОАО )<span style=\"vertical-align: middle; margin-left: 2px; font-size: 0.7em; color: #e57373;\">ORG</span></span> тел. <span style=\"padding: 2px; border-radius: 4px; border: 1px solid #d1c4e9; background: #ede7f6\">8 ( 876 ) 742 8167<span style=\"vertical-align: middle; margin-left: 2px; font-size: 0.7em; color: #9575cd;\">STAT</span></span></div>"
      ],
      "text/plain": [
       "<IPython.core.display.HTML object>"
      ]
     },
     "metadata": {},
     "output_type": "display_data"
    },
    {
     "name": "stdout",
     "output_type": "stream",
     "text": [
      "ex 13:\n"
     ]
    },
    {
     "data": {
      "text/html": [
       "<div class=\"tex2jax_ignore\" style=\"white-space: pre-wrap\">Зак-чик <span style=\"padding: 2px; border-radius: 4px; border: 1px solid #ffcdd2; background: #ffebee\">РЕГИОНАЛЬНОЕ ОТДЕЛЕНИЕ В КИРОВСКОЙ ОБЛАСТИ МЕЖРЕГИОНАЛЬНОЙ ОБЩЕСТВЕННОЙ ОРГАНИЗАЦИИ - ОБЩЕСТВО РОССИЙСКО-КИТАЙСКОЙ ДРУЖБЫ<span style=\"vertical-align: middle; margin-left: 2px; font-size: 0.7em; color: #e57373;\">ORG</span></span> <span style=\"padding: 2px; border-radius: 4px; border: 1px solid #d1c4e9; background: #ede7f6\">+<span style=\"vertical-align: middle; margin-left: 2px; font-size: 0.7em; color: #9575cd;\">STAT</span></span><span style=\"padding: 2px; border-radius: 4px; border: 1px solid #d1c4e9; background: #ede7f6\">8 ( 946 ) 007 27 40<span style=\"vertical-align: middle; margin-left: 2px; font-size: 0.7em; color: #9575cd;\">STAT</span></span> ИНН Субподрядчик <span style=\"padding: 2px; border-radius: 4px; border: 1px solid #ffe0b2; background: #fff3e0\">7725412396<span style=\"vertical-align: middle; margin-left: 2px; font-size: 0.7em; color: #ffb74d;\">INNKPP</span></span> тел. <span style=\"padding: 2px; border-radius: 4px; border: 1px solid #d7ccc8; background: #efebe9\">30479151101517370470<span style=\"vertical-align: middle; margin-left: 2px; font-size: 0.7em; color: #a1887f;\">RSKS</span></span> рас/сч <span style=\"padding: 2px; border-radius: 4px; border: 1px solid #d7ccc8; background: #efebe9\">42447082784423467259<span style=\"vertical-align: middle; margin-left: 2px; font-size: 0.7em; color: #a1887f;\">RSKS</span></span> БИК <span style=\"padding: 2px; border-radius: 4px; border: 1px solid #d1c4e9; background: #ede7f6\">040855341<span style=\"vertical-align: middle; margin-left: 2px; font-size: 0.7em; color: #9575cd;\">STAT</span></span> Адрес филиала банка Поставщик банк <span style=\"padding: 2px; border-radius: 4px; border: 1px solid #ffcdd2; background: #ffebee\">ПАО &quot; Камчаткомагропромбанк &quot;<span style=\"vertical-align: middle; margin-left: 2px; font-size: 0.7em; color: #e57373;\">ORG</span></span></div>"
      ],
      "text/plain": [
       "<IPython.core.display.HTML object>"
      ]
     },
     "metadata": {},
     "output_type": "display_data"
    },
    {
     "name": "stdout",
     "output_type": "stream",
     "text": [
      "ex 14:\n"
     ]
    },
    {
     "data": {
      "text/html": [
       "<div class=\"tex2jax_ignore\" style=\"white-space: pre-wrap\"><span style=\"padding: 2px; border-radius: 4px; border: 1px solid #ffcdd2; background: #ffebee\">ООО &quot; КУЛЬТУРНАЯ РЕВОЛЮЦИЯ &quot;<span style=\"vertical-align: middle; margin-left: 2px; font-size: 0.7em; color: #e57373;\">ORG</span></span> в дальнейшем</div>"
      ],
      "text/plain": [
       "<IPython.core.display.HTML object>"
      ]
     },
     "metadata": {},
     "output_type": "display_data"
    },
    {
     "name": "stdout",
     "output_type": "stream",
     "text": [
      "ex 15:\n"
     ]
    },
    {
     "data": {
      "text/html": [
       "<div class=\"tex2jax_ignore\" style=\"white-space: pre-wrap\"><span style=\"padding: 2px; border-radius: 4px; border: 1px solid #ffe0b2; background: #fff3e0\">434501001<span style=\"vertical-align: middle; margin-left: 2px; font-size: 0.7em; color: #ffb74d;\">INNKPP</span></span> / <span style=\"padding: 2px; border-radius: 4px; border: 1px solid #ffe0b2; background: #fff3e0\">501712611492<span style=\"vertical-align: middle; margin-left: 2px; font-size: 0.7em; color: #ffb74d;\">INNKPP</span></span> <span style=\"padding: 2px; border-radius: 4px; border: 1px solid #d1c4e9; background: #ede7f6\">7<span style=\"vertical-align: middle; margin-left: 2px; font-size: 0.7em; color: #9575cd;\">STAT</span></span><span style=\"padding: 2px; border-radius: 4px; border: 1px solid #d1c4e9; background: #ede7f6\">-<span style=\"vertical-align: middle; margin-left: 2px; font-size: 0.7em; color: #9575cd;\">STAT</span></span><span style=\"padding: 2px; border-radius: 4px; border: 1px solid #d1c4e9; background: #ede7f6\">810<span style=\"vertical-align: middle; margin-left: 2px; font-size: 0.7em; color: #9575cd;\">STAT</span></span><span style=\"padding: 2px; border-radius: 4px; border: 1px solid #d1c4e9; background: #ede7f6\">-<span style=\"vertical-align: middle; margin-left: 2px; font-size: 0.7em; color: #9575cd;\">STAT</span></span><span style=\"padding: 2px; border-radius: 4px; border: 1px solid #d1c4e9; background: #ede7f6\">550<span style=\"vertical-align: middle; margin-left: 2px; font-size: 0.7em; color: #9575cd;\">STAT</span></span><span style=\"padding: 2px; border-radius: 4px; border: 1px solid #d1c4e9; background: #ede7f6\">-<span style=\"vertical-align: middle; margin-left: 2px; font-size: 0.7em; color: #9575cd;\">STAT</span></span><span style=\"padding: 2px; border-radius: 4px; border: 1px solid #d1c4e9; background: #ede7f6\">25<span style=\"vertical-align: middle; margin-left: 2px; font-size: 0.7em; color: #9575cd;\">STAT</span></span><span style=\"padding: 2px; border-radius: 4px; border: 1px solid #d1c4e9; background: #ede7f6\">-<span style=\"vertical-align: middle; margin-left: 2px; font-size: 0.7em; color: #9575cd;\">STAT</span></span><span style=\"padding: 2px; border-radius: 4px; border: 1px solid #d1c4e9; background: #ede7f6\">48<span style=\"vertical-align: middle; margin-left: 2px; font-size: 0.7em; color: #9575cd;\">STAT</span></span> Зак-чик <span style=\"padding: 2px; border-radius: 4px; border: 1px solid #ffcdd2; background: #ffebee\">ИП Чундиров Сергей Петрович<span style=\"vertical-align: middle; margin-left: 2px; font-size: 0.7em; color: #e57373;\">ORG</span></span> Расчетный счет <span style=\"padding: 2px; border-radius: 4px; border: 1px solid #d7ccc8; background: #efebe9\">40570057606499090324<span style=\"vertical-align: middle; margin-left: 2px; font-size: 0.7em; color: #a1887f;\">RSKS</span></span> тел. <span style=\"padding: 2px; border-radius: 4px; border: 1px solid #d1c4e9; background: #ede7f6\">7<span style=\"vertical-align: middle; margin-left: 2px; font-size: 0.7em; color: #9575cd;\">STAT</span></span><span style=\"padding: 2px; border-radius: 4px; border: 1px solid #d1c4e9; background: #ede7f6\">-<span style=\"vertical-align: middle; margin-left: 2px; font-size: 0.7em; color: #9575cd;\">STAT</span></span><span style=\"padding: 2px; border-radius: 4px; border: 1px solid #d1c4e9; background: #ede7f6\">854<span style=\"vertical-align: middle; margin-left: 2px; font-size: 0.7em; color: #9575cd;\">STAT</span></span><span style=\"padding: 2px; border-radius: 4px; border: 1px solid #d1c4e9; background: #ede7f6\">-<span style=\"vertical-align: middle; margin-left: 2px; font-size: 0.7em; color: #9575cd;\">STAT</span></span><span style=\"padding: 2px; border-radius: 4px; border: 1px solid #d1c4e9; background: #ede7f6\">48<span style=\"vertical-align: middle; margin-left: 2px; font-size: 0.7em; color: #9575cd;\">STAT</span></span><span style=\"padding: 2px; border-radius: 4px; border: 1px solid #d1c4e9; background: #ede7f6\">-<span style=\"vertical-align: middle; margin-left: 2px; font-size: 0.7em; color: #9575cd;\">STAT</span></span><span style=\"padding: 2px; border-radius: 4px; border: 1px solid #d1c4e9; background: #ede7f6\">75<span style=\"vertical-align: middle; margin-left: 2px; font-size: 0.7em; color: #9575cd;\">STAT</span></span><span style=\"padding: 2px; border-radius: 4px; border: 1px solid #d1c4e9; background: #ede7f6\">-<span style=\"vertical-align: middle; margin-left: 2px; font-size: 0.7em; color: #9575cd;\">STAT</span></span><span style=\"padding: 2px; border-radius: 4px; border: 1px solid #d1c4e9; background: #ede7f6\">290<span style=\"vertical-align: middle; margin-left: 2px; font-size: 0.7em; color: #9575cd;\">STAT</span></span> к.с. <span style=\"padding: 2px; border-radius: 4px; border: 1px solid #d7ccc8; background: #efebe9\">30898535373827237851<span style=\"vertical-align: middle; margin-left: 2px; font-size: 0.7em; color: #a1887f;\">RSKS</span></span> Банк Инвестор <span style=\"padding: 2px; border-radius: 4px; border: 1px solid #d1c4e9; background: #ede7f6\">048773215<span style=\"vertical-align: middle; margin-left: 2px; font-size: 0.7em; color: #9575cd;\">STAT</span></span> Адрес филиала банка <span style=\"padding: 2px; border-radius: 4px; border: 1px solid #c8e6c9; background: #e8f5e9\">Республика Карелия , город Петрозаводск<span style=\"vertical-align: middle; margin-left: 2px; font-size: 0.7em; color: #66bb6a;\">LOC</span></span></div>"
      ],
      "text/plain": [
       "<IPython.core.display.HTML object>"
      ]
     },
     "metadata": {},
     "output_type": "display_data"
    },
    {
     "name": "stdout",
     "output_type": "stream",
     "text": [
      "ex 16:\n"
     ]
    },
    {
     "data": {
      "text/html": [
       "<div class=\"tex2jax_ignore\" style=\"white-space: pre-wrap\"><span style=\"padding: 2px; border-radius: 4px; border: 1px solid #c8e6c9; background: #e8f5e9\">109263 , г Москва , р-н Текстильщики , ул Шкулёва , д 2А , оф 5<span style=\"vertical-align: middle; margin-left: 2px; font-size: 0.7em; color: #66bb6a;\">LOC</span></span> тел. <span style=\"padding: 2px; border-radius: 4px; border: 1px solid #d1c4e9; background: #ede7f6\">7<span style=\"vertical-align: middle; margin-left: 2px; font-size: 0.7em; color: #9575cd;\">STAT</span></span><span style=\"padding: 2px; border-radius: 4px; border: 1px solid #d1c4e9; background: #ede7f6\">-<span style=\"vertical-align: middle; margin-left: 2px; font-size: 0.7em; color: #9575cd;\">STAT</span></span><span style=\"padding: 2px; border-radius: 4px; border: 1px solid #d1c4e9; background: #ede7f6\">( 942 ) -6215112<span style=\"vertical-align: middle; margin-left: 2px; font-size: 0.7em; color: #9575cd;\">STAT</span></span> КПП Плательщик <span style=\"padding: 2px; border-radius: 4px; border: 1px solid #ffe0b2; background: #fff3e0\">8603043129<span style=\"vertical-align: middle; margin-left: 2px; font-size: 0.7em; color: #ffb74d;\">INNKPP</span></span> <span style=\"padding: 2px; border-radius: 4px; border: 1px solid #ffe0b2; background: #fff3e0\">770301001<span style=\"vertical-align: middle; margin-left: 2px; font-size: 0.7em; color: #ffb74d;\">INNKPP</span></span> Исполнитель <span style=\"padding: 2px; border-radius: 4px; border: 1px solid #ffcdd2; background: #ffebee\">Индивидуальный предприниматель Ысманова Шааргул Тургунбаевна<span style=\"vertical-align: middle; margin-left: 2px; font-size: 0.7em; color: #e57373;\">ORG</span></span> , корр./счет <span style=\"padding: 2px; border-radius: 4px; border: 1px solid #d7ccc8; background: #efebe9\">30120109408859767163<span style=\"vertical-align: middle; margin-left: 2px; font-size: 0.7em; color: #a1887f;\">RSKS</span></span> <span style=\"padding: 2px; border-radius: 4px; border: 1px solid #ffcdd2; background: #ffebee\">ФИЛИАЛ ОАО ККБ &quot; КРЕДИТБАНК &quot;<span style=\"vertical-align: middle; margin-left: 2px; font-size: 0.7em; color: #e57373;\">ORG</span></span> <span style=\"padding: 2px; border-radius: 4px; border: 1px solid #d1c4e9; background: #ede7f6\">7<span style=\"vertical-align: middle; margin-left: 2px; font-size: 0.7em; color: #9575cd;\">STAT</span></span><span style=\"padding: 2px; border-radius: 4px; border: 1px solid #d1c4e9; background: #ede7f6\">-<span style=\"vertical-align: middle; margin-left: 2px; font-size: 0.7em; color: #9575cd;\">STAT</span></span><span style=\"padding: 2px; border-radius: 4px; border: 1px solid #d1c4e9; background: #ede7f6\">845<span style=\"vertical-align: middle; margin-left: 2px; font-size: 0.7em; color: #9575cd;\">STAT</span></span><span style=\"padding: 2px; border-radius: 4px; border: 1px solid #d1c4e9; background: #ede7f6\">-<span style=\"vertical-align: middle; margin-left: 2px; font-size: 0.7em; color: #9575cd;\">STAT</span></span><span style=\"padding: 2px; border-radius: 4px; border: 1px solid #d1c4e9; background: #ede7f6\">5616065<span style=\"vertical-align: middle; margin-left: 2px; font-size: 0.7em; color: #9575cd;\">STAT</span></span> рас/счет <span style=\"padding: 2px; border-radius: 4px; border: 1px solid #d7ccc8; background: #efebe9\">48451999440922455297<span style=\"vertical-align: middle; margin-left: 2px; font-size: 0.7em; color: #a1887f;\">RSKS</span></span> Адрес <span style=\"padding: 2px; border-radius: 4px; border: 1px solid #d1c4e9; background: #ede7f6\">044012668<span style=\"vertical-align: middle; margin-left: 2px; font-size: 0.7em; color: #9575cd;\">STAT</span></span></div>"
      ],
      "text/plain": [
       "<IPython.core.display.HTML object>"
      ]
     },
     "metadata": {},
     "output_type": "display_data"
    },
    {
     "name": "stdout",
     "output_type": "stream",
     "text": [
      "ex 17:\n"
     ]
    },
    {
     "data": {
      "text/html": [
       "<div class=\"tex2jax_ignore\" style=\"white-space: pre-wrap\">Зак-чик <span style=\"padding: 2px; border-radius: 4px; border: 1px solid #ffcdd2; background: #ffebee\">ИП Евстигнеева Вера Николаевна<span style=\"vertical-align: middle; margin-left: 2px; font-size: 0.7em; color: #e57373;\">ORG</span></span> Адрес Исполнитель <span style=\"padding: 2px; border-radius: 4px; border: 1px solid #c8e6c9; background: #e8f5e9\">Свердловская область , город Екатеринбург<span style=\"vertical-align: middle; margin-left: 2px; font-size: 0.7em; color: #66bb6a;\">LOC</span></span> <span style=\"padding: 2px; border-radius: 4px; border: 1px solid #d7ccc8; background: #efebe9\">44715096868461172916<span style=\"vertical-align: middle; margin-left: 2px; font-size: 0.7em; color: #a1887f;\">RSKS</span></span> Банк Генподрядчик <span style=\"padding: 2px; border-radius: 4px; border: 1px solid #ffcdd2; background: #ffebee\">Общество с ограниченной ответственностью Коммерческий банк &quot; Мегаполис &quot;<span style=\"vertical-align: middle; margin-left: 2px; font-size: 0.7em; color: #e57373;\">ORG</span></span></div>"
      ],
      "text/plain": [
       "<IPython.core.display.HTML object>"
      ]
     },
     "metadata": {},
     "output_type": "display_data"
    },
    {
     "name": "stdout",
     "output_type": "stream",
     "text": [
      "ex 18:\n"
     ]
    },
    {
     "data": {
      "text/html": [
       "<div class=\"tex2jax_ignore\" style=\"white-space: pre-wrap\"><span style=\"padding: 2px; border-radius: 4px; border: 1px solid #c8e6c9; background: #e8f5e9\">ОБЛАСТЬ ЛИПЕЦКАЯ ГОРОД ЕЛЕЦ УЛИЦА РАДИОТЕХНИЧЕСКАЯ ДОМ 5 КАБИНЕТ 302<span style=\"vertical-align: middle; margin-left: 2px; font-size: 0.7em; color: #66bb6a;\">LOC</span></span> тел. <span style=\"padding: 2px; border-radius: 4px; border: 1px solid #d1c4e9; background: #ede7f6\">8 879 367 9218<span style=\"vertical-align: middle; margin-left: 2px; font-size: 0.7em; color: #9575cd;\">STAT</span></span> Подрядчик ИНН/КПП Субподрядчик <span style=\"padding: 2px; border-radius: 4px; border: 1px solid #ffe0b2; background: #fff3e0\">7130507147<span style=\"vertical-align: middle; margin-left: 2px; font-size: 0.7em; color: #ffb74d;\">INNKPP</span></span> / <span style=\"padding: 2px; border-radius: 4px; border: 1px solid #d7ccc8; background: #efebe9\">30648167717432556147<span style=\"vertical-align: middle; margin-left: 2px; font-size: 0.7em; color: #a1887f;\">RSKS</span></span> тел. <span style=\"padding: 2px; border-radius: 4px; border: 1px solid #d1c4e9; background: #ede7f6\">+<span style=\"vertical-align: middle; margin-left: 2px; font-size: 0.7em; color: #9575cd;\">STAT</span></span><span style=\"padding: 2px; border-radius: 4px; border: 1px solid #d1c4e9; background: #ede7f6\">8<span style=\"vertical-align: middle; margin-left: 2px; font-size: 0.7em; color: #9575cd;\">STAT</span></span><span style=\"padding: 2px; border-radius: 4px; border: 1px solid #d1c4e9; background: #ede7f6\">-<span style=\"vertical-align: middle; margin-left: 2px; font-size: 0.7em; color: #9575cd;\">STAT</span></span><span style=\"padding: 2px; border-radius: 4px; border: 1px solid #d1c4e9; background: #ede7f6\">( 955 ) -815-2156<span style=\"vertical-align: middle; margin-left: 2px; font-size: 0.7em; color: #9575cd;\">STAT</span></span> <span style=\"padding: 2px; border-radius: 4px; border: 1px solid #d7ccc8; background: #efebe9\">43773701402778927232<span style=\"vertical-align: middle; margin-left: 2px; font-size: 0.7em; color: #a1887f;\">RSKS</span></span> Адрес филиала банка Клиент <span style=\"padding: 2px; border-radius: 4px; border: 1px solid #c8e6c9; background: #e8f5e9\">ОБЛАСТЬ ТВЕРСКАЯ ГОРОД ТВЕРЬ ПРОСПЕКТ ТВЕРСКОЙ ДОМ 6 ОФИС 100<span style=\"vertical-align: middle; margin-left: 2px; font-size: 0.7em; color: #66bb6a;\">LOC</span></span> Банк Зак-чик <span style=\"padding: 2px; border-radius: 4px; border: 1px solid #d1c4e9; background: #ede7f6\">046534556<span style=\"vertical-align: middle; margin-left: 2px; font-size: 0.7em; color: #9575cd;\">STAT</span></span></div>"
      ],
      "text/plain": [
       "<IPython.core.display.HTML object>"
      ]
     },
     "metadata": {},
     "output_type": "display_data"
    },
    {
     "name": "stdout",
     "output_type": "stream",
     "text": [
      "ex 19:\n"
     ]
    },
    {
     "data": {
      "text/html": [
       "<div class=\"tex2jax_ignore\" style=\"white-space: pre-wrap\"><span style=\"padding: 2px; border-radius: 4px; border: 1px solid #ffe0b2; background: #fff3e0\">772101001<span style=\"vertical-align: middle; margin-left: 2px; font-size: 0.7em; color: #ffb74d;\">INNKPP</span></span> Подрядчик <span style=\"padding: 2px; border-radius: 4px; border: 1px solid #ffcdd2; background: #ffebee\">СП<span style=\"vertical-align: middle; margin-left: 2px; font-size: 0.7em; color: #e57373;\">ORG</span></span> <span style=\"padding: 2px; border-radius: 4px; border: 1px solid #ffcdd2; background: #ffebee\">ООО &quot; ПРОГРЕСС-2 &quot;<span style=\"vertical-align: middle; margin-left: 2px; font-size: 0.7em; color: #e57373;\">ORG</span></span> Адрес банка <span style=\"padding: 2px; border-radius: 4px; border: 1px solid #c8e6c9; background: #e8f5e9\">184042 , Мурманская обл , Кандалакшский р-н , г Кандалакша<span style=\"vertical-align: middle; margin-left: 2px; font-size: 0.7em; color: #66bb6a;\">LOC</span></span> <span style=\"padding: 2px; border-radius: 4px; border: 1px solid #d1c4e9; background: #ede7f6\">+<span style=\"vertical-align: middle; margin-left: 2px; font-size: 0.7em; color: #9575cd;\">STAT</span></span><span style=\"padding: 2px; border-radius: 4px; border: 1px solid #d1c4e9; background: #ede7f6\">7 ( 980 ) 3588779<span style=\"vertical-align: middle; margin-left: 2px; font-size: 0.7em; color: #9575cd;\">STAT</span></span> <span style=\"padding: 2px; border-radius: 4px; border: 1px solid #d1c4e9; background: #ede7f6\">+<span style=\"vertical-align: middle; margin-left: 2px; font-size: 0.7em; color: #9575cd;\">STAT</span></span><span style=\"padding: 2px; border-radius: 4px; border: 1px solid #d1c4e9; background: #ede7f6\">7 868 54 98 145<span style=\"vertical-align: middle; margin-left: 2px; font-size: 0.7em; color: #9575cd;\">STAT</span></span> БИК Банка <span style=\"padding: 2px; border-radius: 4px; border: 1px solid #d1c4e9; background: #ede7f6\">047789943<span style=\"vertical-align: middle; margin-left: 2px; font-size: 0.7em; color: #9575cd;\">STAT</span></span> р. счет <span style=\"padding: 2px; border-radius: 4px; border: 1px solid #d7ccc8; background: #efebe9\">48416228038245397627<span style=\"vertical-align: middle; margin-left: 2px; font-size: 0.7em; color: #a1887f;\">RSKS</span></span> банк <span style=\"padding: 2px; border-radius: 4px; border: 1px solid #ffcdd2; background: #ffebee\">ПУБЛИЧНОЕ АКЦИОНЕРНОЕ ОБЩЕСТВО АГРОИНВЕСТИЦИОННЫЙ КОММЕРЧЕСКИЙ БАНК<span style=\"vertical-align: middle; margin-left: 2px; font-size: 0.7em; color: #e57373;\">ORG</span></span> Адрес филиала банка Плательщик <span style=\"padding: 2px; border-radius: 4px; border: 1px solid #c8e6c9; background: #e8f5e9\">ГОРОД МОСКВА ПЕРЕУЛОК ПЛЕТЕШКОВСКИЙ 2<span style=\"vertical-align: middle; margin-left: 2px; font-size: 0.7em; color: #66bb6a;\">LOC</span></span> кс <span style=\"padding: 2px; border-radius: 4px; border: 1px solid #d7ccc8; background: #efebe9\">30367756124647684491<span style=\"vertical-align: middle; margin-left: 2px; font-size: 0.7em; color: #a1887f;\">RSKS</span></span></div>"
      ],
      "text/plain": [
       "<IPython.core.display.HTML object>"
      ]
     },
     "metadata": {},
     "output_type": "display_data"
    },
    {
     "name": "stdout",
     "output_type": "stream",
     "text": [
      "ex 20:\n"
     ]
    },
    {
     "data": {
      "text/html": [
       "<div class=\"tex2jax_ignore\" style=\"white-space: pre-wrap\"><span style=\"padding: 2px; border-radius: 4px; border: 1px solid #c8e6c9; background: #e8f5e9\">601300 , Владимирская обл , Камешковский р-н , г Камешково , ул Совхозная , д 19 , пом Б<span style=\"vertical-align: middle; margin-left: 2px; font-size: 0.7em; color: #66bb6a;\">LOC</span></span> <span style=\"padding: 2px; border-radius: 4px; border: 1px solid #d1c4e9; background: #ede7f6\">+<span style=\"vertical-align: middle; margin-left: 2px; font-size: 0.7em; color: #9575cd;\">STAT</span></span><span style=\"padding: 2px; border-radius: 4px; border: 1px solid #d1c4e9; background: #ede7f6\">8<span style=\"vertical-align: middle; margin-left: 2px; font-size: 0.7em; color: #9575cd;\">STAT</span></span><span style=\"padding: 2px; border-radius: 4px; border: 1px solid #d1c4e9; background: #ede7f6\">-<span style=\"vertical-align: middle; margin-left: 2px; font-size: 0.7em; color: #9575cd;\">STAT</span></span><span style=\"padding: 2px; border-radius: 4px; border: 1px solid #d1c4e9; background: #ede7f6\">( 319 ) -325-4958<span style=\"vertical-align: middle; margin-left: 2px; font-size: 0.7em; color: #9575cd;\">STAT</span></span> Покупатель <span style=\"padding: 2px; border-radius: 4px; border: 1px solid #ffe0b2; background: #fff3e0\">570200028<span style=\"vertical-align: middle; margin-left: 2px; font-size: 0.7em; color: #ffb74d;\">INNKPP</span></span> Поставщик <span style=\"padding: 2px; border-radius: 4px; border: 1px solid #ffcdd2; background: #ffebee\">ОБЩЕСТВО С ОГРАНИЧЕННОЙ ОТВЕТСТВЕННОСТЬЮ &quot; РЕМБЫТТЕХНИКА &quot;<span style=\"vertical-align: middle; margin-left: 2px; font-size: 0.7em; color: #e57373;\">ORG</span></span> корр. счет <span style=\"padding: 2px; border-radius: 4px; border: 1px solid #d7ccc8; background: #efebe9\">30288049735779878763<span style=\"vertical-align: middle; margin-left: 2px; font-size: 0.7em; color: #a1887f;\">RSKS</span></span> <span style=\"padding: 2px; border-radius: 4px; border: 1px solid #ffcdd2; background: #ffebee\">ФИЛИАЛ КБ &quot; ВЕБРР &quot; ( ООО )<span style=\"vertical-align: middle; margin-left: 2px; font-size: 0.7em; color: #e57373;\">ORG</span></span> <span style=\"padding: 2px; border-radius: 4px; border: 1px solid #d1c4e9; background: #ede7f6\">8 845 455 9397<span style=\"vertical-align: middle; margin-left: 2px; font-size: 0.7em; color: #9575cd;\">STAT</span></span> Адрес филиала банка Получатель <span style=\"padding: 2px; border-radius: 4px; border: 1px solid #c8e6c9; background: #e8f5e9\">186790 , Респ Карелия , г Сортавала , пгт Хелюля<span style=\"vertical-align: middle; margin-left: 2px; font-size: 0.7em; color: #66bb6a;\">LOC</span></span> рс</div>"
      ],
      "text/plain": [
       "<IPython.core.display.HTML object>"
      ]
     },
     "metadata": {},
     "output_type": "display_data"
    },
    {
     "name": "stdout",
     "output_type": "stream",
     "text": [
      "ex 21:\n"
     ]
    },
    {
     "data": {
      "text/html": [
       "<div class=\"tex2jax_ignore\" style=\"white-space: pre-wrap\">тел. <span style=\"padding: 2px; border-radius: 4px; border: 1px solid #d1c4e9; background: #ede7f6\">8<span style=\"vertical-align: middle; margin-left: 2px; font-size: 0.7em; color: #9575cd;\">STAT</span></span><span style=\"padding: 2px; border-radius: 4px; border: 1px solid #d1c4e9; background: #ede7f6\">-<span style=\"vertical-align: middle; margin-left: 2px; font-size: 0.7em; color: #9575cd;\">STAT</span></span><span style=\"padding: 2px; border-radius: 4px; border: 1px solid #d1c4e9; background: #ede7f6\">( 900 ) -55-23-498<span style=\"vertical-align: middle; margin-left: 2px; font-size: 0.7em; color: #9575cd;\">STAT</span></span> Адрес филиала банка Покупатель <span style=\"padding: 2px; border-radius: 4px; border: 1px solid #c8e6c9; background: #e8f5e9\">Республика Карелия , город Петрозаводск<span style=\"vertical-align: middle; margin-left: 2px; font-size: 0.7em; color: #66bb6a;\">LOC</span></span> Исполнитель КПП Инвестор / <span style=\"padding: 2px; border-radius: 4px; border: 1px solid #ffe0b2; background: #fff3e0\">6450001647<span style=\"vertical-align: middle; margin-left: 2px; font-size: 0.7em; color: #ffb74d;\">INNKPP</span></span> Лицензиар <span style=\"padding: 2px; border-radius: 4px; border: 1px solid #ffcdd2; background: #ffebee\">ООО ГРИБНАЯ КОМПАНИЯ РУССКИЙ ГРИБ<span style=\"vertical-align: middle; margin-left: 2px; font-size: 0.7em; color: #e57373;\">ORG</span></span> БИК <span style=\"padding: 2px; border-radius: 4px; border: 1px solid #d1c4e9; background: #ede7f6\">045920106<span style=\"vertical-align: middle; margin-left: 2px; font-size: 0.7em; color: #9575cd;\">STAT</span></span> <span style=\"padding: 2px; border-radius: 4px; border: 1px solid #d1c4e9; background: #ede7f6\">+<span style=\"vertical-align: middle; margin-left: 2px; font-size: 0.7em; color: #9575cd;\">STAT</span></span><span style=\"padding: 2px; border-radius: 4px; border: 1px solid #d1c4e9; background: #ede7f6\">7 976 426 22 78<span style=\"vertical-align: middle; margin-left: 2px; font-size: 0.7em; color: #9575cd;\">STAT</span></span> <span style=\"padding: 2px; border-radius: 4px; border: 1px solid #d7ccc8; background: #efebe9\">46359286564523596929<span style=\"vertical-align: middle; margin-left: 2px; font-size: 0.7em; color: #a1887f;\">RSKS</span></span> банк <span style=\"padding: 2px; border-radius: 4px; border: 1px solid #ffcdd2; background: #ffebee\">ЭС<span style=\"vertical-align: middle; margin-left: 2px; font-size: 0.7em; color: #e57373;\">ORG</span></span><span style=\"padding: 2px; border-radius: 4px; border: 1px solid #ffcdd2; background: #ffebee\">-<span style=\"vertical-align: middle; margin-left: 2px; font-size: 0.7em; color: #e57373;\">ORG</span></span><span style=\"padding: 2px; border-radius: 4px; border: 1px solid #ffcdd2; background: #ffebee\">БИ<span style=\"vertical-align: middle; margin-left: 2px; font-size: 0.7em; color: #e57373;\">ORG</span></span><span style=\"padding: 2px; border-radius: 4px; border: 1px solid #ffcdd2; background: #ffebee\">-<span style=\"vertical-align: middle; margin-left: 2px; font-size: 0.7em; color: #e57373;\">ORG</span></span><span style=\"padding: 2px; border-radius: 4px; border: 1px solid #ffcdd2; background: #ffebee\">АЙ БАНК ОБЩЕСТВО С ОГРАНИЧЕННОЙ ОТВЕТСТВЕННОСТЬЮ<span style=\"vertical-align: middle; margin-left: 2px; font-size: 0.7em; color: #e57373;\">ORG</span></span> к.с. <span style=\"padding: 2px; border-radius: 4px; border: 1px solid #d7ccc8; background: #efebe9\">30555990206866934097<span style=\"vertical-align: middle; margin-left: 2px; font-size: 0.7em; color: #a1887f;\">RSKS</span></span> Адрес Поставщик <span style=\"padding: 2px; border-radius: 4px; border: 1px solid #c8e6c9; background: #e8f5e9\">119180 , г Москва , р-н Якиманка , ул Большая Полянка , д 44 , пом 308<span style=\"vertical-align: middle; margin-left: 2px; font-size: 0.7em; color: #66bb6a;\">LOC</span></span></div>"
      ],
      "text/plain": [
       "<IPython.core.display.HTML object>"
      ]
     },
     "metadata": {},
     "output_type": "display_data"
    },
    {
     "name": "stdout",
     "output_type": "stream",
     "text": [
      "ex 22:\n"
     ]
    },
    {
     "data": {
      "text/html": [
       "<div class=\"tex2jax_ignore\" style=\"white-space: pre-wrap\">З-чик <span style=\"padding: 2px; border-radius: 4px; border: 1px solid #ffcdd2; background: #ffebee\">ИП Ибрахим А. М. К. М<span style=\"vertical-align: middle; margin-left: 2px; font-size: 0.7em; color: #e57373;\">ORG</span></span>. ИНН Исполнитель <span style=\"padding: 2px; border-radius: 4px; border: 1px solid #ffe0b2; background: #fff3e0\">7303004751<span style=\"vertical-align: middle; margin-left: 2px; font-size: 0.7em; color: #ffb74d;\">INNKPP</span></span> КПП З-чик <span style=\"padding: 2px; border-radius: 4px; border: 1px solid #ffe0b2; background: #fff3e0\">166001001<span style=\"vertical-align: middle; margin-left: 2px; font-size: 0.7em; color: #ffb74d;\">INNKPP</span></span> Филиал банка Покупатель <span style=\"padding: 2px; border-radius: 4px; border: 1px solid #ffcdd2; background: #ffebee\">ПУБЛИЧНОЕ АКЦИОНЕРНОЕ ОБЩЕСТВО БАНК &quot; АЛЕКСАНДРОВСКИЙ &quot;<span style=\"vertical-align: middle; margin-left: 2px; font-size: 0.7em; color: #e57373;\">ORG</span></span> <span style=\"padding: 2px; border-radius: 4px; border: 1px solid #ffe0b2; background: #fff3e0\">781433305283<span style=\"vertical-align: middle; margin-left: 2px; font-size: 0.7em; color: #ffb74d;\">INNKPP</span></span> / <span style=\"padding: 2px; border-radius: 4px; border: 1px solid #ffe0b2; background: #fff3e0\">770901001<span style=\"vertical-align: middle; margin-left: 2px; font-size: 0.7em; color: #ffb74d;\">INNKPP</span></span> <span style=\"padding: 2px; border-radius: 4px; border: 1px solid #c8e6c9; background: #e8f5e9\">ОБЛ<span style=\"vertical-align: middle; margin-left: 2px; font-size: 0.7em; color: #66bb6a;\">LOC</span></span><span style=\"padding: 2px; border-radius: 4px; border: 1px solid #c8e6c9; background: #e8f5e9\">. ВЛАДИМИРСКАЯ Г. Владимир ПЕР. СТРЕЛЕЦКИЙ Д. 3 КВ. 13<span style=\"vertical-align: middle; margin-left: 2px; font-size: 0.7em; color: #66bb6a;\">LOC</span></span> тел. <span style=\"padding: 2px; border-radius: 4px; border: 1px solid #d1c4e9; background: #ede7f6\">+<span style=\"vertical-align: middle; margin-left: 2px; font-size: 0.7em; color: #9575cd;\">STAT</span></span><span style=\"padding: 2px; border-radius: 4px; border: 1px solid #d1c4e9; background: #ede7f6\">89711874481<span style=\"vertical-align: middle; margin-left: 2px; font-size: 0.7em; color: #9575cd;\">STAT</span></span> тел. <span style=\"padding: 2px; border-radius: 4px; border: 1px solid #d1c4e9; background: #ede7f6\">8<span style=\"vertical-align: middle; margin-left: 2px; font-size: 0.7em; color: #9575cd;\">STAT</span></span><span style=\"padding: 2px; border-radius: 4px; border: 1px solid #d1c4e9; background: #ede7f6\">-<span style=\"vertical-align: middle; margin-left: 2px; font-size: 0.7em; color: #9575cd;\">STAT</span></span><span style=\"padding: 2px; border-radius: 4px; border: 1px solid #d1c4e9; background: #ede7f6\">( 800 ) -8486056<span style=\"vertical-align: middle; margin-left: 2px; font-size: 0.7em; color: #9575cd;\">STAT</span></span></div>"
      ],
      "text/plain": [
       "<IPython.core.display.HTML object>"
      ]
     },
     "metadata": {},
     "output_type": "display_data"
    },
    {
     "name": "stdout",
     "output_type": "stream",
     "text": [
      "ex 23:\n"
     ]
    },
    {
     "data": {
      "text/html": [
       "<div class=\"tex2jax_ignore\" style=\"white-space: pre-wrap\">Лицензиар <span style=\"padding: 2px; border-radius: 4px; border: 1px solid #ffcdd2; background: #ffebee\">Индивидуальный предприниматель Вавилов С. Ю<span style=\"vertical-align: middle; margin-left: 2px; font-size: 0.7em; color: #e57373;\">ORG</span></span>. <span style=\"padding: 2px; border-radius: 4px; border: 1px solid #c8e6c9; background: #e8f5e9\">344013 , Ростовская обл , г Ростов-на-Дону , ул Либкнехта , д 57<span style=\"vertical-align: middle; margin-left: 2px; font-size: 0.7em; color: #66bb6a;\">LOC</span></span></div>"
      ],
      "text/plain": [
       "<IPython.core.display.HTML object>"
      ]
     },
     "metadata": {},
     "output_type": "display_data"
    },
    {
     "name": "stdout",
     "output_type": "stream",
     "text": [
      "ex 24:\n"
     ]
    },
    {
     "data": {
      "text/html": [
       "<div class=\"tex2jax_ignore\" style=\"white-space: pre-wrap\"><span style=\"padding: 2px; border-radius: 4px; border: 1px solid #ffcdd2; background: #ffebee\">ИП Эрфурт Олег Викторович<span style=\"vertical-align: middle; margin-left: 2px; font-size: 0.7em; color: #e57373;\">ORG</span></span></div>"
      ],
      "text/plain": [
       "<IPython.core.display.HTML object>"
      ]
     },
     "metadata": {},
     "output_type": "display_data"
    },
    {
     "name": "stdout",
     "output_type": "stream",
     "text": [
      "ex 25:\n"
     ]
    },
    {
     "data": {
      "text/html": [
       "<div class=\"tex2jax_ignore\" style=\"white-space: pre-wrap\">Адрес филиала банка Заказчик <span style=\"padding: 2px; border-radius: 4px; border: 1px solid #c8e6c9; background: #e8f5e9\">692273 , Приморский край , Хорольский р-н , село Вознесенка , ул Ленинская , д 40<span style=\"vertical-align: middle; margin-left: 2px; font-size: 0.7em; color: #66bb6a;\">LOC</span></span> тел. <span style=\"padding: 2px; border-radius: 4px; border: 1px solid #d1c4e9; background: #ede7f6\">+<span style=\"vertical-align: middle; margin-left: 2px; font-size: 0.7em; color: #9575cd;\">STAT</span></span><span style=\"padding: 2px; border-radius: 4px; border: 1px solid #d1c4e9; background: #ede7f6\">7 351 82 61 004<span style=\"vertical-align: middle; margin-left: 2px; font-size: 0.7em; color: #9575cd;\">STAT</span></span> Исполнитель <span style=\"padding: 2px; border-radius: 4px; border: 1px solid #ffe0b2; background: #fff3e0\">332801001<span style=\"vertical-align: middle; margin-left: 2px; font-size: 0.7em; color: #ffb74d;\">INNKPP</span></span> Исп-тель Адрес филиала банка Поставщик <span style=\"padding: 2px; border-radius: 4px; border: 1px solid #c8e6c9; background: #e8f5e9\">123592 , г Москва , р-н Строгино , Строгинский б-р , д 4 к 1 , оф 138<span style=\"vertical-align: middle; margin-left: 2px; font-size: 0.7em; color: #66bb6a;\">LOC</span></span> <span style=\"padding: 2px; border-radius: 4px; border: 1px solid #ffcdd2; background: #ffebee\">ПРЕДСТАВИТЕЛЬСТВО АО КОМСОЦБАНК &quot; БУМЕРАНГ &quot; В Г.МОСКВЕ<span style=\"vertical-align: middle; margin-left: 2px; font-size: 0.7em; color: #e57373;\">ORG</span></span> БИК <span style=\"padding: 2px; border-radius: 4px; border: 1px solid #d1c4e9; background: #ede7f6\">042945868<span style=\"vertical-align: middle; margin-left: 2px; font-size: 0.7em; color: #9575cd;\">STAT</span></span> тел. <span style=\"padding: 2px; border-radius: 4px; border: 1px solid #d1c4e9; background: #ede7f6\">7<span style=\"vertical-align: middle; margin-left: 2px; font-size: 0.7em; color: #9575cd;\">STAT</span></span><span style=\"padding: 2px; border-radius: 4px; border: 1px solid #d1c4e9; background: #ede7f6\">-<span style=\"vertical-align: middle; margin-left: 2px; font-size: 0.7em; color: #9575cd;\">STAT</span></span><span style=\"padding: 2px; border-radius: 4px; border: 1px solid #d1c4e9; background: #ede7f6\">972<span style=\"vertical-align: middle; margin-left: 2px; font-size: 0.7em; color: #9575cd;\">STAT</span></span><span style=\"padding: 2px; border-radius: 4px; border: 1px solid #d1c4e9; background: #ede7f6\">-<span style=\"vertical-align: middle; margin-left: 2px; font-size: 0.7em; color: #9575cd;\">STAT</span></span><span style=\"padding: 2px; border-radius: 4px; border: 1px solid #d1c4e9; background: #ede7f6\">6682831<span style=\"vertical-align: middle; margin-left: 2px; font-size: 0.7em; color: #9575cd;\">STAT</span></span> р.с. <span style=\"padding: 2px; border-radius: 4px; border: 1px solid #d7ccc8; background: #efebe9\">48473926793002546382<span style=\"vertical-align: middle; margin-left: 2px; font-size: 0.7em; color: #a1887f;\">RSKS</span></span> кор.счет <span style=\"padding: 2px; border-radius: 4px; border: 1px solid #d7ccc8; background: #efebe9\">30175772197101877419<span style=\"vertical-align: middle; margin-left: 2px; font-size: 0.7em; color: #a1887f;\">RSKS</span></span></div>"
      ],
      "text/plain": [
       "<IPython.core.display.HTML object>"
      ]
     },
     "metadata": {},
     "output_type": "display_data"
    },
    {
     "name": "stdout",
     "output_type": "stream",
     "text": [
      "ex 26:\n"
     ]
    },
    {
     "data": {
      "text/html": [
       "<div class=\"tex2jax_ignore\" style=\"white-space: pre-wrap\">Адрес банка Поставщик <span style=\"padding: 2px; border-radius: 4px; border: 1px solid #c8e6c9; background: #e8f5e9\">295026 , Респ Крым , г Симферополь , ул Семашко , д 19 , кв 84А<span style=\"vertical-align: middle; margin-left: 2px; font-size: 0.7em; color: #66bb6a;\">LOC</span></span> КПП П-щик <span style=\"padding: 2px; border-radius: 4px; border: 1px solid #ffe0b2; background: #fff3e0\">780101001<span style=\"vertical-align: middle; margin-left: 2px; font-size: 0.7em; color: #ffb74d;\">INNKPP</span></span> Исполнитель <span style=\"padding: 2px; border-radius: 4px; border: 1px solid #ffcdd2; background: #ffebee\">ООО КВАНТ-КОНСАЛТ<span style=\"vertical-align: middle; margin-left: 2px; font-size: 0.7em; color: #e57373;\">ORG</span></span> <span style=\"padding: 2px; border-radius: 4px; border: 1px solid #d7ccc8; background: #efebe9\">49810913960981739846<span style=\"vertical-align: middle; margin-left: 2px; font-size: 0.7em; color: #a1887f;\">RSKS</span></span> банк <span style=\"padding: 2px; border-radius: 4px; border: 1px solid #ffcdd2; background: #ffebee\">ООО КБ &quot; Аксонбанк &quot;<span style=\"vertical-align: middle; margin-left: 2px; font-size: 0.7em; color: #e57373;\">ORG</span></span> <span style=\"padding: 2px; border-radius: 4px; border: 1px solid #d1c4e9; background: #ede7f6\">041706937<span style=\"vertical-align: middle; margin-left: 2px; font-size: 0.7em; color: #9575cd;\">STAT</span></span> кор/счет <span style=\"padding: 2px; border-radius: 4px; border: 1px solid #d7ccc8; background: #efebe9\">30203477265561915351<span style=\"vertical-align: middle; margin-left: 2px; font-size: 0.7em; color: #a1887f;\">RSKS</span></span> Адрес Подрядчик <span style=\"padding: 2px; border-radius: 4px; border: 1px solid #d1c4e9; background: #ede7f6\">7 985 587 7822<span style=\"vertical-align: middle; margin-left: 2px; font-size: 0.7em; color: #9575cd;\">STAT</span></span></div>"
      ],
      "text/plain": [
       "<IPython.core.display.HTML object>"
      ]
     },
     "metadata": {},
     "output_type": "display_data"
    },
    {
     "name": "stdout",
     "output_type": "stream",
     "text": [
      "ex 27:\n"
     ]
    },
    {
     "data": {
      "text/html": [
       "<div class=\"tex2jax_ignore\" style=\"white-space: pre-wrap\">Адрес банка Субподрядчик <span style=\"padding: 2px; border-radius: 4px; border: 1px solid #c8e6c9; background: #e8f5e9\">117279 , г Москва , р-н Коньково , ул Миклухо-Маклая , д 34 , пом IV комн 37 оф 200<span style=\"vertical-align: middle; margin-left: 2px; font-size: 0.7em; color: #66bb6a;\">LOC</span></span> Покупатель <span style=\"padding: 2px; border-radius: 4px; border: 1px solid #ffcdd2; background: #ffebee\">АО НАУЧНО-ИССЛЕДОВАТЕЛЬСКИЙ ИНСТИТУТ ПО ПЕРЕДАЧЕ ЭЛЕКТРОЭНЕРГИИ ПОСТОЯННЫМ ТОКОМ ВЫСОКОГО НАПРЯЖЕНИЯ<span style=\"vertical-align: middle; margin-left: 2px; font-size: 0.7em; color: #e57373;\">ORG</span></span> ИНН КПП <span style=\"padding: 2px; border-radius: 4px; border: 1px solid #ffe0b2; background: #fff3e0\">301500345691<span style=\"vertical-align: middle; margin-left: 2px; font-size: 0.7em; color: #ffb74d;\">INNKPP</span></span> <span style=\"padding: 2px; border-radius: 4px; border: 1px solid #d1c4e9; background: #ede7f6\">7<span style=\"vertical-align: middle; margin-left: 2px; font-size: 0.7em; color: #9575cd;\">STAT</span></span><span style=\"padding: 2px; border-radius: 4px; border: 1px solid #d1c4e9; background: #ede7f6\">-<span style=\"vertical-align: middle; margin-left: 2px; font-size: 0.7em; color: #9575cd;\">STAT</span></span><span style=\"padding: 2px; border-radius: 4px; border: 1px solid #d1c4e9; background: #ede7f6\">( 810 ) -2073150<span style=\"vertical-align: middle; margin-left: 2px; font-size: 0.7em; color: #9575cd;\">STAT</span></span> <span style=\"padding: 2px; border-radius: 4px; border: 1px solid #d1c4e9; background: #ede7f6\">046811861<span style=\"vertical-align: middle; margin-left: 2px; font-size: 0.7em; color: #9575cd;\">STAT</span></span> <span style=\"padding: 2px; border-radius: 4px; border: 1px solid #ffcdd2; background: #ffebee\">ПУБЛИЧНОЕ АКЦИОНЕРНОЕ ОБЩЕСТВО &quot; БАНК БАЛТИЙСКОЕ ФИНАНСОВОЕ АГЕНТСТВО &quot;<span style=\"vertical-align: middle; margin-left: 2px; font-size: 0.7em; color: #e57373;\">ORG</span></span> кс <span style=\"padding: 2px; border-radius: 4px; border: 1px solid #d7ccc8; background: #efebe9\">30048272898532333514<span style=\"vertical-align: middle; margin-left: 2px; font-size: 0.7em; color: #a1887f;\">RSKS</span></span> рс <span style=\"padding: 2px; border-radius: 4px; border: 1px solid #d7ccc8; background: #efebe9\">43178097435369869875<span style=\"vertical-align: middle; margin-left: 2px; font-size: 0.7em; color: #a1887f;\">RSKS</span></span> <span style=\"padding: 2px; border-radius: 4px; border: 1px solid #d1c4e9; background: #ede7f6\">+<span style=\"vertical-align: middle; margin-left: 2px; font-size: 0.7em; color: #9575cd;\">STAT</span></span><span style=\"padding: 2px; border-radius: 4px; border: 1px solid #d1c4e9; background: #ede7f6\">8<span style=\"vertical-align: middle; margin-left: 2px; font-size: 0.7em; color: #9575cd;\">STAT</span></span><span style=\"padding: 2px; border-radius: 4px; border: 1px solid #d1c4e9; background: #ede7f6\">-<span style=\"vertical-align: middle; margin-left: 2px; font-size: 0.7em; color: #9575cd;\">STAT</span></span><span style=\"padding: 2px; border-radius: 4px; border: 1px solid #d1c4e9; background: #ede7f6\">911<span style=\"vertical-align: middle; margin-left: 2px; font-size: 0.7em; color: #9575cd;\">STAT</span></span><span style=\"padding: 2px; border-radius: 4px; border: 1px solid #d1c4e9; background: #ede7f6\">-<span style=\"vertical-align: middle; margin-left: 2px; font-size: 0.7em; color: #9575cd;\">STAT</span></span><span style=\"padding: 2px; border-radius: 4px; border: 1px solid #d1c4e9; background: #ede7f6\">291<span style=\"vertical-align: middle; margin-left: 2px; font-size: 0.7em; color: #9575cd;\">STAT</span></span><span style=\"padding: 2px; border-radius: 4px; border: 1px solid #d1c4e9; background: #ede7f6\">-<span style=\"vertical-align: middle; margin-left: 2px; font-size: 0.7em; color: #9575cd;\">STAT</span></span><span style=\"padding: 2px; border-radius: 4px; border: 1px solid #d1c4e9; background: #ede7f6\">1399<span style=\"vertical-align: middle; margin-left: 2px; font-size: 0.7em; color: #9575cd;\">STAT</span></span> Адрес Подрядчик <span style=\"padding: 2px; border-radius: 4px; border: 1px solid #c8e6c9; background: #e8f5e9\">Кемеровская область , город Кемерово<span style=\"vertical-align: middle; margin-left: 2px; font-size: 0.7em; color: #66bb6a;\">LOC</span></span></div>"
      ],
      "text/plain": [
       "<IPython.core.display.HTML object>"
      ]
     },
     "metadata": {},
     "output_type": "display_data"
    },
    {
     "name": "stdout",
     "output_type": "stream",
     "text": [
      "ex 28:\n"
     ]
    },
    {
     "data": {
      "text/html": [
       "<div class=\"tex2jax_ignore\" style=\"white-space: pre-wrap\">ИНН Зак-чик <span style=\"padding: 2px; border-radius: 4px; border: 1px solid #ffe0b2; background: #fff3e0\">2308231808<span style=\"vertical-align: middle; margin-left: 2px; font-size: 0.7em; color: #ffb74d;\">INNKPP</span></span> <span style=\"padding: 2px; border-radius: 4px; border: 1px solid #ffe0b2; background: #fff3e0\">771001001<span style=\"vertical-align: middle; margin-left: 2px; font-size: 0.7em; color: #ffb74d;\">INNKPP</span></span> <span style=\"padding: 2px; border-radius: 4px; border: 1px solid #ffcdd2; background: #ffebee\">общество с ограниченной ответственностью Коммерческий банк &quot; Лайт &quot;<span style=\"vertical-align: middle; margin-left: 2px; font-size: 0.7em; color: #e57373;\">ORG</span></span> тел. <span style=\"padding: 2px; border-radius: 4px; border: 1px solid #d1c4e9; background: #ede7f6\">+<span style=\"vertical-align: middle; margin-left: 2px; font-size: 0.7em; color: #9575cd;\">STAT</span></span><span style=\"padding: 2px; border-radius: 4px; border: 1px solid #d1c4e9; background: #ede7f6\">7<span style=\"vertical-align: middle; margin-left: 2px; font-size: 0.7em; color: #9575cd;\">STAT</span></span><span style=\"padding: 2px; border-radius: 4px; border: 1px solid #d1c4e9; background: #ede7f6\">-<span style=\"vertical-align: middle; margin-left: 2px; font-size: 0.7em; color: #9575cd;\">STAT</span></span><span style=\"padding: 2px; border-radius: 4px; border: 1px solid #d1c4e9; background: #ede7f6\">( 300 ) -617-6099<span style=\"vertical-align: middle; margin-left: 2px; font-size: 0.7em; color: #9575cd;\">STAT</span></span> тел. <span style=\"padding: 2px; border-radius: 4px; border: 1px solid #d1c4e9; background: #ede7f6\">+<span style=\"vertical-align: middle; margin-left: 2px; font-size: 0.7em; color: #9575cd;\">STAT</span></span><span style=\"padding: 2px; border-radius: 4px; border: 1px solid #d1c4e9; background: #ede7f6\">7 ( 394 ) 682 05 26<span style=\"vertical-align: middle; margin-left: 2px; font-size: 0.7em; color: #9575cd;\">STAT</span></span></div>"
      ],
      "text/plain": [
       "<IPython.core.display.HTML object>"
      ]
     },
     "metadata": {},
     "output_type": "display_data"
    },
    {
     "name": "stdout",
     "output_type": "stream",
     "text": [
      "ex 29:\n"
     ]
    },
    {
     "data": {
      "text/html": [
       "<div class=\"tex2jax_ignore\" style=\"white-space: pre-wrap\">Получатель <span style=\"padding: 2px; border-radius: 4px; border: 1px solid #ffcdd2; background: #ffebee\">ИП Щукин Владимир Юрьевич<span style=\"vertical-align: middle; margin-left: 2px; font-size: 0.7em; color: #e57373;\">ORG</span></span> , <span style=\"padding: 2px; border-radius: 4px; border: 1px solid #ffe0b2; background: #fff3e0\">6234167609<span style=\"vertical-align: middle; margin-left: 2px; font-size: 0.7em; color: #ffb74d;\">INNKPP</span></span> <span style=\"padding: 2px; border-radius: 4px; border: 1px solid #c8e6c9; background: #e8f5e9\">652400 , Кемеровская область - Кузбасс , г Тайга<span style=\"vertical-align: middle; margin-left: 2px; font-size: 0.7em; color: #66bb6a;\">LOC</span></span> корр.сч <span style=\"padding: 2px; border-radius: 4px; border: 1px solid #d7ccc8; background: #efebe9\">30086022369209392715<span style=\"vertical-align: middle; margin-left: 2px; font-size: 0.7em; color: #a1887f;\">RSKS</span></span> тел.</div>"
      ],
      "text/plain": [
       "<IPython.core.display.HTML object>"
      ]
     },
     "metadata": {},
     "output_type": "display_data"
    },
    {
     "name": "stdout",
     "output_type": "stream",
     "text": [
      "ex 30:\n"
     ]
    },
    {
     "data": {
      "text/html": [
       "<div class=\"tex2jax_ignore\" style=\"white-space: pre-wrap\"><span style=\"padding: 2px; border-radius: 4px; border: 1px solid #d1c4e9; background: #ede7f6\">7<span style=\"vertical-align: middle; margin-left: 2px; font-size: 0.7em; color: #9575cd;\">STAT</span></span><span style=\"padding: 2px; border-radius: 4px; border: 1px solid #d1c4e9; background: #ede7f6\">-<span style=\"vertical-align: middle; margin-left: 2px; font-size: 0.7em; color: #9575cd;\">STAT</span></span><span style=\"padding: 2px; border-radius: 4px; border: 1px solid #d1c4e9; background: #ede7f6\">940<span style=\"vertical-align: middle; margin-left: 2px; font-size: 0.7em; color: #9575cd;\">STAT</span></span><span style=\"padding: 2px; border-radius: 4px; border: 1px solid #d1c4e9; background: #ede7f6\">-<span style=\"vertical-align: middle; margin-left: 2px; font-size: 0.7em; color: #9575cd;\">STAT</span></span><span style=\"padding: 2px; border-radius: 4px; border: 1px solid #d1c4e9; background: #ede7f6\">2561587<span style=\"vertical-align: middle; margin-left: 2px; font-size: 0.7em; color: #9575cd;\">STAT</span></span> <span style=\"padding: 2px; border-radius: 4px; border: 1px solid #ffe0b2; background: #fff3e0\">631502004<span style=\"vertical-align: middle; margin-left: 2px; font-size: 0.7em; color: #ffb74d;\">INNKPP</span></span> Подрядчик <span style=\"padding: 2px; border-radius: 4px; border: 1px solid #c8e6c9; background: #e8f5e9\">442600 , Пензенская обл , Спасский р-н , г Спасск , ул Советская , д 46<span style=\"vertical-align: middle; margin-left: 2px; font-size: 0.7em; color: #66bb6a;\">LOC</span></span> тел. <span style=\"padding: 2px; border-radius: 4px; border: 1px solid #d1c4e9; background: #ede7f6\">+<span style=\"vertical-align: middle; margin-left: 2px; font-size: 0.7em; color: #9575cd;\">STAT</span></span><span style=\"padding: 2px; border-radius: 4px; border: 1px solid #d1c4e9; background: #ede7f6\">8 874 07 17 604<span style=\"vertical-align: middle; margin-left: 2px; font-size: 0.7em; color: #9575cd;\">STAT</span></span> <span style=\"padding: 2px; border-radius: 4px; border: 1px solid #c8e6c9; background: #e8f5e9\">ОБЛАСТЬ МОСКОВСКАЯ РАЙОН ЛЕНИНСКИЙ ПОСЕЛОК БИТЦА УЛИЦА НАГОРНАЯ СТРОЕНИЕ 11А<span style=\"vertical-align: middle; margin-left: 2px; font-size: 0.7em; color: #66bb6a;\">LOC</span></span> кор/сч <span style=\"padding: 2px; border-radius: 4px; border: 1px solid #d1c4e9; background: #ede7f6\">048533420<span style=\"vertical-align: middle; margin-left: 2px; font-size: 0.7em; color: #9575cd;\">STAT</span></span></div>"
      ],
      "text/plain": [
       "<IPython.core.display.HTML object>"
      ]
     },
     "metadata": {},
     "output_type": "display_data"
    },
    {
     "name": "stdout",
     "output_type": "stream",
     "text": [
      "ex 31:\n"
     ]
    },
    {
     "data": {
      "text/html": [
       "<div class=\"tex2jax_ignore\" style=\"white-space: pre-wrap\">ИНН/КПП Субподрядчик <span style=\"padding: 2px; border-radius: 4px; border: 1px solid #ffe0b2; background: #fff3e0\">5803022875<span style=\"vertical-align: middle; margin-left: 2px; font-size: 0.7em; color: #ffb74d;\">INNKPP</span></span> / <span style=\"padding: 2px; border-radius: 4px; border: 1px solid #d1c4e9; background: #ede7f6\">+<span style=\"vertical-align: middle; margin-left: 2px; font-size: 0.7em; color: #9575cd;\">STAT</span></span><span style=\"padding: 2px; border-radius: 4px; border: 1px solid #d1c4e9; background: #ede7f6\">78339972963<span style=\"vertical-align: middle; margin-left: 2px; font-size: 0.7em; color: #9575cd;\">STAT</span></span> Субподрядчик <span style=\"padding: 2px; border-radius: 4px; border: 1px solid #ffcdd2; background: #ffebee\">ИП Шаламай Наталья Анатольевна<span style=\"vertical-align: middle; margin-left: 2px; font-size: 0.7em; color: #e57373;\">ORG</span></span> Адрес <span style=\"padding: 2px; border-radius: 4px; border: 1px solid #c8e6c9; background: #e8f5e9\">654000 , Кемеровская область - Кузбасс , г Новокузнецк<span style=\"vertical-align: middle; margin-left: 2px; font-size: 0.7em; color: #66bb6a;\">LOC</span></span> р/счет <span style=\"padding: 2px; border-radius: 4px; border: 1px solid #d7ccc8; background: #efebe9\">42938418986481149036<span style=\"vertical-align: middle; margin-left: 2px; font-size: 0.7em; color: #a1887f;\">RSKS</span></span> кор.счет <span style=\"padding: 2px; border-radius: 4px; border: 1px solid #d1c4e9; background: #ede7f6\">+<span style=\"vertical-align: middle; margin-left: 2px; font-size: 0.7em; color: #9575cd;\">STAT</span></span><span style=\"padding: 2px; border-radius: 4px; border: 1px solid #d1c4e9; background: #ede7f6\">7<span style=\"vertical-align: middle; margin-left: 2px; font-size: 0.7em; color: #9575cd;\">STAT</span></span><span style=\"padding: 2px; border-radius: 4px; border: 1px solid #d1c4e9; background: #ede7f6\">-<span style=\"vertical-align: middle; margin-left: 2px; font-size: 0.7em; color: #9575cd;\">STAT</span></span><span style=\"padding: 2px; border-radius: 4px; border: 1px solid #d1c4e9; background: #ede7f6\">990<span style=\"vertical-align: middle; margin-left: 2px; font-size: 0.7em; color: #9575cd;\">STAT</span></span><span style=\"padding: 2px; border-radius: 4px; border: 1px solid #d1c4e9; background: #ede7f6\">-<span style=\"vertical-align: middle; margin-left: 2px; font-size: 0.7em; color: #9575cd;\">STAT</span></span><span style=\"padding: 2px; border-radius: 4px; border: 1px solid #d1c4e9; background: #ede7f6\">715<span style=\"vertical-align: middle; margin-left: 2px; font-size: 0.7em; color: #9575cd;\">STAT</span></span><span style=\"padding: 2px; border-radius: 4px; border: 1px solid #d1c4e9; background: #ede7f6\">-<span style=\"vertical-align: middle; margin-left: 2px; font-size: 0.7em; color: #9575cd;\">STAT</span></span><span style=\"padding: 2px; border-radius: 4px; border: 1px solid #d1c4e9; background: #ede7f6\">1992<span style=\"vertical-align: middle; margin-left: 2px; font-size: 0.7em; color: #9575cd;\">STAT</span></span> <span style=\"padding: 2px; border-radius: 4px; border: 1px solid #d1c4e9; background: #ede7f6\">044181112<span style=\"vertical-align: middle; margin-left: 2px; font-size: 0.7em; color: #9575cd;\">STAT</span></span> Банк <span style=\"padding: 2px; border-radius: 4px; border: 1px solid #ffcdd2; background: #ffebee\">Открытое акционерное общество коммерческий &quot; Волга-Кредит &quot; банк<span style=\"vertical-align: middle; margin-left: 2px; font-size: 0.7em; color: #e57373;\">ORG</span></span></div>"
      ],
      "text/plain": [
       "<IPython.core.display.HTML object>"
      ]
     },
     "metadata": {},
     "output_type": "display_data"
    },
    {
     "name": "stdout",
     "output_type": "stream",
     "text": [
      "ex 32:\n"
     ]
    },
    {
     "data": {
      "text/html": [
       "<div class=\"tex2jax_ignore\" style=\"white-space: pre-wrap\">Подрядчик <span style=\"padding: 2px; border-radius: 4px; border: 1px solid #ffcdd2; background: #ffebee\">ПУБЛИЧНОЕ АКЦИОНЕРНОЕ ОБЩЕСТВО &quot; РОССЕТИ КУБАНЬ &quot;<span style=\"vertical-align: middle; margin-left: 2px; font-size: 0.7em; color: #e57373;\">ORG</span></span> ИНН Зак-чик <span style=\"padding: 2px; border-radius: 4px; border: 1px solid #ffe0b2; background: #fff3e0\">30170028556<span style=\"vertical-align: middle; margin-left: 2px; font-size: 0.7em; color: #ffb74d;\">INNKPP</span></span> <span style=\"padding: 2px; border-radius: 4px; border: 1px solid #ffe0b2; background: #fff3e0\">270501001<span style=\"vertical-align: middle; margin-left: 2px; font-size: 0.7em; color: #ffb74d;\">INNKPP</span></span> Адрес филиала банка <span style=\"padding: 2px; border-radius: 4px; border: 1px solid #c8e6c9; background: #e8f5e9\">ГОРОД МОСКВА ПЕРЕУЛОК КАПРАНОВА ДОМ 3 СТРОЕНИЕ 2 КАБИНЕТ 24<span style=\"vertical-align: middle; margin-left: 2px; font-size: 0.7em; color: #66bb6a;\">LOC</span></span> БИК Банка <span style=\"padding: 2px; border-radius: 4px; border: 1px solid #d1c4e9; background: #ede7f6\">049058123<span style=\"vertical-align: middle; margin-left: 2px; font-size: 0.7em; color: #9575cd;\">STAT</span></span> счет номер <span style=\"padding: 2px; border-radius: 4px; border: 1px solid #d7ccc8; background: #efebe9\">41692698957101630146<span style=\"vertical-align: middle; margin-left: 2px; font-size: 0.7em; color: #a1887f;\">RSKS</span></span> корр/сч <span style=\"padding: 2px; border-radius: 4px; border: 1px solid #d7ccc8; background: #efebe9\">30301064102617287209<span style=\"vertical-align: middle; margin-left: 2px; font-size: 0.7em; color: #a1887f;\">RSKS</span></span> тел. <span style=\"padding: 2px; border-radius: 4px; border: 1px solid #d1c4e9; background: #ede7f6\">+<span style=\"vertical-align: middle; margin-left: 2px; font-size: 0.7em; color: #9575cd;\">STAT</span></span><span style=\"padding: 2px; border-radius: 4px; border: 1px solid #d1c4e9; background: #ede7f6\">7 ( 920 ) 3804432<span style=\"vertical-align: middle; margin-left: 2px; font-size: 0.7em; color: #9575cd;\">STAT</span></span></div>"
      ],
      "text/plain": [
       "<IPython.core.display.HTML object>"
      ]
     },
     "metadata": {},
     "output_type": "display_data"
    },
    {
     "name": "stdout",
     "output_type": "stream",
     "text": [
      "ex 33:\n"
     ]
    },
    {
     "data": {
      "text/html": [
       "<div class=\"tex2jax_ignore\" style=\"white-space: pre-wrap\">Подрядчик <span style=\"padding: 2px; border-radius: 4px; border: 1px solid #ffcdd2; background: #ffebee\">ИП Хохлова О. В<span style=\"vertical-align: middle; margin-left: 2px; font-size: 0.7em; color: #e57373;\">ORG</span></span>. ИНН Покупатель <span style=\"padding: 2px; border-radius: 4px; border: 1px solid #ffe0b2; background: #fff3e0\">7702352454<span style=\"vertical-align: middle; margin-left: 2px; font-size: 0.7em; color: #ffb74d;\">INNKPP</span></span> КПП Плательщик <span style=\"padding: 2px; border-radius: 4px; border: 1px solid #ffe0b2; background: #fff3e0\">752701001<span style=\"vertical-align: middle; margin-left: 2px; font-size: 0.7em; color: #ffb74d;\">INNKPP</span></span> Банк Клиент <span style=\"padding: 2px; border-radius: 4px; border: 1px solid #ffcdd2; background: #ffebee\">Публичное акционерное общество Банк &quot; Финансовая Корпорация Открытие &quot;<span style=\"vertical-align: middle; margin-left: 2px; font-size: 0.7em; color: #e57373;\">ORG</span></span> ИНН/КПП Субподрядчик <span style=\"padding: 2px; border-radius: 4px; border: 1px solid #ffe0b2; background: #fff3e0\">3664211533<span style=\"vertical-align: middle; margin-left: 2px; font-size: 0.7em; color: #ffb74d;\">INNKPP</span></span> / Адрес Подрядчик <span style=\"padding: 2px; border-radius: 4px; border: 1px solid #c8e6c9; background: #e8f5e9\">ОБЛАСТЬ МУРМАНСКАЯ ГОРОД МУРМАНСК УЛИЦА БАУМАНА ДОМ 32 КВАРТИРА 11<span style=\"vertical-align: middle; margin-left: 2px; font-size: 0.7em; color: #66bb6a;\">LOC</span></span> тел.</div>"
      ],
      "text/plain": [
       "<IPython.core.display.HTML object>"
      ]
     },
     "metadata": {},
     "output_type": "display_data"
    },
    {
     "name": "stdout",
     "output_type": "stream",
     "text": [
      "ex 34:\n"
     ]
    },
    {
     "data": {
      "text/html": [
       "<div class=\"tex2jax_ignore\" style=\"white-space: pre-wrap\">представитель Исполнителя генеральный директор</div>"
      ],
      "text/plain": [
       "<IPython.core.display.HTML object>"
      ]
     },
     "metadata": {},
     "output_type": "display_data"
    },
    {
     "name": "stdout",
     "output_type": "stream",
     "text": [
      "ex 35:\n"
     ]
    },
    {
     "data": {
      "text/html": [
       "<div class=\"tex2jax_ignore\" style=\"white-space: pre-wrap\"><span style=\"padding: 2px; border-radius: 4px; border: 1px solid #ffe0b2; background: #fff3e0\">301707421116<span style=\"vertical-align: middle; margin-left: 2px; font-size: 0.7em; color: #ffb74d;\">INNKPP</span></span> <span style=\"padding: 2px; border-radius: 4px; border: 1px solid #ffe0b2; background: #fff3e0\">770301001<span style=\"vertical-align: middle; margin-left: 2px; font-size: 0.7em; color: #ffb74d;\">INNKPP</span></span> Банк ИНН/КПП <span style=\"padding: 2px; border-radius: 4px; border: 1px solid #ffe0b2; background: #fff3e0\">6943000545<span style=\"vertical-align: middle; margin-left: 2px; font-size: 0.7em; color: #ffb74d;\">INNKPP</span></span> <span style=\"padding: 2px; border-radius: 4px; border: 1px solid #ffe0b2; background: #fff3e0\">860201001<span style=\"vertical-align: middle; margin-left: 2px; font-size: 0.7em; color: #ffb74d;\">INNKPP</span></span> <span style=\"padding: 2px; border-radius: 4px; border: 1px solid #d1c4e9; background: #ede7f6\">046867064<span style=\"vertical-align: middle; margin-left: 2px; font-size: 0.7em; color: #9575cd;\">STAT</span></span> Адрес филиала банка Генподрядчик <span style=\"padding: 2px; border-radius: 4px; border: 1px solid #c8e6c9; background: #e8f5e9\">656012 , Алтайский край , г Барнаул , Октябрьский р-н , ул П.С.Кулагина , д 28М<span style=\"vertical-align: middle; margin-left: 2px; font-size: 0.7em; color: #66bb6a;\">LOC</span></span> к.с.</div>"
      ],
      "text/plain": [
       "<IPython.core.display.HTML object>"
      ]
     },
     "metadata": {},
     "output_type": "display_data"
    },
    {
     "name": "stdout",
     "output_type": "stream",
     "text": [
      "ex 36:\n"
     ]
    },
    {
     "data": {
      "text/html": [
       "<div class=\"tex2jax_ignore\" style=\"white-space: pre-wrap\">Инвестор <span style=\"padding: 2px; border-radius: 4px; border: 1px solid #ffcdd2; background: #ffebee\">Индивидуальный предприниматель Иванов Андрей Олегович<span style=\"vertical-align: middle; margin-left: 2px; font-size: 0.7em; color: #e57373;\">ORG</span></span> <span style=\"padding: 2px; border-radius: 4px; border: 1px solid #ffe0b2; background: #fff3e0\">231298447854<span style=\"vertical-align: middle; margin-left: 2px; font-size: 0.7em; color: #ffb74d;\">INNKPP</span></span> / <span style=\"padding: 2px; border-radius: 4px; border: 1px solid #ffe0b2; background: #fff3e0\">910901001<span style=\"vertical-align: middle; margin-left: 2px; font-size: 0.7em; color: #ffb74d;\">INNKPP</span></span> рас/счет <span style=\"padding: 2px; border-radius: 4px; border: 1px solid #d7ccc8; background: #efebe9\">43604820491406738561<span style=\"vertical-align: middle; margin-left: 2px; font-size: 0.7em; color: #a1887f;\">RSKS</span></span> <span style=\"padding: 2px; border-radius: 4px; border: 1px solid #c8e6c9; background: #e8f5e9\">420127 , Респ Татарстан , г Казань , Авиастроительный р-н , ул Дементьева , д 2Б к 4 , оф 52<span style=\"vertical-align: middle; margin-left: 2px; font-size: 0.7em; color: #66bb6a;\">LOC</span></span></div>"
      ],
      "text/plain": [
       "<IPython.core.display.HTML object>"
      ]
     },
     "metadata": {},
     "output_type": "display_data"
    },
    {
     "name": "stdout",
     "output_type": "stream",
     "text": [
      "ex 37:\n"
     ]
    },
    {
     "data": {
      "text/html": [
       "<div class=\"tex2jax_ignore\" style=\"white-space: pre-wrap\"><span style=\"padding: 2px; border-radius: 4px; border: 1px solid #ffcdd2; background: #ffebee\">ИП Нунгессер Иван Владимирович<span style=\"vertical-align: middle; margin-left: 2px; font-size: 0.7em; color: #e57373;\">ORG</span></span> <span style=\"padding: 2px; border-radius: 4px; border: 1px solid #ffe0b2; background: #fff3e0\">695016309<span style=\"vertical-align: middle; margin-left: 2px; font-size: 0.7em; color: #ffb74d;\">INNKPP</span></span> / <span style=\"padding: 2px; border-radius: 4px; border: 1px solid #ffe0b2; background: #fff3e0\">668301001<span style=\"vertical-align: middle; margin-left: 2px; font-size: 0.7em; color: #ffb74d;\">INNKPP</span></span> Филиал банка Поставщик <span style=\"padding: 2px; border-radius: 4px; border: 1px solid #ffe0b2; background: #fff3e0\">67290193306<span style=\"vertical-align: middle; margin-left: 2px; font-size: 0.7em; color: #ffb74d;\">INNKPP</span></span> / <span style=\"padding: 2px; border-radius: 4px; border: 1px solid #ffe0b2; background: #fff3e0\">760401001<span style=\"vertical-align: middle; margin-left: 2px; font-size: 0.7em; color: #ffb74d;\">INNKPP</span></span> тел. <span style=\"padding: 2px; border-radius: 4px; border: 1px solid #d1c4e9; background: #ede7f6\">7<span style=\"vertical-align: middle; margin-left: 2px; font-size: 0.7em; color: #9575cd;\">STAT</span></span><span style=\"padding: 2px; border-radius: 4px; border: 1px solid #d1c4e9; background: #ede7f6\">-<span style=\"vertical-align: middle; margin-left: 2px; font-size: 0.7em; color: #9575cd;\">STAT</span></span><span style=\"padding: 2px; border-radius: 4px; border: 1px solid #d1c4e9; background: #ede7f6\">329<span style=\"vertical-align: middle; margin-left: 2px; font-size: 0.7em; color: #9575cd;\">STAT</span></span><span style=\"padding: 2px; border-radius: 4px; border: 1px solid #d1c4e9; background: #ede7f6\">-<span style=\"vertical-align: middle; margin-left: 2px; font-size: 0.7em; color: #9575cd;\">STAT</span></span><span style=\"padding: 2px; border-radius: 4px; border: 1px solid #d1c4e9; background: #ede7f6\">7401303<span style=\"vertical-align: middle; margin-left: 2px; font-size: 0.7em; color: #9575cd;\">STAT</span></span> БИК</div>"
      ],
      "text/plain": [
       "<IPython.core.display.HTML object>"
      ]
     },
     "metadata": {},
     "output_type": "display_data"
    },
    {
     "name": "stdout",
     "output_type": "stream",
     "text": [
      "ex 38:\n"
     ]
    },
    {
     "data": {
      "text/html": [
       "<div class=\"tex2jax_ignore\" style=\"white-space: pre-wrap\"><span style=\"padding: 2px; border-radius: 4px; border: 1px solid #ffcdd2; background: #ffebee\">ИП Дубовченко Андрей Борисович<span style=\"vertical-align: middle; margin-left: 2px; font-size: 0.7em; color: #e57373;\">ORG</span></span> именуемое в дальнейшем &quot;Заказчик&quot;, в лице генерального директора <span style=\"padding: 2px; border-radius: 4px; border: 1px solid #bbdefb; background: #e3f2fd\">Петренко Александр Александрович<span style=\"vertical-align: middle; margin-left: 2px; font-size: 0.7em; color: #64b5f6;\">PER</span></span></div>"
      ],
      "text/plain": [
       "<IPython.core.display.HTML object>"
      ]
     },
     "metadata": {},
     "output_type": "display_data"
    },
    {
     "name": "stdout",
     "output_type": "stream",
     "text": [
      "ex 39:\n"
     ]
    },
    {
     "data": {
      "text/html": [
       "<div class=\"tex2jax_ignore\" style=\"white-space: pre-wrap\"><span style=\"padding: 2px; border-radius: 4px; border: 1px solid #c8e6c9; background: #e8f5e9\">Ханты<span style=\"vertical-align: middle; margin-left: 2px; font-size: 0.7em; color: #66bb6a;\">LOC</span></span><span style=\"padding: 2px; border-radius: 4px; border: 1px solid #c8e6c9; background: #e8f5e9\">-<span style=\"vertical-align: middle; margin-left: 2px; font-size: 0.7em; color: #66bb6a;\">LOC</span></span><span style=\"padding: 2px; border-radius: 4px; border: 1px solid #c8e6c9; background: #e8f5e9\">Мансийский автономный округ - Югра<span style=\"vertical-align: middle; margin-left: 2px; font-size: 0.7em; color: #66bb6a;\">LOC</span></span> / <span style=\"padding: 2px; border-radius: 4px; border: 1px solid #ffe0b2; background: #fff3e0\">753601001<span style=\"vertical-align: middle; margin-left: 2px; font-size: 0.7em; color: #ffb74d;\">INNKPP</span></span> тел. <span style=\"padding: 2px; border-radius: 4px; border: 1px solid #d1c4e9; background: #ede7f6\">+<span style=\"vertical-align: middle; margin-left: 2px; font-size: 0.7em; color: #9575cd;\">STAT</span></span><span style=\"padding: 2px; border-radius: 4px; border: 1px solid #d1c4e9; background: #ede7f6\">88691801956<span style=\"vertical-align: middle; margin-left: 2px; font-size: 0.7em; color: #9575cd;\">STAT</span></span> Плательщик <span style=\"padding: 2px; border-radius: 4px; border: 1px solid #ffcdd2; background: #ffebee\">ВИНКОМ ООО<span style=\"vertical-align: middle; margin-left: 2px; font-size: 0.7em; color: #e57373;\">ORG</span></span> <span style=\"padding: 2px; border-radius: 4px; border: 1px solid #d1c4e9; background: #ede7f6\">046131017<span style=\"vertical-align: middle; margin-left: 2px; font-size: 0.7em; color: #9575cd;\">STAT</span></span> <span style=\"padding: 2px; border-radius: 4px; border: 1px solid #d7ccc8; background: #efebe9\">30341852448701282510<span style=\"vertical-align: middle; margin-left: 2px; font-size: 0.7em; color: #a1887f;\">RSKS</span></span> <span style=\"padding: 2px; border-radius: 4px; border: 1px solid #c8e6c9; background: #e8f5e9\">КРАЙ ПЕРМСКИЙ РАЙОН КУДЫМКАРСКИЙ СЕЛО ВЕРХ-ИНЬВА УЛИЦА СТАРЦЕВА 2<span style=\"vertical-align: middle; margin-left: 2px; font-size: 0.7em; color: #66bb6a;\">LOC</span></span> счет № <span style=\"padding: 2px; border-radius: 4px; border: 1px solid #d7ccc8; background: #efebe9\">45624578545502299183<span style=\"vertical-align: middle; margin-left: 2px; font-size: 0.7em; color: #a1887f;\">RSKS</span></span> банк <span style=\"padding: 2px; border-radius: 4px; border: 1px solid #d1c4e9; background: #ede7f6\">+<span style=\"vertical-align: middle; margin-left: 2px; font-size: 0.7em; color: #9575cd;\">STAT</span></span><span style=\"padding: 2px; border-radius: 4px; border: 1px solid #d1c4e9; background: #ede7f6\">7<span style=\"vertical-align: middle; margin-left: 2px; font-size: 0.7em; color: #9575cd;\">STAT</span></span><span style=\"padding: 2px; border-radius: 4px; border: 1px solid #d1c4e9; background: #ede7f6\">-<span style=\"vertical-align: middle; margin-left: 2px; font-size: 0.7em; color: #9575cd;\">STAT</span></span><span style=\"padding: 2px; border-radius: 4px; border: 1px solid #d1c4e9; background: #ede7f6\">838<span style=\"vertical-align: middle; margin-left: 2px; font-size: 0.7em; color: #9575cd;\">STAT</span></span><span style=\"padding: 2px; border-radius: 4px; border: 1px solid #d1c4e9; background: #ede7f6\">-<span style=\"vertical-align: middle; margin-left: 2px; font-size: 0.7em; color: #9575cd;\">STAT</span></span><span style=\"padding: 2px; border-radius: 4px; border: 1px solid #d1c4e9; background: #ede7f6\">040<span style=\"vertical-align: middle; margin-left: 2px; font-size: 0.7em; color: #9575cd;\">STAT</span></span><span style=\"padding: 2px; border-radius: 4px; border: 1px solid #d1c4e9; background: #ede7f6\">-<span style=\"vertical-align: middle; margin-left: 2px; font-size: 0.7em; color: #9575cd;\">STAT</span></span>8586</div>"
      ],
      "text/plain": [
       "<IPython.core.display.HTML object>"
      ]
     },
     "metadata": {},
     "output_type": "display_data"
    },
    {
     "name": "stdout",
     "output_type": "stream",
     "text": [
      "ex 40:\n"
     ]
    },
    {
     "data": {
      "text/html": [
       "<div class=\"tex2jax_ignore\" style=\"white-space: pre-wrap\">Поставщик <span style=\"padding: 2px; border-radius: 4px; border: 1px solid #d1c4e9; background: #ede7f6\">+<span style=\"vertical-align: middle; margin-left: 2px; font-size: 0.7em; color: #9575cd;\">STAT</span></span><span style=\"padding: 2px; border-radius: 4px; border: 1px solid #d1c4e9; background: #ede7f6\">73834137754<span style=\"vertical-align: middle; margin-left: 2px; font-size: 0.7em; color: #9575cd;\">STAT</span></span> <span style=\"padding: 2px; border-radius: 4px; border: 1px solid #c8e6c9; background: #e8f5e9\">ГОРОД МОСКВА УЛИЦА МАРОСЕЙКА ДОМ 2/15 СТРОЕНИЕ 1 ПОМ. 6 КОМН. 2<span style=\"vertical-align: middle; margin-left: 2px; font-size: 0.7em; color: #66bb6a;\">LOC</span></span> З-чик / <span style=\"padding: 2px; border-radius: 4px; border: 1px solid #ffe0b2; background: #fff3e0\">590201001<span style=\"vertical-align: middle; margin-left: 2px; font-size: 0.7em; color: #ffb74d;\">INNKPP</span></span> кор.счет <span style=\"padding: 2px; border-radius: 4px; border: 1px solid #d7ccc8; background: #efebe9\">30671408753681837243<span style=\"vertical-align: middle; margin-left: 2px; font-size: 0.7em; color: #a1887f;\">RSKS</span></span> <span style=\"padding: 2px; border-radius: 4px; border: 1px solid #d1c4e9; background: #ede7f6\">7<span style=\"vertical-align: middle; margin-left: 2px; font-size: 0.7em; color: #9575cd;\">STAT</span></span><span style=\"padding: 2px; border-radius: 4px; border: 1px solid #d1c4e9; background: #ede7f6\">-<span style=\"vertical-align: middle; margin-left: 2px; font-size: 0.7em; color: #9575cd;\">STAT</span></span><span style=\"padding: 2px; border-radius: 4px; border: 1px solid #d1c4e9; background: #ede7f6\">( 826 ) -19-49-251<span style=\"vertical-align: middle; margin-left: 2px; font-size: 0.7em; color: #9575cd;\">STAT</span></span> банк <span style=\"padding: 2px; border-radius: 4px; border: 1px solid #ffcdd2; background: #ffebee\">Акционерное общество коммерческий банк социального развития &quot; Бумеранг &quot;<span style=\"vertical-align: middle; margin-left: 2px; font-size: 0.7em; color: #e57373;\">ORG</span></span> счет номер <span style=\"padding: 2px; border-radius: 4px; border: 1px solid #d7ccc8; background: #efebe9\">46542039053043615864<span style=\"vertical-align: middle; margin-left: 2px; font-size: 0.7em; color: #a1887f;\">RSKS</span></span> БИК Банка <span style=\"padding: 2px; border-radius: 4px; border: 1px solid #d1c4e9; background: #ede7f6\">044972011<span style=\"vertical-align: middle; margin-left: 2px; font-size: 0.7em; color: #9575cd;\">STAT</span></span> Адрес банка <span style=\"padding: 2px; border-radius: 4px; border: 1px solid #c8e6c9; background: #e8f5e9\">424002 , Респ Марий Эл , г Йошкар-Ола , б-р Победы , д 19Б , оф 16<span style=\"vertical-align: middle; margin-left: 2px; font-size: 0.7em; color: #66bb6a;\">LOC</span></span></div>"
      ],
      "text/plain": [
       "<IPython.core.display.HTML object>"
      ]
     },
     "metadata": {},
     "output_type": "display_data"
    },
    {
     "name": "stdout",
     "output_type": "stream",
     "text": [
      "ex 41:\n"
     ]
    },
    {
     "data": {
      "text/html": [
       "<div class=\"tex2jax_ignore\" style=\"white-space: pre-wrap\">тел. Плательщик <span style=\"padding: 2px; border-radius: 4px; border: 1px solid #ffcdd2; background: #ffebee\">ИП Рахимов Акрам Уктамович<span style=\"vertical-align: middle; margin-left: 2px; font-size: 0.7em; color: #e57373;\">ORG</span></span> Покупатель ИНН Исполнитель <span style=\"padding: 2px; border-radius: 4px; border: 1px solid #ffe0b2; background: #fff3e0\">391701001<span style=\"vertical-align: middle; margin-left: 2px; font-size: 0.7em; color: #ffb74d;\">INNKPP</span></span> Адрес филиала банка <span style=\"padding: 2px; border-radius: 4px; border: 1px solid #c8e6c9; background: #e8f5e9\">142718 , ГОРОД МОСКВА , ПОСЕЛЕНИЕ СОСЕНСКОЕ , НАСЕЛЕННЫЙ ПУНКТ Ж/К ДУБРОВКА , УЛИЦА ОРЕХОВАЯ , 2 , 1 , 5<span style=\"vertical-align: middle; margin-left: 2px; font-size: 0.7em; color: #66bb6a;\">LOC</span></span> рас/сч <span style=\"padding: 2px; border-radius: 4px; border: 1px solid #ffcdd2; background: #ffebee\">ФИЛИАЛ &quot; МАСТЕР-БАНК &quot; ( ОАО ) ( Г ОМСК )<span style=\"vertical-align: middle; margin-left: 2px; font-size: 0.7em; color: #e57373;\">ORG</span></span> кор. <span style=\"padding: 2px; border-radius: 4px; border: 1px solid #d7ccc8; background: #efebe9\">30175253320004897107<span style=\"vertical-align: middle; margin-left: 2px; font-size: 0.7em; color: #a1887f;\">RSKS</span></span> <span style=\"padding: 2px; border-radius: 4px; border: 1px solid #d1c4e9; background: #ede7f6\">047125248<span style=\"vertical-align: middle; margin-left: 2px; font-size: 0.7em; color: #9575cd;\">STAT</span></span> Адрес Подрядчик <span style=\"padding: 2px; border-radius: 4px; border: 1px solid #c8e6c9; background: #e8f5e9\">ОБЛАСТЬ ВЛАДИМИРСКАЯ РАЙОН КИРЖАЧСКИЙ ДЕРЕВНЯ ФЕДОРОВСКОЕ УЛИЦА СЕЛЬСКАЯ 49<span style=\"vertical-align: middle; margin-left: 2px; font-size: 0.7em; color: #66bb6a;\">LOC</span></span> тел.</div>"
      ],
      "text/plain": [
       "<IPython.core.display.HTML object>"
      ]
     },
     "metadata": {},
     "output_type": "display_data"
    },
    {
     "name": "stdout",
     "output_type": "stream",
     "text": [
      "ex 42:\n"
     ]
    },
    {
     "data": {
      "text/html": [
       "<div class=\"tex2jax_ignore\" style=\"white-space: pre-wrap\">Генподрядчик <span style=\"padding: 2px; border-radius: 4px; border: 1px solid #ffcdd2; background: #ffebee\">Индивидуальный предприниматель Григашкина Ольга Рифкатовна<span style=\"vertical-align: middle; margin-left: 2px; font-size: 0.7em; color: #e57373;\">ORG</span></span> ИНН Инвестор <span style=\"padding: 2px; border-radius: 4px; border: 1px solid #ffe0b2; background: #fff3e0\">7727743724<span style=\"vertical-align: middle; margin-left: 2px; font-size: 0.7em; color: #ffb74d;\">INNKPP</span></span> <span style=\"padding: 2px; border-radius: 4px; border: 1px solid #ffe0b2; background: #fff3e0\">772501001<span style=\"vertical-align: middle; margin-left: 2px; font-size: 0.7em; color: #ffb74d;\">INNKPP</span></span> <span style=\"padding: 2px; border-radius: 4px; border: 1px solid #c8e6c9; background: #e8f5e9\">ОБЛАСТЬ ЛЕНИНГРАДСКАЯ РАЙОН ЛОДЕЙНОПОЛЬСКИЙ ПОСЕЛОК РАССВЕТ 8<span style=\"vertical-align: middle; margin-left: 2px; font-size: 0.7em; color: #66bb6a;\">LOC</span></span> <span style=\"padding: 2px; border-radius: 4px; border: 1px solid #d7ccc8; background: #efebe9\">30743515612905406377<span style=\"vertical-align: middle; margin-left: 2px; font-size: 0.7em; color: #a1887f;\">RSKS</span></span> тел. <span style=\"padding: 2px; border-radius: 4px; border: 1px solid #d1c4e9; background: #ede7f6\">7<span style=\"vertical-align: middle; margin-left: 2px; font-size: 0.7em; color: #9575cd;\">STAT</span></span><span style=\"padding: 2px; border-radius: 4px; border: 1px solid #d1c4e9; background: #ede7f6\">-<span style=\"vertical-align: middle; margin-left: 2px; font-size: 0.7em; color: #9575cd;\">STAT</span></span><span style=\"padding: 2px; border-radius: 4px; border: 1px solid #d1c4e9; background: #ede7f6\">( 371 ) -19-24-829<span style=\"vertical-align: middle; margin-left: 2px; font-size: 0.7em; color: #9575cd;\">STAT</span></span> <span style=\"padding: 2px; border-radius: 4px; border: 1px solid #ffcdd2; background: #ffebee\">ПОЛНОЕ НАИМЕНОВАНИЕ - ТРОИЦКИЙ ФИЛИАЛ АКЦИОНЕРНОГО КОММЕРЧЕСКОГО БАНКА &quot; ЧЕЛИНДБАНК &quot; ( ПУБЛИЧНОГО АКЦИОНЕРНОГО ОБЩЕСТВА ) , СОКРАЩЕННОЕ НАИМЕНОВАНИЕ - ТРОИЦКИЙ ФИЛИАЛ ПАО &quot; ЧЕЛИНДБАНК &quot;<span style=\"vertical-align: middle; margin-left: 2px; font-size: 0.7em; color: #e57373;\">ORG</span></span></div>"
      ],
      "text/plain": [
       "<IPython.core.display.HTML object>"
      ]
     },
     "metadata": {},
     "output_type": "display_data"
    },
    {
     "name": "stdout",
     "output_type": "stream",
     "text": [
      "ex 43:\n"
     ]
    },
    {
     "data": {
      "text/html": [
       "<div class=\"tex2jax_ignore\" style=\"white-space: pre-wrap\"><span style=\"padding: 2px; border-radius: 4px; border: 1px solid #ffcdd2; background: #ffebee\">Индивидуальный предприниматель Байдин Д. А<span style=\"vertical-align: middle; margin-left: 2px; font-size: 0.7em; color: #e57373;\">ORG</span></span>. ,.</div>"
      ],
      "text/plain": [
       "<IPython.core.display.HTML object>"
      ]
     },
     "metadata": {},
     "output_type": "display_data"
    },
    {
     "name": "stdout",
     "output_type": "stream",
     "text": [
      "ex 44:\n"
     ]
    },
    {
     "data": {
      "text/html": [
       "<div class=\"tex2jax_ignore\" style=\"white-space: pre-wrap\"><span style=\"padding: 2px; border-radius: 4px; border: 1px solid #ffcdd2; background: #ffebee\">&quot; ЦЕНТР ВЫСОКОТЕХНОЛОГИЧНОЙ ИННОВАЦИОННОЙ МЕДИЦИНЫ &quot; , Общество с ограниченной ответственностью<span style=\"vertical-align: middle; margin-left: 2px; font-size: 0.7em; color: #e57373;\">ORG</span></span> дальнейшем &quot;Заказчик&quot;, в лице бухгалтера <span style=\"padding: 2px; border-radius: 4px; border: 1px solid #bbdefb; background: #e3f2fd\">Мантрова А. А<span style=\"vertical-align: middle; margin-left: 2px; font-size: 0.7em; color: #64b5f6;\">PER</span></span>.</div>"
      ],
      "text/plain": [
       "<IPython.core.display.HTML object>"
      ]
     },
     "metadata": {},
     "output_type": "display_data"
    },
    {
     "name": "stdout",
     "output_type": "stream",
     "text": [
      "ex 45:\n"
     ]
    },
    {
     "data": {
      "text/html": [
       "<div class=\"tex2jax_ignore\" style=\"white-space: pre-wrap\"><span style=\"padding: 2px; border-radius: 4px; border: 1px solid #ffcdd2; background: #ffebee\">Индивидуальный предприниматель Гусейнов В. И<span style=\"vertical-align: middle; margin-left: 2px; font-size: 0.7em; color: #e57373;\">ORG</span></span>. именуемое дальнейшем &quot;Заказчик&quot;, лице заместителя бухгалтера</div>"
      ],
      "text/plain": [
       "<IPython.core.display.HTML object>"
      ]
     },
     "metadata": {},
     "output_type": "display_data"
    },
    {
     "name": "stdout",
     "output_type": "stream",
     "text": [
      "ex 46:\n"
     ]
    },
    {
     "data": {
      "text/html": [
       "<div class=\"tex2jax_ignore\" style=\"white-space: pre-wrap\">Адрес банка <span style=\"padding: 2px; border-radius: 4px; border: 1px solid #c8e6c9; background: #e8f5e9\">653211 , Кемеровская область - Кузбасс , Прокопьевский р-н , село Лучшево<span style=\"vertical-align: middle; margin-left: 2px; font-size: 0.7em; color: #66bb6a;\">LOC</span></span> МЕСТНАЯ РЕЛИГИОЗНАЯ ОРГАНИЗАЦИЯ &quot; ЕВАНГЕЛИЧЕСКО-ЛЮТЕРАНСКИЙ ПРИХОД МОКША-ЭРЗЯНСКОЙ ЦЕРКВИ &quot; Г. САРАНСКА РЕСПУБЛИКИ МОРДОВИЯ ИНН З-чик КПП Инвестор <span style=\"padding: 2px; border-radius: 4px; border: 1px solid #ffe0b2; background: #fff3e0\">861601001<span style=\"vertical-align: middle; margin-left: 2px; font-size: 0.7em; color: #ffb74d;\">INNKPP</span></span> <span style=\"padding: 2px; border-radius: 4px; border: 1px solid #d1c4e9; background: #ede7f6\">8<span style=\"vertical-align: middle; margin-left: 2px; font-size: 0.7em; color: #9575cd;\">STAT</span></span><span style=\"padding: 2px; border-radius: 4px; border: 1px solid #d1c4e9; background: #ede7f6\">-<span style=\"vertical-align: middle; margin-left: 2px; font-size: 0.7em; color: #9575cd;\">STAT</span></span><span style=\"padding: 2px; border-radius: 4px; border: 1px solid #d1c4e9; background: #ede7f6\">( 814 ) -1064174<span style=\"vertical-align: middle; margin-left: 2px; font-size: 0.7em; color: #9575cd;\">STAT</span></span> <span style=\"padding: 2px; border-radius: 4px; border: 1px solid #d7ccc8; background: #efebe9\">30412660075233708616<span style=\"vertical-align: middle; margin-left: 2px; font-size: 0.7em; color: #a1887f;\">RSKS</span></span> <span style=\"padding: 2px; border-radius: 4px; border: 1px solid #ffcdd2; background: #ffebee\">ФИЛИАЛ АКБ &quot; ЕИБ &quot; ЗАО ( Г САМАРА )<span style=\"vertical-align: middle; margin-left: 2px; font-size: 0.7em; color: #e57373;\">ORG</span></span> тел. <span style=\"padding: 2px; border-radius: 4px; border: 1px solid #d1c4e9; background: #ede7f6\">8<span style=\"vertical-align: middle; margin-left: 2px; font-size: 0.7em; color: #9575cd;\">STAT</span></span><span style=\"padding: 2px; border-radius: 4px; border: 1px solid #d1c4e9; background: #ede7f6\">-<span style=\"vertical-align: middle; margin-left: 2px; font-size: 0.7em; color: #9575cd;\">STAT</span></span><span style=\"padding: 2px; border-radius: 4px; border: 1px solid #d1c4e9; background: #ede7f6\">335<span style=\"vertical-align: middle; margin-left: 2px; font-size: 0.7em; color: #9575cd;\">STAT</span></span><span style=\"padding: 2px; border-radius: 4px; border: 1px solid #d1c4e9; background: #ede7f6\">-<span style=\"vertical-align: middle; margin-left: 2px; font-size: 0.7em; color: #9575cd;\">STAT</span></span><span style=\"padding: 2px; border-radius: 4px; border: 1px solid #d1c4e9; background: #ede7f6\">045<span style=\"vertical-align: middle; margin-left: 2px; font-size: 0.7em; color: #9575cd;\">STAT</span></span><span style=\"padding: 2px; border-radius: 4px; border: 1px solid #d1c4e9; background: #ede7f6\">-<span style=\"vertical-align: middle; margin-left: 2px; font-size: 0.7em; color: #9575cd;\">STAT</span></span><span style=\"padding: 2px; border-radius: 4px; border: 1px solid #d1c4e9; background: #ede7f6\">27<span style=\"vertical-align: middle; margin-left: 2px; font-size: 0.7em; color: #9575cd;\">STAT</span></span><span style=\"padding: 2px; border-radius: 4px; border: 1px solid #d1c4e9; background: #ede7f6\">-<span style=\"vertical-align: middle; margin-left: 2px; font-size: 0.7em; color: #9575cd;\">STAT</span></span><span style=\"padding: 2px; border-radius: 4px; border: 1px solid #d1c4e9; background: #ede7f6\">93<span style=\"vertical-align: middle; margin-left: 2px; font-size: 0.7em; color: #9575cd;\">STAT</span></span> рс <span style=\"padding: 2px; border-radius: 4px; border: 1px solid #d7ccc8; background: #efebe9\">49298910015338088868<span style=\"vertical-align: middle; margin-left: 2px; font-size: 0.7em; color: #a1887f;\">RSKS</span></span> <span style=\"padding: 2px; border-radius: 4px; border: 1px solid #c8e6c9; background: #e8f5e9\">ОБЛАСТЬ КУРСКАЯ ГОРОД КУРСК ПРОСПЕКТ ПОБЕДЫ 2<span style=\"vertical-align: middle; margin-left: 2px; font-size: 0.7em; color: #66bb6a;\">LOC</span></span> БИК Банка <span style=\"padding: 2px; border-radius: 4px; border: 1px solid #d1c4e9; background: #ede7f6\">047282355<span style=\"vertical-align: middle; margin-left: 2px; font-size: 0.7em; color: #9575cd;\">STAT</span></span></div>"
      ],
      "text/plain": [
       "<IPython.core.display.HTML object>"
      ]
     },
     "metadata": {},
     "output_type": "display_data"
    },
    {
     "name": "stdout",
     "output_type": "stream",
     "text": [
      "ex 47:\n"
     ]
    },
    {
     "data": {
      "text/html": [
       "<div class=\"tex2jax_ignore\" style=\"white-space: pre-wrap\">Адрес банка Клиент <span style=\"padding: 2px; border-radius: 4px; border: 1px solid #d1c4e9; background: #ede7f6\">7<span style=\"vertical-align: middle; margin-left: 2px; font-size: 0.7em; color: #9575cd;\">STAT</span></span><span style=\"padding: 2px; border-radius: 4px; border: 1px solid #d1c4e9; background: #ede7f6\">-<span style=\"vertical-align: middle; margin-left: 2px; font-size: 0.7em; color: #9575cd;\">STAT</span></span><span style=\"padding: 2px; border-radius: 4px; border: 1px solid #d1c4e9; background: #ede7f6\">( 390 ) -80-03-627<span style=\"vertical-align: middle; margin-left: 2px; font-size: 0.7em; color: #9575cd;\">STAT</span></span> Получатель КПП/ИНН <span style=\"padding: 2px; border-radius: 4px; border: 1px solid #ffe0b2; background: #fff3e0\">710301001<span style=\"vertical-align: middle; margin-left: 2px; font-size: 0.7em; color: #ffb74d;\">INNKPP</span></span> / <span style=\"padding: 2px; border-radius: 4px; border: 1px solid #ffe0b2; background: #fff3e0\">1435342837<span style=\"vertical-align: middle; margin-left: 2px; font-size: 0.7em; color: #ffb74d;\">INNKPP</span></span> Заказчик Адрес филиала банка Подрядчик <span style=\"padding: 2px; border-radius: 4px; border: 1px solid #c8e6c9; background: #e8f5e9\">140060 , Московская обл , г Люберцы , рп Октябрьский<span style=\"vertical-align: middle; margin-left: 2px; font-size: 0.7em; color: #66bb6a;\">LOC</span></span> корр/сч <span style=\"padding: 2px; border-radius: 4px; border: 1px solid #d7ccc8; background: #efebe9\">30571430580302030862<span style=\"vertical-align: middle; margin-left: 2px; font-size: 0.7em; color: #a1887f;\">RSKS</span></span> <span style=\"padding: 2px; border-radius: 4px; border: 1px solid #d7ccc8; background: #efebe9\">42497827371440217492<span style=\"vertical-align: middle; margin-left: 2px; font-size: 0.7em; color: #a1887f;\">RSKS</span></span> Банк Исп-тель <span style=\"padding: 2px; border-radius: 4px; border: 1px solid #d1c4e9; background: #ede7f6\">8<span style=\"vertical-align: middle; margin-left: 2px; font-size: 0.7em; color: #9575cd;\">STAT</span></span><span style=\"padding: 2px; border-radius: 4px; border: 1px solid #d1c4e9; background: #ede7f6\">-<span style=\"vertical-align: middle; margin-left: 2px; font-size: 0.7em; color: #9575cd;\">STAT</span></span><span style=\"padding: 2px; border-radius: 4px; border: 1px solid #d1c4e9; background: #ede7f6\">993<span style=\"vertical-align: middle; margin-left: 2px; font-size: 0.7em; color: #9575cd;\">STAT</span></span><span style=\"padding: 2px; border-radius: 4px; border: 1px solid #d1c4e9; background: #ede7f6\">-<span style=\"vertical-align: middle; margin-left: 2px; font-size: 0.7em; color: #9575cd;\">STAT</span></span><span style=\"padding: 2px; border-radius: 4px; border: 1px solid #d1c4e9; background: #ede7f6\">7871321<span style=\"vertical-align: middle; margin-left: 2px; font-size: 0.7em; color: #9575cd;\">STAT</span></span> БИК Банка <span style=\"padding: 2px; border-radius: 4px; border: 1px solid #d1c4e9; background: #ede7f6\">047404976<span style=\"vertical-align: middle; margin-left: 2px; font-size: 0.7em; color: #9575cd;\">STAT</span></span></div>"
      ],
      "text/plain": [
       "<IPython.core.display.HTML object>"
      ]
     },
     "metadata": {},
     "output_type": "display_data"
    },
    {
     "name": "stdout",
     "output_type": "stream",
     "text": [
      "ex 48:\n"
     ]
    },
    {
     "data": {
      "text/html": [
       "<div class=\"tex2jax_ignore\" style=\"white-space: pre-wrap\">Адрес банка <span style=\"padding: 2px; border-radius: 4px; border: 1px solid #c8e6c9; background: #e8f5e9\">ОБЛАСТЬ САХАЛИНСКАЯ ГОРОД ЮЖНО-САХАЛИНСК УЛИЦА КОМСОМОЛЬСКАЯ ДОМ 154<span style=\"vertical-align: middle; margin-left: 2px; font-size: 0.7em; color: #66bb6a;\">LOC</span></span> Получатель <span style=\"padding: 2px; border-radius: 4px; border: 1px solid #ffcdd2; background: #ffebee\">ИП Ворушилова В. Д<span style=\"vertical-align: middle; margin-left: 2px; font-size: 0.7em; color: #e57373;\">ORG</span></span>. / <span style=\"padding: 2px; border-radius: 4px; border: 1px solid #ffe0b2; background: #fff3e0\">7704248931<span style=\"vertical-align: middle; margin-left: 2px; font-size: 0.7em; color: #ffb74d;\">INNKPP</span></span> <span style=\"padding: 2px; border-radius: 4px; border: 1px solid #d1c4e9; background: #ede7f6\">7<span style=\"vertical-align: middle; margin-left: 2px; font-size: 0.7em; color: #9575cd;\">STAT</span></span><span style=\"padding: 2px; border-radius: 4px; border: 1px solid #d1c4e9; background: #ede7f6\">-<span style=\"vertical-align: middle; margin-left: 2px; font-size: 0.7em; color: #9575cd;\">STAT</span></span><span style=\"padding: 2px; border-radius: 4px; border: 1px solid #d1c4e9; background: #ede7f6\">916<span style=\"vertical-align: middle; margin-left: 2px; font-size: 0.7em; color: #9575cd;\">STAT</span></span><span style=\"padding: 2px; border-radius: 4px; border: 1px solid #d1c4e9; background: #ede7f6\">-<span style=\"vertical-align: middle; margin-left: 2px; font-size: 0.7em; color: #9575cd;\">STAT</span></span><span style=\"padding: 2px; border-radius: 4px; border: 1px solid #d1c4e9; background: #ede7f6\">8206392<span style=\"vertical-align: middle; margin-left: 2px; font-size: 0.7em; color: #9575cd;\">STAT</span></span> <span style=\"padding: 2px; border-radius: 4px; border: 1px solid #d7ccc8; background: #efebe9\">43457329337055783596<span style=\"vertical-align: middle; margin-left: 2px; font-size: 0.7em; color: #a1887f;\">RSKS</span></span> БИК <span style=\"padding: 2px; border-radius: 4px; border: 1px solid #d1c4e9; background: #ede7f6\">047654861<span style=\"vertical-align: middle; margin-left: 2px; font-size: 0.7em; color: #9575cd;\">STAT</span></span> кор/сч <span style=\"padding: 2px; border-radius: 4px; border: 1px solid #d7ccc8; background: #efebe9\">30592837759434624217<span style=\"vertical-align: middle; margin-left: 2px; font-size: 0.7em; color: #a1887f;\">RSKS</span></span> банк <span style=\"padding: 2px; border-radius: 4px; border: 1px solid #ffcdd2; background: #ffebee\">открытое акционерное общество &quot; Акционерный Сибирский Нефтяной банк &quot;<span style=\"vertical-align: middle; margin-left: 2px; font-size: 0.7em; color: #e57373;\">ORG</span></span></div>"
      ],
      "text/plain": [
       "<IPython.core.display.HTML object>"
      ]
     },
     "metadata": {},
     "output_type": "display_data"
    },
    {
     "name": "stdout",
     "output_type": "stream",
     "text": [
      "ex 49:\n"
     ]
    },
    {
     "data": {
      "text/html": [
       "<div class=\"tex2jax_ignore\" style=\"white-space: pre-wrap\"><span style=\"padding: 2px; border-radius: 4px; border: 1px solid #ffcdd2; background: #ffebee\">ООО ВЕТЕРИНАРНАЯ КЛИНИКА ДОКТОРА КОНОПЛЕВА<span style=\"vertical-align: middle; margin-left: 2px; font-size: 0.7em; color: #e57373;\">ORG</span></span> представитель П-щика директор</div>"
      ],
      "text/plain": [
       "<IPython.core.display.HTML object>"
      ]
     },
     "metadata": {},
     "output_type": "display_data"
    }
   ],
   "source": [
    "for i, text in enumerate(df_test_rnd['TEXT'].values[50:100]):\n",
    "    _ = nlp_ner.get_spans(text)\n",
    "#     nlp_ner.get_span_coordinates()\n",
    "    print(f'ex {i}:')\n",
    "    show_box_markup(text, nlp_ner.spans_coord, palette=palette(PER=BLUE, ORG=RED, LOC=GREEN, INNKPP=ORANGE, STAT=PURPLE, RSKS=BROWN))"
   ]
  },
  {
   "cell_type": "code",
   "execution_count": 50,
   "id": "f35c9545",
   "metadata": {},
   "outputs": [
    {
     "data": {
      "text/plain": [
       "'Исполнитель Индивидуальный предприниматель Ефимова Наталья Ивановна , +8-826-568-7012 Адрес банка Исп-тель 190098 , г Санкт-Петербург , Адмиралтейский р-н , пл Труда , д 4 литер в , пом 212 231111056 Небанковская кредитная организация \" МОНЕТА \" ( общество с ограниченной ответственностью ) рас/сч 40253440786260473970 Адрес банка 614015 , Пермский край , г Пермь , Ленинский р-н , ул Екатерининская , д 18 тел. 8-885-63-06-595 кор/сч 30647910558312445795 БИК 046792177'"
      ]
     },
     "execution_count": 50,
     "metadata": {},
     "output_type": "execute_result"
    }
   ],
   "source": [
    "df_test_rnd['TEXT'].values[4]"
   ]
  },
  {
   "cell_type": "code",
   "execution_count": 16,
   "id": "cac802f4",
   "metadata": {},
   "outputs": [
    {
     "name": "stdout",
     "output_type": "stream",
     "text": [
      "CPU times: user 6min 4s, sys: 710 ms, total: 6min 5s\n",
      "Wall time: 1min 32s\n"
     ]
    }
   ],
   "source": [
    "%%time\n",
    "df_test_rnd['LD_NER_PIPE'] = df_test_rnd['TEXT'].apply(nlp_ner.get_spans)\n",
    "df_test_rnd['LD_NER_PIPE'] = df_test_rnd['LD_NER_PIPE'].apply(str)"
   ]
  },
  {
   "cell_type": "code",
   "execution_count": 17,
   "id": "8d214ec5",
   "metadata": {
    "scrolled": true
   },
   "outputs": [
    {
     "data": {
      "text/html": [
       "<div>\n",
       "<style scoped>\n",
       "    .dataframe tbody tr th:only-of-type {\n",
       "        vertical-align: middle;\n",
       "    }\n",
       "\n",
       "    .dataframe tbody tr th {\n",
       "        vertical-align: top;\n",
       "    }\n",
       "\n",
       "    .dataframe thead th {\n",
       "        text-align: right;\n",
       "    }\n",
       "</style>\n",
       "<table border=\"1\" class=\"dataframe\">\n",
       "  <thead>\n",
       "    <tr style=\"text-align: right;\">\n",
       "      <th></th>\n",
       "      <th>spans</th>\n",
       "      <th>tokens</th>\n",
       "      <th>TEXT</th>\n",
       "      <th>ORG_CORRECT</th>\n",
       "      <th>LD_NER_PIPE</th>\n",
       "    </tr>\n",
       "  </thead>\n",
       "  <tbody>\n",
       "    <tr>\n",
       "      <th>0</th>\n",
       "      <td>['STAT: 8 ( 935 ) 855 1436', 'LOC: 115162 , г ...</td>\n",
       "      <td>['8', '(', '935', ')', '855', '1436', 'Адрес',...</td>\n",
       "      <td>8 ( 935 ) 855 1436 Адрес Зак-чик 115162 , г Мо...</td>\n",
       "      <td>[['STAT', ' 8 ( 935 ) 855 1436'], ['LOC', ' 11...</td>\n",
       "      <td>[['STAT', '8 ( 935 ) 855 1436'], ['O', 'Адрес ...</td>\n",
       "    </tr>\n",
       "    <tr>\n",
       "      <th>1</th>\n",
       "      <td>['INNKPP: 6119008174', 'LOC: РЕСПУБЛИКА ТАТАРС...</td>\n",
       "      <td>['ИНН/КПП', '6119008174', 'тел.', 'РЕСПУБЛИКА'...</td>\n",
       "      <td>ИНН/КПП 6119008174 тел. РЕСПУБЛИКА ТАТАРСТАН Г...</td>\n",
       "      <td>[['INNKPP', ' 6119008174'], ['LOC', ' РЕСПУБЛИ...</td>\n",
       "      <td>[['O', 'ИНН/КПП'], ['INNKPP', '6119008174'], [...</td>\n",
       "    </tr>\n",
       "    <tr>\n",
       "      <th>2</th>\n",
       "      <td>['ORG: ИП', 'PER: Яковлева О. А. ,.', 'PER: Гр...</td>\n",
       "      <td>['ИП', 'Яковлева', 'О.', 'А.', ',.', 'именуемо...</td>\n",
       "      <td>ИП Яковлева О. А. ,. именуемое в в лице замест...</td>\n",
       "      <td>[['ORG', ' ИП'], ['PER', ' Яковлева О. А. ,.']...</td>\n",
       "      <td>[['ORG', 'ИП Яковлева О. А'], ['O', 'именуемое...</td>\n",
       "    </tr>\n",
       "    <tr>\n",
       "      <th>3</th>\n",
       "      <td>['LOC: 410012 , Саратовская обл , г Саратов , ...</td>\n",
       "      <td>['Адрес', 'филиала', 'банка', 'Подрядчик', '41...</td>\n",
       "      <td>Адрес филиала банка Подрядчик 410012 , Саратов...</td>\n",
       "      <td>[['LOC', ' 410012 , Саратовская обл , г Сарато...</td>\n",
       "      <td>[['O', 'Адрес филиала банка Подрядчик'], ['LOC...</td>\n",
       "    </tr>\n",
       "    <tr>\n",
       "      <th>4</th>\n",
       "      <td>['PER: Ефимова Наталья Ивановна ,', 'STAT: +8-...</td>\n",
       "      <td>['Исполнитель', 'Индивидуальный', 'предпринима...</td>\n",
       "      <td>Исполнитель Индивидуальный предприниматель Ефи...</td>\n",
       "      <td>[['PER', ' Ефимова Наталья Ивановна ,'], ['STA...</td>\n",
       "      <td>[['O', 'Исполнитель'], ['ORG', 'Индивидуальный...</td>\n",
       "    </tr>\n",
       "    <tr>\n",
       "      <th>...</th>\n",
       "      <td>...</td>\n",
       "      <td>...</td>\n",
       "      <td>...</td>\n",
       "      <td>...</td>\n",
       "      <td>...</td>\n",
       "    </tr>\n",
       "    <tr>\n",
       "      <th>995</th>\n",
       "      <td>['ORG: ОХРАННАЯ ОРГАНИЗАЦИЯ МИТАЗ ООО', 'INNKP...</td>\n",
       "      <td>['ОХРАННАЯ', 'ОРГАНИЗАЦИЯ', 'МИТАЗ', 'ООО', 'П...</td>\n",
       "      <td>ОХРАННАЯ ОРГАНИЗАЦИЯ МИТАЗ ООО Покупатель ИНН ...</td>\n",
       "      <td>[['ORG', ' ОХРАННАЯ ОРГАНИЗАЦИЯ МИТАЗ ООО'], [...</td>\n",
       "      <td>[['ORG', 'ОХРАННАЯ ОРГАНИЗАЦИЯ МИТАЗ ООО'], ['...</td>\n",
       "    </tr>\n",
       "    <tr>\n",
       "      <th>996</th>\n",
       "      <td>['ORG: Индивидуальный предприниматель', 'PER: ...</td>\n",
       "      <td>['Субподрядчик', 'Индивидуальный', 'предприним...</td>\n",
       "      <td>Субподрядчик Индивидуальный предприниматель Че...</td>\n",
       "      <td>[['ORG', ' Индивидуальный предприниматель'], [...</td>\n",
       "      <td>[['O', 'Субподрядчик'], ['ORG', 'Индивидуальны...</td>\n",
       "    </tr>\n",
       "    <tr>\n",
       "      <th>997</th>\n",
       "      <td>['ORG: ОБЩЕСТВО С ОГРАНИЧЕННОЙ ОТВЕТСТВЕННОСТЬ...</td>\n",
       "      <td>['Исп-тель', 'ОБЩЕСТВО', 'С', 'ОГРАНИЧЕННОЙ', ...</td>\n",
       "      <td>Исп-тель ОБЩЕСТВО С ОГРАНИЧЕННОЙ ОТВЕТСТВЕННОС...</td>\n",
       "      <td>[['ORG', ' ОБЩЕСТВО С ОГРАНИЧЕННОЙ ОТВЕТСТВЕНН...</td>\n",
       "      <td>[['O', 'Исп-тель'], ['ORG', 'ОБЩЕСТВО С ОГРАНИ...</td>\n",
       "    </tr>\n",
       "    <tr>\n",
       "      <th>998</th>\n",
       "      <td>['LOC: КРАЙ КРАСНОДАРСКИЙ РАЙОН ТИМАШЕВСКИЙ ГО...</td>\n",
       "      <td>['Исполнитель', 'Адрес', 'Клиент', 'КРАЙ', 'КР...</td>\n",
       "      <td>Исполнитель Адрес Клиент КРАЙ КРАСНОДАРСКИЙ РА...</td>\n",
       "      <td>[['LOC', ' КРАЙ КРАСНОДАРСКИЙ РАЙОН ТИМАШЕВСКИ...</td>\n",
       "      <td>[['O', 'Исполнитель Адрес Клиент'], ['LOC', 'К...</td>\n",
       "    </tr>\n",
       "    <tr>\n",
       "      <th>999</th>\n",
       "      <td>['ORG: ГОСУДАРСТВЕННОЕ БЮДЖЕТНОЕ УЧРЕЖДЕНИЕ \" ...</td>\n",
       "      <td>['Подрядчик', 'ГОСУДАРСТВЕННОЕ', 'БЮДЖЕТНОЕ', ...</td>\n",
       "      <td>Подрядчик ГОСУДАРСТВЕННОЕ БЮДЖЕТНОЕ УЧРЕЖДЕНИЕ...</td>\n",
       "      <td>[['ORG', ' ГОСУДАРСТВЕННОЕ БЮДЖЕТНОЕ УЧРЕЖДЕНИ...</td>\n",
       "      <td>[['O', 'Подрядчик'], ['ORG', 'ГОСУДАРСТВЕННОЕ ...</td>\n",
       "    </tr>\n",
       "  </tbody>\n",
       "</table>\n",
       "<p>1000 rows × 5 columns</p>\n",
       "</div>"
      ],
      "text/plain": [
       "                                                 spans  \\\n",
       "0    ['STAT: 8 ( 935 ) 855 1436', 'LOC: 115162 , г ...   \n",
       "1    ['INNKPP: 6119008174', 'LOC: РЕСПУБЛИКА ТАТАРС...   \n",
       "2    ['ORG: ИП', 'PER: Яковлева О. А. ,.', 'PER: Гр...   \n",
       "3    ['LOC: 410012 , Саратовская обл , г Саратов , ...   \n",
       "4    ['PER: Ефимова Наталья Ивановна ,', 'STAT: +8-...   \n",
       "..                                                 ...   \n",
       "995  ['ORG: ОХРАННАЯ ОРГАНИЗАЦИЯ МИТАЗ ООО', 'INNKP...   \n",
       "996  ['ORG: Индивидуальный предприниматель', 'PER: ...   \n",
       "997  ['ORG: ОБЩЕСТВО С ОГРАНИЧЕННОЙ ОТВЕТСТВЕННОСТЬ...   \n",
       "998  ['LOC: КРАЙ КРАСНОДАРСКИЙ РАЙОН ТИМАШЕВСКИЙ ГО...   \n",
       "999  ['ORG: ГОСУДАРСТВЕННОЕ БЮДЖЕТНОЕ УЧРЕЖДЕНИЕ \" ...   \n",
       "\n",
       "                                                tokens  \\\n",
       "0    ['8', '(', '935', ')', '855', '1436', 'Адрес',...   \n",
       "1    ['ИНН/КПП', '6119008174', 'тел.', 'РЕСПУБЛИКА'...   \n",
       "2    ['ИП', 'Яковлева', 'О.', 'А.', ',.', 'именуемо...   \n",
       "3    ['Адрес', 'филиала', 'банка', 'Подрядчик', '41...   \n",
       "4    ['Исполнитель', 'Индивидуальный', 'предпринима...   \n",
       "..                                                 ...   \n",
       "995  ['ОХРАННАЯ', 'ОРГАНИЗАЦИЯ', 'МИТАЗ', 'ООО', 'П...   \n",
       "996  ['Субподрядчик', 'Индивидуальный', 'предприним...   \n",
       "997  ['Исп-тель', 'ОБЩЕСТВО', 'С', 'ОГРАНИЧЕННОЙ', ...   \n",
       "998  ['Исполнитель', 'Адрес', 'Клиент', 'КРАЙ', 'КР...   \n",
       "999  ['Подрядчик', 'ГОСУДАРСТВЕННОЕ', 'БЮДЖЕТНОЕ', ...   \n",
       "\n",
       "                                                  TEXT  \\\n",
       "0    8 ( 935 ) 855 1436 Адрес Зак-чик 115162 , г Мо...   \n",
       "1    ИНН/КПП 6119008174 тел. РЕСПУБЛИКА ТАТАРСТАН Г...   \n",
       "2    ИП Яковлева О. А. ,. именуемое в в лице замест...   \n",
       "3    Адрес филиала банка Подрядчик 410012 , Саратов...   \n",
       "4    Исполнитель Индивидуальный предприниматель Ефи...   \n",
       "..                                                 ...   \n",
       "995  ОХРАННАЯ ОРГАНИЗАЦИЯ МИТАЗ ООО Покупатель ИНН ...   \n",
       "996  Субподрядчик Индивидуальный предприниматель Че...   \n",
       "997  Исп-тель ОБЩЕСТВО С ОГРАНИЧЕННОЙ ОТВЕТСТВЕННОС...   \n",
       "998  Исполнитель Адрес Клиент КРАЙ КРАСНОДАРСКИЙ РА...   \n",
       "999  Подрядчик ГОСУДАРСТВЕННОЕ БЮДЖЕТНОЕ УЧРЕЖДЕНИЕ...   \n",
       "\n",
       "                                           ORG_CORRECT  \\\n",
       "0    [['STAT', ' 8 ( 935 ) 855 1436'], ['LOC', ' 11...   \n",
       "1    [['INNKPP', ' 6119008174'], ['LOC', ' РЕСПУБЛИ...   \n",
       "2    [['ORG', ' ИП'], ['PER', ' Яковлева О. А. ,.']...   \n",
       "3    [['LOC', ' 410012 , Саратовская обл , г Сарато...   \n",
       "4    [['PER', ' Ефимова Наталья Ивановна ,'], ['STA...   \n",
       "..                                                 ...   \n",
       "995  [['ORG', ' ОХРАННАЯ ОРГАНИЗАЦИЯ МИТАЗ ООО'], [...   \n",
       "996  [['ORG', ' Индивидуальный предприниматель'], [...   \n",
       "997  [['ORG', ' ОБЩЕСТВО С ОГРАНИЧЕННОЙ ОТВЕТСТВЕНН...   \n",
       "998  [['LOC', ' КРАЙ КРАСНОДАРСКИЙ РАЙОН ТИМАШЕВСКИ...   \n",
       "999  [['ORG', ' ГОСУДАРСТВЕННОЕ БЮДЖЕТНОЕ УЧРЕЖДЕНИ...   \n",
       "\n",
       "                                           LD_NER_PIPE  \n",
       "0    [['STAT', '8 ( 935 ) 855 1436'], ['O', 'Адрес ...  \n",
       "1    [['O', 'ИНН/КПП'], ['INNKPP', '6119008174'], [...  \n",
       "2    [['ORG', 'ИП Яковлева О. А'], ['O', 'именуемое...  \n",
       "3    [['O', 'Адрес филиала банка Подрядчик'], ['LOC...  \n",
       "4    [['O', 'Исполнитель'], ['ORG', 'Индивидуальный...  \n",
       "..                                                 ...  \n",
       "995  [['ORG', 'ОХРАННАЯ ОРГАНИЗАЦИЯ МИТАЗ ООО'], ['...  \n",
       "996  [['O', 'Субподрядчик'], ['ORG', 'Индивидуальны...  \n",
       "997  [['O', 'Исп-тель'], ['ORG', 'ОБЩЕСТВО С ОГРАНИ...  \n",
       "998  [['O', 'Исполнитель Адрес Клиент'], ['LOC', 'К...  \n",
       "999  [['O', 'Подрядчик'], ['ORG', 'ГОСУДАРСТВЕННОЕ ...  \n",
       "\n",
       "[1000 rows x 5 columns]"
      ]
     },
     "execution_count": 17,
     "metadata": {},
     "output_type": "execute_result"
    }
   ],
   "source": [
    "df_test_rnd"
   ]
  },
  {
   "cell_type": "code",
   "execution_count": 19,
   "id": "5ca0d2be",
   "metadata": {},
   "outputs": [],
   "source": [
    "# подсчет статистики\n",
    "org_text = df_test_rnd['TEXT']\n",
    "correct_result = df_test_rnd['ORG_CORRECT']\n",
    "ld_result = df_test_rnd['LD_NER_PIPE']\n",
    "\n",
    "correct_result = nomalize_spans(correct_result)\n",
    "ld_result = nomalize_spans(ld_result)\n",
    "\n",
    "res = [get_stat(df_test_rnd, correct_result, ld_result, 'LD_NER')]\n",
    "df_res = pd.DataFrame(res)[['name','correct', 'incorrect', 'partial', 'missed', 'spurious', 'possible', 'actual', 'precision', 'recall', 'f1', 'acuracy']]\n",
    "\n"
   ]
  },
  {
   "cell_type": "code",
   "execution_count": 23,
   "id": "64405089",
   "metadata": {},
   "outputs": [
    {
     "data": {
      "text/plain": [
       "[[['агентствофурорартооо'],\n",
       "  ['общественнаяорганизацияпервичнаяпрофсоюзнаяорганизацияаосевастопольскииморскоибанкобщественноиобщероссиискоиорганизациироссиискиипрофессиональныисоюзработниковсудостроения']],\n",
       " [['ооосвязьинформ'],\n",
       "  ['публичноеакционерноеобществокоммерческиибанксаммитбанк']],\n",
       " [['ип'], ['яковлеваоа'], ['грефгерманоскарович']],\n",
       " [['акционерныикоммерческиибанкприморьепубличноеакционерноеобщество']],\n",
       " [['ефимованатальяивановна'],\n",
       "  ['небанковскаякредитнаяорганизациямонетаобществосограниченноиответственностью']],\n",
       " [['обществосограниченноиответственностьюцентрвзаимныхинвестиции']],\n",
       " [['ип'], ['равчеевевгенииюрьевич'], ['кброспромбанкооо']],\n",
       " [['дилбанкобществосограниченноиответственностью']],\n",
       " [['акционерноеобществоросгеология'],\n",
       "  ['акционерноеобществосевастопольскииморскоибанк']],\n",
       " [['панфиловнп']],\n",
       " [['ип'], ['турищевев'], ['шаталовмм']],\n",
       " [],\n",
       " [['миндзяксс']],\n",
       " [['ооовивалаб'], ['филиалкбевротрастзаогастрахань']],\n",
       " [['индивидуальныипредприниматель'], ['петрищеваларисаюрьевна']],\n",
       " [['мбукмбсидринскогораиона'], ['домашиностроительооо']],\n",
       " [['акционерноеобществокоммерческиибанксоколовскии'],\n",
       "  ['ип'],\n",
       "  ['мачатовааленагеннадьевна']],\n",
       " [['ооорегламентт']],\n",
       " [['ип'], ['иулдошбоевэлмуроджониулдошбоиугли'], ['ооовитасбанк']],\n",
       " [['металлистказаковообществосограниченноиответственностью']],\n",
       " [['нстлабсооо'],\n",
       "  ['публичноеакционерноеобществоекатеринбургскиимуниципальныибанк']],\n",
       " [['оаоабпушкино'],\n",
       "  ['индивидуальныипредприниматель'],\n",
       "  ['заплутахинниколаивикторович']],\n",
       " [['ип'],\n",
       "  ['лепенинатамараанатольевна'],\n",
       "  ['обществосограниченноиответственностьюкоммерческиибанкразвитие']],\n",
       " [['отделобразованияадминистрациимагдагачинскогораионаамурскоиобласти'],\n",
       "  ['буинакскиифилиалооокбкредофинанс']],\n",
       " [['ип'],\n",
       "  ['дудареварсенииалександрович'],\n",
       "  ['публичноеакционерноеобществовосточныиэкспрессбанк']],\n",
       " [['криворученкоконстантинюрьевич']],\n",
       " [['оооалладин'], ['акционерноеобществопрофессионалбанк']],\n",
       " [['ип'],\n",
       "  ['павловалюдмиланиколаевна'],\n",
       "  ['зираатбанкмоскваакционерноеобщество']],\n",
       " [['ип'], ['орловалександралександрович']],\n",
       " [['трансруооо'],\n",
       "  ['акционерныикоммерческиибанксеверовосточныиальянсакционерноеобщество']],\n",
       " [['индивидуальныипредприниматель'],\n",
       "  ['эвинянсаркисаикои'],\n",
       "  ['обществосограниченноиответственностьюкоммерческиибанктальменкабанк']],\n",
       " [['производственнаякоммерческаяфирмамегасервисобществосограниченноиответственностью']],\n",
       " [['донскоифилиалаокбситибанк']],\n",
       " [['обществосограниченноиответственностьючастнаяохраннаяорганизациягалеону'],\n",
       "  ['сеитаевильясбеибитович']],\n",
       " [['оаобанкроссиискиикредит']],\n",
       " [['филиалсоюзобществасограниченноиответственностьюновыикоммерческиибанк'],\n",
       "  ['оооинженерныицентрдиагностика']],\n",
       " [['ип'], ['пазыловашахнозахон'], ['акционерноеобществосмартбанк']],\n",
       " [],\n",
       " [],\n",
       " [['ооочебоксарскиитрубныизавод'],\n",
       "  ['обществосограниченноиответственностьюконцернбезопасностивитязь']],\n",
       " [['обществосограниченноиответственностьюагроторг']],\n",
       " [['ип'], ['харьковщенкосю']],\n",
       " [['аоспециализированныизастроищиккошелевпроектсамара']],\n",
       " [],\n",
       " [['оооцентриппотерапиииверховоиездыласковыиветер'], ['ооокбадмиралтеискии']],\n",
       " [['хализевав'], ['ип'], ['рачугиналексеиюрьевич']],\n",
       " [['открытоеакционерноеобществомобилбанк']],\n",
       " [['ип'], ['душаксс'], ['паогеленджикбанк']],\n",
       " [['индивидуальныипредприниматель'],\n",
       "  ['эламравиэхабэлсаиедхассанмохамед'],\n",
       "  ['банкэкономическиисоюзакционерноеобщество']],\n",
       " [['аисибисибанкакционерноеобщество']],\n",
       " [['ип'],\n",
       "  ['воитицкаямариявикторовна'],\n",
       "  ['международныикоммерческиибанкакционерноеобщество']],\n",
       " [],\n",
       " [['нпнппосодеиствиюветеринарноидеятельноститверскаягильдияветеринарныхпрактикующихврачеи'],\n",
       "  ['инвестторгбанкао']],\n",
       " [['акционерныикоммерческиибанканджибанкоткрытоеакционерноеобщество']],\n",
       " [['ооопасифик'], ['акблантабанкао']],\n",
       " [['акционерноеобществоамтелсвязь']],\n",
       " [['ткачеваиринаалександровна']],\n",
       " [['глорияобществосограниченноиответственностью'],\n",
       "  ['акционерныикоммерческиибанкметаллургическииинвестиционныибанкпубличноеакционерноеобщество']],\n",
       " [['региональноеотделениевкировскоиобластимежрегиональноиобщественноиорганизацииобществороссиискокитаискоидружбы'],\n",
       "  ['небанковскаякредитнаяорганизацияальтернативаобществосограниченноиответственностью']],\n",
       " [['ип'], ['курзановаим'], ['акционерноеобществовеликиелукибанк']],\n",
       " [['фгкуфедеральноеказенноеучреждениеглавноебюромедикосоциальноиэкспертизыпотверскоиобластиминистерстватрудаисоциальноизащитыроссиискоифедерациифилиал']],\n",
       " [['ип'], ['юзвицковдмитриисергеевич']],\n",
       " [['павловди'], ['акббрроао']],\n",
       " [['региональноеотделениевкировскоиобластимежрегиональноиобщественноиорганизацииобществороссиискокитаискоидружбы'],\n",
       "  ['паокамчаткомагропромбанк']],\n",
       " [['ооокультурнаяреволюция']],\n",
       " [['ип'], ['чундировсергеипетрович']],\n",
       " [['ысмановашааргултургунбаевна'], ['филиалоаоккбкредитбанк']],\n",
       " [['ип'],\n",
       "  ['евстигнеевавераниколаевна'],\n",
       "  ['обществосограниченноиответственностьюкоммерческиибанкмегаполис']],\n",
       " [],\n",
       " [['спооопрогресс2'],\n",
       "  ['публичноеакционерноеобществоагроинвестиционныикоммерческиибанк']],\n",
       " [['обществосограниченноиответственностьюрембыттехника'],\n",
       "  ['филиалкбвебррооо']],\n",
       " [['ооогрибнаякомпаниярусскиигриб'],\n",
       "  ['эсбиаибанкобществосограниченноиответственностью']],\n",
       " [['ип'],\n",
       "  ['ибрахимамкм'],\n",
       "  ['публичноеакционерноеобществобанкалександровскии']],\n",
       " [['индивидуальныипредприниматель'], ['вавиловсю']],\n",
       " [['ип'], ['эрфуртолегвикторович']],\n",
       " [['представительствоаокомсоцбанкбумерангвгмоскве']],\n",
       " [['оооквантконсалт'], ['ооокбаксонбанк']],\n",
       " [['аонаучноисследовательскииинститутпопередачеэлектроэнергиипостояннымтокомвысокогонапряжения'],\n",
       "  ['публичноеакционерноеобществобанкбалтиискоефинансовоеагентство']],\n",
       " [['обществосограниченноиответственностьюкоммерческиибанклаит']],\n",
       " [['ип'], ['щукинвладимирюрьевич']],\n",
       " [],\n",
       " [['ип'],\n",
       "  ['шаламаинатальяанатольевна'],\n",
       "  ['открытоеакционерноеобществокоммерческииволгакредитбанк']],\n",
       " [['публичноеакционерноеобществороссетикубань']],\n",
       " [['ип'],\n",
       "  ['хохловаов'],\n",
       "  ['публичноеакционерноеобществобанкфинансоваякорпорацияоткрытие']],\n",
       " [],\n",
       " [],\n",
       " [['индивидуальныипредприниматель'], ['ивановандреиолегович']],\n",
       " [['ип'], ['нунгессериванвладимирович']],\n",
       " [['ип'], ['дубовченкоандреиборисович'], ['петренкоалександралександрович']],\n",
       " [['винкомооо']],\n",
       " [['акционерноеобществокоммерческиибанксоциальногоразвитиябумеранг']],\n",
       " [['ип'], ['рахимовакрамуктамович'], ['филиалмастербанкоаогомск']],\n",
       " [['григашкинаольгарифкатовна'],\n",
       "  ['полноенаименованиетроицкиифилиалакционерногокоммерческогобанкачелиндбанкпубличногоакционерногообществасокращенноенаименованиетроицкиифилиалпаочелиндбанк']],\n",
       " [['баидинда']],\n",
       " [['центрвысокотехнологичноиинновационноимедициныобществосограниченноиответственностью'],\n",
       "  ['мантровааа']],\n",
       " [['индивидуальныипредприниматель'], ['гусеиновви']],\n",
       " [['местнаярелигиознаяорганизацияевангелическолютеранскииприходмокшаэрзянскоицерквигсаранскареспубликимордовия'],\n",
       "  ['филиалакбеибзаогсамара']],\n",
       " [],\n",
       " [['ип'],\n",
       "  ['ворушиловавд'],\n",
       "  ['открытоеакционерноеобществоакционерныисибирскиинефтяноибанк']],\n",
       " [['оооветеринарнаяклиникадоктораконоплева']],\n",
       " [['металлпроектооо'], ['аоаикбенисеискииобъединенныибанк']],\n",
       " [],\n",
       " [['ип'], ['эмихсергеиолегович']],\n",
       " [['индивидуальныипредприниматель'],\n",
       "  ['бедняковнв'],\n",
       "  ['аоакбмеждународныифинансовыиклуб']],\n",
       " [['исаковамарияконстантиновна']],\n",
       " [['иетишкинволкан'], ['банксоюзакционерноеобщество']],\n",
       " [['ип'], ['изотовюв']],\n",
       " [['советскаятипографияооо']],\n",
       " [['ип'], ['ефимованатальяивановна'], ['оооэиэнддирусфилиал']],\n",
       " [['оаоафбанк'], ['птицасчастьяобществосограниченноиответственностью']],\n",
       " [['ип'], ['устюжинала'], ['публичноеакционерноеобществосбербанкроссии']],\n",
       " [['ип'], ['энгиноевих']],\n",
       " [['амелинпетролегович'], ['велнессобществосограниченноиответственностью']],\n",
       " [['нотабанкпао']],\n",
       " [],\n",
       " [['ип'], ['скворцовсв'], ['филиалоооэсидбанк']],\n",
       " [['индивидуальныипредприниматель'], ['поповаг']],\n",
       " [['аонсбанк']],\n",
       " [['местнаярелигиознаяорганизацияправославныиприходвеликомученикадимитриясолунскогоселаберзовкапокровскогораионаорловскоиобластиливенскоиепархиирусскоиправославноицерквимосковскиипатриархат'],\n",
       "  ['акционерныикоммерческиибанкразвитиялесноипромышленностиоткрытоеакционерноеобщество']],\n",
       " [['коммерческиибанкадмиралтеискииобществосограниченноиответственностью']],\n",
       " [['индивидуальныипредприниматель'], ['ферховденисюрьевич']],\n",
       " [['банктааттаакционерноеобщество']],\n",
       " [['вентаооо']],\n",
       " [['индивидуальныипредприниматель'],\n",
       "  ['зубкоантонанатольевич'],\n",
       "  ['публичноеакционерноеобществобанкпремьеркредит']],\n",
       " [['индивидуальныипредприниматель'],\n",
       "  ['валиуллинааисылуровеловна'],\n",
       "  ['небанковскаякредитнаяорганизацияакционерноеобществонациональныирасчетныидепозитарии']],\n",
       " [['иумлуд']],\n",
       " [['ип'], ['юрцевичалександриванович']],\n",
       " [['ип'], ['хачикянарамагванович'], ['акционерноеобществонародныибанктувы']],\n",
       " [['захароваанастасиявячеславовна'], ['лымаревии']],\n",
       " [['индивидуальныипредприниматель'],\n",
       "  ['мучкиндв'],\n",
       "  ['амббанкпубличноеакционерноеобщество']],\n",
       " [['ип'], ['кузнецовильявалериевич']],\n",
       " [['ооонтоирэполюс'],\n",
       "  ['коммерческиибанкартбанкобществосограниченноиответственностью']],\n",
       " [['кблокобанкао']],\n",
       " [['ип'], ['шешдироври'], ['публичноеакционерноеобществобанкюгра']],\n",
       " [['кангкичжунг']],\n",
       " [['ярославскииакционерныикредпромбанкакционерноеобщество']],\n",
       " [['дроздоваанастасияюрьевна'],\n",
       "  ['публичноеакционерноеобществомосковскиииндустриальныибанк']],\n",
       " [['ип'], ['исаевагульнарасактанбердиновна']],\n",
       " [['ооосибирскиесети'],\n",
       "  ['обществосограниченноиответственностьюкоммерческиибанкэсид']],\n",
       " [['ооочастнаяохраннаяорганизациярубежрегион'],\n",
       "  ['публичноеакционерноеобществотаимбанк']],\n",
       " [['ип'], ['новиковаеленалеонидовна'], ['захваткинме']],\n",
       " [['таурусбанкао']],\n",
       " [['акционерноеобществотроикадбанк'], ['ип'], ['ревтоволегалександрович']],\n",
       " [['ип'], ['иогуртджуд']],\n",
       " [['ооосотагрупп']],\n",
       " [['ип'],\n",
       "  ['чомуевауполмамадалиевна'],\n",
       "  ['новосибирскиисоциальныикоммерческиибанклевобережныипубличноеакционерноеобщество']],\n",
       " [['филиалмбукоктябрьскаямцбоблоренбургскаярноктябрьскиисбуланово'],\n",
       "  ['обществосограниченноиответственностьюкоммерческиибанкалтаикапиталбанк']],\n",
       " [['индивидуальныипредприниматель'],\n",
       "  ['хосровянмаргаритагеоргевна'],\n",
       "  ['акционерноеобществокоммерческиибанкуниверсальныефинансы']],\n",
       " [['карэнооо']],\n",
       " [['ип'], ['удаловсергеивасильевич']],\n",
       " [['ип'],\n",
       "  ['ханаевсергеиниколаевич'],\n",
       "  ['открытоеакционерноеобществоакционерныикоммерческиибанкрусскииземельныибанк']],\n",
       " [['ооотрубас'], ['азиатскотихоокеанскиибанкао']],\n",
       " [['ип'],\n",
       "  ['хангеловодилназаралиевич'],\n",
       "  ['обществосограниченноиответственностьюкоммерческиибанккалуга']],\n",
       " [['ип'], ['чундировсп'], ['акбвекао']],\n",
       " [['центриппотерапиииверховоиездыласковыиветеробществосограниченноиответственностью'],\n",
       "  ['филиалбанкеврокредитооогиошкарола']],\n",
       " [['евротехникооо'], ['акционерноеобществокоммерческиибанкпоидм']],\n",
       " [['оооголдмансаксбанк']],\n",
       " [['давлиеваюлияалександровна'],\n",
       "  ['открытоеакционерноеобществобанксодружество']],\n",
       " [['публичноеакционерноеобществомосковскииакционерныибанктемпбанк']],\n",
       " [['краснослободцеввладимирниколаевич']],\n",
       " [['ооочопспектрконтроль']],\n",
       " [['денисована']],\n",
       " [['индивидуальныипредприниматель'], ['искендеровсанансаядоглы']],\n",
       " [['иохимекатеринаевгеньевна'], ['представительствоаоюникредитбанкавгказани']],\n",
       " [['ип'], ['каландаровм'], ['ооокбэлбанк']],\n",
       " [],\n",
       " [['ооотпкальянс'], ['акционерноеобществобанкагророс']],\n",
       " [['ип'],\n",
       "  ['мордасовда'],\n",
       "  ['обществосограниченноиответственностьюкоммерческиибанккалуга']],\n",
       " [['оаомкбзамоскворецкии'], ['ип'], ['ильинав']],\n",
       " [['арттрансобществосограниченноиответственностью'], ['ип'], ['худоидодовнм']],\n",
       " [['ип'], ['беисма']],\n",
       " [['оооэос'], ['банкитбао']],\n",
       " [['центральнаядетскаябиблиотекамуниципальноебюджетноеучреждение']],\n",
       " [['ип'],\n",
       "  ['ефимованатальяивановна'],\n",
       "  ['публичноеакционерноеобществокоммерческиибанксаммитбанк']],\n",
       " [['глущенкоаю'], ['индивидуальныипредприниматель'], ['колодяжныиав']],\n",
       " [['ип'], ['фетищевасветланадмитриевна']],\n",
       " [['кббаикалкредобанкао']],\n",
       " [['индивидуальныипредприниматель'],\n",
       "  ['павловалюдмиланиколаевна'],\n",
       "  ['оооуралкапиталбанк']],\n",
       " [['паокамчаткомагропромбанк'], ['ип'], ['джафаровмаликаждаралибалаоглы']],\n",
       " [['ип'], ['маштаковги'], ['корсаковюриироманович']],\n",
       " [['советсороксаидакскогосельскогопоселениябуинскогомуниципальногораионареспубликитатарстан']],\n",
       " [['ип'], ['овчинниковсергеипавлович'], ['аоотпбанк']],\n",
       " [['банкиошкаролапубличноеакционерноеобщество']],\n",
       " [['детскиибалетгеннадияледяхаооо']],\n",
       " [['ип'],\n",
       "  ['горчхановтимурсаидович'],\n",
       "  ['акционерныикоммерческиибанкфорштадтакционерноеобщество']],\n",
       " [['акционерныибанкбанкпроектногофинансированиязакрытоеакционерноеобщество']],\n",
       " [['петуховалександралександрович']],\n",
       " [['копыловво']],\n",
       " [['индивидуальныипредприниматель'],\n",
       "  ['кильдюшоватп'],\n",
       "  ['филиалоаокбстроикредитгкогалым']],\n",
       " [['индивидуальныипредприниматель'],\n",
       "  ['воеводинаиринавадимовна'],\n",
       "  ['бровчаксергеивалентинович']],\n",
       " [['обществосограниченноиответственностьюаврораавтоцентр']],\n",
       " [['ооодиахелс'], ['лавровмаксимниколаевич']],\n",
       " [['отделгфсроссиивгмагаданефгку'], ['игошинаюв']],\n",
       " [['рнкоринкасооо'], ['подмосковнаязвездаооо']],\n",
       " [['ип'], ['щербининен']],\n",
       " [['индивидуальныипредприниматель'],\n",
       "  ['эверстовлеонидлеонидович'],\n",
       "  ['заомеждународныипромышленныибанк']],\n",
       " [['овчинниковроманвитальевич'], ['кбканскииооо']],\n",
       " [['индивидуальныипредприниматель'],\n",
       "  ['эвинянсаркисаикои'],\n",
       "  ['аонкосетеваярасчетнаяпалата']],\n",
       " [],\n",
       " [['паочелябинвестбанк']],\n",
       " [['индивидуальныипредприниматель'], ['соколовба']],\n",
       " [['оооспецвысотстрои'], ['акционерноеобществопрофессионалбанк']],\n",
       " [['жсклуннаядолина'], ['россоловигорьанатольевич']],\n",
       " [['паочелиндбанк']],\n",
       " [['оооегорьевсксвязь']],\n",
       " [['ип'], ['ревяковмихаилвикторович'], ['ткббанкпао']],\n",
       " [['ооокхшошинское'], ['донскоифилиалаокбситибанк']],\n",
       " [['эиубоврто'], ['аслалиевшумаласлалиевич']],\n",
       " [['паоофкбанк']],\n",
       " [['индивидуальныипредприниматель'], ['жидковандреимихаилович']],\n",
       " [['ип'],\n",
       "  ['кузнецовив'],\n",
       "  ['банкразвитияпроизводстванефтегазодобывающегооборудованияконверсиисудостроенияистроительстваакционерноеобщество']],\n",
       " [['ип'],\n",
       "  ['юрцевичалександриванович'],\n",
       "  ['местнаяправославнаярелигиознаяорганизацияприходхрамавоимясвятогомученикавонифатиягновосибирскакалининскиираионновосибирскоиепархиирусскоиправославноицерквимосковскиипатриархатро']],\n",
       " [['аоуральскиитурбинныизавод'],\n",
       "  ['обществосограниченноиответственностьюкоммерческиибанкмегаполис']],\n",
       " [['усзнспасскогораиона'], ['нотабанкпао']],\n",
       " [['гатунокеленавалерьевна'],\n",
       "  ['обществосограниченноиответственностьюнебанковскаякредитнаяорганизацияюмани']],\n",
       " [['ип'],\n",
       "  ['иовдиинуцувасильевич'],\n",
       "  ['акционерныикоммерческиибанкэльбинакционерноеобщество']],\n",
       " [['ип'], ['ходжиевабдуали'], ['акционерноеобществоинвестиционныибанкфинам']],\n",
       " [['индивидуальныипредприниматель'], ['мучкиндмитриивадимович']],\n",
       " [['обществосограниченноиответственностьюкбсистема'], ['ип'], ['хачатурянба']],\n",
       " [['эстетическаяклиникаемсобществосограниченноиответственностью'],\n",
       "  ['филиалакблегионаовгсанктпетербург']],\n",
       " [['филиалмосковскииоткрытогоакционерногообществакоммерческиибанкмаксимумфилиалмосковскииоаокбмаксимум']],\n",
       " [['ип'],\n",
       "  ['ходановаеленаалександровна'],\n",
       "  ['небанковскаякредитнаяорганизацияакционерноеобществопетербургскиирасчетныицентр']],\n",
       " [['ооококаколаэичбисиевразияфилиал']],\n",
       " [['эксузьянег'], ['акционерноеобществомеждународныиаэропортбрянск']],\n",
       " [['индивидуальныипредприниматель'],\n",
       "  ['цуриковандреиигоревич'],\n",
       "  ['филиалвладимирскииаотэмбрбанк']],\n",
       " [['коммерческиибанкбфгкредитобществосограниченноиответственностью']],\n",
       " [['сорокинвиталиильвович']],\n",
       " [['цпапсиооо']],\n",
       " [['обществосограниченноиответственностьюзарубежнефтьдобычахарьяга'],\n",
       "  ['коммерческиибанкроссиискиипромышленныибанкобществосограниченноиответственностью']],\n",
       " [['шубингерманалександрович']],\n",
       " [['ип'], ['чиненовааннаалексеевна']],\n",
       " [['индивидуальныипредприниматель'], ['чигиринскаямаринавикторовна']],\n",
       " [],\n",
       " [['ип'], ['ярошевскииалександрсергеевич']],\n",
       " [['ип'], ['иылдызсердар']],\n",
       " [],\n",
       " [['обществосограниченноиответственностьювитарагрупп'],\n",
       "  ['коммерческиибанксистемаобществосограниченноиответственностью']],\n",
       " [['ип'], ['татауровпавелвячеславович']],\n",
       " [['ип'], ['чичанкинас'], ['кбинвестиционныисоюзооо']],\n",
       " [],\n",
       " [['ип'], ['устиновпн'], ['заосбанк']],\n",
       " [['ооокбадмиралтеискии']],\n",
       " [['обществосограниченноиответственностьючастнаяохраннаяорганизациязащитаюрга'],\n",
       "  ['нотабанкпао']],\n",
       " [['ип'], ['иаилаалиосман']],\n",
       " [['областноегосударственноеучреждениекраснопартизанскаяраионнаястанцияпоборьбесболезнямиживотных'],\n",
       "  ['нкоерпооо']],\n",
       " [['ип'],\n",
       "  ['евсеевсергеиевгеньевич'],\n",
       "  ['небанковскаякредитнаяорганизацияэлекснетакционерноеобщество']],\n",
       " [['индивидуальныипредприниматель'],\n",
       "  ['иемераклилутека'],\n",
       "  ['публичноеакционерноеобществосанктпетербургскиииндустриальныиакционерныибанк']],\n",
       " [['ип'], ['щербининевгенииниколаевич'], ['аофорусбанк']],\n",
       " [['викторовсергеиниколаевич']],\n",
       " [['расторгуевникитавалерьевич'], ['паобанккузнецкии']],\n",
       " [['ип'], ['запороцкиисергеигеоргиевич'], ['сергееваеа']],\n",
       " [['публичноеакционерноеобществосбербанкроссии']],\n",
       " [['коммерческииволжскиисоциальныибанкобществосограниченноиответственностью'],\n",
       "  ['лингвистическиицентрпиккадиллиооо']],\n",
       " [['аивибанкакционерноеобщество'], ['ип'], ['ермаковакристинадмитриевна']],\n",
       " [['ип'], ['соколовборисанатольевич']],\n",
       " [['ип'],\n",
       "  ['жуковвладимирандреевич'],\n",
       "  ['представительствоаоюникредитбанкавгомске']],\n",
       " [['ип'],\n",
       "  ['мезинкириллалексеевич'],\n",
       "  ['интерактивныибанкобществосограниченноиответственностью']],\n",
       " [['аоальфабанк']],\n",
       " [['ип'], ['журавлввсеволодвалерьевич']],\n",
       " [['паозапсибкомбанк']],\n",
       " [],\n",
       " [['ип'], ['аптекарьее']],\n",
       " [['иркутскиифилиалнотабанкпубличноеакционерноеобщество']],\n",
       " [['индивидуальныипредприниматель'],\n",
       "  ['душаксергеисергеевич'],\n",
       "  ['акционерноеобществокоммерческиибанкиндустриальныисберегательныибанк']],\n",
       " [['ип'], ['ласкинвладимиржоржевич']],\n",
       " [['малоеинновационноепредприятиеаналитикаматериалытехнологииооо']],\n",
       " [['открытоеакционерноеобществомобилбанк'],\n",
       "  ['индивидуальныипредприниматель'],\n",
       "  ['чубароваекатеринавикторовна']],\n",
       " [['хребетскиищебеночныизаводфилиалакционерногообществаперваянеруднаякомпания']],\n",
       " [['ооохаитекинжиниринг']],\n",
       " [['ип'], ['чибукмихаилюрьевич'], ['оаомкбзамоскворецкии']],\n",
       " [['ооотитовскоенатуральное']],\n",
       " [['ип'], ['фалинниколаиниколаевич']],\n",
       " [['ип'], ['щербаковав'], ['паобанкекатеринбург']],\n",
       " [['банкиошкаролапао']],\n",
       " [['удумянаннавладимировна'], ['банкпермьао']],\n",
       " [['оооиздательство'],\n",
       "  ['обществосограниченноиответственностьюкоммерческиибанкдовериеравноправиеисотрудничество']],\n",
       " [['ооолакшери'], ['аорнконарат']],\n",
       " [['ип'],\n",
       "  ['ходжаевдамирмансурович'],\n",
       "  ['закрытоеакционерноеобществомеждународныиакционерныибанк']],\n",
       " [['муниципальноеунитарноепредприятиеводолеисоболевскогосельскогопоселениямонастырщинскогораионасмоленскоиобласти'],\n",
       "  ['банктоткрытоеакционерноеобщество']],\n",
       " [['мащевалександрборисович'],\n",
       "  ['обществосограниченноиответственностьюсовместноепредприятиемишимамашпром']],\n",
       " [['аолобачевского120нао']],\n",
       " [['оооилп']],\n",
       " [['ип'], ['давыдоввладимирвикторович'], ['акционерноеобществобалаковобанк']],\n",
       " [['службаоценкиооо']],\n",
       " [['спкспкколхозкрасногорскии']],\n",
       " [['коммерческиибанкопмбанкобществосограниченноиответственностью'],\n",
       "  ['ип'],\n",
       "  ['цыбизовасветланаанатольевна']],\n",
       " [['муниципальноеунитарноепредприятиекоммунальноехозяиствоантиповкаантиповскогосельскогопоселениякамышинскогомуниципальногораионаволгоградскоиобласти'],\n",
       "  ['пвбанкзакрытоеакционерноеобщество']],\n",
       " [['ип'], ['таранецтв'], ['аобанконего']],\n",
       " [['ип'], ['илюхинва'], ['обществосограниченноиответственностьюживагобанк']],\n",
       " [['акционерноеобществокоммерческииакционерныибанквикинг']],\n",
       " [['нтрк'], ['ооокбаресбанк']],\n",
       " [['цыбулякс'], ['акционерноеобществоюникредитбанк']],\n",
       " [['ип'], ['нигаметзяноврусланильязович']],\n",
       " [['ип'], ['полонскииевгениивладимирович']],\n",
       " [['ооогуттиера']],\n",
       " [['малышевскиифилиалоооуралпрогресс2216облсвердловскаяпгтмалышеваулмопра'],\n",
       "  ['публичноеакционерноеобществоакционерныикоммерческиибанкбалтика']],\n",
       " [['филиалпаохантымансиискиибанкоткрытиегсанктпетербург']],\n",
       " [],\n",
       " [['индивидуальныипредприниматель'], ['эиналовилхамфатуллахоглы']],\n",
       " [['библиотекафилиалскотиково'],\n",
       "  ['акционернокоммерческиибанкакцияоткрытоеакционерноеобщество']],\n",
       " [['открытоеакционерноеобществокоммерческииволгакредитбанк']],\n",
       " [['коммерческиибанкбизнесдлябизнесаобществосограниченноиответственностью'],\n",
       "  ['волгоградскиифилиалобществасограниченноиответственностьюфармволга']],\n",
       " [['аоакибпочтобанк'], ['ип'], ['переверзеваиринаниколаевна']],\n",
       " [['ип'], ['дерюгиналюбовьандреевна'], ['паоофкбанк']],\n",
       " [['ип'], ['антипиниванниколаевич'], ['филиалоаопрбгсамара']],\n",
       " [['представительствоаопервыиканалгволгоград'],\n",
       "  ['акционерноеобществокоммерческиибанкуниверсальныефинансы']],\n",
       " [['ип'], ['ждановааи']],\n",
       " [['ип'], ['рижокигорьвалерьевич'], ['агеенковав']],\n",
       " [['ооовсб'], ['ип'], ['борисоваа']],\n",
       " [['коммерческиибанкальбаальянсобществосограниченноиответственностью']],\n",
       " [['ип'], ['барановав']],\n",
       " [['ип'], ['фоминаелизаветадмитриевна'], ['бененовсергеивикторович']],\n",
       " [['раменскиеэлектрическиесетифилиал'], ['акционерноеобществоальфабанк']],\n",
       " [['акционерныикоммерческиибанксбереженииикредитазакрытоеакционерноеобщество']],\n",
       " [],\n",
       " [['ип'],\n",
       "  ['дубовицкаянв'],\n",
       "  ['коммерческиибанкновыивекобществосограниченноиответственностью']],\n",
       " [['ип'], ['щепиналександрвладимирович']],\n",
       " [['ип'], ['дубовицкаянв']],\n",
       " [['индивидуальныипредприниматель'], ['романчинааи']],\n",
       " [['ип'], ['габриеляннверкаренович'], ['ип'], ['хаюроваса']],\n",
       " [['ип'], ['распоповав'], ['обществосограниченноиответственностьювитасбанк']],\n",
       " [['грефгерманоскарович'], ['халинса']],\n",
       " [['ип'], ['тохтароврр'], ['акбинтрастбанкоао']],\n",
       " [],\n",
       " [['общественнаяпервичнаяпрофсоюзнаяорганизацияработниковинститутавычислительноиматематикииматематическоигеофизикисоран'],\n",
       "  ['рнкоирцао']],\n",
       " [['ип'], ['нарбекованаиляришатовна']],\n",
       " [['филиалоооэосвгекатеринбурге'], ['филиалоооэсидбанк']],\n",
       " [['ип'],\n",
       "  ['оганянас'],\n",
       "  ['коммерческиибанкстроилесбанкобществосограниченноиответственностью']],\n",
       " [['индивидуальныипредприниматель'],\n",
       "  ['лкинюрии'],\n",
       "  ['россиискииакционерныикоммерческиидорожныибанкпубличноеакционерноеобщество']],\n",
       " [['заоцлсдеминонао'], ['ооокбнкб']],\n",
       " [],\n",
       " [['ип'], ['ровсм'], ['акционерноеобществонсбанк']],\n",
       " [['ооосотворисебя'], ['акционерноеобществобанктамбовкредитпромбанк']],\n",
       " [['ип'],\n",
       "  ['фомичеввадимолегович'],\n",
       "  ['коммерческиитопливноэнергетическиимежрегиональныибанкреконструкциииразвитияакционерноеобщество']],\n",
       " [['акционерноеобществокредитевропабанкроссия']],\n",
       " [['ооопереводческаякомпанияатис'], ['воронцовалександрюрьевич']],\n",
       " [['ип'], ['лчуевэлмаргафизоглы']],\n",
       " [['ип'], ['чугуновалександрсергеевич']],\n",
       " [['ип'], ['никишован']],\n",
       " [['ип'], ['жариковевгенииандреевич']],\n",
       " [['ип'], ['налетовалексеисергеевич']],\n",
       " [['гиршои']],\n",
       " [['индивидуальныипредприниматель'], ['иазыджыали']],\n",
       " [['шабановата']],\n",
       " [['ооофармамед'], ['акционерноеобществонародныибанк']],\n",
       " [['ип'], ['некляевдв'], ['нотабанкпао']],\n",
       " [],\n",
       " [['медикосанитарнаячасть70филиалюридическоголица'], ['тогобицкиивв']],\n",
       " [['индивидуальныипредприниматель'], ['раковдр'], ['оаоакблесбанк']],\n",
       " [['частнаяохраннаяорганизациягалеонуооо'],\n",
       "  ['закрытоеакционерноеобществоипотекбанк']],\n",
       " [['ооогазпромтранс'], ['акционерныикоммерческиибанкирсакционерноеобщество']],\n",
       " [['индивидуальныипредприниматель'],\n",
       "  ['жихореванатальялеонидовна'],\n",
       "  ['аорунэтбанк']],\n",
       " [['телерадиокомпанияноваяволнаооо'], ['кбинтеркоммерцооо']],\n",
       " [['ооосэстеит'],\n",
       "  ['небанковскаякредитнаяорганизацияобществосограниченноиответственностьюарбинкасс']],\n",
       " [['оооартмиф'], ['коммерческиибанкрусскииславянскиибанкакционерноеобщество']],\n",
       " [['индивидуальныипредприниматель'],\n",
       "  ['контеевконстантинюрьевич'],\n",
       "  ['маиминвр']],\n",
       " [['галягинасветланаанатольевна']],\n",
       " [['обществосограниченноиответственностьюновыикоммерческиибанк']],\n",
       " [],\n",
       " [['наидасергеиандреевич']],\n",
       " [['акционерноеобществоденизбанкмосква'], ['эсаевазаремавадыевна']],\n",
       " [['аороссиискииэкспортныицентр'],\n",
       "  ['коммерческиибанкисткомфинансобществосограниченноиответственностью']],\n",
       " [['мкумуниципальноеказенноеучреждениемуниципальнаягородскаябиблиотека']],\n",
       " [['ип'], ['василакивладиславюрьевич']],\n",
       " [['первичнаянижегородскоиобластноиорганизациироссиискогопрофессиональногосоюзаработниковкультурывнижегородскомобластномсоветепрофсоюзовпрофсоюзнаяорганизация'],\n",
       "  ['представительствоаокомсоцбанкбумерангвгмоскве']],\n",
       " [['ип'],\n",
       "  ['кодьяковнп'],\n",
       "  ['акционернокоммерческиибанкакцияоткрытоеакционерноеобщество']],\n",
       " [['индивидуальныипредприниматель'], ['джураевмуродбекжурабегович']],\n",
       " [['оооторговыидомкомандорфилиал'],\n",
       "  ['открытоеакционерноеобществопервыиреспубликанскиибанк']],\n",
       " [['мупмупручеи'],\n",
       "  ['закрытоеакционерноеобществоакционерныитюменскиикоммерческииагропромышленныибанк']],\n",
       " [['оооволгокаспиискоепкб']],\n",
       " [['гупгупсаратовскоиобластиоблводоресурсфилиал'],\n",
       "  ['обществосограниченноиответственностьюконструкторскоебюротяжелогомашиностроениясанктпетербурга']],\n",
       " [['открытоеакционерноеобществоафбанк']],\n",
       " [['ровеньскиифилиал']],\n",
       " [['никадиджиталобществосограниченноиответственностью'], ['оаоакбэкспресс']],\n",
       " [['долгаятатьянаевгеньевна'], ['публичноеакционерноеобществоросбанк']],\n",
       " [['ооокбадмиралтеискии']],\n",
       " [['паочелиндбанк'], ['ип'], ['циндинааннаюрьевна']],\n",
       " [['ип'],\n",
       "  ['таранекатеринаюрьевна'],\n",
       "  ['коммерческиибанкрегиональныибанксбереженииобществосограниченноиответственностью']],\n",
       " [['ип'], ['журавлеваав']],\n",
       " [['банкзенитпубличноеакционерноеобщество'], ['ооотранспневматикасельхоз']],\n",
       " [['аотаганрогбанк']],\n",
       " [['ип'], ['холодковасе']],\n",
       " [['ип'], ['щербаковататьянаниколаевна'], ['банкгородакционерноеобщество']],\n",
       " [['аокабактинское'], ['акционерноеобществомидзухобанкмосква']],\n",
       " [['филиалакблегионаовгородевладимир'],\n",
       "  ['обществосограниченноиответственностьюохранноепредприятиевулкангранд']],\n",
       " [['муниципальноеунитарноепредприятиеводоканалкотельниковскогогородскогопоселениякотельниковскогомуниципальногораионаволгоградскоиобласти'],\n",
       "  ['филиалаоуглеметбанкгмосква']],\n",
       " [['ооошишеджамаутомативрустреидинг'],\n",
       "  ['публичноеакционерноеобществокоммерческиибанквятич']],\n",
       " [['оооилп']],\n",
       " [['баснукаевнасерходжабраилович'], ['столбоввасилиианатольевич']],\n",
       " [['ип'], ['толстоввладимириванович']],\n",
       " [],\n",
       " [['ооодцжемчужинакамчатки']],\n",
       " [['оооэлифант'],\n",
       "  ['открытоеакционерноеобществоинвестиционныибанкбузулукбанк']],\n",
       " [['оооонегин'], ['аобулгарбанк']],\n",
       " [['муниципальноеунитарноепредприятиезатозвездныигараж'], ['аонокссбанк']],\n",
       " [['кбевростандартооо'], ['цуциевдавидаланович']],\n",
       " [['оооборскиикомбанк'], ['оооэкотранс']],\n",
       " [['ип'], ['бабаевимранустабала']],\n",
       " [['коммерческиибанкрегиональныибанксбереженииобществосограниченноиответственностью'],\n",
       "  ['кассооо']],\n",
       " [['свинокомплексволжскииооо']],\n",
       " [['ип'], ['ивановкириллвячеславович'], ['оаовкб']],\n",
       " [['ооокартрэид']],\n",
       " [['индивидуальныипредприниматель'], ['жаркихекатеринагеннадьевна']],\n",
       " [['акционерноеобществокредитевропабанкроссия']],\n",
       " [['публичноеакционерноеобществонорвикбанк']],\n",
       " [['ип'], ['дулькинвладимирборисович']],\n",
       " [['волготрансооо'],\n",
       "  ['акционерноеобществоакционерныикоммерческиибанкмеждународныифинансовыиклуб']],\n",
       " [['ип'], ['редькинрв']],\n",
       " [['иулдошбоевэлмуроджониулдошбоиугли']],\n",
       " [['ип'], ['чукиндмитрииевгеньевич']],\n",
       " [['ип'], ['щиновсергеивикторович'], ['боулвладиславборисович']],\n",
       " [['уральскиифилиалаокбситибанк']],\n",
       " [['индивидуальныипредприниматель'], ['южаковаиг'], ['оооюбиэсбанк']],\n",
       " [['банкресокредитао'], ['бюропереводовлогосооо']],\n",
       " [],\n",
       " [['смменеджментакционерноеобщество'], ['филиалооокбсмпгкалуга']],\n",
       " [['акционерныикоммерческиибанклинкбанкоткрытоеакционерноеобщество']],\n",
       " [['душаксс']],\n",
       " [['импульсобществосограниченноиответственностью']],\n",
       " [['акционерныикоммерческиибанкинтрастбанкоткрытоеакционерноеобщество']],\n",
       " [['ип'],\n",
       "  ['чубароваев'],\n",
       "  ['обществосограниченноиответственностьюнебанковскаякредитнаяорганизациярасчетныерешения']],\n",
       " [['частноеохранноепредприятиеоптимусобществосограниченноиответственностью'],\n",
       "  ['публичноеакционерноеобществомосковскииобластноибанк']],\n",
       " [['ип'], ['курманбаевазуракубашовна']],\n",
       " [['ип'],\n",
       "  ['ркинкс'],\n",
       "  ['публичноеакционерноеобществоагропромышленныибанкекатерининскии']],\n",
       " [['частнаяохраннаяорганизацияфортооо'],\n",
       "  ['обществосограниченноиответственностьючаинаконстракшнбанк']],\n",
       " [['федянинанатолиивикторович']],\n",
       " [['ооосмартхолдинг'], ['оаоакбрусскииземельныибанк']],\n",
       " [['ооовесыикомпания'], ['каптелининик']],\n",
       " [['обществосограниченноиответственностьюкрасносельскаяювелирнаяфабрикаправославие'],\n",
       "  ['амурскиифилиалобществасограниченноиответственностьюкронабанк']],\n",
       " [],\n",
       " [['ип'], ['ыманбекуулукуштарбек'], ['железняковсергеиалексеевич']],\n",
       " [['ооокронспб'], ['акционерноеобществобанктамбовкредитпромбанк']],\n",
       " [['селезневми'], ['обществосограниченноиответственностьюинтеграменеджмент']],\n",
       " [['ип'],\n",
       "  ['фроловасв'],\n",
       "  ['публичноеакционерноеобществокоммерческиибанкцентринвест']],\n",
       " [['гбукраевоегосударственноебюджетноеучреждениехабаровскаягородскаястанцияпоборьбесболезнямиживотных'],\n",
       "  ['зираатбанкмоскваакционерноеобщество']],\n",
       " [['аикоооо'], ['аоакбстеллабанк']],\n",
       " [['акционерноеобществоакционерныикоммерческиибанкмеждународныифинансовыиклуб']],\n",
       " [['оооиннотехсистема']],\n",
       " [['закрытоеакционерноеобществопромышленныисберегательныибанк']],\n",
       " [['марголинмф']],\n",
       " [['ип'], ['зибороваюлияюрьевна'], ['заомеждународныипромышленныибанк']],\n",
       " [['индивидуальныипредприниматель'],\n",
       "  ['смальевгениявасильевна'],\n",
       "  ['кебеэрикдитергерхард']],\n",
       " [],\n",
       " [['ип'], ['цыбулькинаии']],\n",
       " [['индивидуальныипредприниматель'], ['шаихиеваанастасияюрьевна']],\n",
       " [['ооочопбастионт'], ['аотинькоффбанк']],\n",
       " [['индивидуальныипредприниматель'],\n",
       "  ['рыльщиковасветланамихаиловна'],\n",
       "  ['акционерноеобществокоммерческиибанкуниверсальныефинансы']],\n",
       " [['индивидуальныипредприниматель'],\n",
       "  ['жуковвладимирандреевич'],\n",
       "  ['обществосограниченноиответственностьювсферебезопасности']],\n",
       " [['ип'], ['тохтароврр'], ['филиалмастербанкоаогрязань']],\n",
       " [['чооармадаооо']],\n",
       " [['ооодомовои']],\n",
       " [['ип'], ['пелитминцевроманалександрович']],\n",
       " [['банквтбпубличноеакционерноеобщество']],\n",
       " [['ип'], ['холодковасветланаефимовна']],\n",
       " [['филиалитартасстассгновосибирск']],\n",
       " [['ип'], ['бочароввикторвладимирович'], ['филиалоаопрбгсамара']],\n",
       " [['обществосограниченноиответственностьюкоммерческиибанкаиманибанк'],\n",
       "  ['оооавтомобильнаялогистика']],\n",
       " [['ип'],\n",
       "  ['чесноковаюв'],\n",
       "  ['банкэнергетическогомашиностроенияэнергомашбанкпубличноеакционерноеобщество']],\n",
       " [],\n",
       " [['халидовтамерланарбиевич']],\n",
       " [['ип'],\n",
       "  ['коноплевав'],\n",
       "  ['акционерноеобществокоммерческиибанкбанкторговогофинансирования']],\n",
       " [['обществосограниченноиответственностьюлазурная'], ['банкцерихзао']],\n",
       " [['миршинооо']],\n",
       " [['ип'], ['захаровалександрвалерьевич'], ['корневаа']],\n",
       " [['монтгруппооо'], ['акционерноеобществонародныидоверительныибанк']],\n",
       " [['ип'],\n",
       "  ['фокиндмитрииигоревич'],\n",
       "  ['дагестанскиикоммерческииэнергетическиибанкдагэнергобанкобществосограниченноиответственностью']],\n",
       " [['индивидуальныипредприниматель'], ['шапарьдмитрииниколаевич']],\n",
       " [['ооовсб']],\n",
       " [['аоуральскаявагоноремонтнаякомпания'],\n",
       "  ['закрытоеакционерноеобществомеждународныиакционерныибанк']],\n",
       " [['индивидуальныипредприниматель'], ['надыршинрр']],\n",
       " [['таурусбанкао'], ['ип'], ['чаленкоалексеиалексеевич']],\n",
       " [['ип'], ['скирдовюриивасильевич']],\n",
       " [['ип'], ['кильдюшовататьянапетровна'], ['нкоаопрц']],\n",
       " [['акционерныикоммерческиибанкчелиндбанкпубличноеакционерноеобщество']],\n",
       " [],\n",
       " [['оооэксаяр'], ['аоэмюэфджибанкевразия']],\n",
       " [['открытоеакционерноеобществовостоккредитбанк'],\n",
       "  ['оаоцвмркраснодарскаябальнеолечебница']],\n",
       " [['ип'], ['юматован']],\n",
       " [['публичноеакционерноеобществоневскиинародныибанк']],\n",
       " [['ип'],\n",
       "  ['василенкоск'],\n",
       "  ['коммерческиибанкнефтяноиальянспубличноеакционерноеобщество']],\n",
       " [['аофорпостнао'], ['акблантабанкао']],\n",
       " [['ип'], ['макаровалексеиалександрович']],\n",
       " [['ип'], ['петрищеваларисаюрьевна']],\n",
       " [['обществосограниченноиответственностьюгрифельдизаин'],\n",
       "  ['публичноеакционерноеобществокоммерческиибанксаммитбанк']],\n",
       " [['индивидуальныипредприниматель'], ['белоноговаов']],\n",
       " [['адмиревразияооо'], ['публичноеакционерноеобществоневскиинародныибанк']],\n",
       " [['филиалоооэсидбанкгдербент']],\n",
       " [['ип'], ['павличенкодмитриианатольевич']],\n",
       " [['индивидуальныипредприниматель'],\n",
       "  ['балалаевамп'],\n",
       "  ['ип'],\n",
       "  ['петрованатальявасильевна']],\n",
       " [['ооо5'], ['ооокбадмиралтеискии']],\n",
       " [['ип'], ['ысаковааинураарапбаевна']],\n",
       " [['академиякультурыдирекцияпоразвитиюооо'], ['аоевроаксисбанк']],\n",
       " [['ип'], ['григорьевею'], ['публичноеакционерноеобществосбербанкроссии']],\n",
       " [['новиковаеа'], ['акблегионао']],\n",
       " [['обществосограниченноиответственностьювестком'], ['аонордеабанк']],\n",
       " [['индивидуальныипредприниматель'], ['рукосуевав']],\n",
       " [],\n",
       " [['оооавенир'], ['паочелиндбанк']],\n",
       " [['коммерческииволжскиисоциальныибанкобществосограниченноиответственностью']],\n",
       " [['индивидуальныипредприниматель'],\n",
       "  ['ягафаровагалинагабдуловна'],\n",
       "  ['азияинвестбанкао']],\n",
       " [['государственноебюджетноеучреждениесаратовскоиобластисоциальнореабилитационныицентрдлянесовершеннолетнихвозвращениегосударственноебюджетноеучреждениесубъектароссиискоифедерации'],\n",
       "  ['санктпетербургскиибанкинвестицииакционерноеобщество']],\n",
       " [['кбинтеркоммерцооо'], ['ип'], ['васильчиковандреиалексеевич']],\n",
       " [],\n",
       " [['коммерческиибанкбизнесдлябизнесаобществосограниченноиответственностью'],\n",
       "  ['индивидуальныипредприниматель'],\n",
       "  ['сергееваларисавикторовна']],\n",
       " [['ооосердителеком'], ['обществосограниченноиответственностьюэкспобанк']],\n",
       " [['оооновыикоммерческиибанк']],\n",
       " [['агроводмуниципальногообразованиясольилецкиигородскоиокругмуниципальноеунитарноепредприятие'],\n",
       "  ['обществосограниченноиответственностьюэксперт']],\n",
       " [['ип'], ['денисована']],\n",
       " [['ип'], ['савицкаяев'], ['акбпроинвестбанкао']],\n",
       " [['филиалкбрбаооо']],\n",
       " [['оооланексканат']],\n",
       " [['ооокирсановскаяметаллургическаякомпания'], ['ооопрокоммерцбанк']],\n",
       " [['акционерноеобществокэсхолдинг'], ['оооэичэсбисибанкрр']],\n",
       " [],\n",
       " [['оооволгаконсалтинг']],\n",
       " [],\n",
       " [['оооредакциягазетысаров'], ['галягинасветланаанатольевна']],\n",
       " [['индивидуальныипредприниматель'],\n",
       "  ['цимерманол'],\n",
       "  ['коммерческиибанкмежотраслеваябанковскаякорпорацияобществосограниченноиответственностью']],\n",
       " [['ип'], ['ершовав'], ['акционерноеобществокредитевропабанкроссия']],\n",
       " [['нгмупводоканал'], ['акционерноеобществокроснабанк']],\n",
       " [['оаобанкнародныикредит']],\n",
       " [['ип'], ['тоноянанушмиасниковна'], ['заомеждународныипромышленныибанк']],\n",
       " [['аокбприобье'], ['оооуралстроисервис']],\n",
       " [['свинокомплекспристенскииобществосограниченноиответственностью']],\n",
       " [['ооопроизводственнокоммерческаяфирмапрактика'], ['шульгаандреисергеевич']],\n",
       " [['паотрансконтеинернадальневосточноижелезноидорогефилиал'], ['зуевсг']],\n",
       " [['россиискииакционерныикоммерческиидорожныибанкпубличноеакционерноеобщество']],\n",
       " [['ип'], ['григорьевевгенииюрьевич'], ['акционерноеобществосэббанк']],\n",
       " [['ип'], ['дубинскииартурмихаилович']],\n",
       " [['ип'], ['зоринаюлияанатольевна'], ['филиалкбевротрастзаогастрахань']],\n",
       " [['обществосограниченноиответственностьюкармадгрупп'], ['ооодагэнергобанк']],\n",
       " [],\n",
       " [['ооопмгруп']],\n",
       " [['ип'], ['иылмазес']],\n",
       " [['индивидуальныипредприниматель'], ['шаигероволегалександрович']],\n",
       " [],\n",
       " [['нпмпринтобществосограниченноиответственностью']],\n",
       " [['ип'], ['щеняевамаринавладимировна'], ['аостарбанк']],\n",
       " [['мкумуниципальноеказнноеучреждениекультурыцентрализованнаябиблиотечнаясистематугулымскогогородскогоокругафилиал'],\n",
       "  ['заомбанк']],\n",
       " [['оооальянсагро']],\n",
       " [['муниципальноебюджетноеучреждениекультурыдомкультурысельскогопоселенияселодаппымбу'],\n",
       "  ['паочелиндбанк']],\n",
       " [['ип'],\n",
       "  ['тырлянатальяпавловна'],\n",
       "  ['коммерческииволжскиисоциальныибанкобществосограниченноиответственностью']],\n",
       " [],\n",
       " [['цтоооо'], ['акционерноеобществоюникредитбанк']],\n",
       " [['оооэиэнддирус']],\n",
       " [['индивидуальныипредприниматель'], ['моломдаиегорвикторович'], ['аорнбанк']],\n",
       " [['ип'],\n",
       "  ['москаленковикторолегович'],\n",
       "  ['филиалсанктпетербургскииаоальфабанк']],\n",
       " [['оооатп17'], ['публичноеакционерноеобществомосковскиииндустриальныибанк']],\n",
       " [['авенирооо']],\n",
       " [['ип'],\n",
       "  ['горшковаое'],\n",
       "  ['коммерческиибанкальтабанкзакрытоеакционерноеобщество']],\n",
       " [['филиалоаолипецкоблбанк']],\n",
       " [['оаопрб'], ['открытоеакционерноеобществоплеменноехозяиствоильинское']],\n",
       " [['гараевзф']],\n",
       " [['щербаковандреиалександрович'],\n",
       "  ['внешнеэкономическиипромышленныибанкобществосограниченноиответственностью']],\n",
       " [['ип'], ['челомбиткоиринаевгеньевна'], ['паобанкзенит']],\n",
       " [['индивидуальныипредприниматель'],\n",
       "  ['дулькинвладимирборисович'],\n",
       "  ['обществосограниченноиответственностьюкоммерческиибанкренессанс']],\n",
       " [['ип'], ['щедловскаяеленаконстантиновна'], ['гюльбековаекатеринаборисовна']],\n",
       " [],\n",
       " [['баклицкииденисниколаевич'], ['белашовгеоргиивладимирович']],\n",
       " [['спкспкколхозимениленина']],\n",
       " [['зоппасиндастризруссияобществосограниченноиответственностью'],\n",
       "  ['абалданзолотобанкао']],\n",
       " [['нижнесолотинскаясельскаябиблиотека'],\n",
       "  ['филиалзаомеждународныипромышленныибанкгновосибирск']],\n",
       " [['обществосограниченноиответственностьюкбинвест'],\n",
       "  ['оооагентствоэлитапрофилаин']],\n",
       " [['велнессобществосограниченноиответственностью']],\n",
       " [['главакрестьянскогофермерскогохозяистваурмановалександрмихаиловичглавакрестьянскогофермерскогохозяиства'],\n",
       "  ['коммерческиибанкинвестрастбанкакционерноеобщество']],\n",
       " [['обществосограниченноиответственностьююридическаякомпаниявердикт'],\n",
       "  ['кбнефтяноиальянспао']],\n",
       " [['ип'], ['омаровгм'], ['открытоеакционерноеобществосмоленскиибанк']],\n",
       " [['ооогранд']],\n",
       " [['ткачеваиа']],\n",
       " [['ип'], ['чочиеввт']],\n",
       " [['ооокасимовскиимузеиколоколов']],\n",
       " [['ммбукцбсмрагинскиираионкраизабаикальскиирнагинскиипгторловскиифилиал']],\n",
       " [['ип'], ['щербаковаеленаниколаевна'], ['акционерноеобществорнбанк']],\n",
       " [['оообанккурган'], ['индивидуальныипредприниматель'], ['аптекарьее']],\n",
       " [['ооонемтен']],\n",
       " [['мупжкхкурчанское'], ['аодатабанк']],\n",
       " [],\n",
       " [['ип'],\n",
       "  ['усмоноваюш'],\n",
       "  ['обществосограниченноиответственностьюновыикоммерческиибанк']],\n",
       " [['оаокбмвкб']],\n",
       " [['обществосограниченноиответственностьюцентравиценна'],\n",
       "  ['экспортноимпортныибанкакционерноеобщество']],\n",
       " [['закрытоеакционерноеобществоипотекбанк']],\n",
       " [['обществосограниченноиответственностьюпкфтехномаш'],\n",
       "  ['симаоксанаанатольевна']],\n",
       " [['оаоприволжскоекбпао']],\n",
       " [['ип'], ['эммануэльанатолииевгеньевич'], ['филиалкбхолдингкредитооо']],\n",
       " [['ооофорттранслогистика'], ['акционерноеобществокоммерческиибанквакобанк']],\n",
       " [['ип'], ['ровхусеншокирджонович']],\n",
       " [['жигулевскиеворотаооо'], ['кбанталбанкооо']],\n",
       " [['коммерческиибанкфинансовыистандартобществосограниченноиответственностью']],\n",
       " [['братскииакционерныинародныикоммерческиибанкакционерноеобщество'],\n",
       "  ['ооодельтателеком']],\n",
       " [['урбанниколаиниколаевич'], ['публичноеакционерноеобществосбербанкроссии']],\n",
       " [['оооголдвинд'], ['янинвс']],\n",
       " [],\n",
       " [],\n",
       " [['индивидуальныипредприниматель'], ['павловаеленаолеговна']],\n",
       " [['индивидуальныипредприниматель'], ['ошароввв']],\n",
       " [['ип'], ['нигаметзяноврусланильязович']],\n",
       " [['ооофингруппсс']],\n",
       " [['оооэпона'],\n",
       "  ['акционерныикоммерческиимежрегиональныитопливноэнергетическиибанкмежтопэнергобанкпубличноеакционерноеобщество']],\n",
       " [['мбукпрмб'],\n",
       "  ['коммерческиибанксаратовобществосограниченноиответственностью']],\n",
       " [['обществосограниченноиответственностьюголдбриг'],\n",
       "  ['обществосограниченноиответственностьюпчрббанк']],\n",
       " [['сибприборооо']],\n",
       " [['оооглобалтрансавто'],\n",
       "  ['обществосограниченноиответственностьюкоммерческиибанктаидон']],\n",
       " [['беляеватб']],\n",
       " [['мкукдо'], ['аокбассоциация']],\n",
       " [['индивидуальныипредприниматель'], ['шевелеваею']],\n",
       " [['индивидуальныипредприниматель'], ['дрюковаольгамихаиловна']],\n",
       " [['ип'], ['елчиевазвк']],\n",
       " [['филиалпаороссетикубаньгармавир'],\n",
       "  ['полноенаименованиекатавивановскиифилиалакционерногокоммерческогобанкачелиндбанкпубличногоакционерногообществасокращенноенаименованиекатавивановскиифилиалпаочелиндбанк']],\n",
       " [['ип'],\n",
       "  ['умитовамарияниколаевна'],\n",
       "  ['обществосограниченноиответственностьюкоммерческиибанкединственныи']],\n",
       " [['ип'], ['джаноянюрииакопович']],\n",
       " [['оооакбарсторгстрои'],\n",
       "  ['коммерческиибанккутузовскииобществосограниченноиответственностью']],\n",
       " [['ип'], ['пузановаиринавладимировна'], ['филиалоаокбстроикредитгомск']],\n",
       " [],\n",
       " [['ип'], ['ябанжигеннадиигеоргиевич']],\n",
       " [['паодонкомбанк'], ['ооосибнефтегазстрои']],\n",
       " [['ооогрузовыерезервы'],\n",
       "  ['открытоеакционерноеобществокоммерческиибанкмаксимум']],\n",
       " [['ип'], ['федотоваараксиарамовна'], ['акционерноеобществовологдабанк']],\n",
       " [['ооопромматериалы2001'], ['оаоакбпробизнесбанк']],\n",
       " [['кивибанкакционерноеобщество']],\n",
       " [['ооопнкоэлплат'], ['индивидуальныипредприниматель'], ['шихимовфс']],\n",
       " [['индивидуальныипредприниматель'],\n",
       "  ['елчиевазенфиравеискзы'],\n",
       "  ['московскоуральскииакционерныикоммерческиибанкакционерноеобщество']],\n",
       " [['филиалчелябинскиикоммерческогобанкаинтеркоммерцобществосограниченноиответственностьюфилиалчелябинскиикбинтеркоммерцооо']],\n",
       " [['ооовсб']],\n",
       " [['заобанквефкурал']],\n",
       " [['индивидуальныипредприниматель'],\n",
       "  ['зубкоаа'],\n",
       "  ['публичноеакционерноеобществоекатеринбургскиимуниципальныибанк']],\n",
       " [['акблегионао']],\n",
       " [['открытоеакционерноеобществопервыиреспубликанскиибанк']],\n",
       " [['ип'], ['степановсергеиборисович'], ['акционерноеобществосэббанк']],\n",
       " [['ооококаколаэичбисиевразия'], ['смирноваоксаналеонидовна']],\n",
       " [['ип'], ['щепинденисанатольевич'], ['паочелиндбанк']],\n",
       " [['мупавс'], ['оооборскиикомбанк']],\n",
       " [['журиловаоксананиколаевна'], ['акционерноеобществодатабанк']],\n",
       " [['акционерноеобществовологдабанк']],\n",
       " [['ип'], ['лялинвладимирмихаилович']],\n",
       " [['индивидуальныипредприниматель'],\n",
       "  ['васильчиковаа'],\n",
       "  ['обществосограниченноиответственностьюкоммерческиибанккалуга']],\n",
       " [['индивидуальныипредприниматель'], ['иенкнадеждаанатольевна']],\n",
       " [['самарскиифилиалакционерногообществавсероссиискиибанкразвитиярегионов'],\n",
       "  ['агеенковалександрвладимирович']],\n",
       " [['индивидуальныипредприниматель'], ['хабуловер'], ['кбмаксимаооо']],\n",
       " [['коммерческиибанкгагаринскииакционерноеобщество']],\n",
       " [['тищенковв'], ['акционерноеобществомирафбанк']],\n",
       " [['ильпрессобществосограниченноиответственностью']],\n",
       " [['оооцентрбронированиянакольскои'], ['нерусинпи']],\n",
       " [['сергеевандреиниколаевич'], ['ип'], ['бредневсергеиниколаевич']],\n",
       " [['акционерныикоммерческиибанкэльбинакционерноеобщество']],\n",
       " [['акционерноеобществоюникредитбанк']],\n",
       " [['ип'], ['фаизуллоеваоксанаивановна']],\n",
       " [['ип'],\n",
       "  ['дубоделоваларисавладимировна'],\n",
       "  ['закрытоеакционерноеобществомеждународныиакционерныибанк']],\n",
       " [['оооск'], ['акционерноеобществофиабанк']],\n",
       " [],\n",
       " [['каретниковлеонидмихаилович'], ['ооо34компани']],\n",
       " [['индивидуальныипредприниматель'], ['якушевиа'], ['боулвладиславборисович']],\n",
       " [['ип'], ['агаевсаррафханлароглы'], ['шубингерманалександрович']],\n",
       " [['ип'], ['москаленковикторолегович'], ['акционерноеобществобксбанк']],\n",
       " [['ип'], ['чочиеввт'], ['оаокбстроикредит']],\n",
       " [['корневаа'], ['агеенковалександрвладимирович']],\n",
       " [['индивидуальныипредприниматель'], ['поморцевааннавикторовна']],\n",
       " [['коммерческиибанкмиллениумбанкзакрытоеакционерноеобщество']],\n",
       " [['филиалгенеральнаядирекцияооомоспасениевгнабережныечелныфилиалюридическоголица'],\n",
       "  ['акционерныикоммерческиибанкгазнефтьбанкакционерноеобщество']],\n",
       " [['обществосограниченноиответственностьюкамильн']],\n",
       " [['обществосограниченноиответственностьюзеленоградсктехноплюс'],\n",
       "  ['филиалакбинтрастбанкоаогворонеж']],\n",
       " [['аосибирскоуральскаяэнергетическаякомпанияпредставительство'],\n",
       "  ['ооокбразвитие']],\n",
       " [['обществосограниченноиответственностьюрежевскоиметаллургическиизавод']],\n",
       " [['коммерческиибанксовременныестандартыбизнесаобществосограниченноиответственностью']],\n",
       " [['дарчиеврусланасланович']],\n",
       " [['ип'],\n",
       "  ['иылдырымс'],\n",
       "  ['акционерныикоммерческиибанкобъединенныибанкпромышленныхинвестициипубличноеакционерноеобщество']],\n",
       " [['открытоеакционерноеобществобанкприоритет']],\n",
       " [['приволжскиитерриториальныиокругфедеральногогосударственногоунитарногопредприятияфедеральныиэкологическииоператор'],\n",
       "  ['открытоеакционерноеобществоинвестиционныиакционерныибанкдигбанк']],\n",
       " [['филиалооодсвсолюшнсвгистра'],\n",
       "  ['акционерноеобществореспубликанскиисоциальныикоммерческиибанк']],\n",
       " [['ип'], ['дубовченкоаб']],\n",
       " [['мкуккиевскиисдк'], ['акционерноеобществобанктамбовкредитпромбанк']],\n",
       " [['индивидуальныипредприниматель'],\n",
       "  ['фоминавалерияалександровна'],\n",
       "  ['обществосограниченноиответственностьюкоммерческиибанкэсид']],\n",
       " [['ип'],\n",
       "  ['щепинденисанатольевич'],\n",
       "  ['открытоеакционерноеобществолипецкииобластноибанк']],\n",
       " [['кбсателсооо'], ['брежневанатальяалександровна']],\n",
       " [['акбкапиталбанкпао'], ['оообольшоепутешествие']],\n",
       " [['ип'],\n",
       "  ['эрфуртолегвикторович'],\n",
       "  ['открытоеакционерноеобществомежрегиональныикоммерческиибанкзамоскворецкии']],\n",
       " [['индивидуальныипредприниматель'], ['иылмазяс']],\n",
       " [['аивибанкао'], ['ип'], ['давченкобф']],\n",
       " [['ип'],\n",
       "  ['гардабудскихсветланавикторовна'],\n",
       "  ['обществосограниченноиответственностьюкоммерческиибанкбанкбфт']],\n",
       " [['филиалсдмбанкпубличноеакционерноеобществовгнижнииновгород']],\n",
       " [['переводческаякомпанияатисооо']],\n",
       " [['ип'],\n",
       "  ['аверинаекатеринаалексеевна'],\n",
       "  ['филиалаопробанкгбарнаулпрктленина']],\n",
       " [['ип'],\n",
       "  ['романчинаанжелаильинична'],\n",
       "  ['коммерческиибанквегабанкобществосограниченноиответственностью']],\n",
       " [['ип'], ['цовкосветланавалерьевна'], ['оаобанкнародныикредит']],\n",
       " [['исполнительныикомитетстароузеевскогосельскогопоселенияаксубаевскогомуниципальногораионареспубликитатарстан'],\n",
       "  ['филиалкбинтеркоммерцооогворонеж']],\n",
       " [['ип'],\n",
       "  ['шариповсх'],\n",
       "  ['обществосограниченноиответственностьюмахачкалинскиигородскоимуниципальныибанк']],\n",
       " [['муниципальноеказенноеучреждениеуправлениежизнеобеспечениянаселенияследневскогосельскогопоселениямку'],\n",
       "  ['ип'],\n",
       "  ['рашитовамариямулахмятовна']],\n",
       " [['ооомцздоровье'],\n",
       "  ['открытоеакционерноеобществоакционерныикоммерческиибанкрусскииземельныибанк']],\n",
       " [['мастербанкоао']],\n",
       " [['обществосограниченноиответственностьюбрикм']],\n",
       " [['ооокакаду']],\n",
       " [['ооотвл'], ['акционерныикоммерческиибанкмзбзакрытоеакционерноеобщество']],\n",
       " [['жуковемельяновкириллолегович']],\n",
       " [['ип'], ['иулдошбоевэлмуроджониулдошбоиугли']],\n",
       " [['рошермихаэль'], ['ип'], ['варданянсф']],\n",
       " [['бюджетноеучреждениеветеринариивологодскоиобластиникольскаяраионнаястанцияпоборьбесболезнямиживотныхгбу']],\n",
       " [['обществосограниченноиответственностьювесна'],\n",
       "  ['приморскиифилиалакббэнкофчаинаао']],\n",
       " [['кирсановвасилиипетрович'], ['игнатовсергеиалександрович']],\n",
       " [],\n",
       " [['ип'], ['чичанкинантонсергеевич']],\n",
       " [['ип'], ['тороповаевгенияниколаевна']],\n",
       " [['ип'], ['иосебашвилишалваиосебович'], ['акбкроссинвестбанкоао']],\n",
       " [['охранноепредприятиеберкутдонооо'],\n",
       "  ['филиалкбмоскоммерцбанкаогкалининград']],\n",
       " [['филиалмбукимцкибокраихабаровскиирнкомсомольскиисселихино']],\n",
       " [['ип'], ['горшковаоксанаегоровна']],\n",
       " [['ип'], ['елиноваев'], ['пвбанкзакрытоеакционерноеобщество']],\n",
       " [['ооокапельки']],\n",
       " [['ип'], ['ивановсергеивячеславович'], ['ооопромрегионбанк']],\n",
       " [['жилоикомплекссердценижнегообществосограниченноиответственностью'],\n",
       "  ['акционерноеобществобанкакцепт']],\n",
       " [['ип'],\n",
       "  ['иоцив'],\n",
       "  ['банкнациональнаяфакторинговаякомпанияакционерноеобщество']],\n",
       " [['ип'], ['хасанованатальяиршатовна'], ['ооокбкольцоурала']],\n",
       " [['оооастрамедиа']],\n",
       " [['публичноеакционерноеобществодонхлеббанк']],\n",
       " [['ип'],\n",
       "  ['таскаеввалериисергеевич'],\n",
       "  ['баикалбанкпубличноеакционерноеобщество']],\n",
       " [['ип'], ['музыканиколаиалексеевич']],\n",
       " [['акционерноеобществобанквенец'],\n",
       "  ['ип'],\n",
       "  ['цыбульниковвасилиивладимирович']],\n",
       " [['ип'], ['иосебашвилишалваиосебович']],\n",
       " [['ип'],\n",
       "  ['зобковасветланагеннадьевна'],\n",
       "  ['публичноеакционерноеобществозападносибирскиикоммерческиибанк']],\n",
       " [['закрытоеакционерноеобществокрцинфлотель'],\n",
       "  ['открытоеакционерноеобществовостоккредитбанк']],\n",
       " [['обществосограниченноиответственностьюульяновскцентргазстрои'],\n",
       "  ['кбкубанскииуниверсальныибанкооо']],\n",
       " [['тогбусампурскаяраисббж']],\n",
       " [['ип'], ['тароикинкс']],\n",
       " [['ип'], ['таскаеввалериисергеевич'], ['корсаковюриироманович']],\n",
       " [['индивидуальныипредприниматель'], ['иенкнадеждаанатольевна']],\n",
       " [['ооостоличнаяярмарка'], ['петуховалександралександрович']],\n",
       " [['гбутетюшскоергво'],\n",
       "  ['обществосограниченноиответственностьюкоммерческиибанкфинансовыикапитал']],\n",
       " [['ип'], ['захаровав'], ['паобанксанктпетербург']],\n",
       " [['дргруппобществосограниченноиответственностью']],\n",
       " [],\n",
       " [['эргашевхаииджонмахмуджонович'],\n",
       "  ['коммерческиибанксовременныестандартыбизнесаобществосограниченноиответственностью']],\n",
       " [['ооомастард'], ['акционерноеобществокоммерческииакционерныибанквикинг']],\n",
       " [['индивидуальныипредприниматель'], ['бабичив'], ['филиалаокбпоидм']],\n",
       " [['ип'],\n",
       "  ['янованинаалексеевна'],\n",
       "  ['акционерныикамчатскиикоммерческииагропромбанккамчаткомагропромбанкпубличноеакционерноеобщество']],\n",
       " [['новаяполевскаятипографияобществосограниченноиответственностью'],\n",
       "  ['ип'],\n",
       "  ['рубежанскаяав']],\n",
       " [['оооофисцентр'], ['публичноеакционерноеобществом2мпраиветбанк']],\n",
       " [['шестопаловсергеиниколаевич']],\n",
       " [['ооодирижабль']],\n",
       " [['ип'], ['якимовасс'], ['акционерноеобществобанкконверсииснежинскии']],\n",
       " [['ип'], ['эвинянса']],\n",
       " [['акционерныикоммерческиибанкчелиндбанкпубличноеакционерноеобщество'],\n",
       "  ['ооопрага']],\n",
       " [['ип'], ['рахимовакрамуктамович'], ['аокроснабанк']],\n",
       " [['мантровааа']],\n",
       " [['россиискиинациональныикоммерческиибанкпубличноеакционерноеобщество']],\n",
       " [['филиалкноррбремзекамазооомоспасениевгнабережныечелны'], ['ооовсб']],\n",
       " [['ип'], ['филановичлв']],\n",
       " [['ооопечатноеагентствоопера']],\n",
       " [['филиалоооувзмедиасервисфилиалюридическоголица']],\n",
       " [['индивидуальныипредприниматель'],\n",
       "  ['яниниванигоревич'],\n",
       "  ['внешнеэкономическиипромышленныибанкобществосограниченноиответственностью']],\n",
       " [['ильтюковскаясельскаябиблиотекафилиал19']],\n",
       " [['ип'], ['назарчукаф'], ['паобанксанктпетербург']],\n",
       " [['ип'], ['баграмянва'], ['паокбевроситибанк']],\n",
       " [['паобанкюгра'], ['ип'], ['мезинка']],\n",
       " [['ип'], ['ысаковааинураарапбаевна'], ['ооокбгефест']],\n",
       " [['индивидуальныипредприниматель'], ['янинии'], ['кбмаксимаооо']],\n",
       " [['ип'], ['нагорновпетрпетрович'], ['нацкорпбанкао']],\n",
       " [['ип'],\n",
       "  ['тупиковав'],\n",
       "  ['коммерческииволжскиисоциальныибанкобществосограниченноиответственностью']],\n",
       " [['ип'],\n",
       "  ['рыбалкинаиринаалександровна'],\n",
       "  ['акционерныичелябинскииинвестиционныибанкчелябинвестбанкпубличноеакционерноеобщество']],\n",
       " [['обществосограниченноиответственностьюторговыидомтранссервис']],\n",
       " [['индивидуальныипредприниматель'],\n",
       "  ['краснослободцевалександревгеньевич'],\n",
       "  ['акционерноеобществокоммерческиибанкпоидм']],\n",
       " [['ип'], ['елчиевазенфиравеискзы']],\n",
       " [['ооовкуспродукт'], ['обществосограниченноиответственностьюсистемакб']],\n",
       " [['индивидуальныипредприниматель'],\n",
       "  ['ямпольскаяом'],\n",
       "  ['обществосограниченноиответственностьюбанкитуруп']],\n",
       " [['ип'],\n",
       "  ['горшковаоксанаегоровна'],\n",
       "  ['обществосограниченноиответственностьюнебанковскаякредитнаяорганизацияпэипалру']],\n",
       " [['аостоловая1'], ['салагинагн']],\n",
       " [['ип'],\n",
       "  ['выстроповататьянафедоровна'],\n",
       "  ['открытоеакционерноеобществокоммерческиибанкстроикредит']],\n",
       " [['акбмзбзао']],\n",
       " [['нанокорундооо'],\n",
       "  ['коммерческииволжскиисоциальныибанкобществосограниченноиответственностью']],\n",
       " [['индивидуальныипредприниматель'],\n",
       "  ['радченкона'],\n",
       "  ['публичноеакционерноеобществобанкюгра']],\n",
       " [['ип'], ['цветковюа'], ['филиалкброспромбанкоооггатчина']],\n",
       " [['некоммерческоепартнерствопосодеиствиюветеринарноидеятельноститверскаягильдияветеринарныхпрактикующихврачеи']],\n",
       " [['худоидодовнасимжонмирзоевич'], ['иииенферит']],\n",
       " [['оооторговопроизводственноепредприятиеоптикафилиал'],\n",
       "  ['обществосограниченноиответственностьюпрофессиональныикредитныибанк']],\n",
       " [['индивидуальныипредприниматель'],\n",
       "  ['ошароввалентинвладимирович'],\n",
       "  ['власовсергеигеннадьевич']],\n",
       " [['ип'], ['иылдырымсветланамихаиловна']],\n",
       " [['радиовещательнаякомпаниясуваробществосограниченноиответственностью'],\n",
       "  ['внешнеэкономическиипромышленныибанкобществосограниченноиответственностью']],\n",
       " [['ип'], ['исломовшамсиддинисмоилович']],\n",
       " [['акционерноеобществороскосмосбанк']],\n",
       " [],\n",
       " [['индивидуальныипредприниматель'],\n",
       "  ['щербавладимиранатольевич'],\n",
       "  ['аобанкфинсервис']],\n",
       " [['ооонавигаторсаха']],\n",
       " [['барсеговгеннадиигенрихович'],\n",
       "  ['индивидуальныипредприниматель'],\n",
       "  ['заицевса']],\n",
       " [['обществосограниченноиответственностьюкоммерческиибанккалуга']],\n",
       " [['ульяновскцентргазстроиобществосограниченноиответственностью'], ['ооовсб']],\n",
       " [['акционерноеобществоакционерныикоммерческиибанкмеждународныифинансовыиклуб']],\n",
       " [['ооокбмвсбанк']],\n",
       " [['ип'], ['эдилсултановабубакарпозлуевич'], ['паобанкекатерининскии']],\n",
       " [['полноенаименованиесаткинскиифилиалакционерногокоммерческогобанкачелиндбанкпубличногоакционерногообществасокращенноенаименованиесаткинскиифилиалпаочелиндбанк']],\n",
       " [['акционерноеобществочитатехэнерго'],\n",
       "  ['публичноеакционерноеобществосбербанкроссии']],\n",
       " [['индивидуальныипредприниматель'], ['донченкона']],\n",
       " [['аосэббанк'], ['выгузовда']],\n",
       " [['индивидуальныипредприниматель'], ['давыдоввв'], ['паочелиндбанк']],\n",
       " [['оооэпоха']],\n",
       " [['обществосограниченноиответственностьюкоммерческиибанкакадемическиирусскиибанк'],\n",
       "  ['ооопримадент']],\n",
       " [['филиалоооюмсгбатаиск']],\n",
       " [],\n",
       " [['ип'], ['горшковаюлиявладимировна'], ['паосбербанк']],\n",
       " [['ип'], ['таралашвилигг']],\n",
       " [['ооорнпожарнаябезопасность']],\n",
       " [['ип'], ['эскиевааминатборшиковна'], ['миляевдмитриивасильевич']],\n",
       " [['ип'],\n",
       "  ['тырлянатальяпавловна'],\n",
       "  ['небанковскаякредитнаяорганизацияперспективаобществосограниченноиответственностью']],\n",
       " [['смирноваоксаналеонидовна']],\n",
       " [['миллениумбанкзао'], ['ип'], ['елиноваеленавасильевна']],\n",
       " [['паосбербанк'], ['ип'], ['оганисянмариэттагегамовна']],\n",
       " [['дубленскиивв']],\n",
       " [['хачикянарамагванович'], ['филиалоаокбстроикредитгсанктпетербург']],\n",
       " [['ип'], ['яненкопв']],\n",
       " [['ип'], ['иоциявикторовна'], ['столбовва']],\n",
       " [['ип'], ['михаиловааа'], ['кбмеждународныибанкразвитияао']],\n",
       " [['ферросплавинвестооо'],\n",
       "  ['акционерныикоммерческиибанкобъединенныибанкпромышленныхинвестициипубличноеакционерноеобщество']],\n",
       " [['ип'],\n",
       "  ['васильевпетрсергеевич'],\n",
       "  ['акционерныикоммерческиибанкфорабанкакционерноеобщество']],\n",
       " [['ооонэо'], ['акционерноеобществороскосмосбанк']],\n",
       " [['акционерноеобществоальфабанк']],\n",
       " [['ип'],\n",
       "  ['тищенкоав'],\n",
       "  ['коммерческиибанкбфгкредитобществосограниченноиответственностью']],\n",
       " [['ультраооо'], ['публичноеакционерноеобществонациональныибанктраст']],\n",
       " [['открытоеакционерноеобществоевросиббанк']],\n",
       " [['обществосограниченноиответственностьюцентртворческоиинициативы'],\n",
       "  ['обществосограниченноиответственностьюинфобанк']],\n",
       " [['индивидуальныипредприниматель'], ['чаленкоаа']],\n",
       " [['ип'], ['иылмазявузселим'], ['нацинвестпромбанкао']],\n",
       " [['московскиифилиалобществасограниченноиответственностьюцентрперспективныхинвестициигмосквагмоскваулкиевская'],\n",
       "  ['орловсергеивладимирович']],\n",
       " [['мишуковав'], ['бессмертныхтатьянавикторовна']],\n",
       " [['арктиктрансооо'], ['курлаевандреивладимирович']],\n",
       " [['ип'],\n",
       "  ['турищевевгениивасильевич'],\n",
       "  ['коммерческиибанкальтабанкзакрытоеакционерноеобщество']],\n",
       " [['обществосограниченноиответственностьюцентринформационныхинаучныхтехнологиивертикаль'],\n",
       "  ['ооокбдружба']],\n",
       " [['ип'], ['цыриновичверавасильевна']],\n",
       " [['дятловсергеивладимирович']],\n",
       " [['обществосограниченноиответственностьюриарден'],\n",
       "  ['аоакбеврофинансмоснарбанк']],\n",
       " [['ип'], ['черносвитовсергеивладимирович']],\n",
       " [['днрано']],\n",
       " [['обществосограниченноиответственностьюсом4'],\n",
       "  ['акционерноеобществомтибанк']],\n",
       " [['обществосограниченноиответственностьюкомпаниябизнеспак'],\n",
       "  ['публичноеакционерноеобществокоммерческиибанкевроситибанк']],\n",
       " [['зеленоградсктехноплюсобществосограниченноиответственностью']],\n",
       " [['публичноеакционерноеобществоросбанк'], ['ип'], ['эмихсергеиолегович']],\n",
       " [['аоваргашинскиизаводппсо'], ['сдмбанкпубличноеакционерноеобщество']],\n",
       " [['ип'], ['тимоненкоегоранатольевич'], ['банкбогородскииооо']],\n",
       " [['ип'], ['орловвасилиисергеевич']],\n",
       " [['царевалюдмилаюрьевна']],\n",
       " [['ип'], ['кархумихаилюрьевич'], ['филиалпвбанкзаогижевск']],\n",
       " [['ип'], ['шульгинсергеивалерьевич'], ['оообанксаратов']],\n",
       " [['ип'],\n",
       "  ['браунштеининнаанатольевна'],\n",
       "  ['филиалакбинтрастбанкоаогсанктпетербург']],\n",
       " [['кбмоскоммерцбанкао']],\n",
       " [['воробьвсергеииванович'],\n",
       "  ['обществосограниченноиответственностьюбухгалтерскоправовоицентрведанта']],\n",
       " [['акбинкаробанкао']],\n",
       " [['ип'], ['эсаевазаремавадыевна'], ['заосбанк']],\n",
       " [['янованинаалексеевна']],\n",
       " [['обществосограниченноиответственностьютриопрофит'], ['аостарбанк']],\n",
       " [['яцкевичегоралександрович'],\n",
       "  ['публичноеакционерноеобществобанксанктпетербург']],\n",
       " [['ип'],\n",
       "  ['баграмянва'],\n",
       "  ['обществосограниченноиответственностьюхоумкредитэндфинансбанк']],\n",
       " [['ип'], ['булатовасн'], ['макуловаи']],\n",
       " [],\n",
       " [['ооолигалкеис'], ['ооомгмб']],\n",
       " [],\n",
       " [['ип'], ['горчхановтимурсаидович'], ['кббдбооо']],\n",
       " [['индивидуальныипредприниматель'],\n",
       "  ['юсуповалександршавкатович'],\n",
       "  ['банкиошкаролапао']],\n",
       " [['индивидуальныипредприниматель'],\n",
       "  ['заплутахинниколаивикторович'],\n",
       "  ['коммерческиибанккубанскииуниверсальныибанкобществосограниченноиответственностью']],\n",
       " [['строительномонтажныитрест13филиал'], ['наумовамаринавладимировна']],\n",
       " [['обществосограниченноиответственностьюэлитсекьюритиинжиниринг']],\n",
       " [['ип'], ['гелетеиов']],\n",
       " [['обществосограниченноиответственностьючастноеохранноепредприятиеоберег48']],\n",
       " [['горбаченкосг']],\n",
       " [['кбдсбанкооо'], ['ип'], ['пелитминцевроманалександрович']],\n",
       " [['парадооо'], ['заокбладакредит']],\n",
       " [['аооборонэнергофилиал'], ['акббрроао']],\n",
       " [['ип'], ['бедняковнв']],\n",
       " [['коммерческиибанкдолинскакционерноеобщество'], ['ооорадиодачаархангельск']],\n",
       " [['ип'], ['еленчинигорьвасильевич'], ['акционерноеобществоюникредитбанк']],\n",
       " [['ип'], ['пазыловашахнозахон'], ['дорожконатальявикторовна']],\n",
       " [['ип'],\n",
       "  ['цуцкихев'],\n",
       "  ['акционерныикоммерческиибанкбанкразвитиярегионаоткрытоеакционерноеобщество']],\n",
       " [['ип'],\n",
       "  ['обухованатальяпетровна'],\n",
       "  ['коммерческиибанкальтабанкзакрытоеакционерноеобщество']],\n",
       " [['индивидуальныипредприниматель'],\n",
       "  ['заицевсергеиалександрович'],\n",
       "  ['троховмаксимевгеньевич']],\n",
       " [['ооофлаер']],\n",
       " [['ип'],\n",
       "  ['эгембердиуулумухаммад'],\n",
       "  ['коммерческиибанкохотныирядобществосограниченноиответственностью']],\n",
       " [['ооофронтмен'],\n",
       "  ['акционерныикоммерческиибанкразвитиялесноипромышленностиоткрытоеакционерноеобщество']],\n",
       " [['уральскиифилиалбанкгородакционерноеобщество']],\n",
       " [['технологииростаооо'],\n",
       "  ['московскоуральскииакционерныикоммерческиибанкакционерноеобщество']],\n",
       " [['ип'], ['харьковщенкосю'], ['индивидуальныипредприниматель'], ['тоноянам']],\n",
       " [['ип'], ['музыкана'], ['паобанкалександровскии']],\n",
       " [['асконсистемыпроектированияооо'],\n",
       "  ['северныинародныибанкакционерноеобществофилиалвгухта']],\n",
       " [['ип'], ['ураевскаялюдмилавладимировна']],\n",
       " [['ип'], ['мановаа'], ['ооовсб']],\n",
       " [['акционерныикоммерческиибанкпробизнесбанкоткрытоеакционерноеобщество']],\n",
       " [['обществосограниченноиответственностьюголденблюз']],\n",
       " [],\n",
       " [['оаовкб']],\n",
       " [['муниципальноеунитарноемногоотраслевоепредприятиекоммунальногохозяиствалучевогосельскогопоселениялабинскогораиона'],\n",
       "  ['платежнаянебанковскаякредитнаяорганизацияинэкообществосограниченноиответственностью']],\n",
       " [['обществосограниченноиответственностьюсмартакадемия'],\n",
       "  ['акционерноеобществорунэтбанк']],\n",
       " [['потаповвладимирвикторович'],\n",
       "  ['коммерческиибанктранспортныиобществосограниченноиответственностью']],\n",
       " [['аобанкворонеж']],\n",
       " [['дальневосточноепредставительствовгородехабаровске'], ['филиалкбрбаооо']],\n",
       " [['паоокс']],\n",
       " [['ип'], ['любченкотатьянавладимировна'], ['акционерноеобществовологдабанк']],\n",
       " [['ип'], ['чачанидзебт'], ['публичноеакционерноеобществобыстробанк']],\n",
       " [['акционерныикоммерческиибанкстратегияпубличноеакционерноеобщество']],\n",
       " [['ип'],\n",
       "  ['одинцовсю'],\n",
       "  ['обществосограниченноиответственностьюкоммерческиибанкфинансовыикапитал']],\n",
       " [['ооогт'], ['акционерноеобществокоммерческиибанкассоциация']],\n",
       " [['московскиифилиалобществасограниченноиответственностьюцентрперспективныхинвестициигмосквагмоскваулкиевскаяфилиалюридическоголица'],\n",
       "  ['заомаб']],\n",
       " [['клишинмихаилалексеевич']],\n",
       " [['филиалоаовкбгоренбург']],\n",
       " [['акционерноеобществонебанковскаякредитнаяорганизациясетеваярасчетнаяпалата'],\n",
       "  ['лкиню']],\n",
       " [['оооекапроцессинг'],\n",
       "  ['коммерческиибанкмаксимаобществосограниченноиответственностью']],\n",
       " [['обществосограниченноиответственностьюнаучнопроизводственноепредприятиевакэто'],\n",
       "  ['коммерческиибанкнефтяноиальянспубличноеакционерноеобщество']],\n",
       " [['дроздоваанастасияюрьевна'], ['филиалоаокбстроикредитгсыктывкар']],\n",
       " [['индивидуальныипредприниматель'], ['ураевскаялюдмилавладимировна']],\n",
       " [['ип'], ['цыкунанатолиианатольевич']],\n",
       " [['ип'],\n",
       "  ['эгамбердиевшг'],\n",
       "  ['обществосограниченноиответственностьюмонолиткб']],\n",
       " [['акционерноеобществобмбанк']],\n",
       " [['ооолимпак'], ['аогутабанк']],\n",
       " [['ип'], ['москаленковикторолегович'], ['шитовав']],\n",
       " [['филиалуральскииумбанкобществасограниченноиответственностьюгекатеринбург']],\n",
       " [['нпоэнергияооо'],\n",
       "  ['публичноеакционерноеобществоакционерныикоммерческиибанкбалтика']],\n",
       " [['коммерческиибанкмастбанкоткрытоеакционерноеобщество']],\n",
       " [['индивидуальныипредприниматель'],\n",
       "  ['коровкинмаксимвладимирович'],\n",
       "  ['коммерческиибанкбумбанкобществосограниченноиответственностью']],\n",
       " [['оооконтактпд']],\n",
       " [['ип'], ['чукиндмитрииевгеньевич']],\n",
       " [['оообрендхаус'],\n",
       "  ['коммерческиибанкроссиискиипромышленныибанкобществосограниченноиответственностью']],\n",
       " [['обществосограниченноиответственностьюзооцентраиболитн'],\n",
       "  ['костюковевгениивикторович']],\n",
       " [['калининаалександравладимировна']],\n",
       " [['ип'], ['окуджаваиа'], ['аорфкбанк']],\n",
       " [['ип'], ['эиналовилхамфатуллахоглы']],\n",
       " [['индивидуальныипредприниматель'], ['вовкеленавладимировна']],\n",
       " [['тдцбэбичарликлубооо']],\n",
       " [['омельяненколюдмилаанатольевна'],\n",
       "  ['акционерныикоммерческиибанкнациональныизалоговыибанкоткрытоеакционерноеобщество']],\n",
       " [['мартыноввд'],\n",
       "  ['индивидуальныипредприниматель'],\n",
       "  ['эрзбиевнурадисаидалиевич']],\n",
       " [['ип'], ['ровсирожиддиндилшодович']],\n",
       " [['чучастноеобразовательноеучреждениедополнительногопрофессиональногообразованиясамарскииобластноиучебныикомбинат']],\n",
       " [['фгупросморпортфилиал']],\n",
       " [['аочукотснаб'],\n",
       "  ['небанковскаякредитнаяорганизацияэлекснетакционерноеобщество']],\n",
       " [['ип'], ['плотниковсергеианатольевич']],\n",
       " [['ип'], ['яковлеваиа']],\n",
       " [['ип'],\n",
       "  ['саломовабдумуминсаифиддинович'],\n",
       "  ['акционерноеобществокоммерческиибанкприобье']],\n",
       " [['кббфгкредитооо'], ['ип'], ['ысаковада']],\n",
       " [['ип'], ['иисаджеикобндалажи'], ['ип'], ['мелконянараикмгерович']],\n",
       " [['минимусооо']],\n",
       " [['мупводоканал'], ['коммерческиибанкгагаринскииакционерноеобщество']],\n",
       " [['индивидуальныипредприниматель'],\n",
       "  ['лысенковандреивладимирович'],\n",
       "  ['коммерческиибанкохотныирядобществосограниченноиответственностью']],\n",
       " [['акционерныикоммерческиибанкпробизнесбанкоткрытоеакционерноеобщество']],\n",
       " [['ип'], ['иылдызмуса'], ['кббмбооо']],\n",
       " [['ип'], ['эрмекбаеваазизамаксутовна']],\n",
       " [['мбумуниципальноебюджетноеучреждениекультурыраионныидомкультурыметаллург'],\n",
       "  ['полноенаименованиекатавивановскиифилиалакционерногокоммерческогобанкачелиндбанкпубличногоакционерногообществасокращенноенаименованиекатавивановскиифилиалпаочелиндбанк']],\n",
       " [['ип'], ['устинкинконстантинанатольевич'], ['красновярославпетрович']],\n",
       " [['индивидуальныипредприниматель'],\n",
       "  ['евсееваав'],\n",
       "  ['пвбанкзакрытоеакционерноеобщество']],\n",
       " [['ооовиталанстрои']],\n",
       " [['ип'], ['щербакованатальяалександровна']],\n",
       " [['индивидуальныипредприниматель'],\n",
       "  ['кузнецовалексеисергеевич'],\n",
       "  ['ооонкопэипалру']],\n",
       " [['ип'],\n",
       "  ['арефьевалексеивикторович'],\n",
       "  ['филиалооокбфинансовыикапиталгкандалакша']],\n",
       " [['индивидуальныипредприниматель'],\n",
       "  ['снигирввв'],\n",
       "  ['акционерноеобществокоммерческиибанкситибанк']],\n",
       " [['ип'], ['евсеевааннавадимовна']],\n",
       " [['ип'], ['чижоваф']],\n",
       " [['частноеохранноепредприятиесамеиооо'],\n",
       "  ['публичноеакционерноеобществобанкюгра']],\n",
       " [['ип'], ['турукинмаксимюрьевич']],\n",
       " [['коммерческиибанкренессанскредитобществосограниченноиответственностью']],\n",
       " [['акционерноеобществошишеджамаутомативрус'],\n",
       "  ['акционерноеобществоэмюэфджибанкевразия']],\n",
       " [],\n",
       " [['аогруппакомпанииброкинвестсервис'], ['филиалаопробанкгбарнаулпрктленина']],\n",
       " [['обществосограниченноиответственностьюкбсистема'],\n",
       "  ['белгородскиифилиалакционерногообществацентринформ']],\n",
       " [['ооонемецкиидом'], ['аорфкбанк']],\n",
       " [['аовладбизнесбанк'], ['протасованп']],\n",
       " [],\n",
       " [['индивидуальныипредприниматель'],\n",
       "  ['гарибянкж'],\n",
       "  ['обществосограниченноиответственностьюкоммерческиибанкагросоюз']],\n",
       " [['ип'], ['илюхинвладимиралексеевич']],\n",
       " [['обществосограниченноиответственностьюавтомак'],\n",
       "  ['акционерныикоммерческиибанкбанкразвитиярегионаоткрытоеакционерноеобщество']],\n",
       " [['индивидуальныипредприниматель'], ['рукосуевав']],\n",
       " [['публичноеакционерноеобществобанкфинансоваякорпорацияоткрытие'],\n",
       "  ['гкфхдорошенкоалександрниколаевич']],\n",
       " [['ооокбаиманибанк']],\n",
       " [['блудовсм']],\n",
       " [['ип'], ['жидковандреимихаилович']],\n",
       " [['ип'], ['василянпетросмаисович'], ['ооокбразвитие']],\n",
       " [['ип'],\n",
       "  ['ильчукмаргаритаалександровна'],\n",
       "  ['акционерноеобществокоммерческиибанкиваново']],\n",
       " [['аоновоуренгоискииаквапарк']],\n",
       " [],\n",
       " [['оооуран']],\n",
       " [],\n",
       " [['индивидуальныипредприниматель'],\n",
       "  ['контеевкю'],\n",
       "  ['кбтранснациональныибанкооо']],\n",
       " [['индивидуальныипредприниматель'], ['скворцовсв']],\n",
       " [['макушинскиимногопрофильныифилиалгосударственногобюджетногопрофессиональногообразовательногоучреждениякурганскиибазовыимедицинскииколледжфилиалюридическоголица'],\n",
       "  ['филиалмастербанкоаогсанктпетербург']],\n",
       " [['индивидуальныипредприниматель'],\n",
       "  ['сергеевалв'],\n",
       "  ['коммерческиибанкмиллениумбанкзакрытоеакционерноеобщество']],\n",
       " [['миндзяксергеистепанович']],\n",
       " [['индивидуальныипредприниматель'], ['джаноянюа']],\n",
       " [['ип'], ['захаровтимургригорьевич']],\n",
       " [['аоаитекоинвест'],\n",
       "  ['публичноеакционерноеобществоакционерныикоммерческиибанкбалтика']],\n",
       " [['индивидуальныипредприниматель'],\n",
       "  ['новиковсю'],\n",
       "  ['кбтранснациональныибанкооо']],\n",
       " [['оаобанкпсб']],\n",
       " [['ооофаворитзет']],\n",
       " [['ип'],\n",
       "  ['мановалександрандреевич'],\n",
       "  ['публичноеакционерноеобществоневскиинародныибанк']],\n",
       " [['семеиныицентржарптицаооо'], ['представительствоаоюникредитбанкавгомске']],\n",
       " [['индивидуальныипредприниматель'], ['эрнстеа'], ['ооокбадмиралтеискии']],\n",
       " [['индивидуальныипредприниматель'],\n",
       "  ['орловвасилиисергеевич'],\n",
       "  ['ип'],\n",
       "  ['дубовицкаянаталиявасильевна']],\n",
       " [['публичноеакционерноеобществоекатеринбургскиимуниципальныибанк']],\n",
       " [['ооорир'], ['ооокбмежтрастбанк']],\n",
       " [['реммашооо'], ['шувалованадеждаалексеевна']],\n",
       " [['аомонзалесторгнао']],\n",
       " [['акционерныикоммерческиибанклегионакционерноеобщество']],\n",
       " [['ип'], ['горбенкоалександрвладимирович'], ['паобанксанктпетербург']],\n",
       " [['индивидуальныипредприниматель'], ['иосипчукаа'], ['кбинтеркоммерцооо']],\n",
       " [['акционерныикоммерческиибанкбанкразвитиярегионаоткрытоеакционерноеобщество'],\n",
       "  ['ип'],\n",
       "  ['дмитриеваиа']],\n",
       " [['ооокбуралфинанс']],\n",
       " [['обществосограниченноиответственностьюбанкраунд']],\n",
       " [['охраннаяорганизациямитазооо'], ['заомаб']],\n",
       " [['индивидуальныипредприниматель'],\n",
       "  ['чесноковаюв'],\n",
       "  ['обществосограниченноиответственностьюплатобанк']],\n",
       " [['обществосограниченноиответственностьюртк']],\n",
       " [],\n",
       " [['государственноебюджетноеучреждениеакбулакскоераионноеуправлениеветеринарии']]]"
      ]
     },
     "execution_count": 23,
     "metadata": {},
     "output_type": "execute_result"
    }
   ],
   "source": [
    "correct_result"
   ]
  },
  {
   "cell_type": "markdown",
   "id": "c9c39fad",
   "metadata": {},
   "source": [
    "### Поднимаем модельку с диска"
   ]
  },
  {
   "cell_type": "code",
   "execution_count": 10,
   "id": "f6517658",
   "metadata": {},
   "outputs": [],
   "source": [
    "# поднимаем модельку из контрольной точки\n",
    "\n",
    "model_path = 'models/ner_dpbert_3epoch_95f1ORG_99acc.bin'\n",
    "# model_path = 'models/ner_dpbert_20epoch_93f1_97acc.bin/checkpoint-625000'\n",
    "\n",
    "model_checkpoint = BASE_DIR.joinpath(model_path)\n",
    "\n",
    "\n",
    "\n",
    "model = AutoModelForTokenClassification.from_pretrained(model_checkpoint)\n",
    "tokenizer = AutoTokenizer.from_pretrained(model_checkpoint)"
   ]
  },
  {
   "cell_type": "code",
   "execution_count": 13,
   "id": "b3909ee6",
   "metadata": {
    "scrolled": true
   },
   "outputs": [
    {
     "name": "stdout",
     "output_type": "stream",
     "text": [
      "[CLS]           B-INNKPP  \n",
      "поставщик       O         \n",
      "о               B-ORG     \n",
      "##о             B-ORG     \n",
      "нижегород       I-ORG     \n",
      "##ская          I-ORG     \n",
      "региональная    I-ORG     \n",
      "общественная    I-ORG     \n",
      "организация     I-ORG     \n",
      "право           I-ORG     \n",
      "##во            I-ORG     \n",
      "##и             I-ORG     \n",
      "поддержки       I-ORG     \n",
      "быстр           I-ORG     \n",
      "##ы             I-ORG     \n",
      "##и             I-ORG     \n",
      "легитим         I-ORG     \n",
      "##ны            I-ORG     \n",
      "##и             I-ORG     \n",
      "арбитраж        I-ORG     \n",
      "споров          O         \n",
      "инн             O         \n",
      "к               O         \n",
      "##пп            O         \n",
      "субподряд       O         \n",
      "##чик           O         \n",
      "601             B-INNKPP  \n",
      "##500           B-INNKPP  \n",
      "##72            B-INNKPP  \n",
      "##4             B-INNKPP  \n",
      "/               O         \n",
      "611             B-INNKPP  \n",
      "##501           B-INNKPP  \n",
      "##001           B-INNKPP  \n",
      "тел             O         \n",
      ".               O         \n",
      "+               B-STAT    \n",
      "8               B-STAT    \n",
      "-               B-STAT    \n",
      "(               B-STAT    \n",
      "845             I-STAT    \n",
      ")               I-STAT    \n",
      "-               I-STAT    \n",
      "147             I-STAT    \n",
      "-               I-STAT    \n",
      "572             I-STAT    \n",
      "##6             B-STAT    \n",
      "счет            O         \n",
      "№               O         \n",
      "421             B-RSKS    \n",
      "##600           B-RSKS    \n",
      "##59            B-RSKS    \n",
      "##89            B-RSKS    \n",
      "##97            B-RSKS    \n",
      "##0             B-RSKS    \n",
      "##83            B-RSKS    \n",
      "##93            B-RSKS    \n",
      "##43            B-RSKS    \n",
      "##9             B-RSKS    \n",
      "филиал          O         \n",
      "банка           O         \n",
      "з               O         \n",
      "-               O         \n",
      "чи              O         \n",
      "##к             O         \n",
      "коммерчески     B-ORG     \n",
      "##и             B-ORG     \n",
      "банк            I-ORG     \n",
      "\"               I-ORG     \n",
      "компания        I-ORG     \n",
      "рознич          I-ORG     \n",
      "##ного          I-ORG     \n",
      "кредитования    I-ORG     \n",
      "\"               I-ORG     \n",
      "(               I-ORG     \n",
      "открытое        I-ORG     \n",
      "акционерное     I-ORG     \n",
      "общество        I-ORG     \n",
      ")               I-ORG     \n",
      "1831            B-INNKPP  \n",
      "##16            B-INNKPP  \n",
      "##68            B-INNKPP  \n",
      "##602           B-INNKPP  \n",
      "##8             B-INNKPP  \n",
      "/               O         \n",
      "1632            B-INNKPP  \n",
      "##01            B-INNKPP  \n",
      "##001           B-INNKPP  \n",
      "бик             O         \n",
      "040             B-STAT    \n",
      "##55            B-STAT    \n",
      "##72            B-RSKS    \n",
      "##59            B-STAT    \n",
      "адрес           O         \n",
      "банка           O         \n",
      "подрядчик       O         \n",
      "чуваш           B-LOC     \n",
      "##ская          B-LOC     \n",
      "республика      I-LOC     \n",
      "[SEP]           O         \n"
     ]
    }
   ],
   "source": [
    "label_list = ['O', 'B-PER', 'I-PER', 'B-ORG', 'I-ORG', 'B-LOC', 'I-LOC', 'B-INNKPP', 'I-INNKPP', 'B-RSKS', 'I-RSKS', 'B-STAT', 'I-STAT']\n",
    "\n",
    "\n",
    "tokens = tokenizer(text, return_tensors='pt')\n",
    "tokens = {k: v.to(model.device) for k, v in tokens.items()}\n",
    "\n",
    "with torch.no_grad():\n",
    "    pred = model(**tokens)\n",
    "# pred.logits.shape\n",
    "\n",
    "\n",
    "indices = pred.logits.argmax(dim=-1)[0].cpu().numpy()\n",
    "token_text = tokenizer.convert_ids_to_tokens(tokens['input_ids'][0])\n",
    "for t, idx in zip(token_text, indices):\n",
    "    print(f'{t:15s} {label_list[idx]:10s}')"
   ]
  },
  {
   "cell_type": "markdown",
   "id": "afbc3670",
   "metadata": {},
   "source": [
    "### Проверяем работоспособность модели"
   ]
  },
  {
   "cell_type": "code",
   "execution_count": 17,
   "id": "a88a7992",
   "metadata": {},
   "outputs": [],
   "source": [
    "texts = [\n",
    "        'Ромашка-профиль, ООО  кор. счет 30101810300000000709 9204000492/92040001  \"ЛИТЛТОН\",ООО 299011 '\\\n",
    "        'г. Севастополь ул. Адмирала Октябрьского д. 13 офис 1 тел (0692) 671710 ‚  в '\\\n",
    "        'Банк вфыSSF d АО \"ТААТТА\", г. Иркутск БИК 049805709 40702810500000007563   по ОКПО',\n",
    "        'валюта наименование код Российская рубль 643',\n",
    "        'Инвестор ООО ДЮКА ИНН КПП 564500394 / 231201001 624134, Свердловская обл, г Новоуральск, ул Чурина, д 12/2, оф 20 рс 44468253734659494408 Филиал банка П-щик АКЦИОНЕРНОЕ ОБЩЕСТВО КОММЕРЧЕСКИЙ БАНК \"КУБАНСКИЙ ТОРГОВЫЙ БАНК\" ',\n",
    "        'СЕВЕРНОЕ ЛИНЕЙНОЕ ПРОИЗВОДСТВЕННОЕ УПРАВЛЕНИЕ МАГИСТРАЛЬНЫХ ГАЗОПРОВОДОВ (СЕВЕРНОЕ ЛПУМГ) 631226435882 ГОРОД МОСКВА УЛИЦА УСАЧЁВА ДОМ 24 Филиал банка Плательщик ООО Банк \"Саратов\" тел. 8 344 741 9083 БИК ',\n",
    "        'ОБЩЕСТВО С ОГРАНИЧЕННОЙ ОТВЕТСТВЕННОСТЬЮ \"МАКТЕЛ\" ИНН П-щик 6330058874',\n",
    "        'исполнитель МКУ ЕДДС Кемеровская область, город Кемерово счет № 43209075037153306310 банк ОТКРЫТОЕ АКЦИОНЕРНОЕ ОБЩЕСТВО \"ВОСТОККРЕДИТБАНК\" к/с 30732437717823862544 тел. +7 (820) 529 92 19',\n",
    "        'ООО АНТ-СОФТ ИНН/КПП 3911800906 / 431201001 Банк ИНН КПП 5519504954 / тел. +8-( 873) -958-9191 БИК 042306734',\n",
    "        'З-чик АО ПРОИЗВОДСТВЕННАЯ КОМПАНИЯ СТАНКОПРЕСС ИНН Покупатель 770856524 ОБЛАСТЬ АМУРСКАЯ ГОРОД БЛАГОВЕЩЕНСК УЛИЦА ЛЕНИНА 181 Банк Подрядчик КБ \"Русский ипотечный банк\" (ООО) тел. +7 (982) 099 40 08 045402896',\n",
    "        'МУП МП ГОРОДСКОГО ОКРУГА САМАРА КРАСНОГЛИНСКИЕ БАНИ +7-830-199-8031 Адрес филиала банка Брянская область, город Новозыбков Банк Инвестор ИНН/КПП 100601303468 / 632501001 корр. счет 30310411361955797442',\n",
    "        ]"
   ]
  },
  {
   "cell_type": "markdown",
   "id": "680fd76c",
   "metadata": {},
   "source": [
    "## Под капотом"
   ]
  },
  {
   "cell_type": "markdown",
   "id": "3d710acb",
   "metadata": {},
   "source": [
    "### Получаем теги из вывода модели"
   ]
  },
  {
   "cell_type": "code",
   "execution_count": 18,
   "id": "1956e05d",
   "metadata": {},
   "outputs": [
    {
     "name": "stdout",
     "output_type": "stream",
     "text": [
      "Инвестор МУП МП ГОРОДСКОГО ОКРУГА САМАРА КРАСНОГЛИНСКИЕ БАНИ Адрес филиала банка Брянская область, город Новозыбков Банк Инвестор ИНН/КПП 100601303468 / 632501001 тел. +7-830-199-8031 корр. счет 30310411361955797442\n"
     ]
    },
    {
     "data": {
      "text/html": [
       "<table border=\"1\" class=\"dataframe\">\n",
       "  <thead>\n",
       "    <tr style=\"text-align: right;\">\n",
       "      <th></th>\n",
       "      <th>Сущность</th>\n",
       "      <th>Тег</th>\n",
       "    </tr>\n",
       "  </thead>\n",
       "  <tbody>\n",
       "    <tr>\n",
       "      <th>0</th>\n",
       "      <td>инвестор</td>\n",
       "      <td>O</td>\n",
       "    </tr>\n",
       "    <tr>\n",
       "      <th>1</th>\n",
       "      <td>муп мп городского округа самара красноглинские</td>\n",
       "      <td>ORG</td>\n",
       "    </tr>\n",
       "    <tr>\n",
       "      <th>2</th>\n",
       "      <td>бани</td>\n",
       "      <td>LOC</td>\n",
       "    </tr>\n",
       "    <tr>\n",
       "      <th>3</th>\n",
       "      <td>адрес филиала банка</td>\n",
       "      <td>O</td>\n",
       "    </tr>\n",
       "    <tr>\n",
       "      <th>4</th>\n",
       "      <td>брянская область, город новозыбков</td>\n",
       "      <td>LOC</td>\n",
       "    </tr>\n",
       "    <tr>\n",
       "      <th>5</th>\n",
       "      <td>банк инвестор инн / кпп</td>\n",
       "      <td>O</td>\n",
       "    </tr>\n",
       "    <tr>\n",
       "      <th>6</th>\n",
       "      <td>100601303468</td>\n",
       "      <td>INNKPP</td>\n",
       "    </tr>\n",
       "    <tr>\n",
       "      <th>7</th>\n",
       "      <td>/</td>\n",
       "      <td>O</td>\n",
       "    </tr>\n",
       "    <tr>\n",
       "      <th>8</th>\n",
       "      <td>632501001</td>\n",
       "      <td>INNKPP</td>\n",
       "    </tr>\n",
       "    <tr>\n",
       "      <th>9</th>\n",
       "      <td>тел.</td>\n",
       "      <td>O</td>\n",
       "    </tr>\n",
       "    <tr>\n",
       "      <th>10</th>\n",
       "      <td>+ 7 - 830 - 199 -</td>\n",
       "      <td>STAT</td>\n",
       "    </tr>\n",
       "    <tr>\n",
       "      <th>11</th>\n",
       "      <td>8031</td>\n",
       "      <td>STAT</td>\n",
       "    </tr>\n",
       "    <tr>\n",
       "      <th>12</th>\n",
       "      <td>корр. счет</td>\n",
       "      <td>O</td>\n",
       "    </tr>\n",
       "    <tr>\n",
       "      <th>13</th>\n",
       "      <td>30310411361955797442</td>\n",
       "      <td>RSKS</td>\n",
       "    </tr>\n",
       "  </tbody>\n",
       "</table>"
      ],
      "text/plain": [
       "<IPython.core.display.HTML object>"
      ]
     },
     "metadata": {},
     "output_type": "display_data"
    }
   ],
   "source": [
    "\n",
    "\n",
    "text = 'Инвестор МУП МП ГОРОДСКОГО ОКРУГА САМАРА КРАСНОГЛИНСКИЕ БАНИ Адрес филиала банка Брянская область, город Новозыбков Банк Инвестор ИНН/КПП 100601303468 / 632501001 тел. +7-830-199-8031 корр. счет 30310411361955797442'\n",
    "\n",
    "\n",
    "# получаем результаты от модельки\n",
    "label_list = ['O', 'B-PER', 'I-PER', 'B-ORG', 'I-ORG', 'B-LOC', 'I-LOC', 'B-INNKPP', 'I-INNKPP', 'B-RSKS', 'I-RSKS', 'B-STAT', 'I-STAT']\n",
    "\n",
    "print(text)\n",
    "tokens = tokenizer(text, return_tensors='pt')\n",
    "tokens = {k: v.to(model.device) for k, v in tokens.items()}\n",
    "\n",
    "with torch.no_grad():\n",
    "    pred = model(**tokens)\n",
    "\n",
    "indices = pred.logits.argmax(dim=-1)[0].cpu().numpy()\n",
    "token_text = tokenizer.convert_ids_to_tokens(tokens['input_ids'][0])\n",
    "# print(indices)\n",
    "# переводим результаты модельки в финальные теги\n",
    "tokens = NerTokes(token_text, indices, label_list)\n",
    "\n",
    "# получаем пары: слово-токены\n",
    "spans = tokens.join_tokens()\n",
    "# выбираем нужный токен для слова\n",
    "spans = tokens.normalize_tokens()\n",
    "\n",
    "# объединяем I-токены\n",
    "tokens.join_i_tag()\n",
    "# объединяем BI-токены\n",
    "tokens.join_bi_tag()\n",
    "# финальные теги\n",
    "spans = tokens.get_final_tags()\n",
    "\n",
    "\n",
    "df = pd.DataFrame(spans, columns=['Тег', 'Сущность'])\n",
    "\n",
    "display(HTML(df[['Сущность', 'Тег']].to_html()))"
   ]
  },
  {
   "cell_type": "code",
   "execution_count": 71,
   "id": "569c3ba1",
   "metadata": {},
   "outputs": [
    {
     "ename": "NameError",
     "evalue": "name 'nlp_res' is not defined",
     "output_type": "error",
     "traceback": [
      "\u001b[0;31m---------------------------------------------------------------------------\u001b[0m",
      "\u001b[0;31mNameError\u001b[0m                                 Traceback (most recent call last)",
      "\u001b[0;32m<ipython-input-71-9dd5644891c7>\u001b[0m in \u001b[0;36m<module>\u001b[0;34m\u001b[0m\n\u001b[1;32m      4\u001b[0m \u001b[0;34m\u001b[0m\u001b[0m\n\u001b[1;32m      5\u001b[0m \u001b[0;34m\u001b[0m\u001b[0m\n\u001b[0;32m----> 6\u001b[0;31m \u001b[0;32mfor\u001b[0m \u001b[0mr\u001b[0m \u001b[0;32min\u001b[0m \u001b[0mnlp_res\u001b[0m\u001b[0;34m:\u001b[0m\u001b[0;34m\u001b[0m\u001b[0;34m\u001b[0m\u001b[0m\n\u001b[0m\u001b[1;32m      7\u001b[0m     \u001b[0mtoken_text_\u001b[0m\u001b[0;34m.\u001b[0m\u001b[0mappend\u001b[0m\u001b[0;34m(\u001b[0m\u001b[0mr\u001b[0m\u001b[0;34m[\u001b[0m\u001b[0;34m'word'\u001b[0m\u001b[0;34m]\u001b[0m\u001b[0;34m)\u001b[0m\u001b[0;34m\u001b[0m\u001b[0;34m\u001b[0m\u001b[0m\n\u001b[1;32m      8\u001b[0m     \u001b[0mindices_\u001b[0m\u001b[0;34m.\u001b[0m\u001b[0mappend\u001b[0m\u001b[0;34m(\u001b[0m\u001b[0mint\u001b[0m\u001b[0;34m(\u001b[0m\u001b[0mr\u001b[0m\u001b[0;34m[\u001b[0m\u001b[0;34m'entity'\u001b[0m\u001b[0;34m]\u001b[0m\u001b[0;34m.\u001b[0m\u001b[0msplit\u001b[0m\u001b[0;34m(\u001b[0m\u001b[0;34m'_'\u001b[0m\u001b[0;34m)\u001b[0m\u001b[0;34m[\u001b[0m\u001b[0;34m-\u001b[0m\u001b[0;36m1\u001b[0m\u001b[0;34m]\u001b[0m\u001b[0;34m)\u001b[0m\u001b[0;34m)\u001b[0m\u001b[0;34m\u001b[0m\u001b[0;34m\u001b[0m\u001b[0m\n",
      "\u001b[0;31mNameError\u001b[0m: name 'nlp_res' is not defined"
     ]
    }
   ],
   "source": [
    "token_text_ = ['[CLS]',]\n",
    "indices_ = [0]\n",
    "pos = [(-1,-1)]\n",
    "\n",
    "\n",
    "for r in nlp_res:\n",
    "    token_text_.append(r['word'])\n",
    "    indices_.append(int(r['entity'].split('_')[-1]))\n",
    "    pos.append((r['start'], r['end']))\n",
    "    print(r)\n",
    "    \n",
    "    \n",
    "token_text_.append('[SEP]')\n",
    "indices_.append(0)\n",
    "pos.append((-1,-1))"
   ]
  },
  {
   "cell_type": "code",
   "execution_count": 102,
   "id": "6e7152b5",
   "metadata": {},
   "outputs": [],
   "source": [
    "scores = ['-1', 0.9919736385345459, 0.5316126942634583, 0.892160952091217, 0.722357988357544, 0.47433948516845703, 0.5830104351043701, 0.6114307045936584, 0.6053929328918457, 0.641360878944397, 0.7186465859413147, 0.9984973669052124, 0.9993856549263, 0.9989122152328491, 0.9997438788414001, 0.986339807510376, 0.9700685739517212, 0.9955838322639465, 0.9995989203453064, 0.9998665452003479, 0.9999608397483826, 0.6930971741676331, 0.5729564428329468, 0.4943584203720093, 0.8895936012268066, 0.8399950265884399, 0.7741530537605286, 0.9995461106300354, 0.9993852376937866, 0.9993306994438171, 0.9994500279426575, 0.8683413863182068, 0.7902174592018127, 0.9883625507354736, 0.9969802498817444, 0.9994044899940491, 0.9985039830207825, 0.901045560836792, 0.990676999092102, 0.9699495434761047, 0.9867011308670044, 0.9893844127655029, 0.9975012540817261, 0.9900829792022705, 0.9992552399635315, 0.9979585409164429, 0.996084988117218, 0.9918866157531738, 0.9902769923210144, 0.9987055659294128, 0.997890830039978, 0.9774914383888245, 0.5286502242088318, 0.6814475655555725, 0.9188513159751892, 0.9091649651527405, 0.9992742538452148, 0.9990254044532776, 0.9953714609146118, 0.9992408156394958, 0.9985008835792542, 0.9965887069702148, 0.9980633854866028, 0.9998336434364319, 0.9998230338096619, 0.9999509453773499, 0.9999952912330627, 0.9995056986808777, 0.998753547668457, 0.9994767308235168, 0.9999637603759766, 0.9999855756759644, 0.9995564818382263, 0.9993045330047607, 0.9999819397926331, 0.9999921321868896, 0.9999508857727051, 0.9223501086235046, 0.6846923232078552, 0.9747717976570129, 0.745853841304779, 0.7317254543304443, 0.9069281816482544, 0.9970802068710327, 0.9982325434684753, 0.9950548410415649, 0.990630030632019, 0.9905487895011902, 0.995449423789978, 0.991654634475708, 0.9420721530914307, 0.9198526740074158, 0.9682608246803284, 0.996670663356781, 0.9519242644309998, 0.778010368347168, 0.6670175790786743, 0.5139511227607727, 0.822007954120636, 0.7715737819671631, 0.9972951412200928, 0.9951765537261963, 0.999193012714386, 0.9947410821914673, 0.9959551095962524, 0.9999322295188904, 0.9988448023796082, 0.9690274596214294, '-1']\n",
    "positions = [(-1, -1), (0, 9), (10, 12), (13, 16), (16, 19), (20, 22), (22, 25), (26, 28), (28, 33), (34, 37), (38, 46), (47, 50), (50, 52), (52, 54), (54, 56), (57, 58), (58, 60), (61, 70), (71, 75), (75, 77), (77, 80), (81, 85), (86, 89), (89, 90), (90, 92), (92, 93), (94, 102), (103, 104), (105, 116), (116, 117), (118, 134), (135, 146), (146, 147), (148, 152), (153, 154), (154, 162), (162, 163), (164, 167), (167, 168), (168, 169), (169, 171), (172, 175), (175, 178), (178, 180), (180, 182), (183, 184), (185, 188), (188, 191), (191, 194), (195, 200), (201, 208), (209, 214), (215, 218), (218, 219), (219, 221), (221, 222), (223, 226), (226, 228), (228, 229), (229, 230), (231, 235), (235, 238), (238, 239), (240, 243), (243, 244), (244, 245), (246, 249), (250, 255), (255, 257), (257, 258), (258, 259), (260, 262), (263, 266), (266, 269), (269, 270), (271, 272), (273, 274), (275, 280), (281, 282), (283, 296), (296, 299), (299, 300), (301, 305), (306, 309), (309, 311), (311, 313), (313, 315), (315, 317), (317, 319), (319, 321), (321, 323), (323, 325), (325, 326), (327, 330), (330, 331), (332, 334), (334, 335), (335, 337), (337, 338), (338, 340), (341, 344), (344, 345), (346, 347), (347, 348), (349, 352), (353, 356), (357, 359), (360, 362), (-1, -1)]"
   ]
  },
  {
   "cell_type": "code",
   "execution_count": 105,
   "id": "de817dca",
   "metadata": {},
   "outputs": [],
   "source": [
    "import numpy as np\n",
    "def __get_single_tag(tags, sc):\n",
    "    \"\"\"\n",
    "    Предварительный выбор тэга\n",
    "    \"\"\"\n",
    "    return tags[np.argmax(sc)]\n",
    "\n",
    "sp = \"\"\n",
    "spans = []\n",
    "tags = []\n",
    "i = 0\n",
    "conj = '##'\n",
    "word_pos = []\n",
    "scs = []\n",
    "for t, idx, sc, pos in zip(token_text, indices, scores, positions):\n",
    "    if t not in ['[CLS]', '[SEP]']:\n",
    "        if t[:2] == conj:\n",
    "            sp += t[2:]\n",
    "            tags.append(label_list[idx])\n",
    "            scs.append(sc)\n",
    "            wp[1] = pos[1]\n",
    "        else:\n",
    "            sp += f' {t}'\n",
    "            tags.append(label_list[idx])\n",
    "            scs.append(sc)\n",
    "            wp = [pos[0], pos[1]]\n",
    "        if i < len(token_text) - 1:\n",
    "            if token_text[i + 1][:2] != conj:\n",
    "                spans.append([sp.strip(), __get_single_tag(tags, sc)])\n",
    "                word_coordinates.append(wp)\n",
    "                sp = \"\"\n",
    "                sc = []\n",
    "                wp = []\n",
    "                tags = []\n",
    "    i += 1"
   ]
  },
  {
   "cell_type": "code",
   "execution_count": 52,
   "id": "88bdb970",
   "metadata": {},
   "outputs": [
    {
     "data": {
      "text/html": [
       "<div class=\"tex2jax_ignore\" style=\"white-space: pre-wrap\">Подрядчик ИП <span style=\"padding: 2px; border-radius: 4px; border: 1px solid #bbdefb; background: #e3f2fd\">Левина Элина<span style=\"vertical-align: middle; margin-left: 2px; font-size: 0.7em; color: #64b5f6;\">PER</span></span> <span style=\"padding: 2px; border-radius: 4px; border: 1px solid #ffcdd2; background: #ffebee\">Юрьевна ИНН<span style=\"vertical-align: middle; margin-left: 2px; font-size: 0.7em; color: #e57373;\">ORG</span></span> <span style=\"padding: 2px; border-radius: 4px; border: 1px solid #ffcdd2; background: #ffebee\">Зак<span style=\"vertical-align: middle; margin-left: 2px; font-size: 0.7em; color: #e57373;\">ORG</span></span>азчик <span style=\"padding: 2px; border-radius: 4px; border: 1px solid #ffe0b2; background: #fff3e0\">312341362<span style=\"vertical-align: middle; margin-left: 2px; font-size: 0.7em; color: #ffb74d;\">INNKPP</span></span> КПП Подрядчик <span style=\"padding: 2px; border-radius: 4px; border: 1px solid #ffe0b2; background: #fff3e0\">166001001<span style=\"vertical-align: middle; margin-left: 2px; font-size: 0.7em; color: #ffb74d;\">INNKPP</span></span> Банк <span style=\"padding: 2px; border-radius: 4px; border: 1px solid #ffcdd2; background: #ffebee\">Зак<span style=\"vertical-align: middle; margin-left: 2px; font-size: 0.7em; color: #e57373;\">ORG</span></span>-чик <span style=\"padding: 2px; border-radius: 4px; border: 1px solid #ffcdd2; background: #ffebee\">ОБЩЕСТВО С ОГРАНИЧЕННОЙ ОТВЕТСТВЕННОСТЬЮ КОММЕРЧЕСКИЙ БАНК &quot;РАЗВИТИЕ&quot;<span style=\"vertical-align: middle; margin-left: 2px; font-size: 0.7em; color: #e57373;\">ORG</span></span> ИНН/КПП <span style=\"padding: 2px; border-radius: 4px; border: 1px solid #ffe0b2; background: #fff3e0\">2443019371<span style=\"vertical-align: middle; margin-left: 2px; font-size: 0.7em; color: #ffb74d;\">INNKPP</span></span> / <span style=\"padding: 2px; border-radius: 4px; border: 1px solid #ffe0b2; background: #fff3e0\">470701001<span style=\"vertical-align: middle; margin-left: 2px; font-size: 0.7em; color: #ffb74d;\">INNKPP</span></span> Адрес филиала банка <span style=\"padding: 2px; border-radius: 4px; border: 1px solid #ffcdd2; background: #ffebee\">Зак<span style=\"vertical-align: middle; margin-left: 2px; font-size: 0.7em; color: #e57373;\">ORG</span></span>-чик <span style=\"padding: 2px; border-radius: 4px; border: 1px solid #c8e6c9; background: #e8f5e9\">614575, Пермский край, пгт Звездный, ул Ленина, д 1 литер г<span style=\"vertical-align: middle; margin-left: 2px; font-size: 0.7em; color: #66bb6a;\">LOC</span></span> Корреспондентский счет <span style=\"padding: 2px; border-radius: 4px; border: 1px solid #d7ccc8; background: #efebe9\">30402249475973413757<span style=\"vertical-align: middle; margin-left: 2px; font-size: 0.7em; color: #a1887f;\">RSKS</span></span> тел. 56-26-58 тел. <span style=\"padding: 2px; border-radius: 4px; border: 1px solid #d1c4e9; background: #ede7f6\">+7 323 401 50 18<span style=\"vertical-align: middle; margin-left: 2px; font-size: 0.7em; color: #9575cd;\">STAT</span></span></div>"
      ],
      "text/plain": [
       "<IPython.core.display.HTML object>"
      ]
     },
     "metadata": {},
     "output_type": "display_data"
    }
   ],
   "source": [
    "from fuzzysearch import find_near_matches\n",
    "spans = []\n",
    "for t in filter(lambda x: x[1] != 'O', df[['Сущность', 'Тег']].values):\n",
    "    for m in find_near_matches(t[0], text.lower().replace('й', 'и'), max_l_dist=2): #, max_deletions=1, max_insertions=1\n",
    "        \n",
    "        if \"\".join(m.matched.split()).replace('й', 'и') == \"\".join(t[0].split()):\n",
    "            spans.append((m.start, m.end, t[1]))\n",
    "show_box_markup(text, spans, palette=palette(PER=BLUE, ORG=RED, LOC=GREEN, INNKPP=ORANGE, STAT=PURPLE, RSKS=BROWN))"
   ]
  },
  {
   "cell_type": "markdown",
   "id": "d7bdf525",
   "metadata": {},
   "source": [
    "### Как выводит модель для сравнения с нашим выводом финтальных тегов"
   ]
  },
  {
   "cell_type": "code",
   "execution_count": 18,
   "id": "f753d0ef",
   "metadata": {},
   "outputs": [],
   "source": [
    "from transformers import pipeline\n",
    "model_path = 'models/ner_dpbert_7epoch_56f1ORG_96acc.bin'\n",
    "model_path = 'models/ner_dpbert_3epoch_95f1ORG_99acc.bin'\n",
    "# model_path = 'models/ner_dpbert_4epoch_99f1ORG_99acc.bin'\n",
    "\n",
    "model_checkpoint = BASE_DIR.joinpath(model_path)\n",
    "\n",
    "\n",
    "\n",
    "model = AutoModelForTokenClassification.from_pretrained(model_checkpoint)\n",
    "tokenizer = AutoTokenizer.from_pretrained(model_checkpoint)\n",
    "\n",
    "nlp = pipeline('ner', model=model, tokenizer=tokenizer)"
   ]
  },
  {
   "cell_type": "code",
   "execution_count": 23,
   "id": "dc899be9",
   "metadata": {
    "scrolled": true
   },
   "outputs": [
    {
     "name": "stdout",
     "output_type": "stream",
     "text": [
      "[{'word': 'г', 'score': 0.9358559846878052, 'entity': 'LABEL_5', 'index': 1, 'start': 0, 'end': 1}, {'word': '.', 'score': 0.8453817367553711, 'entity': 'LABEL_6', 'index': 2, 'start': 1, 'end': 2}, {'word': 'село', 'score': 0.9999122619628906, 'entity': 'LABEL_6', 'index': 3, 'start': 3, 'end': 7}, {'word': 'ул', 'score': 0.999908983707428, 'entity': 'LABEL_6', 'index': 4, 'start': 8, 'end': 10}, {'word': '.', 'score': 0.9999154806137085, 'entity': 'LABEL_6', 'index': 5, 'start': 10, 'end': 11}, {'word': 'д', 'score': 0.9998620748519897, 'entity': 'LABEL_6', 'index': 6, 'start': 12, 'end': 13}, {'word': '.', 'score': 0.9994387030601501, 'entity': 'LABEL_6', 'index': 7, 'start': 13, 'end': 14}, {'word': 'по', 'score': 0.998621940612793, 'entity': 'LABEL_6', 'index': 8, 'start': 15, 'end': 17}, {'word': 'о', 'score': 0.9993658065795898, 'entity': 'LABEL_3', 'index': 9, 'start': 18, 'end': 19}, {'word': '##оо', 'score': 0.9988380670547485, 'entity': 'LABEL_3', 'index': 10, 'start': 19, 'end': 21}, {'word': 'торгов', 'score': 0.9787254929542542, 'entity': 'LABEL_4', 'index': 11, 'start': 22, 'end': 28}, {'word': '##ы', 'score': 0.9903411269187927, 'entity': 'LABEL_4', 'index': 12, 'start': 28, 'end': 29}, {'word': '##и', 'score': 0.9921823740005493, 'entity': 'LABEL_4', 'index': 13, 'start': 29, 'end': 30}, {'word': 'дом', 'score': 0.9992071986198425, 'entity': 'LABEL_4', 'index': 14, 'start': 31, 'end': 34}, {'word': '\"', 'score': 0.9990379214286804, 'entity': 'LABEL_4', 'index': 15, 'start': 35, 'end': 36}, {'word': 'рубл', 'score': 0.9978116750717163, 'entity': 'LABEL_4', 'index': 16, 'start': 36, 'end': 40}, {'word': '##евск', 'score': 0.9986421465873718, 'entity': 'LABEL_4', 'index': 17, 'start': 40, 'end': 44}, {'word': '##ии', 'score': 0.9979701042175293, 'entity': 'LABEL_4', 'index': 18, 'start': 44, 'end': 46}, {'word': '\"', 'score': 0.9985568523406982, 'entity': 'LABEL_4', 'index': 19, 'start': 46, 'end': 47}, {'word': 'инн', 'score': 0.9999646544456482, 'entity': 'LABEL_0', 'index': 20, 'start': 48, 'end': 51}, {'word': '504', 'score': 0.999949038028717, 'entity': 'LABEL_7', 'index': 21, 'start': 52, 'end': 55}, {'word': '##70', 'score': 0.9999746084213257, 'entity': 'LABEL_7', 'index': 22, 'start': 55, 'end': 57}, {'word': '##42', 'score': 0.9999444484710693, 'entity': 'LABEL_7', 'index': 23, 'start': 57, 'end': 59}, {'word': '##76', 'score': 0.9999520778656006, 'entity': 'LABEL_7', 'index': 24, 'start': 59, 'end': 61}, {'word': '##7', 'score': 0.9999077320098877, 'entity': 'LABEL_7', 'index': 25, 'start': 61, 'end': 62}, {'word': '1215', 'score': 0.9914371371269226, 'entity': 'LABEL_5', 'index': 26, 'start': 63, 'end': 67}, {'word': '##96', 'score': 0.9111630916595459, 'entity': 'LABEL_7', 'index': 27, 'start': 67, 'end': 69}, {'word': 'москв', 'score': 0.7759190797805786, 'entity': 'LABEL_6', 'index': 28, 'start': 70, 'end': 75}, {'word': '##а', 'score': 0.9835681319236755, 'entity': 'LABEL_6', 'index': 29, 'start': 75, 'end': 76}, {'word': 'г', 'score': 0.9994733333587646, 'entity': 'LABEL_6', 'index': 30, 'start': 77, 'end': 78}, {'word': 'горб', 'score': 0.9999643564224243, 'entity': 'LABEL_6', 'index': 31, 'start': 79, 'end': 83}, {'word': '##унова', 'score': 0.9999839067459106, 'entity': 'LABEL_6', 'index': 32, 'start': 83, 'end': 88}, {'word': 'ул', 'score': 0.9999841451644897, 'entity': 'LABEL_6', 'index': 33, 'start': 89, 'end': 91}, {'word': 'дом', 'score': 0.9999784827232361, 'entity': 'LABEL_6', 'index': 34, 'start': 92, 'end': 95}, {'word': '№', 'score': 0.9999727606773376, 'entity': 'LABEL_6', 'index': 35, 'start': 96, 'end': 97}, {'word': '4', 'score': 0.9999716281890869, 'entity': 'LABEL_6', 'index': 36, 'start': 98, 'end': 99}, {'word': 'корпус', 'score': 0.9999688267707825, 'entity': 'LABEL_6', 'index': 37, 'start': 100, 'end': 106}, {'word': '1', 'score': 0.9999706745147705, 'entity': 'LABEL_6', 'index': 38, 'start': 107, 'end': 108}, {'word': 'тел', 'score': 0.9999960660934448, 'entity': 'LABEL_0', 'index': 39, 'start': 109, 'end': 112}, {'word': '.', 'score': 0.9999949336051941, 'entity': 'LABEL_0', 'index': 40, 'start': 112, 'end': 113}, {'word': ':', 'score': 0.9999857544898987, 'entity': 'LABEL_0', 'index': 41, 'start': 114, 'end': 115}, {'word': '(', 'score': 0.9956668019294739, 'entity': 'LABEL_12', 'index': 42, 'start': 116, 'end': 117}, {'word': '495', 'score': 0.9999639391899109, 'entity': 'LABEL_12', 'index': 43, 'start': 117, 'end': 120}, {'word': ')', 'score': 0.9999798536300659, 'entity': 'LABEL_12', 'index': 44, 'start': 120, 'end': 121}, {'word': '771', 'score': 0.9940969347953796, 'entity': 'LABEL_12', 'index': 45, 'start': 122, 'end': 125}, {'word': '-', 'score': 0.8194756507873535, 'entity': 'LABEL_11', 'index': 46, 'start': 125, 'end': 126}, {'word': '69', 'score': 0.6344865560531616, 'entity': 'LABEL_11', 'index': 47, 'start': 126, 'end': 128}, {'word': '-', 'score': 0.6449064016342163, 'entity': 'LABEL_12', 'index': 48, 'start': 128, 'end': 129}, {'word': '74', 'score': 0.8422091007232666, 'entity': 'LABEL_11', 'index': 49, 'start': 129, 'end': 131}, {'word': '(', 'score': 0.4748539328575134, 'entity': 'LABEL_12', 'index': 50, 'start': 132, 'end': 133}, {'word': '495', 'score': 0.9995562434196472, 'entity': 'LABEL_12', 'index': 51, 'start': 133, 'end': 136}, {'word': ')', 'score': 0.9799109101295471, 'entity': 'LABEL_12', 'index': 52, 'start': 136, 'end': 137}, {'word': '771', 'score': 0.9360424280166626, 'entity': 'LABEL_12', 'index': 53, 'start': 138, 'end': 141}, {'word': '-', 'score': 0.9962406158447266, 'entity': 'LABEL_11', 'index': 54, 'start': 141, 'end': 142}, {'word': '71', 'score': 0.9437457919120789, 'entity': 'LABEL_11', 'index': 55, 'start': 142, 'end': 144}, {'word': '-', 'score': 0.9636629223823547, 'entity': 'LABEL_11', 'index': 56, 'start': 144, 'end': 145}, {'word': '14', 'score': 0.8035430312156677, 'entity': 'LABEL_11', 'index': 57, 'start': 145, 'end': 147}, {'word': 'р', 'score': 0.9999971985816956, 'entity': 'LABEL_0', 'index': 58, 'start': 148, 'end': 149}, {'word': '/', 'score': 0.9999969005584717, 'entity': 'LABEL_0', 'index': 59, 'start': 150, 'end': 151}, {'word': 'с', 'score': 0.9999966621398926, 'entity': 'LABEL_0', 'index': 60, 'start': 152, 'end': 153}, {'word': '407', 'score': 0.9999882578849792, 'entity': 'LABEL_9', 'index': 61, 'start': 154, 'end': 157}, {'word': '##02', 'score': 0.9999949932098389, 'entity': 'LABEL_9', 'index': 62, 'start': 157, 'end': 159}, {'word': '##81', 'score': 0.9999947547912598, 'entity': 'LABEL_9', 'index': 63, 'start': 159, 'end': 161}, {'word': '##0', 'score': 0.9999922513961792, 'entity': 'LABEL_9', 'index': 64, 'start': 161, 'end': 162}, {'word': '##600', 'score': 0.9999825358390808, 'entity': 'LABEL_9', 'index': 65, 'start': 162, 'end': 165}, {'word': '##01', 'score': 0.9999948740005493, 'entity': 'LABEL_9', 'index': 66, 'start': 165, 'end': 167}, {'word': '##14', 'score': 0.999993622303009, 'entity': 'LABEL_9', 'index': 67, 'start': 167, 'end': 169}, {'word': '##75', 'score': 0.9999929070472717, 'entity': 'LABEL_9', 'index': 68, 'start': 169, 'end': 171}, {'word': '##16', 'score': 0.9999829530715942, 'entity': 'LABEL_9', 'index': 69, 'start': 171, 'end': 173}, {'word': '##7', 'score': 0.9985110759735107, 'entity': 'LABEL_9', 'index': 70, 'start': 173, 'end': 174}, {'word': 'в', 'score': 0.972943127155304, 'entity': 'LABEL_0', 'index': 71, 'start': 175, 'end': 176}, {'word': 'банк', 'score': 0.9999871253967285, 'entity': 'LABEL_0', 'index': 72, 'start': 177, 'end': 181}, {'word': 'а', 'score': 0.9997249245643616, 'entity': 'LABEL_3', 'index': 73, 'start': 182, 'end': 183}, {'word': '##о', 'score': 0.9997104406356812, 'entity': 'LABEL_3', 'index': 74, 'start': 183, 'end': 184}, {'word': 'юни', 'score': 0.999958336353302, 'entity': 'LABEL_4', 'index': 75, 'start': 185, 'end': 188}, {'word': '##кр', 'score': 0.9999422430992126, 'entity': 'LABEL_4', 'index': 76, 'start': 188, 'end': 190}, {'word': '##еди', 'score': 0.9999753832817078, 'entity': 'LABEL_4', 'index': 77, 'start': 190, 'end': 193}, {'word': '##т', 'score': 0.9999011754989624, 'entity': 'LABEL_4', 'index': 78, 'start': 193, 'end': 194}, {'word': 'банк', 'score': 0.9996863007545471, 'entity': 'LABEL_4', 'index': 79, 'start': 195, 'end': 199}, {'word': 'бик', 'score': 0.9995782971382141, 'entity': 'LABEL_0', 'index': 80, 'start': 200, 'end': 203}, {'word': '044', 'score': 0.999998927116394, 'entity': 'LABEL_11', 'index': 81, 'start': 204, 'end': 207}, {'word': '##52', 'score': 0.9999988079071045, 'entity': 'LABEL_11', 'index': 82, 'start': 207, 'end': 209}, {'word': '##55', 'score': 0.9999980926513672, 'entity': 'LABEL_11', 'index': 83, 'start': 209, 'end': 211}, {'word': '##45', 'score': 0.9999961853027344, 'entity': 'LABEL_11', 'index': 84, 'start': 211, 'end': 213}, {'word': 'к', 'score': 0.999997079372406, 'entity': 'LABEL_0', 'index': 85, 'start': 214, 'end': 215}, {'word': '/', 'score': 0.9999967813491821, 'entity': 'LABEL_0', 'index': 86, 'start': 216, 'end': 217}, {'word': 'с', 'score': 0.9999969601631165, 'entity': 'LABEL_0', 'index': 87, 'start': 218, 'end': 219}, {'word': '301', 'score': 0.9999830722808838, 'entity': 'LABEL_9', 'index': 88, 'start': 220, 'end': 223}, {'word': '##01', 'score': 0.9999900460243225, 'entity': 'LABEL_9', 'index': 89, 'start': 223, 'end': 225}, {'word': '##81', 'score': 0.9999898672103882, 'entity': 'LABEL_9', 'index': 90, 'start': 225, 'end': 227}, {'word': '##0', 'score': 0.9999932646751404, 'entity': 'LABEL_9', 'index': 91, 'start': 227, 'end': 228}, {'word': '##3000', 'score': 0.9999692440032959, 'entity': 'LABEL_9', 'index': 92, 'start': 228, 'end': 232}, {'word': '##0000', 'score': 0.999752402305603, 'entity': 'LABEL_9', 'index': 93, 'start': 232, 'end': 236}, {'word': '##0', 'score': 0.9997268319129944, 'entity': 'LABEL_9', 'index': 94, 'start': 236, 'end': 237}, {'word': '##54', 'score': 0.9999617338180542, 'entity': 'LABEL_9', 'index': 95, 'start': 237, 'end': 239}, {'word': '##5', 'score': 0.9997241497039795, 'entity': 'LABEL_9', 'index': 96, 'start': 239, 'end': 240}, {'word': 'по', 'score': 0.9896766543388367, 'entity': 'LABEL_3', 'index': 97, 'start': 241, 'end': 243}, {'word': 'ок', 'score': 0.7202798128128052, 'entity': 'LABEL_4', 'index': 98, 'start': 244, 'end': 246}, {'word': '##по', 'score': 0.7054930925369263, 'entity': 'LABEL_4', 'index': 99, 'start': 246, 'end': 248}, {'word': '!', 'score': 0.9402998685836792, 'entity': 'LABEL_11', 'index': 100, 'start': 249, 'end': 250}, {'word': '550', 'score': 0.9999926686286926, 'entity': 'LABEL_7', 'index': 101, 'start': 251, 'end': 254}, {'word': '##32', 'score': 0.9999520778656006, 'entity': 'LABEL_7', 'index': 102, 'start': 254, 'end': 256}, {'word': '##0', 'score': 0.9999118447303772, 'entity': 'LABEL_7', 'index': 103, 'start': 256, 'end': 257}, {'word': '##79', 'score': 0.9997356534004211, 'entity': 'LABEL_7', 'index': 104, 'start': 257, 'end': 259}]\n"
     ]
    }
   ],
   "source": [
    "text = 'Ромашка, ООО ООО \"Гарант-СВ\" ИНН КПП 9103007830 910301001 ООО \"ГАРАНТ-СВ” А ”5№. heOFVS1 Адрес 298685. РФ респ. Крым гор. Ялта ул Генерала О оякова. д. 9 рс 44486183785362839087'\n",
    "text = 'Шешдиров Руслан Искандерович, ИП ‚ ИНН 164511946205'\n",
    "text = 'Индивидуальный предприниматель Шешдиров Руслан Искандерович ‚ ИНН 164511946205 ООО \"Гарант-СВ\"'\n",
    "text = 'МУП МП ГОРОДСКОГО ОКРУГА САМАРА КРАСНОГЛИНСКИЕ БАНИ +7-830-199-8031 Адрес филиала банка Брянская область, город Новозыбков Банк Инвестор ИНН/КПП 100601303468 / 632501001 корр. счет 30310411361955797442'\n",
    "text = 'Исполнитель Индивидуальный предприниматель Ефимова Наталья Ивановна , +8-826-568-7012 Адрес банка Исп-тель 190098 , г Санкт-Петербург , Адмиралтейский р-н , пл Труда , д 4 литер в , пом 212 231111056 Небанковская кредитная организация \" МОНЕТА \" ( общество с ограниченной ответственностью ) рас/сч 40253440786260473970 Адрес банка 614015 , Пермский край , г Пермь , Ленинский р-н , ул Екатерининская , д 18 тел. 8-885-63-06-595 кор/сч 30647910558312445795 БИК 046792177'\n",
    "text = 'г. село ул. д. по ООО торговый дом \"Рублевский\" ИНН 5047042767 121596 Москва г Горбунова ул дом № 4 корпус 1 тел. : (495) 771-69-74 (495) 771-71-14 р / с 40702810600011475167 в Банк АО ЮНИКРЕДИТ Банк БИК 044525545 к / с 30101810300000000545 по ОКПО ! 55032079'\n",
    "# text = 'Инвестор ООО ДЮКА ИНН КПП 564500394 / 231201001 624134, Свердловская обл, г Новоуральск, ул Чурина, д 12/2, оф 20 рс 44468253734659494408 Филиал банка П-щик АКЦИОНЕРНОЕ ОБЩЕСТВО КОММЕРЧЕСКИЙ БАНК \"КУБАНСКИЙ ТОРГОВЫЙ БАНК\" '\n",
    "print(nlp(text))"
   ]
  },
  {
   "cell_type": "code",
   "execution_count": 24,
   "id": "af225b64",
   "metadata": {
    "scrolled": true
   },
   "outputs": [
    {
     "name": "stdout",
     "output_type": "stream",
     "text": [
      "{'word': 'г', 'score': 0.9358559846878052, 'entity': 'B-LOC', 'index': 1, 'start': 0, 'end': 1}\n",
      "{'word': '.', 'score': 0.8453817367553711, 'entity': 'I-LOC', 'index': 2, 'start': 1, 'end': 2}\n",
      "{'word': 'село', 'score': 0.9999122619628906, 'entity': 'I-LOC', 'index': 3, 'start': 3, 'end': 7}\n",
      "{'word': 'ул', 'score': 0.999908983707428, 'entity': 'I-LOC', 'index': 4, 'start': 8, 'end': 10}\n",
      "{'word': '.', 'score': 0.9999154806137085, 'entity': 'I-LOC', 'index': 5, 'start': 10, 'end': 11}\n",
      "{'word': 'д', 'score': 0.9998620748519897, 'entity': 'I-LOC', 'index': 6, 'start': 12, 'end': 13}\n",
      "{'word': '.', 'score': 0.9994387030601501, 'entity': 'I-LOC', 'index': 7, 'start': 13, 'end': 14}\n",
      "{'word': 'по', 'score': 0.998621940612793, 'entity': 'I-LOC', 'index': 8, 'start': 15, 'end': 17}\n",
      "{'word': 'о', 'score': 0.9993658065795898, 'entity': 'B-ORG', 'index': 9, 'start': 18, 'end': 19}\n",
      "{'word': '##оо', 'score': 0.9988380670547485, 'entity': 'B-ORG', 'index': 10, 'start': 19, 'end': 21}\n",
      "{'word': 'торгов', 'score': 0.9787254929542542, 'entity': 'I-ORG', 'index': 11, 'start': 22, 'end': 28}\n",
      "{'word': '##ы', 'score': 0.9903411269187927, 'entity': 'I-ORG', 'index': 12, 'start': 28, 'end': 29}\n",
      "{'word': '##и', 'score': 0.9921823740005493, 'entity': 'I-ORG', 'index': 13, 'start': 29, 'end': 30}\n",
      "{'word': 'дом', 'score': 0.9992071986198425, 'entity': 'I-ORG', 'index': 14, 'start': 31, 'end': 34}\n",
      "{'word': '\"', 'score': 0.9990379214286804, 'entity': 'I-ORG', 'index': 15, 'start': 35, 'end': 36}\n",
      "{'word': 'рубл', 'score': 0.9978116750717163, 'entity': 'I-ORG', 'index': 16, 'start': 36, 'end': 40}\n",
      "{'word': '##евск', 'score': 0.9986421465873718, 'entity': 'I-ORG', 'index': 17, 'start': 40, 'end': 44}\n",
      "{'word': '##ии', 'score': 0.9979701042175293, 'entity': 'I-ORG', 'index': 18, 'start': 44, 'end': 46}\n",
      "{'word': '\"', 'score': 0.9985568523406982, 'entity': 'I-ORG', 'index': 19, 'start': 46, 'end': 47}\n",
      "{'word': 'инн', 'score': 0.9999646544456482, 'entity': 'O', 'index': 20, 'start': 48, 'end': 51}\n",
      "{'word': '504', 'score': 0.999949038028717, 'entity': 'B-INNKPP', 'index': 21, 'start': 52, 'end': 55}\n",
      "{'word': '##70', 'score': 0.9999746084213257, 'entity': 'B-INNKPP', 'index': 22, 'start': 55, 'end': 57}\n",
      "{'word': '##42', 'score': 0.9999444484710693, 'entity': 'B-INNKPP', 'index': 23, 'start': 57, 'end': 59}\n",
      "{'word': '##76', 'score': 0.9999520778656006, 'entity': 'B-INNKPP', 'index': 24, 'start': 59, 'end': 61}\n",
      "{'word': '##7', 'score': 0.9999077320098877, 'entity': 'B-INNKPP', 'index': 25, 'start': 61, 'end': 62}\n",
      "{'word': '1215', 'score': 0.9914371371269226, 'entity': 'B-LOC', 'index': 26, 'start': 63, 'end': 67}\n",
      "{'word': '##96', 'score': 0.9111630916595459, 'entity': 'B-INNKPP', 'index': 27, 'start': 67, 'end': 69}\n",
      "{'word': 'москв', 'score': 0.7759190797805786, 'entity': 'I-LOC', 'index': 28, 'start': 70, 'end': 75}\n",
      "{'word': '##а', 'score': 0.9835681319236755, 'entity': 'I-LOC', 'index': 29, 'start': 75, 'end': 76}\n",
      "{'word': 'г', 'score': 0.9994733333587646, 'entity': 'I-LOC', 'index': 30, 'start': 77, 'end': 78}\n",
      "{'word': 'горб', 'score': 0.9999643564224243, 'entity': 'I-LOC', 'index': 31, 'start': 79, 'end': 83}\n",
      "{'word': '##унова', 'score': 0.9999839067459106, 'entity': 'I-LOC', 'index': 32, 'start': 83, 'end': 88}\n",
      "{'word': 'ул', 'score': 0.9999841451644897, 'entity': 'I-LOC', 'index': 33, 'start': 89, 'end': 91}\n",
      "{'word': 'дом', 'score': 0.9999784827232361, 'entity': 'I-LOC', 'index': 34, 'start': 92, 'end': 95}\n",
      "{'word': '№', 'score': 0.9999727606773376, 'entity': 'I-LOC', 'index': 35, 'start': 96, 'end': 97}\n",
      "{'word': '4', 'score': 0.9999716281890869, 'entity': 'I-LOC', 'index': 36, 'start': 98, 'end': 99}\n",
      "{'word': 'корпус', 'score': 0.9999688267707825, 'entity': 'I-LOC', 'index': 37, 'start': 100, 'end': 106}\n",
      "{'word': '1', 'score': 0.9999706745147705, 'entity': 'I-LOC', 'index': 38, 'start': 107, 'end': 108}\n",
      "{'word': 'тел', 'score': 0.9999960660934448, 'entity': 'O', 'index': 39, 'start': 109, 'end': 112}\n",
      "{'word': '.', 'score': 0.9999949336051941, 'entity': 'O', 'index': 40, 'start': 112, 'end': 113}\n",
      "{'word': ':', 'score': 0.9999857544898987, 'entity': 'O', 'index': 41, 'start': 114, 'end': 115}\n",
      "{'word': '(', 'score': 0.9956668019294739, 'entity': 'I-STAT', 'index': 42, 'start': 116, 'end': 117}\n",
      "{'word': '495', 'score': 0.9999639391899109, 'entity': 'I-STAT', 'index': 43, 'start': 117, 'end': 120}\n",
      "{'word': ')', 'score': 0.9999798536300659, 'entity': 'I-STAT', 'index': 44, 'start': 120, 'end': 121}\n",
      "{'word': '771', 'score': 0.9940969347953796, 'entity': 'I-STAT', 'index': 45, 'start': 122, 'end': 125}\n",
      "{'word': '-', 'score': 0.8194756507873535, 'entity': 'B-STAT', 'index': 46, 'start': 125, 'end': 126}\n",
      "{'word': '69', 'score': 0.6344865560531616, 'entity': 'B-STAT', 'index': 47, 'start': 126, 'end': 128}\n",
      "{'word': '-', 'score': 0.6449064016342163, 'entity': 'I-STAT', 'index': 48, 'start': 128, 'end': 129}\n",
      "{'word': '74', 'score': 0.8422091007232666, 'entity': 'B-STAT', 'index': 49, 'start': 129, 'end': 131}\n",
      "{'word': '(', 'score': 0.4748539328575134, 'entity': 'I-STAT', 'index': 50, 'start': 132, 'end': 133}\n",
      "{'word': '495', 'score': 0.9995562434196472, 'entity': 'I-STAT', 'index': 51, 'start': 133, 'end': 136}\n",
      "{'word': ')', 'score': 0.9799109101295471, 'entity': 'I-STAT', 'index': 52, 'start': 136, 'end': 137}\n",
      "{'word': '771', 'score': 0.9360424280166626, 'entity': 'I-STAT', 'index': 53, 'start': 138, 'end': 141}\n",
      "{'word': '-', 'score': 0.9962406158447266, 'entity': 'B-STAT', 'index': 54, 'start': 141, 'end': 142}\n",
      "{'word': '71', 'score': 0.9437457919120789, 'entity': 'B-STAT', 'index': 55, 'start': 142, 'end': 144}\n",
      "{'word': '-', 'score': 0.9636629223823547, 'entity': 'B-STAT', 'index': 56, 'start': 144, 'end': 145}\n",
      "{'word': '14', 'score': 0.8035430312156677, 'entity': 'B-STAT', 'index': 57, 'start': 145, 'end': 147}\n",
      "{'word': 'р', 'score': 0.9999971985816956, 'entity': 'O', 'index': 58, 'start': 148, 'end': 149}\n",
      "{'word': '/', 'score': 0.9999969005584717, 'entity': 'O', 'index': 59, 'start': 150, 'end': 151}\n",
      "{'word': 'с', 'score': 0.9999966621398926, 'entity': 'O', 'index': 60, 'start': 152, 'end': 153}\n",
      "{'word': '407', 'score': 0.9999882578849792, 'entity': 'B-RSKS', 'index': 61, 'start': 154, 'end': 157}\n",
      "{'word': '##02', 'score': 0.9999949932098389, 'entity': 'B-RSKS', 'index': 62, 'start': 157, 'end': 159}\n",
      "{'word': '##81', 'score': 0.9999947547912598, 'entity': 'B-RSKS', 'index': 63, 'start': 159, 'end': 161}\n",
      "{'word': '##0', 'score': 0.9999922513961792, 'entity': 'B-RSKS', 'index': 64, 'start': 161, 'end': 162}\n",
      "{'word': '##600', 'score': 0.9999825358390808, 'entity': 'B-RSKS', 'index': 65, 'start': 162, 'end': 165}\n",
      "{'word': '##01', 'score': 0.9999948740005493, 'entity': 'B-RSKS', 'index': 66, 'start': 165, 'end': 167}\n",
      "{'word': '##14', 'score': 0.999993622303009, 'entity': 'B-RSKS', 'index': 67, 'start': 167, 'end': 169}\n",
      "{'word': '##75', 'score': 0.9999929070472717, 'entity': 'B-RSKS', 'index': 68, 'start': 169, 'end': 171}\n",
      "{'word': '##16', 'score': 0.9999829530715942, 'entity': 'B-RSKS', 'index': 69, 'start': 171, 'end': 173}\n",
      "{'word': '##7', 'score': 0.9985110759735107, 'entity': 'B-RSKS', 'index': 70, 'start': 173, 'end': 174}\n",
      "{'word': 'в', 'score': 0.972943127155304, 'entity': 'O', 'index': 71, 'start': 175, 'end': 176}\n",
      "{'word': 'банк', 'score': 0.9999871253967285, 'entity': 'O', 'index': 72, 'start': 177, 'end': 181}\n",
      "{'word': 'а', 'score': 0.9997249245643616, 'entity': 'B-ORG', 'index': 73, 'start': 182, 'end': 183}\n",
      "{'word': '##о', 'score': 0.9997104406356812, 'entity': 'B-ORG', 'index': 74, 'start': 183, 'end': 184}\n",
      "{'word': 'юни', 'score': 0.999958336353302, 'entity': 'I-ORG', 'index': 75, 'start': 185, 'end': 188}\n",
      "{'word': '##кр', 'score': 0.9999422430992126, 'entity': 'I-ORG', 'index': 76, 'start': 188, 'end': 190}\n",
      "{'word': '##еди', 'score': 0.9999753832817078, 'entity': 'I-ORG', 'index': 77, 'start': 190, 'end': 193}\n",
      "{'word': '##т', 'score': 0.9999011754989624, 'entity': 'I-ORG', 'index': 78, 'start': 193, 'end': 194}\n",
      "{'word': 'банк', 'score': 0.9996863007545471, 'entity': 'I-ORG', 'index': 79, 'start': 195, 'end': 199}\n",
      "{'word': 'бик', 'score': 0.9995782971382141, 'entity': 'O', 'index': 80, 'start': 200, 'end': 203}\n",
      "{'word': '044', 'score': 0.999998927116394, 'entity': 'B-STAT', 'index': 81, 'start': 204, 'end': 207}\n",
      "{'word': '##52', 'score': 0.9999988079071045, 'entity': 'B-STAT', 'index': 82, 'start': 207, 'end': 209}\n",
      "{'word': '##55', 'score': 0.9999980926513672, 'entity': 'B-STAT', 'index': 83, 'start': 209, 'end': 211}\n",
      "{'word': '##45', 'score': 0.9999961853027344, 'entity': 'B-STAT', 'index': 84, 'start': 211, 'end': 213}\n",
      "{'word': 'к', 'score': 0.999997079372406, 'entity': 'O', 'index': 85, 'start': 214, 'end': 215}\n",
      "{'word': '/', 'score': 0.9999967813491821, 'entity': 'O', 'index': 86, 'start': 216, 'end': 217}\n",
      "{'word': 'с', 'score': 0.9999969601631165, 'entity': 'O', 'index': 87, 'start': 218, 'end': 219}\n",
      "{'word': '301', 'score': 0.9999830722808838, 'entity': 'B-RSKS', 'index': 88, 'start': 220, 'end': 223}\n",
      "{'word': '##01', 'score': 0.9999900460243225, 'entity': 'B-RSKS', 'index': 89, 'start': 223, 'end': 225}\n",
      "{'word': '##81', 'score': 0.9999898672103882, 'entity': 'B-RSKS', 'index': 90, 'start': 225, 'end': 227}\n",
      "{'word': '##0', 'score': 0.9999932646751404, 'entity': 'B-RSKS', 'index': 91, 'start': 227, 'end': 228}\n",
      "{'word': '##3000', 'score': 0.9999692440032959, 'entity': 'B-RSKS', 'index': 92, 'start': 228, 'end': 232}\n",
      "{'word': '##0000', 'score': 0.999752402305603, 'entity': 'B-RSKS', 'index': 93, 'start': 232, 'end': 236}\n",
      "{'word': '##0', 'score': 0.9997268319129944, 'entity': 'B-RSKS', 'index': 94, 'start': 236, 'end': 237}\n",
      "{'word': '##54', 'score': 0.9999617338180542, 'entity': 'B-RSKS', 'index': 95, 'start': 237, 'end': 239}\n",
      "{'word': '##5', 'score': 0.9997241497039795, 'entity': 'B-RSKS', 'index': 96, 'start': 239, 'end': 240}\n",
      "{'word': 'по', 'score': 0.9896766543388367, 'entity': 'B-ORG', 'index': 97, 'start': 241, 'end': 243}\n",
      "{'word': 'ок', 'score': 0.7202798128128052, 'entity': 'I-ORG', 'index': 98, 'start': 244, 'end': 246}\n",
      "{'word': '##по', 'score': 0.7054930925369263, 'entity': 'I-ORG', 'index': 99, 'start': 246, 'end': 248}\n",
      "{'word': '!', 'score': 0.9402998685836792, 'entity': 'B-STAT', 'index': 100, 'start': 249, 'end': 250}\n",
      "{'word': '550', 'score': 0.9999926686286926, 'entity': 'B-INNKPP', 'index': 101, 'start': 251, 'end': 254}\n",
      "{'word': '##32', 'score': 0.9999520778656006, 'entity': 'B-INNKPP', 'index': 102, 'start': 254, 'end': 256}\n",
      "{'word': '##0', 'score': 0.9999118447303772, 'entity': 'B-INNKPP', 'index': 103, 'start': 256, 'end': 257}\n",
      "{'word': '##79', 'score': 0.9997356534004211, 'entity': 'B-INNKPP', 'index': 104, 'start': 257, 'end': 259}\n"
     ]
    }
   ],
   "source": [
    "label_list = ['O', 'B-PER', 'I-PER', 'B-ORG', 'I-ORG', 'B-LOC', 'I-LOC', 'B-INNKPP', 'I-INNKPP', 'B-RSKS', 'I-RSKS', 'B-STAT', 'I-STAT']\n",
    "for w in nlp(text, aggregate_words='simple'):\n",
    "    index = int(w['entity'].split('_')[-1])\n",
    "    w['entity'] = label_list[index]\n",
    "    print(w)"
   ]
  },
  {
   "cell_type": "code",
   "execution_count": 22,
   "id": "7417b85d",
   "metadata": {
    "scrolled": true
   },
   "outputs": [
    {
     "data": {
      "text/html": [
       "<H3>ex 0:</H3>"
      ],
      "text/plain": [
       "<IPython.core.display.HTML object>"
      ]
     },
     "metadata": {},
     "output_type": "display_data"
    },
    {
     "data": {
      "text/html": [
       "<H4>DP:</H4>"
      ],
      "text/plain": [
       "<IPython.core.display.HTML object>"
      ]
     },
     "metadata": {},
     "output_type": "display_data"
    },
    {
     "data": {
      "text/html": [
       "<div class=\"tex2jax_ignore\" style=\"white-space: pre-wrap\">Инвестор <span style=\"padding: 2px; border-radius: 4px; border: 1px solid #ffcdd2; background: #ffebee\">МУП МП<span style=\"vertical-align: middle; margin-left: 2px; font-size: 0.7em; color: #e57373;\">ORG</span></span> ГОРОДСКОГО ОКРУГА САМАРА КРАСНОГЛИНСКИЕ БАНИ Адрес филиала <span style=\"padding: 2px; border-radius: 4px; border: 1px solid #ffcdd2; background: #ffebee\">банка<span style=\"vertical-align: middle; margin-left: 2px; font-size: 0.7em; color: #e57373;\">ORG</span></span> Брянская область, город Новозыбков Банк Инвестор ИНН/КПП 100601303468 / 632501001 тел. +7-830-199-8031 корр. счет 30310411361955797442</div>"
      ],
      "text/plain": [
       "<IPython.core.display.HTML object>"
      ]
     },
     "metadata": {},
     "output_type": "display_data"
    },
    {
     "data": {
      "text/html": [
       "<H4>NT:</H4>"
      ],
      "text/plain": [
       "<IPython.core.display.HTML object>"
      ]
     },
     "metadata": {},
     "output_type": "display_data"
    },
    {
     "data": {
      "text/html": [
       "<div class=\"tex2jax_ignore\" style=\"white-space: pre-wrap\">Инвестор <span style=\"padding: 2px; border-radius: 4px; border: 1px solid #ffcdd2; background: #ffebee\">МУП МП ГОРОДСКОГО ОКРУГА САМАРА КРАСНОГЛИНСКИЕ БАНИ Адрес филиала банка<span style=\"vertical-align: middle; margin-left: 2px; font-size: 0.7em; color: #e57373;\">ORG</span></span> Брянская область, город Новозыбков Банк Инвестор ИНН/КПП 100601303468 / 632501001 тел. +7-830-199-8031 корр. счет 30310411361955797442</div>"
      ],
      "text/plain": [
       "<IPython.core.display.HTML object>"
      ]
     },
     "metadata": {},
     "output_type": "display_data"
    },
    {
     "data": {
      "text/html": [
       "<H4>LD:</H4>"
      ],
      "text/plain": [
       "<IPython.core.display.HTML object>"
      ]
     },
     "metadata": {},
     "output_type": "display_data"
    },
    {
     "data": {
      "text/html": [
       "<div class=\"tex2jax_ignore\" style=\"white-space: pre-wrap\">Инвестор <span style=\"padding: 2px; border-radius: 4px; border: 1px solid #ffcdd2; background: #ffebee\">МУП МП ГОРОДСКОГО ОКРУГА САМАРА КРАСНОГЛИНСКИЕ<span style=\"vertical-align: middle; margin-left: 2px; font-size: 0.7em; color: #e57373;\">ORG</span></span> БАНИ Адрес филиала банка <span style=\"padding: 2px; border-radius: 4px; border: 1px solid #c8e6c9; background: #e8f5e9\">Брянская область, город Новозыбков<span style=\"vertical-align: middle; margin-left: 2px; font-size: 0.7em; color: #66bb6a;\">LOC</span></span> Банк Инвестор ИНН/КПП <span style=\"padding: 2px; border-radius: 4px; border: 1px solid #ffe0b2; background: #fff3e0\">100601303468<span style=\"vertical-align: middle; margin-left: 2px; font-size: 0.7em; color: #ffb74d;\">INNKPP</span></span> / <span style=\"padding: 2px; border-radius: 4px; border: 1px solid #ffe0b2; background: #fff3e0\">632501001<span style=\"vertical-align: middle; margin-left: 2px; font-size: 0.7em; color: #ffb74d;\">INNKPP</span></span> тел. <span style=\"padding: 2px; border-radius: 4px; border: 1px solid #d1c4e9; background: #ede7f6\">+<span style=\"vertical-align: middle; margin-left: 2px; font-size: 0.7em; color: #9575cd;\">STAT</span></span><span style=\"padding: 2px; border-radius: 4px; border: 1px solid #d1c4e9; background: #ede7f6\">7<span style=\"vertical-align: middle; margin-left: 2px; font-size: 0.7em; color: #9575cd;\">STAT</span></span><span style=\"padding: 2px; border-radius: 4px; border: 1px solid #d1c4e9; background: #ede7f6\">-<span style=\"vertical-align: middle; margin-left: 2px; font-size: 0.7em; color: #9575cd;\">STAT</span></span><span style=\"padding: 2px; border-radius: 4px; border: 1px solid #d1c4e9; background: #ede7f6\">830<span style=\"vertical-align: middle; margin-left: 2px; font-size: 0.7em; color: #9575cd;\">STAT</span></span><span style=\"padding: 2px; border-radius: 4px; border: 1px solid #d1c4e9; background: #ede7f6\">-<span style=\"vertical-align: middle; margin-left: 2px; font-size: 0.7em; color: #9575cd;\">STAT</span></span><span style=\"padding: 2px; border-radius: 4px; border: 1px solid #d1c4e9; background: #ede7f6\">199<span style=\"vertical-align: middle; margin-left: 2px; font-size: 0.7em; color: #9575cd;\">STAT</span></span><span style=\"padding: 2px; border-radius: 4px; border: 1px solid #d1c4e9; background: #ede7f6\">-<span style=\"vertical-align: middle; margin-left: 2px; font-size: 0.7em; color: #9575cd;\">STAT</span></span><span style=\"padding: 2px; border-radius: 4px; border: 1px solid #d1c4e9; background: #ede7f6\">8031<span style=\"vertical-align: middle; margin-left: 2px; font-size: 0.7em; color: #9575cd;\">STAT</span></span> корр. счет <span style=\"padding: 2px; border-radius: 4px; border: 1px solid #d7ccc8; background: #efebe9\">30310411361955797442<span style=\"vertical-align: middle; margin-left: 2px; font-size: 0.7em; color: #a1887f;\">RSKS</span></span></div>"
      ],
      "text/plain": [
       "<IPython.core.display.HTML object>"
      ]
     },
     "metadata": {},
     "output_type": "display_data"
    },
    {
     "data": {
      "text/html": [
       "<H3>ex 1:</H3>"
      ],
      "text/plain": [
       "<IPython.core.display.HTML object>"
      ]
     },
     "metadata": {},
     "output_type": "display_data"
    },
    {
     "data": {
      "text/html": [
       "<H4>DP:</H4>"
      ],
      "text/plain": [
       "<IPython.core.display.HTML object>"
      ]
     },
     "metadata": {},
     "output_type": "display_data"
    },
    {
     "data": {
      "text/html": [
       "<div class=\"tex2jax_ignore\" style=\"white-space: pre-wrap\">Поставщик ОО НИЖЕГОРОДСКАЯ РЕГИОНАЛЬНАЯ ОБЩЕСТВЕННАЯ ОРГАНИЗАЦИЯ ПРАВОВОЙ ПОДДЕРЖКИ БЫСТРЫЙ ЛЕГИТИМНЫЙ АРБИТРАЖ СПОРОВ ИНН КПП Субподрядчик 601500724 / 611501001 тел. +8-( 845) -147-5726 счет № 42160059899708393439 Филиал банка З-чик КОММЕРЧЕСКИЙ БАНК &quot;КОМПАНИЯ РОЗНИЧНОГО КРЕДИТОВАНИЯ&quot; (<span style=\"padding: 2px; border-radius: 4px; border: 1px solid #ffcdd2; background: #ffebee\">ОТКРЫТОЕ АКЦИОНЕРНОЕ ОБЩЕСТВО<span style=\"vertical-align: middle; margin-left: 2px; font-size: 0.7em; color: #e57373;\">ORG</span></span>) 183116686028 / 163201001 БИК 040557259 Адрес <span style=\"padding: 2px; border-radius: 4px; border: 1px solid #ffcdd2; background: #ffebee\">банка Подрядчик<span style=\"vertical-align: middle; margin-left: 2px; font-size: 0.7em; color: #e57373;\">ORG</span></span> Чувашская республика</div>"
      ],
      "text/plain": [
       "<IPython.core.display.HTML object>"
      ]
     },
     "metadata": {},
     "output_type": "display_data"
    },
    {
     "data": {
      "text/html": [
       "<H4>NT:</H4>"
      ],
      "text/plain": [
       "<IPython.core.display.HTML object>"
      ]
     },
     "metadata": {},
     "output_type": "display_data"
    },
    {
     "data": {
      "text/html": [
       "<div class=\"tex2jax_ignore\" style=\"white-space: pre-wrap\"><span style=\"padding: 2px; border-radius: 4px; border: 1px solid #ffcdd2; background: #ffebee\">Поставщик ОО НИЖЕГОРОДСКАЯ РЕГИОНАЛЬНАЯ ОБЩЕСТВЕННАЯ ОРГАНИЗАЦИЯ ПРАВОВОЙ ПОДДЕРЖКИ БЫСТРЫЙ ЛЕГИТИМНЫЙ АРБИТРАЖ СПОРОВ ИНН КПП<span style=\"vertical-align: middle; margin-left: 2px; font-size: 0.7em; color: #e57373;\">ORG</span></span> Субподрядчик 601500724 / 611501001 тел. +8-( 845) -147-5726 счет № 42160059899708393439 Филиал банка <span style=\"padding: 2px; border-radius: 4px; border: 1px solid #ffcdd2; background: #ffebee\">З-чик КОММЕРЧЕСКИЙ БАНК &quot;КОМПАНИЯ РОЗНИЧНОГО КРЕДИТОВАНИЯ&quot; (ОТКРЫТОЕ АКЦИОНЕРНОЕ ОБЩЕСТВО)<span style=\"vertical-align: middle; margin-left: 2px; font-size: 0.7em; color: #e57373;\">ORG</span></span> 183116686028 / 163201001 БИК 040557259 Адрес банка <span style=\"padding: 2px; border-radius: 4px; border: 1px solid #ffcdd2; background: #ffebee\">Подрядчик Чувашская республика<span style=\"vertical-align: middle; margin-left: 2px; font-size: 0.7em; color: #e57373;\">ORG</span></span></div>"
      ],
      "text/plain": [
       "<IPython.core.display.HTML object>"
      ]
     },
     "metadata": {},
     "output_type": "display_data"
    },
    {
     "data": {
      "text/html": [
       "<H4>LD:</H4>"
      ],
      "text/plain": [
       "<IPython.core.display.HTML object>"
      ]
     },
     "metadata": {},
     "output_type": "display_data"
    },
    {
     "data": {
      "text/html": [
       "<div class=\"tex2jax_ignore\" style=\"white-space: pre-wrap\">Поставщик <span style=\"padding: 2px; border-radius: 4px; border: 1px solid #ffcdd2; background: #ffebee\">ОО НИЖЕГОРОДСКАЯ РЕГИОНАЛЬНАЯ ОБЩЕСТВЕННАЯ ОРГАНИЗАЦИЯ ПРАВОВОЙ ПОДДЕРЖКИ БЫСТРЫЙ ЛЕГИТИМНЫЙ АРБИТРАЖ СПОРОВ<span style=\"vertical-align: middle; margin-left: 2px; font-size: 0.7em; color: #e57373;\">ORG</span></span> ИНН КПП Субподрядчик <span style=\"padding: 2px; border-radius: 4px; border: 1px solid #ffe0b2; background: #fff3e0\">601500724<span style=\"vertical-align: middle; margin-left: 2px; font-size: 0.7em; color: #ffb74d;\">INNKPP</span></span> / <span style=\"padding: 2px; border-radius: 4px; border: 1px solid #ffe0b2; background: #fff3e0\">611501001<span style=\"vertical-align: middle; margin-left: 2px; font-size: 0.7em; color: #ffb74d;\">INNKPP</span></span> тел. <span style=\"padding: 2px; border-radius: 4px; border: 1px solid #d1c4e9; background: #ede7f6\">+<span style=\"vertical-align: middle; margin-left: 2px; font-size: 0.7em; color: #9575cd;\">STAT</span></span><span style=\"padding: 2px; border-radius: 4px; border: 1px solid #d1c4e9; background: #ede7f6\">8<span style=\"vertical-align: middle; margin-left: 2px; font-size: 0.7em; color: #9575cd;\">STAT</span></span><span style=\"padding: 2px; border-radius: 4px; border: 1px solid #d1c4e9; background: #ede7f6\">-<span style=\"vertical-align: middle; margin-left: 2px; font-size: 0.7em; color: #9575cd;\">STAT</span></span><span style=\"padding: 2px; border-radius: 4px; border: 1px solid #d1c4e9; background: #ede7f6\">( 845) -147-5726<span style=\"vertical-align: middle; margin-left: 2px; font-size: 0.7em; color: #9575cd;\">STAT</span></span> счет № <span style=\"padding: 2px; border-radius: 4px; border: 1px solid #d7ccc8; background: #efebe9\">42160059899708393439<span style=\"vertical-align: middle; margin-left: 2px; font-size: 0.7em; color: #a1887f;\">RSKS</span></span> Филиал банка З-чик <span style=\"padding: 2px; border-radius: 4px; border: 1px solid #ffcdd2; background: #ffebee\">КОММЕРЧЕСКИЙ БАНК &quot;КОМПАНИЯ РОЗНИЧНОГО КРЕДИТОВАНИЯ&quot; (ОТКРЫТОЕ АКЦИОНЕРНОЕ ОБЩЕСТВО)<span style=\"vertical-align: middle; margin-left: 2px; font-size: 0.7em; color: #e57373;\">ORG</span></span> <span style=\"padding: 2px; border-radius: 4px; border: 1px solid #ffe0b2; background: #fff3e0\">183116686028<span style=\"vertical-align: middle; margin-left: 2px; font-size: 0.7em; color: #ffb74d;\">INNKPP</span></span> / <span style=\"padding: 2px; border-radius: 4px; border: 1px solid #ffe0b2; background: #fff3e0\">163201001<span style=\"vertical-align: middle; margin-left: 2px; font-size: 0.7em; color: #ffb74d;\">INNKPP</span></span> БИК <span style=\"padding: 2px; border-radius: 4px; border: 1px solid #d1c4e9; background: #ede7f6\">040557259<span style=\"vertical-align: middle; margin-left: 2px; font-size: 0.7em; color: #9575cd;\">STAT</span></span> Адрес банка Подрядчик <span style=\"padding: 2px; border-radius: 4px; border: 1px solid #c8e6c9; background: #e8f5e9\">Чувашская республика<span style=\"vertical-align: middle; margin-left: 2px; font-size: 0.7em; color: #66bb6a;\">LOC</span></span></div>"
      ],
      "text/plain": [
       "<IPython.core.display.HTML object>"
      ]
     },
     "metadata": {},
     "output_type": "display_data"
    },
    {
     "data": {
      "text/html": [
       "<H3>ex 2:</H3>"
      ],
      "text/plain": [
       "<IPython.core.display.HTML object>"
      ]
     },
     "metadata": {},
     "output_type": "display_data"
    },
    {
     "data": {
      "text/html": [
       "<H4>DP:</H4>"
      ],
      "text/plain": [
       "<IPython.core.display.HTML object>"
      ]
     },
     "metadata": {},
     "output_type": "display_data"
    },
    {
     "data": {
      "text/html": [
       "<div class=\"tex2jax_ignore\" style=\"white-space: pre-wrap\">Субподрядчик <span style=\"padding: 2px; border-radius: 4px; border: 1px solid #ffcdd2; background: #ffebee\">СЕВЕРНОЕ ЛИНЕЙНОЕ ПРОИЗВОДСТВЕННОЕ УПРАВЛЕНИЕ МАГИСТРАЛЬНЫХ ГАЗОПРОВОДОВ<span style=\"vertical-align: middle; margin-left: 2px; font-size: 0.7em; color: #e57373;\">ORG</span></span> (СЕВЕРНОЕ ЛПУМГ) 631226435882 ГОРОД МОСКВА УЛИЦА УСАЧЁВА ДОМ 24 Филиал <span style=\"padding: 2px; border-radius: 4px; border: 1px solid #ffcdd2; background: #ffebee\">банка Плательщик<span style=\"vertical-align: middle; margin-left: 2px; font-size: 0.7em; color: #e57373;\">ORG</span></span> <span style=\"padding: 2px; border-radius: 4px; border: 1px solid #ffcdd2; background: #ffebee\">ООО Банк &quot;Саратов&quot;<span style=\"vertical-align: middle; margin-left: 2px; font-size: 0.7em; color: #e57373;\">ORG</span></span> тел. 8 344 741 9083 БИК 044175088</div>"
      ],
      "text/plain": [
       "<IPython.core.display.HTML object>"
      ]
     },
     "metadata": {},
     "output_type": "display_data"
    },
    {
     "data": {
      "text/html": [
       "<H4>NT:</H4>"
      ],
      "text/plain": [
       "<IPython.core.display.HTML object>"
      ]
     },
     "metadata": {},
     "output_type": "display_data"
    },
    {
     "data": {
      "text/html": [
       "<div class=\"tex2jax_ignore\" style=\"white-space: pre-wrap\"><span style=\"padding: 2px; border-radius: 4px; border: 1px solid #ffcdd2; background: #ffebee\">Субподрядчик СЕВЕРНОЕ ЛИНЕЙНОЕ ПРОИЗВОДСТВЕННОЕ УПРАВЛЕНИЕ МАГИСТРАЛЬНЫХ ГАЗОПРОВОДОВ (СЕВЕРНОЕ ЛПУМГ)<span style=\"vertical-align: middle; margin-left: 2px; font-size: 0.7em; color: #e57373;\">ORG</span></span> 631226435882 <span style=\"padding: 2px; border-radius: 4px; border: 1px solid #ffcdd2; background: #ffebee\">ГОРОД МОСКВА УЛИЦА УСАЧЁВА ДОМ 24 Филиал банка<span style=\"vertical-align: middle; margin-left: 2px; font-size: 0.7em; color: #e57373;\">ORG</span></span> <span style=\"padding: 2px; border-radius: 4px; border: 1px solid #ffcdd2; background: #ffebee\">Плательщик ООО Банк &quot;Саратов<span style=\"vertical-align: middle; margin-left: 2px; font-size: 0.7em; color: #e57373;\">ORG</span></span>&quot; тел. 8 344 741 9083 БИК 044175088</div>"
      ],
      "text/plain": [
       "<IPython.core.display.HTML object>"
      ]
     },
     "metadata": {},
     "output_type": "display_data"
    },
    {
     "data": {
      "text/html": [
       "<H4>LD:</H4>"
      ],
      "text/plain": [
       "<IPython.core.display.HTML object>"
      ]
     },
     "metadata": {},
     "output_type": "display_data"
    },
    {
     "data": {
      "text/html": [
       "<div class=\"tex2jax_ignore\" style=\"white-space: pre-wrap\">Субподрядчик <span style=\"padding: 2px; border-radius: 4px; border: 1px solid #ffcdd2; background: #ffebee\">СЕВЕРНОЕ ЛИНЕЙНОЕ ПРОИЗВОДСТВЕННОЕ УПРАВЛЕНИЕ МАГИСТРАЛЬНЫХ ГАЗОПРОВОДОВ (СЕВЕРНОЕ ЛПУМГ)<span style=\"vertical-align: middle; margin-left: 2px; font-size: 0.7em; color: #e57373;\">ORG</span></span> <span style=\"padding: 2px; border-radius: 4px; border: 1px solid #ffe0b2; background: #fff3e0\">631226435882<span style=\"vertical-align: middle; margin-left: 2px; font-size: 0.7em; color: #ffb74d;\">INNKPP</span></span> <span style=\"padding: 2px; border-radius: 4px; border: 1px solid #c8e6c9; background: #e8f5e9\">ГОРОД МОСКВА УЛИЦА УСАЧЁВА ДОМ 24<span style=\"vertical-align: middle; margin-left: 2px; font-size: 0.7em; color: #66bb6a;\">LOC</span></span> Филиал банка Плательщик <span style=\"padding: 2px; border-radius: 4px; border: 1px solid #ffcdd2; background: #ffebee\">ООО Банк &quot;Саратов&quot;<span style=\"vertical-align: middle; margin-left: 2px; font-size: 0.7em; color: #e57373;\">ORG</span></span> тел. <span style=\"padding: 2px; border-radius: 4px; border: 1px solid #d1c4e9; background: #ede7f6\">8 344 741 9083<span style=\"vertical-align: middle; margin-left: 2px; font-size: 0.7em; color: #9575cd;\">STAT</span></span> БИК <span style=\"padding: 2px; border-radius: 4px; border: 1px solid #d1c4e9; background: #ede7f6\">044175088<span style=\"vertical-align: middle; margin-left: 2px; font-size: 0.7em; color: #9575cd;\">STAT</span></span></div>"
      ],
      "text/plain": [
       "<IPython.core.display.HTML object>"
      ]
     },
     "metadata": {},
     "output_type": "display_data"
    },
    {
     "data": {
      "text/html": [
       "<H3>ex 3:</H3>"
      ],
      "text/plain": [
       "<IPython.core.display.HTML object>"
      ]
     },
     "metadata": {},
     "output_type": "display_data"
    },
    {
     "data": {
      "text/html": [
       "<H4>DP:</H4>"
      ],
      "text/plain": [
       "<IPython.core.display.HTML object>"
      ]
     },
     "metadata": {},
     "output_type": "display_data"
    },
    {
     "data": {
      "text/html": [
       "<div class=\"tex2jax_ignore\" style=\"white-space: pre-wrap\">Инвестор ООО ДЮКА ИНН КПП 564500394 / 231201001 624134, Свердловская обл, г Новоуральск, ул Чурина, д 12/2, оф 20 рс 44468253734659494408 Филиал банка П-щик <span style=\"padding: 2px; border-radius: 4px; border: 1px solid #ffcdd2; background: #ffebee\">АКЦИОНЕРНОЕ ОБЩЕСТВО КОММЕРЧЕСКИЙ БАНК &quot;КУБАНСКИЙ ТОРГОВЫЙ БАНК&quot;<span style=\"vertical-align: middle; margin-left: 2px; font-size: 0.7em; color: #e57373;\">ORG</span></span> корр/сч 30446422624228206241</div>"
      ],
      "text/plain": [
       "<IPython.core.display.HTML object>"
      ]
     },
     "metadata": {},
     "output_type": "display_data"
    },
    {
     "data": {
      "text/html": [
       "<H4>NT:</H4>"
      ],
      "text/plain": [
       "<IPython.core.display.HTML object>"
      ]
     },
     "metadata": {},
     "output_type": "display_data"
    },
    {
     "data": {
      "text/html": [
       "<div class=\"tex2jax_ignore\" style=\"white-space: pre-wrap\">Инвестор <span style=\"padding: 2px; border-radius: 4px; border: 1px solid #ffcdd2; background: #ffebee\">ООО ДЮКА ИНН КПП<span style=\"vertical-align: middle; margin-left: 2px; font-size: 0.7em; color: #e57373;\">ORG</span></span> 564500394 / 231201001 624134, Свердловская обл, г Новоуральск, ул Чурина, д 12/2, оф 20 рс 44468253734659494408 Филиал банка <span style=\"padding: 2px; border-radius: 4px; border: 1px solid #ffcdd2; background: #ffebee\">П-щик АКЦИОНЕРНОЕ ОБЩЕСТВО КОММЕРЧЕСКИЙ БАНК &quot;КУБАНСКИЙ ТОРГОВЫЙ БАНК<span style=\"vertical-align: middle; margin-left: 2px; font-size: 0.7em; color: #e57373;\">ORG</span></span>&quot; корр/сч 30446422624228206241</div>"
      ],
      "text/plain": [
       "<IPython.core.display.HTML object>"
      ]
     },
     "metadata": {},
     "output_type": "display_data"
    },
    {
     "data": {
      "text/html": [
       "<H4>LD:</H4>"
      ],
      "text/plain": [
       "<IPython.core.display.HTML object>"
      ]
     },
     "metadata": {},
     "output_type": "display_data"
    },
    {
     "data": {
      "text/html": [
       "<div class=\"tex2jax_ignore\" style=\"white-space: pre-wrap\">Инвестор <span style=\"padding: 2px; border-radius: 4px; border: 1px solid #ffcdd2; background: #ffebee\">ООО ДЮКА<span style=\"vertical-align: middle; margin-left: 2px; font-size: 0.7em; color: #e57373;\">ORG</span></span> ИНН КПП <span style=\"padding: 2px; border-radius: 4px; border: 1px solid #ffe0b2; background: #fff3e0\">564500394<span style=\"vertical-align: middle; margin-left: 2px; font-size: 0.7em; color: #ffb74d;\">INNKPP</span></span> / <span style=\"padding: 2px; border-radius: 4px; border: 1px solid #ffe0b2; background: #fff3e0\">231201001<span style=\"vertical-align: middle; margin-left: 2px; font-size: 0.7em; color: #ffb74d;\">INNKPP</span></span> <span style=\"padding: 2px; border-radius: 4px; border: 1px solid #c8e6c9; background: #e8f5e9\">624134, Свердловская обл, г Новоуральск, ул Чурина, д 12/2, оф 20<span style=\"vertical-align: middle; margin-left: 2px; font-size: 0.7em; color: #66bb6a;\">LOC</span></span> рс <span style=\"padding: 2px; border-radius: 4px; border: 1px solid #d7ccc8; background: #efebe9\">44468253734659494408<span style=\"vertical-align: middle; margin-left: 2px; font-size: 0.7em; color: #a1887f;\">RSKS</span></span> Филиал банка П-щик <span style=\"padding: 2px; border-radius: 4px; border: 1px solid #ffcdd2; background: #ffebee\">АКЦИОНЕРНОЕ ОБЩЕСТВО КОММЕРЧЕСКИЙ БАНК &quot;КУБАНСКИЙ ТОРГОВЫЙ БАНК&quot;<span style=\"vertical-align: middle; margin-left: 2px; font-size: 0.7em; color: #e57373;\">ORG</span></span> корр/сч <span style=\"padding: 2px; border-radius: 4px; border: 1px solid #d7ccc8; background: #efebe9\">30446422624228206241<span style=\"vertical-align: middle; margin-left: 2px; font-size: 0.7em; color: #a1887f;\">RSKS</span></span></div>"
      ],
      "text/plain": [
       "<IPython.core.display.HTML object>"
      ]
     },
     "metadata": {},
     "output_type": "display_data"
    }
   ],
   "source": [
    "for i, v in enumerate(df_test.values[:4]):\n",
    "    text = v[1]\n",
    "    dp = ast.literal_eval(v[3])\n",
    "    nt = ast.literal_eval(v[4])\n",
    "    ld = ast.literal_eval(v[5])\n",
    "    display(HTML(f'<H3>ex {v[0]}:</H3>'))\n",
    "    display(HTML(f'<H4>DP:</H4>'))\n",
    "    show_box_markup(text, nlp_ner.get_span_coordinates_any(dp, text, False), palette=palette(PER=BLUE, ORG=RED, LOC=GREEN, INNKPP=ORANGE, STAT=PURPLE, RSKS=BROWN))\n",
    "    display(HTML(f'<H4>NT:</H4>'))\n",
    "    show_box_markup(text, nlp_ner.get_span_coordinates_any(nt, text), palette=palette(PER=BLUE, ORG=RED, LOC=GREEN, INNKPP=ORANGE, STAT=PURPLE, RSKS=BROWN))\n",
    "    display(HTML(f'<H4>LD:</H4>'))\n",
    "    nlp_ner.get_spans(text)\n",
    "    show_box_markup(text, nlp_ner.spans_coord, palette=palette(PER=BLUE, ORG=RED, LOC=GREEN, INNKPP=ORANGE, STAT=PURPLE, RSKS=BROWN))"
   ]
  }
 ],
 "metadata": {
  "kernelspec": {
   "display_name": "Python 3",
   "language": "python",
   "name": "python3"
  },
  "language_info": {
   "codemirror_mode": {
    "name": "ipython",
    "version": 3
   },
   "file_extension": ".py",
   "mimetype": "text/x-python",
   "name": "python",
   "nbconvert_exporter": "python",
   "pygments_lexer": "ipython3",
   "version": "3.7.13"
  }
 },
 "nbformat": 4,
 "nbformat_minor": 5
}
