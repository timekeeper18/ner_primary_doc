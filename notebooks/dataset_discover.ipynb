{
 "cells": [
  {
   "cell_type": "code",
   "execution_count": null,
   "id": "c16a8f36",
   "metadata": {},
   "outputs": [],
   "source": [
    "from pathlib import Path\n",
    "import os\n",
    "import shutil\n",
    "from datasets import load_dataset, load_metric\n",
    "import pandas as pd\n",
    "\n",
    "BASE_DIR = Path().cwd().parent\n",
    "wikiann_dl_dir = BASE_DIR.joinpath(\"data/interim\")\n",
    "task = 'ner'"
   ]
  },
  {
   "cell_type": "code",
   "execution_count": null,
   "id": "4308cc59",
   "metadata": {
    "scrolled": true
   },
   "outputs": [],
   "source": [
    "!pip3 install datasets transformers seqeval --user"
   ]
  },
  {
   "cell_type": "code",
   "execution_count": null,
   "id": "d3ad21d3",
   "metadata": {
    "scrolled": true
   },
   "outputs": [],
   "source": [
    "!pip3 install cufflinks plotly chart-studio tqdm==4.43.0"
   ]
  },
  {
   "cell_type": "code",
   "execution_count": null,
   "id": "a4737efd",
   "metadata": {},
   "outputs": [],
   "source": [
    "# Standard plotly imports\n",
    "from chart_studio import plotly as py\n",
    "import plotly.graph_objs as go\n",
    "from plotly.offline import iplot, init_notebook_mode\n",
    "# Using plotly + cufflinks in offline mode\n",
    "import cufflinks\n",
    "cufflinks.go_offline(connected=True)\n",
    "init_notebook_mode(connected=True)"
   ]
  },
  {
   "cell_type": "markdown",
   "id": "81afbe9b",
   "metadata": {},
   "source": [
    "## Подгружаем данные"
   ]
  },
  {
   "cell_type": "code",
   "execution_count": null,
   "id": "05d6f8a9",
   "metadata": {},
   "outputs": [],
   "source": [
    "shutil.rmtree(str(wikiann_dl_dir.joinpath('cache')))\n",
    "\n",
    "\n",
    "os.mkdir(str(wikiann_dl_dir.joinpath('cache')))\n",
    "\n",
    "datasets = load_dataset(str(wikiann_dl_dir.joinpath(\"wikiann_local.py\")), data_files=str(wikiann_dl_dir.joinpath(\"default.zip\")), \n",
    "                        cache_dir=str(wikiann_dl_dir.joinpath('cache')))\n",
    "\n",
    "datasets"
   ]
  },
  {
   "cell_type": "code",
   "execution_count": null,
   "id": "945655cf",
   "metadata": {},
   "outputs": [],
   "source": [
    "df = pd.DataFrame(datasets['train'])"
   ]
  },
  {
   "cell_type": "markdown",
   "id": "ebfee8fd",
   "metadata": {},
   "source": [
    "Получаем словарь тегов для дальнейшего преобразования датафрейма к виду: токен-тег-номер предложения"
   ]
  },
  {
   "cell_type": "code",
   "execution_count": null,
   "id": "5c4e066f",
   "metadata": {},
   "outputs": [],
   "source": [
    "label_list = datasets[\"train\"].features[f\"{task}_tags\"].feature.names\n",
    "label_list\n",
    "label_list = dict(enumerate(label_list))"
   ]
  },
  {
   "cell_type": "markdown",
   "id": "36e9ef00",
   "metadata": {},
   "source": [
    "### Анализ в разрезе токенов"
   ]
  },
  {
   "cell_type": "markdown",
   "id": "f56fdfd6",
   "metadata": {},
   "source": [
    "Преобразуем Датафрейм к виду токен-тег-номер предложения"
   ]
  },
  {
   "cell_type": "code",
   "execution_count": null,
   "id": "84cf53e6",
   "metadata": {},
   "outputs": [],
   "source": [
    "res = []\n",
    "for i, v in enumerate(df[['tokens', 'ner_tags']].values):\n",
    "    res.extend(zip([f'sent_{i}']*len(v[0]), v[0],[label_list[i] for i in v[1]]))\n",
    "df_tegs = pd.DataFrame(res, columns=['SENTENCE', 'TOKEN', 'TEG'])"
   ]
  },
  {
   "cell_type": "code",
   "execution_count": null,
   "id": "68fd7893",
   "metadata": {},
   "outputs": [],
   "source": [
    "df_tegs.info()"
   ]
  },
  {
   "cell_type": "markdown",
   "id": "c7db1050",
   "metadata": {},
   "source": [
    "Часточное распрпделеине тегов"
   ]
  },
  {
   "cell_type": "code",
   "execution_count": null,
   "id": "15d54441",
   "metadata": {
    "scrolled": false
   },
   "outputs": [],
   "source": [
    "df_tegs['TEG'].iplot(kind='hist', xTitle='TEG',\n",
    "                  yTitle='count', title='TEG Distribution')"
   ]
  },
  {
   "cell_type": "markdown",
   "id": "d5f11b05",
   "metadata": {},
   "source": [
    "Добавляем столбец Сущность - BIO-разметку приводим просто к сущностям"
   ]
  },
  {
   "cell_type": "code",
   "execution_count": null,
   "id": "54e653bb",
   "metadata": {},
   "outputs": [],
   "source": [
    "df_tegs['ENT'] = df_tegs['TEG'].apply(lambda x: x.split('-')[-1])"
   ]
  },
  {
   "cell_type": "markdown",
   "id": "6934ca28",
   "metadata": {},
   "source": [
    "Частотное распределение сущностей"
   ]
  },
  {
   "cell_type": "code",
   "execution_count": null,
   "id": "a3bebb95",
   "metadata": {},
   "outputs": [],
   "source": [
    "df_tegs['ENT'].iplot(kind='hist', xTitle='ENT',\n",
    "                  yTitle='count', title='ENT Distribution')"
   ]
  },
  {
   "cell_type": "markdown",
   "id": "7b9bc3b6",
   "metadata": {},
   "source": [
    "### Анализ в разрезе спанов"
   ]
  },
  {
   "cell_type": "code",
   "execution_count": null,
   "id": "4a7ccab4",
   "metadata": {},
   "outputs": [],
   "source": [
    "# df['spans'].values[0][0].split(':')\n",
    "\n",
    "def mske_span_teg(sent, dfs):\n",
    "    rr = []\n",
    "    for s in dfs:\n",
    "        split = s.split(':')\n",
    "        rr.append([sent, split[0], ''.join(split[1:]).strip()])\n",
    "    return rr\n",
    "\n",
    "\n",
    "\n",
    "res = []\n",
    "for i, v in enumerate(df[['spans']].values[:]):\n",
    "    sent = f'sent_{i}'\n",
    "    vv = mske_span_teg(sent, v[0])\n",
    "#     print(vv)\n",
    "    \n",
    "    res.extend(vv)\n",
    "df_spans = pd.DataFrame(res, columns=['SENTENCE','TEG', 'SPAN'])"
   ]
  },
  {
   "cell_type": "code",
   "execution_count": null,
   "id": "cc655bac",
   "metadata": {},
   "outputs": [],
   "source": [
    "df_spans.info()"
   ]
  },
  {
   "cell_type": "code",
   "execution_count": null,
   "id": "0848593c",
   "metadata": {},
   "outputs": [],
   "source": [
    "df_spans['TEG'].iplot(kind='hist', xTitle='TEG',\n",
    "                  yTitle='count', title='TEG Distribution')"
   ]
  },
  {
   "cell_type": "code",
   "execution_count": null,
   "id": "da7979e0",
   "metadata": {},
   "outputs": [],
   "source": [
    "df_spans[df_spans['TEG'] == 'PER']"
   ]
  },
  {
   "cell_type": "code",
   "execution_count": null,
   "id": "338f8fbf",
   "metadata": {},
   "outputs": [],
   "source": [
    "df_spans[['SENTENCE', 'TEG']].pivot(columns='SENTENCE', values='TEG').iplot(\n",
    "        kind='box',\n",
    "        yTitle='TEG',\n",
    "        title='TEG Distribution by SENTENCE')"
   ]
  }
 ],
 "metadata": {
  "kernelspec": {
   "display_name": "Python 3 (ipykernel)",
   "language": "python",
   "name": "python3"
  },
  "language_info": {
   "codemirror_mode": {
    "name": "ipython",
    "version": 3
   },
   "file_extension": ".py",
   "mimetype": "text/x-python",
   "name": "python",
   "nbconvert_exporter": "python",
   "pygments_lexer": "ipython3",
   "version": "3.10.4"
  }
 },
 "nbformat": 4,
 "nbformat_minor": 5
}
