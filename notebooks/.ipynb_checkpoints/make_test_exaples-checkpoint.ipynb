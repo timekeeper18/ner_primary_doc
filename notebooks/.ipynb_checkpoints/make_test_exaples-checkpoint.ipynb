{
 "cells": [
  {
   "cell_type": "markdown",
   "id": "f495807b",
   "metadata": {},
   "source": [
    "## Подготовка тестовой выборки для проверки NER-моделей Natasha и DeepPavlov"
   ]
  },
  {
   "cell_type": "markdown",
   "id": "ccf66069",
   "metadata": {},
   "source": [
    "```\n",
    "для проверки NER-ов:\n",
    "    1. берем из папки data/processed/test1_data default.tar.xz\n",
    "    2. подгружаем его в datasets\n",
    "    2. Создаем из него DataFrame, в котором в поле spans буду пары значений: [[сущность, тэг],]\n",
    "```"
   ]
  },
  {
   "cell_type": "code",
   "execution_count": 13,
   "id": "cd449b23",
   "metadata": {},
   "outputs": [],
   "source": [
    "from datasets import load_dataset, load_metric, ClassLabel, Sequence\n",
    "from pathlib import Path\n",
    "import random\n",
    "import pandas as pd\n",
    "from IPython.display import display, HTML\n",
    "from deeppavlov.models.tokenizers.nltk_moses_tokenizer import NLTKMosesTokenizer, MosesDetokenizer "
   ]
  },
  {
   "cell_type": "code",
   "execution_count": 3,
   "id": "7d5c3245",
   "metadata": {},
   "outputs": [],
   "source": [
    "task = \"ner\" # Should be one of \"ner\", \"pos\" or \"chunk\"\n",
    "model_checkpoint = \"bert-base-multilingual-uncased\"#\"mrm8488/distilbert-base-multi-cased-finetuned-typo-detection\" \"distilbert-base-uncased\" \n",
    "batch_size = 16"
   ]
  },
  {
   "cell_type": "code",
   "execution_count": 8,
   "id": "33386e44",
   "metadata": {},
   "outputs": [],
   "source": [
    "BASE_DIR = Path().cwd().parent\n",
    "wikiann_dl_dir = BASE_DIR.joinpath(\"data/interim\")"
   ]
  },
  {
   "cell_type": "code",
   "execution_count": 10,
   "id": "0c0783cb",
   "metadata": {},
   "outputs": [
    {
     "data": {
      "text/plain": [
       "PosixPath('/media/akhmadiev/528807968807782D/Develop/PycharmProjects/ld_learn_ner/data/interim')"
      ]
     },
     "execution_count": 10,
     "metadata": {},
     "output_type": "execute_result"
    }
   ],
   "source": [
    "wikiann_dl_dir"
   ]
  },
  {
   "cell_type": "code",
   "execution_count": 11,
   "id": "cacdadb8",
   "metadata": {},
   "outputs": [
    {
     "name": "stderr",
     "output_type": "stream",
     "text": [
      "Using custom data configuration default-4aaba002bc2c66b4\n"
     ]
    },
    {
     "name": "stdout",
     "output_type": "stream",
     "text": [
      "Downloading and preparing dataset wikiann/default (download: Unknown size, generated: Unknown size, post-processed: Unknown size, total: Unknown size) to /media/akhmadiev/528807968807782D/Develop/PycharmProjects/ld_learn_ner/data/interim/cache/wikiann/default-4aaba002bc2c66b4/1.1.0/17ccb6068a962cf083b84a313689d0878d2588d414a754548255cbc445bb1dc2...\n"
     ]
    },
    {
     "data": {
      "application/vnd.jupyter.widget-view+json": {
       "model_id": "a64748170cde4cdb97d69f1155748a62",
       "version_major": 2,
       "version_minor": 0
      },
      "text/plain": [
       "HBox(children=(FloatProgress(value=1.0, bar_style='info', max=1.0), HTML(value='')))"
      ]
     },
     "metadata": {},
     "output_type": "display_data"
    },
    {
     "name": "stdout",
     "output_type": "stream",
     "text": [
      "\r"
     ]
    },
    {
     "data": {
      "application/vnd.jupyter.widget-view+json": {
       "model_id": "e8933d4be209473782dd2e45c1fe39cc",
       "version_major": 2,
       "version_minor": 0
      },
      "text/plain": [
       "HBox(children=(FloatProgress(value=1.0, bar_style='info', max=1.0), HTML(value='')))"
      ]
     },
     "metadata": {},
     "output_type": "display_data"
    },
    {
     "name": "stdout",
     "output_type": "stream",
     "text": [
      "\r"
     ]
    },
    {
     "data": {
      "application/vnd.jupyter.widget-view+json": {
       "model_id": "89f2d4e5eab049a1b72ddf3dcd99964f",
       "version_major": 2,
       "version_minor": 0
      },
      "text/plain": [
       "HBox(children=(FloatProgress(value=1.0, bar_style='info', max=1.0), HTML(value='')))"
      ]
     },
     "metadata": {},
     "output_type": "display_data"
    },
    {
     "name": "stdout",
     "output_type": "stream",
     "text": [
      "\r",
      "Dataset wikiann downloaded and prepared to /media/akhmadiev/528807968807782D/Develop/PycharmProjects/ld_learn_ner/data/interim/cache/wikiann/default-4aaba002bc2c66b4/1.1.0/17ccb6068a962cf083b84a313689d0878d2588d414a754548255cbc445bb1dc2. Subsequent calls will reuse this data.\n"
     ]
    }
   ],
   "source": [
    "# подгружаекм dataset\n",
    "datasets = load_dataset(str(wikiann_dl_dir.joinpath(\"wikiann_local.py\")), data_files=str(wikiann_dl_dir.joinpath(\"default.tar.xz\")), \n",
    "                        cache_dir=str(wikiann_dl_dir.joinpath('cache')))"
   ]
  },
  {
   "cell_type": "code",
   "execution_count": 12,
   "id": "86d7f534",
   "metadata": {},
   "outputs": [
    {
     "data": {
      "text/plain": [
       "DatasetDict({\n",
       "    validation: Dataset({\n",
       "        features: ['tokens', 'ner_tags', 'langs', 'spans'],\n",
       "        num_rows: 20000\n",
       "    })\n",
       "    test: Dataset({\n",
       "        features: ['tokens', 'ner_tags', 'langs', 'spans'],\n",
       "        num_rows: 20000\n",
       "    })\n",
       "    train: Dataset({\n",
       "        features: ['tokens', 'ner_tags', 'langs', 'spans'],\n",
       "        num_rows: 20000\n",
       "    })\n",
       "})"
      ]
     },
     "execution_count": 12,
     "metadata": {},
     "output_type": "execute_result"
    }
   ],
   "source": [
    "datasets"
   ]
  },
  {
   "cell_type": "code",
   "execution_count": 36,
   "id": "052b53ef",
   "metadata": {},
   "outputs": [
    {
     "data": {
      "text/html": [
       "<table border=\"1\" class=\"dataframe\">\n",
       "  <thead>\n",
       "    <tr style=\"text-align: right;\">\n",
       "      <th></th>\n",
       "      <th>langs</th>\n",
       "      <th>ner_tags</th>\n",
       "      <th>spans</th>\n",
       "      <th>tokens</th>\n",
       "    </tr>\n",
       "  </thead>\n",
       "  <tbody>\n",
       "    <tr>\n",
       "      <th>0</th>\n",
       "      <td>[ru, ru, ru, ru, ru, ru, ru, ru, ru, ru, ru, ru, ru, ru, ru, ru, ru, ru, ru, ru, ru, ru, ru]</td>\n",
       "      <td>[B-ORG, I-ORG, I-ORG, I-ORG, I-ORG, O, O, B-INNKPP, O, O, O, B-ORG, I-ORG, O, B-STAT, I-STAT, I-STAT, I-STAT, I-STAT, I-STAT, I-STAT, O, B-STAT]</td>\n",
       "      <td>[ORG: ООО \" МВ КАСТОМ \", INNKPP: 7713782321, ORG: АО НОКССБАНК, STAT: +8 ( 842 ) 14 08 762, STAT: +8-956-009-5122]</td>\n",
       "      <td>[ООО, \", МВ, КАСТОМ, \", ИНН, З-чик, 7713782321, КПП, Банк, Подрядчик, АО, НОКССБАНК, тел., +8, (, 842, ), 14, 08, 762, тел., +8-956-009-5122]</td>\n",
       "    </tr>\n",
       "    <tr>\n",
       "      <th>1</th>\n",
       "      <td>[ru, ru, ru, ru, ru, ru, ru, ru, ru, ru, ru, ru, ru, ru, ru, ru, ru, ru, ru, ru, ru, ru, ru, ru, ru, ru, ru, ru, ru, ru, ru, ru, ru, ru, ru, ru, ru, ru, ru, ru, ru, ru, ru, ru, ru]</td>\n",
       "      <td>[O, B-ORG, I-ORG, I-ORG, I-ORG, I-ORG, I-ORG, I-ORG, B-INNKPP, O, O, O, B-LOC, I-LOC, I-LOC, I-LOC, I-LOC, I-LOC, I-LOC, I-LOC, I-LOC, I-LOC, I-LOC, I-LOC, I-LOC, I-LOC, I-LOC, I-LOC, I-LOC, I-LOC, O, B-RSKS, O, O, O, B-ORG, I-ORG, I-ORG, I-ORG, I-ORG, I-ORG, I-ORG, I-ORG, O, B-RSKS]</td>\n",
       "      <td>[ORG: ОБЩЕСТВО С ОГРАНИЧЕННОЙ ОТВЕТСТВЕННОСТЬЮ \" БИТИК \", INNKPP: 420539147769, LOC: 191024 , г Санкт-Петербург , Центральный р-н , Невский пр-кт , д 137 литер а , пом 4Н, RSKS: 41644321036265203363, ORG: ОБЩЕСТВО С ОГРАНИЧЕННОЙ ОТВЕТСТВЕННОСТЬЮ БАНК \" КУРГАН \", RSKS: 30226147704513508798]</td>\n",
       "      <td>[Подрядчик, ОБЩЕСТВО, С, ОГРАНИЧЕННОЙ, ОТВЕТСТВЕННОСТЬЮ, \", БИТИК, \", 420539147769, Адрес, банка, Исполнитель, 191024, ,, г, Санкт-Петербург, ,, Центральный, р-н, ,, Невский, пр-кт, ,, д, 137, литер, а, ,, пом, 4Н, рас, 41644321036265203363, Филиал, банка, Генподрядчик, ОБЩЕСТВО, С, ОГРАНИЧЕННОЙ, ОТВЕТСТВЕННОСТЬЮ, БАНК, \", КУРГАН, \", кор., 30226147704513508798]</td>\n",
       "    </tr>\n",
       "    <tr>\n",
       "      <th>2</th>\n",
       "      <td>[ru, ru, ru, ru, ru, ru, ru, ru, ru, ru, ru, ru, ru, ru, ru, ru, ru, ru, ru, ru, ru, ru, ru, ru, ru, ru, ru, ru, ru, ru, ru, ru, ru, ru, ru, ru, ru, ru]</td>\n",
       "      <td>[O, B-ORG, I-ORG, I-ORG, I-ORG, I-ORG, B-INNKPP, O, B-LOC, I-LOC, I-LOC, I-LOC, I-LOC, I-LOC, I-LOC, I-LOC, I-LOC, I-LOC, O, B-RSKS, O, O, O, B-ORG, I-ORG, I-ORG, I-ORG, I-ORG, I-ORG, B-STAT, O, B-STAT, I-STAT, I-STAT, I-STAT, O, O, B-RSKS]</td>\n",
       "      <td>[ORG: ФИЛИАЛ ООО \" УРОМГАЗ-ИРБИТ \", INNKPP: 4501047416, LOC: Г. МОСКВА УЛ. БАХРУШИНА Д. 19 СТР. 2 ПОМЕЩ. II, RSKS: 49345312955682427153, ORG: АО \" Сити Инвест Банк \", STAT: 045658478, STAT: 8 853 332 3961, RSKS: 30000019480704667729]</td>\n",
       "      <td>[Исполнитель, ФИЛИАЛ, ООО, \", УРОМГАЗ-ИРБИТ, \", 4501047416, /, Г., МОСКВА, УЛ., БАХРУШИНА, Д., 19, СТР., 2, ПОМЕЩ., II, р/сч, 49345312955682427153, Филиал, банка, Исполнитель, АО, \", Сити, Инвест, Банк, \", 045658478, тел., 8, 853, 332, 3961, корр., счет, 30000019480704667729]</td>\n",
       "    </tr>\n",
       "    <tr>\n",
       "      <th>3</th>\n",
       "      <td>[ru, ru, ru, ru, ru, ru, ru, ru, ru, ru, ru, ru, ru, ru, ru, ru, ru, ru, ru, ru, ru, ru, ru, ru, ru, ru, ru, ru, ru, ru, ru, ru, ru, ru]</td>\n",
       "      <td>[B-ORG, B-PER, I-PER, I-PER, O, O, B-INNKPP, O, B-INNKPP, B-LOC, I-LOC, I-LOC, I-LOC, I-LOC, I-LOC, I-LOC, I-LOC, I-LOC, I-LOC, I-LOC, O, B-ORG, I-ORG, I-ORG, I-ORG, I-ORG, O, B-STAT, I-STAT, I-STAT, I-STAT, I-STAT, O, B-RSKS]</td>\n",
       "      <td>[ORG: ИП, PER: Иванов Николай Федорович, INNKPP: 1435241564, INNKPP: 344343001, LOC: ОБЛАСТЬ ЧЕЛЯБИНСКАЯ ГОРОД ЗЛАТОУСТ ПРОСПЕКТ 30-ЛЕТИЯ ПОБЕДЫ ДОМ 10 КВАРТИРА 119, ORG: ООО КБ \" НЕВАСТРОЙИНВЕСТ \", STAT: +7 838 27 26 043, RSKS: 30514007378598161465]</td>\n",
       "      <td>[ИП, Иванов, Николай, Федорович, ИНН/КПП, Плательщик, 1435241564, /, 344343001, ОБЛАСТЬ, ЧЕЛЯБИНСКАЯ, ГОРОД, ЗЛАТОУСТ, ПРОСПЕКТ, 30-ЛЕТИЯ, ПОБЕДЫ, ДОМ, 10, КВАРТИРА, 119, Банк, ООО, КБ, \", НЕВАСТРОЙИНВЕСТ, \", тел., +7, 838, 27, 26, 043, корр.сч, 30514007378598161465]</td>\n",
       "    </tr>\n",
       "    <tr>\n",
       "      <th>4</th>\n",
       "      <td>[ru, ru, ru, ru, ru, ru, ru, ru, ru, ru, ru, ru, ru, ru, ru, ru, ru, ru, ru, ru, ru, ru, ru, ru, ru, ru, ru, ru, ru, ru, ru, ru, ru, ru, ru, ru, ru, ru, ru, ru, ru, ru, ru, ru, ru, ru, ru, ru]</td>\n",
       "      <td>[O, B-ORG, I-ORG, I-ORG, I-ORG, I-ORG, I-ORG, I-ORG, I-ORG, B-LOC, I-LOC, I-LOC, I-LOC, I-LOC, I-LOC, I-LOC, I-LOC, I-LOC, I-LOC, I-LOC, I-LOC, I-LOC, I-LOC, I-LOC, I-LOC, I-LOC, I-LOC, O, O, B-RSKS, O, O, O, B-ORG, I-ORG, I-ORG, I-ORG, I-ORG, I-ORG, I-ORG, I-ORG, I-ORG, I-ORG, I-ORG, O, B-RSKS, O, B-STAT]</td>\n",
       "      <td>[ORG: ОБЩЕСТВО С ОГРАНИЧЕННОЙ ОТВЕТСТВЕННОСТЬЮ \" НОВОЕ РАДИО \", LOC: 680000 , Хабаровский край , г Хабаровск , ул Ким Ю Чена , д 14 , оф 3, RSKS: 47045025688063794852, ORG: Коммерческий Банк \" СИСТЕМА \" ( общество с ограниченной ответственностью ), RSKS: 30001688599081260775, STAT: 8-346-439-26-11]</td>\n",
       "      <td>[Покупатель, ОБЩЕСТВО, С, ОГРАНИЧЕННОЙ, ОТВЕТСТВЕННОСТЬЮ, \", НОВОЕ, РАДИО, \", 680000, ,, Хабаровский, край, ,, г, Хабаровск, ,, ул, Ким, Ю, Чена, ,, д, 14, ,, оф, 3, счет, номер, 47045025688063794852, Филиал, банка, Субподрядчик, Коммерческий, Банк, \", СИСТЕМА, \", (, общество, с, ограниченной, ответственностью, ), корр.сч, 30001688599081260775, тел., 8-346-439-26-11]</td>\n",
       "    </tr>\n",
       "  </tbody>\n",
       "</table>"
      ],
      "text/plain": [
       "<IPython.core.display.HTML object>"
      ]
     },
     "metadata": {},
     "output_type": "display_data"
    }
   ],
   "source": [
    "# преобразуем dataset в DataFarme\n",
    "dataset = datasets[\"test\"]\n",
    "df = pd.DataFrame(dataset)\n",
    "for column, typ in dataset.features.items():\n",
    "    if isinstance(typ, ClassLabel):\n",
    "        df[column] = df[column].transform(lambda i: typ.names[i])\n",
    "    elif isinstance(typ, Sequence) and isinstance(typ.feature, ClassLabel):\n",
    "        df[column] = df[column].transform(lambda x: [typ.feature.names[i] for i in x])\n",
    "display(HTML(df.head().to_html()))"
   ]
  },
  {
   "cell_type": "code",
   "execution_count": 27,
   "id": "f98b5bc8",
   "metadata": {},
   "outputs": [],
   "source": [
    "chank = ['ООО', '\"', 'МВ', 'КАСТОМ', '\"', 'ИНН', 'З-чик', '7713782321', 'КПП', 'Банк', 'Подрядчик', 'АО', \n",
    "         'НОКССБАНК', 'тел.', '+8', '(', '842', ')', '14', '08', '762', 'тел.', '+8-956-009-5122']"
   ]
  },
  {
   "cell_type": "code",
   "execution_count": 37,
   "id": "9e46fd07",
   "metadata": {},
   "outputs": [],
   "source": [
    "# на основе поля массива токенов создаем строку исходного текста\n",
    "def make_str_from_tokens(chank):\n",
    "    detokenizer = NLTKMosesTokenizer('ru').detokenizer\n",
    "    tokens = detokenizer.detokenize([''.join(c)  for c in chank])\n",
    "    return tokens"
   ]
  },
  {
   "cell_type": "code",
   "execution_count": 38,
   "id": "6f5d8514",
   "metadata": {},
   "outputs": [],
   "source": [
    "# восстанавливаем текст на основе поля tokens\n",
    "df['text'] = df['tokens'].apply(make_str_from_tokens)"
   ]
  },
  {
   "cell_type": "code",
   "execution_count": 67,
   "id": "7c2b086d",
   "metadata": {},
   "outputs": [
    {
     "data": {
      "text/html": [
       "<table border=\"1\" class=\"dataframe\">\n",
       "  <thead>\n",
       "    <tr style=\"text-align: right;\">\n",
       "      <th></th>\n",
       "      <th>langs</th>\n",
       "      <th>ner_tags</th>\n",
       "      <th>spans</th>\n",
       "      <th>tokens</th>\n",
       "      <th>text</th>\n",
       "    </tr>\n",
       "  </thead>\n",
       "  <tbody>\n",
       "    <tr>\n",
       "      <th>0</th>\n",
       "      <td>[ru, ru, ru, ru, ru, ru, ru, ru, ru, ru, ru, ru, ru, ru, ru, ru, ru, ru, ru, ru, ru, ru, ru]</td>\n",
       "      <td>[B-ORG, I-ORG, I-ORG, I-ORG, I-ORG, O, O, B-INNKPP, O, O, O, B-ORG, I-ORG, O, B-STAT, I-STAT, I-STAT, I-STAT, I-STAT, I-STAT, I-STAT, O, B-STAT]</td>\n",
       "      <td>[ORG: ООО \" МВ КАСТОМ \", INNKPP: 7713782321, ORG: АО НОКССБАНК, STAT: +8 ( 842 ) 14 08 762, STAT: +8-956-009-5122]</td>\n",
       "      <td>[ООО, \", МВ, КАСТОМ, \", ИНН, З-чик, 7713782321, КПП, Банк, Подрядчик, АО, НОКССБАНК, тел., +8, (, 842, ), 14, 08, 762, тел., +8-956-009-5122]</td>\n",
       "      <td>ООО \"МВ КАСТОМ\" ИНН З-чик 7713782321 КПП Банк Подрядчик АО НОКССБАНК тел. +8 (842) 14 08 762 тел. +8-956-009-5122</td>\n",
       "    </tr>\n",
       "    <tr>\n",
       "      <th>1</th>\n",
       "      <td>[ru, ru, ru, ru, ru, ru, ru, ru, ru, ru, ru, ru, ru, ru, ru, ru, ru, ru, ru, ru, ru, ru, ru, ru, ru, ru, ru, ru, ru, ru, ru, ru, ru, ru, ru, ru, ru, ru, ru, ru, ru, ru, ru, ru, ru]</td>\n",
       "      <td>[O, B-ORG, I-ORG, I-ORG, I-ORG, I-ORG, I-ORG, I-ORG, B-INNKPP, O, O, O, B-LOC, I-LOC, I-LOC, I-LOC, I-LOC, I-LOC, I-LOC, I-LOC, I-LOC, I-LOC, I-LOC, I-LOC, I-LOC, I-LOC, I-LOC, I-LOC, I-LOC, I-LOC, O, B-RSKS, O, O, O, B-ORG, I-ORG, I-ORG, I-ORG, I-ORG, I-ORG, I-ORG, I-ORG, O, B-RSKS]</td>\n",
       "      <td>[ORG: ОБЩЕСТВО С ОГРАНИЧЕННОЙ ОТВЕТСТВЕННОСТЬЮ \" БИТИК \", INNKPP: 420539147769, LOC: 191024 , г Санкт-Петербург , Центральный р-н , Невский пр-кт , д 137 литер а , пом 4Н, RSKS: 41644321036265203363, ORG: ОБЩЕСТВО С ОГРАНИЧЕННОЙ ОТВЕТСТВЕННОСТЬЮ БАНК \" КУРГАН \", RSKS: 30226147704513508798]</td>\n",
       "      <td>[Подрядчик, ОБЩЕСТВО, С, ОГРАНИЧЕННОЙ, ОТВЕТСТВЕННОСТЬЮ, \", БИТИК, \", 420539147769, Адрес, банка, Исполнитель, 191024, ,, г, Санкт-Петербург, ,, Центральный, р-н, ,, Невский, пр-кт, ,, д, 137, литер, а, ,, пом, 4Н, рас, 41644321036265203363, Филиал, банка, Генподрядчик, ОБЩЕСТВО, С, ОГРАНИЧЕННОЙ, ОТВЕТСТВЕННОСТЬЮ, БАНК, \", КУРГАН, \", кор., 30226147704513508798]</td>\n",
       "      <td>Подрядчик ОБЩЕСТВО С ОГРАНИЧЕННОЙ ОТВЕТСТВЕННОСТЬЮ \"БИТИК\" 420539147769 Адрес банка Исполнитель 191024, г Санкт-Петербург, Центральный р-н, Невский пр-кт, д 137 литер а, пом 4Н рас 41644321036265203363 Филиал банка Генподрядчик ОБЩЕСТВО С ОГРАНИЧЕННОЙ ОТВЕТСТВЕННОСТЬЮ БАНК \"КУРГАН\" кор. 30226147704513508798</td>\n",
       "    </tr>\n",
       "    <tr>\n",
       "      <th>2</th>\n",
       "      <td>[ru, ru, ru, ru, ru, ru, ru, ru, ru, ru, ru, ru, ru, ru, ru, ru, ru, ru, ru, ru, ru, ru, ru, ru, ru, ru, ru, ru, ru, ru, ru, ru, ru, ru, ru, ru, ru, ru]</td>\n",
       "      <td>[O, B-ORG, I-ORG, I-ORG, I-ORG, I-ORG, B-INNKPP, O, B-LOC, I-LOC, I-LOC, I-LOC, I-LOC, I-LOC, I-LOC, I-LOC, I-LOC, I-LOC, O, B-RSKS, O, O, O, B-ORG, I-ORG, I-ORG, I-ORG, I-ORG, I-ORG, B-STAT, O, B-STAT, I-STAT, I-STAT, I-STAT, O, O, B-RSKS]</td>\n",
       "      <td>[ORG: ФИЛИАЛ ООО \" УРОМГАЗ-ИРБИТ \", INNKPP: 4501047416, LOC: Г. МОСКВА УЛ. БАХРУШИНА Д. 19 СТР. 2 ПОМЕЩ. II, RSKS: 49345312955682427153, ORG: АО \" Сити Инвест Банк \", STAT: 045658478, STAT: 8 853 332 3961, RSKS: 30000019480704667729]</td>\n",
       "      <td>[Исполнитель, ФИЛИАЛ, ООО, \", УРОМГАЗ-ИРБИТ, \", 4501047416, /, Г., МОСКВА, УЛ., БАХРУШИНА, Д., 19, СТР., 2, ПОМЕЩ., II, р/сч, 49345312955682427153, Филиал, банка, Исполнитель, АО, \", Сити, Инвест, Банк, \", 045658478, тел., 8, 853, 332, 3961, корр., счет, 30000019480704667729]</td>\n",
       "      <td>Исполнитель ФИЛИАЛ ООО \"УРОМГАЗ-ИРБИТ\" 4501047416 / Г. МОСКВА УЛ. БАХРУШИНА Д. 19 СТР. 2 ПОМЕЩ. II р/сч 49345312955682427153 Филиал банка Исполнитель АО \"Сити Инвест Банк\" 045658478 тел. 8 853 332 3961 корр. счет 30000019480704667729</td>\n",
       "    </tr>\n",
       "    <tr>\n",
       "      <th>3</th>\n",
       "      <td>[ru, ru, ru, ru, ru, ru, ru, ru, ru, ru, ru, ru, ru, ru, ru, ru, ru, ru, ru, ru, ru, ru, ru, ru, ru, ru, ru, ru, ru, ru, ru, ru, ru, ru]</td>\n",
       "      <td>[B-ORG, B-PER, I-PER, I-PER, O, O, B-INNKPP, O, B-INNKPP, B-LOC, I-LOC, I-LOC, I-LOC, I-LOC, I-LOC, I-LOC, I-LOC, I-LOC, I-LOC, I-LOC, O, B-ORG, I-ORG, I-ORG, I-ORG, I-ORG, O, B-STAT, I-STAT, I-STAT, I-STAT, I-STAT, O, B-RSKS]</td>\n",
       "      <td>[ORG: ИП, PER: Иванов Николай Федорович, INNKPP: 1435241564, INNKPP: 344343001, LOC: ОБЛАСТЬ ЧЕЛЯБИНСКАЯ ГОРОД ЗЛАТОУСТ ПРОСПЕКТ 30-ЛЕТИЯ ПОБЕДЫ ДОМ 10 КВАРТИРА 119, ORG: ООО КБ \" НЕВАСТРОЙИНВЕСТ \", STAT: +7 838 27 26 043, RSKS: 30514007378598161465]</td>\n",
       "      <td>[ИП, Иванов, Николай, Федорович, ИНН/КПП, Плательщик, 1435241564, /, 344343001, ОБЛАСТЬ, ЧЕЛЯБИНСКАЯ, ГОРОД, ЗЛАТОУСТ, ПРОСПЕКТ, 30-ЛЕТИЯ, ПОБЕДЫ, ДОМ, 10, КВАРТИРА, 119, Банк, ООО, КБ, \", НЕВАСТРОЙИНВЕСТ, \", тел., +7, 838, 27, 26, 043, корр.сч, 30514007378598161465]</td>\n",
       "      <td>ИП Иванов Николай Федорович ИНН/КПП Плательщик 1435241564 / 344343001 ОБЛАСТЬ ЧЕЛЯБИНСКАЯ ГОРОД ЗЛАТОУСТ ПРОСПЕКТ 30-ЛЕТИЯ ПОБЕДЫ ДОМ 10 КВАРТИРА 119 Банк ООО КБ \"НЕВАСТРОЙИНВЕСТ\" тел. +7 838 27 26 043 корр.сч 30514007378598161465</td>\n",
       "    </tr>\n",
       "    <tr>\n",
       "      <th>4</th>\n",
       "      <td>[ru, ru, ru, ru, ru, ru, ru, ru, ru, ru, ru, ru, ru, ru, ru, ru, ru, ru, ru, ru, ru, ru, ru, ru, ru, ru, ru, ru, ru, ru, ru, ru, ru, ru, ru, ru, ru, ru, ru, ru, ru, ru, ru, ru, ru, ru, ru, ru]</td>\n",
       "      <td>[O, B-ORG, I-ORG, I-ORG, I-ORG, I-ORG, I-ORG, I-ORG, I-ORG, B-LOC, I-LOC, I-LOC, I-LOC, I-LOC, I-LOC, I-LOC, I-LOC, I-LOC, I-LOC, I-LOC, I-LOC, I-LOC, I-LOC, I-LOC, I-LOC, I-LOC, I-LOC, O, O, B-RSKS, O, O, O, B-ORG, I-ORG, I-ORG, I-ORG, I-ORG, I-ORG, I-ORG, I-ORG, I-ORG, I-ORG, I-ORG, O, B-RSKS, O, B-STAT]</td>\n",
       "      <td>[ORG: ОБЩЕСТВО С ОГРАНИЧЕННОЙ ОТВЕТСТВЕННОСТЬЮ \" НОВОЕ РАДИО \", LOC: 680000 , Хабаровский край , г Хабаровск , ул Ким Ю Чена , д 14 , оф 3, RSKS: 47045025688063794852, ORG: Коммерческий Банк \" СИСТЕМА \" ( общество с ограниченной ответственностью ), RSKS: 30001688599081260775, STAT: 8-346-439-26-11]</td>\n",
       "      <td>[Покупатель, ОБЩЕСТВО, С, ОГРАНИЧЕННОЙ, ОТВЕТСТВЕННОСТЬЮ, \", НОВОЕ, РАДИО, \", 680000, ,, Хабаровский, край, ,, г, Хабаровск, ,, ул, Ким, Ю, Чена, ,, д, 14, ,, оф, 3, счет, номер, 47045025688063794852, Филиал, банка, Субподрядчик, Коммерческий, Банк, \", СИСТЕМА, \", (, общество, с, ограниченной, ответственностью, ), корр.сч, 30001688599081260775, тел., 8-346-439-26-11]</td>\n",
       "      <td>Покупатель ОБЩЕСТВО С ОГРАНИЧЕННОЙ ОТВЕТСТВЕННОСТЬЮ \"НОВОЕ РАДИО\" 680000, Хабаровский край, г Хабаровск, ул Ким Ю Чена, д 14, оф 3 счет номер 47045025688063794852 Филиал банка Субподрядчик Коммерческий Банк \"СИСТЕМА\" (общество с ограниченной ответственностью) корр.сч 30001688599081260775 тел. 8-346-439-26-11</td>\n",
       "    </tr>\n",
       "  </tbody>\n",
       "</table>"
      ],
      "text/plain": [
       "<IPython.core.display.HTML object>"
      ]
     },
     "metadata": {},
     "output_type": "display_data"
    }
   ],
   "source": [
    "display(HTML(df.head().to_html()))"
   ]
  },
  {
   "cell_type": "code",
   "execution_count": 62,
   "id": "7a88bdb0",
   "metadata": {},
   "outputs": [],
   "source": [
    "# создаем формат [[tag, value]] для оценки качества других NER-моделей\n",
    "spans = df['spans'].values[3]\n",
    "\n",
    "\n",
    "def make_tag_value_from_spans(spans):\n",
    "    i = 0\n",
    "    result = []\n",
    "    while i < len(spans):\n",
    "        s = spans[i].split(': ')\n",
    "        if s[0] == 'ORG' and s[1].split()[0].upper() in ['ИП', 'ИНДИВИДУАЛЬНЫЙ']:\n",
    "            s1 = spans[i+1].split(': ')\n",
    "            if s1[0] == 'PER':\n",
    "                result.append([s[0], \"{} {}\".format(s[1], s1[1])])\n",
    "                i+=1\n",
    "            else:\n",
    "                result.append([s[0], s[1]])\n",
    "        else:\n",
    "            result.append([s[0], s[1]])\n",
    "        i+=1\n",
    "    return result"
   ]
  },
  {
   "cell_type": "code",
   "execution_count": 63,
   "id": "bb8c20d6",
   "metadata": {},
   "outputs": [
    {
     "ename": "IndexError",
     "evalue": "list index out of range",
     "output_type": "error",
     "traceback": [
      "\u001b[0;31m---------------------------------------------------------------------------\u001b[0m",
      "\u001b[0;31mIndexError\u001b[0m                                Traceback (most recent call last)",
      "\u001b[0;32m<ipython-input-63-61a99c7b96ce>\u001b[0m in \u001b[0;36m<module>\u001b[0;34m\u001b[0m\n\u001b[1;32m      1\u001b[0m \u001b[0;31m# восстанавливаем тэги и их значения\u001b[0m\u001b[0;34m\u001b[0m\u001b[0;34m\u001b[0m\u001b[0;34m\u001b[0m\u001b[0m\n\u001b[0;32m----> 2\u001b[0;31m \u001b[0mdf\u001b[0m\u001b[0;34m[\u001b[0m\u001b[0;34m'teg_value'\u001b[0m\u001b[0;34m]\u001b[0m \u001b[0;34m=\u001b[0m \u001b[0mdf\u001b[0m\u001b[0;34m[\u001b[0m\u001b[0;34m'spans'\u001b[0m\u001b[0;34m]\u001b[0m\u001b[0;34m.\u001b[0m\u001b[0mapply\u001b[0m\u001b[0;34m(\u001b[0m\u001b[0mmake_tag_value_from_spans\u001b[0m\u001b[0;34m)\u001b[0m\u001b[0;34m\u001b[0m\u001b[0;34m\u001b[0m\u001b[0m\n\u001b[0m",
      "\u001b[0;32m~/.local/lib/python3.7/site-packages/pandas/core/series.py\u001b[0m in \u001b[0;36mapply\u001b[0;34m(self, func, convert_dtype, args, **kwds)\u001b[0m\n\u001b[1;32m   4043\u001b[0m             \u001b[0;32melse\u001b[0m\u001b[0;34m:\u001b[0m\u001b[0;34m\u001b[0m\u001b[0;34m\u001b[0m\u001b[0m\n\u001b[1;32m   4044\u001b[0m                 \u001b[0mvalues\u001b[0m \u001b[0;34m=\u001b[0m \u001b[0mself\u001b[0m\u001b[0;34m.\u001b[0m\u001b[0mastype\u001b[0m\u001b[0;34m(\u001b[0m\u001b[0mobject\u001b[0m\u001b[0;34m)\u001b[0m\u001b[0;34m.\u001b[0m\u001b[0mvalues\u001b[0m\u001b[0;34m\u001b[0m\u001b[0;34m\u001b[0m\u001b[0m\n\u001b[0;32m-> 4045\u001b[0;31m                 \u001b[0mmapped\u001b[0m \u001b[0;34m=\u001b[0m \u001b[0mlib\u001b[0m\u001b[0;34m.\u001b[0m\u001b[0mmap_infer\u001b[0m\u001b[0;34m(\u001b[0m\u001b[0mvalues\u001b[0m\u001b[0;34m,\u001b[0m \u001b[0mf\u001b[0m\u001b[0;34m,\u001b[0m \u001b[0mconvert\u001b[0m\u001b[0;34m=\u001b[0m\u001b[0mconvert_dtype\u001b[0m\u001b[0;34m)\u001b[0m\u001b[0;34m\u001b[0m\u001b[0;34m\u001b[0m\u001b[0m\n\u001b[0m\u001b[1;32m   4046\u001b[0m \u001b[0;34m\u001b[0m\u001b[0m\n\u001b[1;32m   4047\u001b[0m         \u001b[0;32mif\u001b[0m \u001b[0mlen\u001b[0m\u001b[0;34m(\u001b[0m\u001b[0mmapped\u001b[0m\u001b[0;34m)\u001b[0m \u001b[0;32mand\u001b[0m \u001b[0misinstance\u001b[0m\u001b[0;34m(\u001b[0m\u001b[0mmapped\u001b[0m\u001b[0;34m[\u001b[0m\u001b[0;36m0\u001b[0m\u001b[0;34m]\u001b[0m\u001b[0;34m,\u001b[0m \u001b[0mSeries\u001b[0m\u001b[0;34m)\u001b[0m\u001b[0;34m:\u001b[0m\u001b[0;34m\u001b[0m\u001b[0;34m\u001b[0m\u001b[0m\n",
      "\u001b[0;32mpandas/_libs/lib.pyx\u001b[0m in \u001b[0;36mpandas._libs.lib.map_infer\u001b[0;34m()\u001b[0m\n",
      "\u001b[0;32m<ipython-input-62-235e69083052>\u001b[0m in \u001b[0;36mmake_tag_value_from_spans\u001b[0;34m(spans)\u001b[0m\n\u001b[1;32m     16\u001b[0m                 \u001b[0mresult\u001b[0m\u001b[0;34m.\u001b[0m\u001b[0mappend\u001b[0m\u001b[0;34m(\u001b[0m\u001b[0;34m[\u001b[0m\u001b[0ms\u001b[0m\u001b[0;34m[\u001b[0m\u001b[0;36m0\u001b[0m\u001b[0;34m]\u001b[0m\u001b[0;34m,\u001b[0m \u001b[0ms\u001b[0m\u001b[0;34m[\u001b[0m\u001b[0;36m1\u001b[0m\u001b[0;34m]\u001b[0m\u001b[0;34m]\u001b[0m\u001b[0;34m)\u001b[0m\u001b[0;34m\u001b[0m\u001b[0;34m\u001b[0m\u001b[0m\n\u001b[1;32m     17\u001b[0m         \u001b[0;32melse\u001b[0m\u001b[0;34m:\u001b[0m\u001b[0;34m\u001b[0m\u001b[0;34m\u001b[0m\u001b[0m\n\u001b[0;32m---> 18\u001b[0;31m             \u001b[0mresult\u001b[0m\u001b[0;34m.\u001b[0m\u001b[0mappend\u001b[0m\u001b[0;34m(\u001b[0m\u001b[0;34m[\u001b[0m\u001b[0ms\u001b[0m\u001b[0;34m[\u001b[0m\u001b[0;36m0\u001b[0m\u001b[0;34m]\u001b[0m\u001b[0;34m,\u001b[0m \u001b[0ms\u001b[0m\u001b[0;34m[\u001b[0m\u001b[0;36m1\u001b[0m\u001b[0;34m]\u001b[0m\u001b[0;34m]\u001b[0m\u001b[0;34m)\u001b[0m\u001b[0;34m\u001b[0m\u001b[0;34m\u001b[0m\u001b[0m\n\u001b[0m\u001b[1;32m     19\u001b[0m         \u001b[0mi\u001b[0m\u001b[0;34m+=\u001b[0m\u001b[0;36m1\u001b[0m\u001b[0;34m\u001b[0m\u001b[0;34m\u001b[0m\u001b[0m\n\u001b[1;32m     20\u001b[0m     \u001b[0;32mreturn\u001b[0m \u001b[0mresult\u001b[0m\u001b[0;34m\u001b[0m\u001b[0;34m\u001b[0m\u001b[0m\n",
      "\u001b[0;31mIndexError\u001b[0m: list index out of range"
     ]
    }
   ],
   "source": [
    "# восстанавливаем тэги и их значения\n",
    "df['teg_value'] = df['spans'].apply(make_tag_value_from_spans)"
   ]
  },
  {
   "cell_type": "code",
   "execution_count": 66,
   "id": "04b5a3c7",
   "metadata": {},
   "outputs": [
    {
     "name": "stdout",
     "output_type": "stream",
     "text": [
      "['None']\n",
      "['None']\n",
      "['None']\n",
      "['None']\n",
      "['None']\n",
      "['None']\n",
      "['None']\n",
      "['None']\n",
      "['None']\n",
      "['None']\n",
      "['None']\n",
      "['None']\n",
      "['None']\n",
      "['None']\n",
      "['None']\n",
      "['None']\n",
      "['None']\n",
      "['None']\n",
      "['None']\n",
      "['None']\n",
      "['None']\n",
      "['None']\n",
      "['None']\n",
      "['None']\n",
      "['None']\n",
      "['None']\n",
      "['None']\n",
      "['None']\n",
      "['None']\n",
      "['None']\n",
      "['None']\n",
      "['None']\n",
      "['None']\n",
      "['None']\n",
      "['None']\n",
      "['None']\n",
      "['None']\n",
      "['None']\n",
      "['None']\n",
      "['None']\n",
      "['None']\n",
      "['None']\n",
      "['None']\n",
      "['None']\n",
      "['None']\n",
      "['None']\n",
      "['None']\n",
      "['None']\n",
      "['None']\n",
      "['None']\n",
      "['None']\n",
      "['None']\n",
      "['None']\n",
      "['None']\n",
      "['None']\n",
      "['None']\n",
      "['None']\n",
      "['None']\n",
      "['None']\n",
      "['None']\n",
      "['None']\n",
      "['None']\n",
      "['None']\n",
      "['None']\n",
      "['None']\n",
      "['None']\n",
      "['None']\n",
      "['None']\n",
      "['None']\n",
      "['None']\n",
      "['None']\n",
      "['None']\n",
      "['None']\n",
      "['None']\n",
      "['None']\n",
      "['None']\n",
      "['None']\n",
      "['None']\n",
      "['None']\n",
      "['None']\n",
      "['None']\n",
      "['None']\n",
      "['None']\n",
      "['None']\n",
      "['None']\n",
      "['None']\n",
      "['None']\n",
      "['None']\n",
      "['None']\n",
      "['None']\n",
      "['None']\n",
      "['None']\n",
      "['None']\n"
     ]
    }
   ],
   "source": [
    "for s in df.values:\n",
    "    spans = s[2]\n",
    "    try:\n",
    "        make_tag_value_from_spans(spans)\n",
    "    except:\n",
    "        print(spans)"
   ]
  }
 ],
 "metadata": {
  "kernelspec": {
   "display_name": "Python 3",
   "language": "python",
   "name": "python3"
  },
  "language_info": {
   "codemirror_mode": {
    "name": "ipython",
    "version": 3
   },
   "file_extension": ".py",
   "mimetype": "text/x-python",
   "name": "python",
   "nbconvert_exporter": "python",
   "pygments_lexer": "ipython3",
   "version": "3.7.10"
  }
 },
 "nbformat": 4,
 "nbformat_minor": 5
}
