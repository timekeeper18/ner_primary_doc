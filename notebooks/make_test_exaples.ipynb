{
 "cells": [
  {
   "cell_type": "markdown",
   "id": "dfaee3ba",
   "metadata": {},
   "source": [
    "## Подготовка тестовой выборки для проверки NER-моделей Natasha и DeepPavlov"
   ]
  },
  {
   "cell_type": "markdown",
   "id": "60c08ee1",
   "metadata": {},
   "source": [
    "```\n",
    "для проверки NER-ов:\n",
    "    1. берем из папки data/processed/test1_data default.tar.xz\n",
    "    2. подгружаем его в datasets\n",
    "    2. Создаем из него DataFrame, в котором в поле spans буду пары значений: [[сущность, тэг],]\n",
    "```"
   ]
  },
  {
   "cell_type": "code",
   "execution_count": 1,
   "id": "fbcc97fb",
   "metadata": {},
   "outputs": [
    {
     "name": "stderr",
     "output_type": "stream",
     "text": [
      "[nltk_data] Downloading package punkt to /home/akhmadiev/nltk_data...\n",
      "[nltk_data]   Package punkt is already up-to-date!\n",
      "[nltk_data] Downloading package stopwords to\n",
      "[nltk_data]     /home/akhmadiev/nltk_data...\n",
      "[nltk_data]   Package stopwords is already up-to-date!\n",
      "[nltk_data] Downloading package perluniprops to\n",
      "[nltk_data]     /home/akhmadiev/nltk_data...\n",
      "[nltk_data]   Package perluniprops is already up-to-date!\n",
      "[nltk_data] Downloading package nonbreaking_prefixes to\n",
      "[nltk_data]     /home/akhmadiev/nltk_data...\n",
      "[nltk_data]   Package nonbreaking_prefixes is already up-to-date!\n"
     ]
    }
   ],
   "source": [
    "from datasets import load_dataset, load_metric, ClassLabel, Sequence\n",
    "from pathlib import Path\n",
    "import random\n",
    "import pandas as pd\n",
    "from IPython.display import display, HTML\n",
    "from deeppavlov.models.tokenizers.nltk_moses_tokenizer import NLTKMosesTokenizer, MosesDetokenizer \n",
    "from razdel import sentenize, tokenize"
   ]
  },
  {
   "cell_type": "code",
   "execution_count": 2,
   "id": "c5fd3981",
   "metadata": {},
   "outputs": [],
   "source": [
    "task = \"ner\" # Should be one of \"ner\", \"pos\" or \"chunk\"\n",
    "model_checkpoint = \"bert-base-multilingual-uncased\"#\"mrm8488/distilbert-base-multi-cased-finetuned-typo-detection\" \"distilbert-base-uncased\" \n",
    "batch_size = 16"
   ]
  },
  {
   "cell_type": "code",
   "execution_count": 4,
   "id": "fb9a9f28",
   "metadata": {},
   "outputs": [],
   "source": [
    "BASE_DIR = Path().cwd().parent\n",
    "wikiann_dl_dir = BASE_DIR.joinpath(\"data/interim\")"
   ]
  },
  {
   "cell_type": "code",
   "execution_count": 10,
   "id": "b5c8cb3e",
   "metadata": {},
   "outputs": [
    {
     "data": {
      "text/plain": [
       "PosixPath('/media/akhmadiev/528807968807782D/Develop/PycharmProjects/ld_learn_ner/data/interim')"
      ]
     },
     "execution_count": 10,
     "metadata": {},
     "output_type": "execute_result"
    }
   ],
   "source": [
    "wikiann_dl_dir"
   ]
  },
  {
   "cell_type": "code",
   "execution_count": 5,
   "id": "8573e45c",
   "metadata": {},
   "outputs": [
    {
     "name": "stderr",
     "output_type": "stream",
     "text": [
      "Using custom data configuration default-8f6ad73a717029a6\n"
     ]
    },
    {
     "name": "stdout",
     "output_type": "stream",
     "text": [
      "Downloading and preparing dataset wikiann/default (download: Unknown size, generated: Unknown size, post-processed: Unknown size, total: Unknown size) to /media/akhmadiev/528807968807782D/Develop/PycharmProjects/ld_learn_ner/data/interim/cache/wikiann/default-8f6ad73a717029a6/1.1.0/17ccb6068a962cf083b84a313689d0878d2588d414a754548255cbc445bb1dc2...\n"
     ]
    },
    {
     "data": {
      "application/vnd.jupyter.widget-view+json": {
       "model_id": "ec5f0b76c82a46b6848f29ded26fb180",
       "version_major": 2,
       "version_minor": 0
      },
      "text/plain": [
       "HBox(children=(FloatProgress(value=1.0, bar_style='info', max=1.0), HTML(value='')))"
      ]
     },
     "metadata": {},
     "output_type": "display_data"
    },
    {
     "name": "stdout",
     "output_type": "stream",
     "text": [
      "\r"
     ]
    },
    {
     "data": {
      "application/vnd.jupyter.widget-view+json": {
       "model_id": "029795bcd9474634aaf950700957c724",
       "version_major": 2,
       "version_minor": 0
      },
      "text/plain": [
       "HBox(children=(FloatProgress(value=1.0, bar_style='info', max=1.0), HTML(value='')))"
      ]
     },
     "metadata": {},
     "output_type": "display_data"
    },
    {
     "name": "stdout",
     "output_type": "stream",
     "text": [
      "\r"
     ]
    },
    {
     "data": {
      "application/vnd.jupyter.widget-view+json": {
       "model_id": "ecbe76dec19b49b2a3f97cd09397fc21",
       "version_major": 2,
       "version_minor": 0
      },
      "text/plain": [
       "HBox(children=(FloatProgress(value=1.0, bar_style='info', max=1.0), HTML(value='')))"
      ]
     },
     "metadata": {},
     "output_type": "display_data"
    },
    {
     "name": "stdout",
     "output_type": "stream",
     "text": [
      "\r",
      "Dataset wikiann downloaded and prepared to /media/akhmadiev/528807968807782D/Develop/PycharmProjects/ld_learn_ner/data/interim/cache/wikiann/default-8f6ad73a717029a6/1.1.0/17ccb6068a962cf083b84a313689d0878d2588d414a754548255cbc445bb1dc2. Subsequent calls will reuse this data.\n"
     ]
    }
   ],
   "source": [
    "# подгружаекм dataset\n",
    "\n",
    "\n",
    "import shutil\n",
    "shutil.rmtree(str(wikiann_dl_dir.joinpath('cache')))\n",
    "import os\n",
    "\n",
    "os.mkdir(str(wikiann_dl_dir.joinpath('cache')))\n",
    "\n",
    "\n",
    "datasets = load_dataset(str(wikiann_dl_dir.joinpath(\"wikiann_local.py\")), data_files=str(wikiann_dl_dir.joinpath(\"default.tar.xz\")), \n",
    "                        cache_dir=str(wikiann_dl_dir.joinpath('cache')))"
   ]
  },
  {
   "cell_type": "code",
   "execution_count": 6,
   "id": "21f63a89",
   "metadata": {},
   "outputs": [
    {
     "data": {
      "text/plain": [
       "DatasetDict({\n",
       "    validation: Dataset({\n",
       "        features: ['tokens', 'ner_tags', 'langs', 'spans'],\n",
       "        num_rows: 20000\n",
       "    })\n",
       "    test: Dataset({\n",
       "        features: ['tokens', 'ner_tags', 'langs', 'spans'],\n",
       "        num_rows: 20000\n",
       "    })\n",
       "    train: Dataset({\n",
       "        features: ['tokens', 'ner_tags', 'langs', 'spans'],\n",
       "        num_rows: 20000\n",
       "    })\n",
       "})"
      ]
     },
     "execution_count": 6,
     "metadata": {},
     "output_type": "execute_result"
    }
   ],
   "source": [
    "datasets"
   ]
  },
  {
   "cell_type": "code",
   "execution_count": 7,
   "id": "9216cfe5",
   "metadata": {},
   "outputs": [
    {
     "data": {
      "text/html": [
       "<table border=\"1\" class=\"dataframe\">\n",
       "  <thead>\n",
       "    <tr style=\"text-align: right;\">\n",
       "      <th></th>\n",
       "      <th>langs</th>\n",
       "      <th>ner_tags</th>\n",
       "      <th>spans</th>\n",
       "      <th>tokens</th>\n",
       "    </tr>\n",
       "  </thead>\n",
       "  <tbody>\n",
       "    <tr>\n",
       "      <th>0</th>\n",
       "      <td>[ru, ru, ru, ru, ru, ru, ru, ru, ru, ru, ru, ru, ru, ru, ru, ru, ru, ru, ru, ru, ru, ru, ru, ru, ru, ru, ru, ru]</td>\n",
       "      <td>[O, B-ORG, I-ORG, I-ORG, I-ORG, I-ORG, I-ORG, I-ORG, O, O, O, B-LOC, I-LOC, I-LOC, I-LOC, I-LOC, O, O, O, B-INNKPP, O, B-INNKPP, O, O, B-STAT, O, O, B-RSKS]</td>\n",
       "      <td>[ORG: МУП МП ГОРОДСКОГО ОКРУГА САМАРА КРАСНОГЛИНСКИЕ БАНИ, LOC: Брянская область , город Новозыбков, INNKPP: 100601303468, INNKPP: 632501001, STAT: +7-830-199-8031, RSKS: 30310411361955797442]</td>\n",
       "      <td>[Инвестор, МУП, МП, ГОРОДСКОГО, ОКРУГА, САМАРА, КРАСНОГЛИНСКИЕ, БАНИ, Адрес, филиала, банка, Брянская, область, ,, город, Новозыбков, Банк, Инвестор, ИНН/КПП, 100601303468, /, 632501001, тел, ., +7-830-199-8031, корр., счет, 30310411361955797442]</td>\n",
       "    </tr>\n",
       "    <tr>\n",
       "      <th>1</th>\n",
       "      <td>[ru, ru, ru, ru, ru, ru, ru, ru, ru, ru, ru, ru, ru, ru, ru, ru, ru, ru, ru, ru, ru, ru, ru, ru, ru, ru, ru, ru, ru, ru, ru, ru, ru, ru, ru, ru, ru, ru, ru, ru, ru, ru, ru, ru, ru, ru, ru, ru, ru, ru, ru, ru]</td>\n",
       "      <td>[O, B-ORG, I-ORG, I-ORG, I-ORG, I-ORG, I-ORG, I-ORG, I-ORG, I-ORG, I-ORG, I-ORG, O, O, O, B-INNKPP, O, B-INNKPP, O, O, B-STAT, I-STAT, I-STAT, I-STAT, O, O, B-RSKS, O, O, O, B-ORG, I-ORG, I-ORG, I-ORG, I-ORG, I-ORG, I-ORG, I-ORG, I-ORG, I-ORG, I-ORG, I-ORG, B-INNKPP, O, B-INNKPP, O, B-STAT, O, O, O, B-LOC, I-LOC]</td>\n",
       "      <td>[ORG: ОО НИЖЕГОРОДСКАЯ РЕГИОНАЛЬНАЯ ОБЩЕСТВЕННАЯ ОРГАНИЗАЦИЯ ПРАВОВОЙ ПОДДЕРЖКИ БЫСТРЫЙ ЛЕГИТИМНЫЙ АРБИТРАЖ СПОРОВ, INNKPP: 601500724, INNKPP: 611501001, STAT: +8-( 845 ) -147-5726, RSKS: 42160059899708393439, ORG: КОММЕРЧЕСКИЙ БАНК \" КОМПАНИЯ РОЗНИЧНОГО КРЕДИТОВАНИЯ \" ( ОТКРЫТОЕ АКЦИОНЕРНОЕ ОБЩЕСТВО ), INNKPP: 183116686028, INNKPP: 163201001, STAT: 040557259, LOC: Чувашская республика]</td>\n",
       "      <td>[Поставщик, ОО, НИЖЕГОРОДСКАЯ, РЕГИОНАЛЬНАЯ, ОБЩЕСТВЕННАЯ, ОРГАНИЗАЦИЯ, ПРАВОВОЙ, ПОДДЕРЖКИ, БЫСТРЫЙ, ЛЕГИТИМНЫЙ, АРБИТРАЖ, СПОРОВ, ИНН, КПП, Субподрядчик, 601500724, /, 611501001, тел, ., +8-(, 845, ), -147-5726, счет, №, 42160059899708393439, Филиал, банка, З-чик, КОММЕРЧЕСКИЙ, БАНК, \", КОМПАНИЯ, РОЗНИЧНОГО, КРЕДИТОВАНИЯ, \", (, ОТКРЫТОЕ, АКЦИОНЕРНОЕ, ОБЩЕСТВО, ), 183116686028, /, 163201001, БИК, 040557259, Адрес, банка, Подрядчик, Чувашская, республика]</td>\n",
       "    </tr>\n",
       "    <tr>\n",
       "      <th>2</th>\n",
       "      <td>[ru, ru, ru, ru, ru, ru, ru, ru, ru, ru, ru, ru, ru, ru, ru, ru, ru, ru, ru, ru, ru, ru, ru, ru, ru, ru, ru, ru, ru, ru, ru, ru, ru, ru]</td>\n",
       "      <td>[O, B-ORG, I-ORG, I-ORG, I-ORG, I-ORG, I-ORG, I-ORG, I-ORG, I-ORG, I-ORG, B-INNKPP, B-LOC, I-LOC, I-LOC, I-LOC, I-LOC, I-LOC, O, O, O, B-ORG, I-ORG, I-ORG, I-ORG, I-ORG, O, O, B-STAT, I-STAT, I-STAT, I-STAT, O, B-STAT]</td>\n",
       "      <td>[ORG: СЕВЕРНОЕ ЛИНЕЙНОЕ ПРОИЗВОДСТВЕННОЕ УПРАВЛЕНИЕ МАГИСТРАЛЬНЫХ ГАЗОПРОВОДОВ ( СЕВЕРНОЕ ЛПУМГ ), INNKPP: 631226435882, LOC: ГОРОД МОСКВА УЛИЦА УСАЧЁВА ДОМ 24, ORG: ООО Банк \" Саратов \", STAT: 8 344 741 9083, STAT: 044175088]</td>\n",
       "      <td>[Субподрядчик, СЕВЕРНОЕ, ЛИНЕЙНОЕ, ПРОИЗВОДСТВЕННОЕ, УПРАВЛЕНИЕ, МАГИСТРАЛЬНЫХ, ГАЗОПРОВОДОВ, (, СЕВЕРНОЕ, ЛПУМГ, ), 631226435882, ГОРОД, МОСКВА, УЛИЦА, УСАЧЁВА, ДОМ, 24, Филиал, банка, Плательщик, ООО, Банк, \", Саратов, \", тел, ., 8, 344, 741, 9083, БИК, 044175088]</td>\n",
       "    </tr>\n",
       "    <tr>\n",
       "      <th>3</th>\n",
       "      <td>[ru, ru, ru, ru, ru, ru, ru, ru, ru, ru, ru, ru, ru, ru, ru, ru, ru, ru, ru, ru, ru, ru, ru, ru, ru, ru, ru, ru, ru, ru, ru, ru, ru, ru, ru, ru, ru, ru, ru, ru]</td>\n",
       "      <td>[O, B-ORG, I-ORG, O, O, B-INNKPP, O, B-INNKPP, B-LOC, I-LOC, I-LOC, I-LOC, I-LOC, I-LOC, I-LOC, I-LOC, I-LOC, I-LOC, I-LOC, I-LOC, I-LOC, I-LOC, I-LOC, I-LOC, O, B-RSKS, O, O, O, B-ORG, I-ORG, I-ORG, I-ORG, I-ORG, I-ORG, I-ORG, I-ORG, I-ORG, O, B-RSKS]</td>\n",
       "      <td>[ORG: ООО ДЮКА, INNKPP: 564500394, INNKPP: 231201001, LOC: 624134 , Свердловская обл , г Новоуральск , ул Чурина , д 12/2 , оф 20, RSKS: 44468253734659494408, ORG: АКЦИОНЕРНОЕ ОБЩЕСТВО КОММЕРЧЕСКИЙ БАНК \" КУБАНСКИЙ ТОРГОВЫЙ БАНК \", RSKS: 30446422624228206241]</td>\n",
       "      <td>[Инвестор, ООО, ДЮКА, ИНН, КПП, 564500394, /, 231201001, 624134, ,, Свердловская, обл, ,, г, Новоуральск, ,, ул, Чурина, ,, д, 12/2, ,, оф, 20, рс, 44468253734659494408, Филиал, банка, П-щик, АКЦИОНЕРНОЕ, ОБЩЕСТВО, КОММЕРЧЕСКИЙ, БАНК, \", КУБАНСКИЙ, ТОРГОВЫЙ, БАНК, \", корр/сч, 30446422624228206241]</td>\n",
       "    </tr>\n",
       "    <tr>\n",
       "      <th>4</th>\n",
       "      <td>[ru, ru, ru, ru, ru, ru, ru, ru, ru, ru, ru, ru, ru, ru, ru, ru, ru, ru, ru, ru, ru, ru, ru, ru, ru, ru, ru, ru, ru, ru]</td>\n",
       "      <td>[O, B-ORG, I-ORG, B-PER, I-PER, I-PER, O, B-INNKPP, O, O, B-INNKPP, O, O, B-ORG, I-ORG, I-ORG, I-ORG, I-ORG, O, B-RSKS, O, O, B-STAT, I-STAT, I-STAT, I-STAT, I-STAT, O, O, B-STAT]</td>\n",
       "      <td>[ORG: Индивидуальный предприниматель, PER: Умаров Алишер Рустамжонович, INNKPP: 9101033534, INNKPP: 850601001, ORG: Таурус Банк ( АО ), RSKS: 30314447881860661838, STAT: +8 958 641 58 51, STAT: 8-896-847-07-54]</td>\n",
       "      <td>[Заказчик, Индивидуальный, предприниматель, Умаров, Алишер, Рустамжонович, ИНН, 9101033534, КПП, З-чик, 850601001, Банк, П-щик, Таурус, Банк, (, АО, ), кор/сч, 30314447881860661838, тел, ., +8, 958, 641, 58, 51, тел, ., 8-896-847-07-54]</td>\n",
       "    </tr>\n",
       "  </tbody>\n",
       "</table>"
      ],
      "text/plain": [
       "<IPython.core.display.HTML object>"
      ]
     },
     "metadata": {},
     "output_type": "display_data"
    }
   ],
   "source": [
    "# преобразуем dataset в DataFarme\n",
    "dataset = datasets[\"test\"]\n",
    "df = pd.DataFrame(dataset)\n",
    "for column, typ in dataset.features.items():\n",
    "    if isinstance(typ, ClassLabel):\n",
    "        df[column] = df[column].transform(lambda i: typ.names[i])\n",
    "    elif isinstance(typ, Sequence) and isinstance(typ.feature, ClassLabel):\n",
    "        df[column] = df[column].transform(lambda x: [typ.feature.names[i] for i in x])\n",
    "display(HTML(df.head().to_html()))"
   ]
  },
  {
   "cell_type": "code",
   "execution_count": 27,
   "id": "1aa3d5fd",
   "metadata": {},
   "outputs": [],
   "source": [
    "chank = ['ООО', '\"', 'МВ', 'КАСТОМ', '\"', 'ИНН', 'З-чик', '7713782321', 'КПП', 'Банк', 'Подрядчик', 'АО', \n",
    "         'НОКССБАНК', 'тел.', '+8', '(', '842', ')', '14', '08', '762', 'тел.', '+8-956-009-5122']"
   ]
  },
  {
   "cell_type": "code",
   "execution_count": 8,
   "id": "e83e304b",
   "metadata": {},
   "outputs": [],
   "source": [
    "# на основе поля массива токенов создаем строку исходного текста\n",
    "def make_str_from_tokens(chank):\n",
    "    detokenizer = NLTKMosesTokenizer('ru').detokenizer\n",
    "    tokens = detokenizer.detokenize([''.join(c)  for c in chank])\n",
    "    return tokens"
   ]
  },
  {
   "cell_type": "code",
   "execution_count": 9,
   "id": "310afe76",
   "metadata": {},
   "outputs": [],
   "source": [
    "# восстанавливаем текст на основе поля tokens\n",
    "df['text'] = df['tokens'].apply(make_str_from_tokens)"
   ]
  },
  {
   "cell_type": "code",
   "execution_count": 14,
   "id": "1ca86e5d",
   "metadata": {},
   "outputs": [
    {
     "data": {
      "text/html": [
       "<table border=\"1\" class=\"dataframe\">\n",
       "  <thead>\n",
       "    <tr style=\"text-align: right;\">\n",
       "      <th></th>\n",
       "      <th>langs</th>\n",
       "      <th>ner_tags</th>\n",
       "      <th>spans</th>\n",
       "      <th>tokens</th>\n",
       "      <th>text</th>\n",
       "      <th>teg_value</th>\n",
       "    </tr>\n",
       "  </thead>\n",
       "  <tbody>\n",
       "    <tr>\n",
       "      <th>0</th>\n",
       "      <td>[ru, ru, ru, ru, ru, ru, ru, ru, ru, ru, ru, ru, ru, ru, ru, ru, ru, ru, ru, ru, ru, ru, ru, ru, ru, ru, ru, ru]</td>\n",
       "      <td>[O, B-ORG, I-ORG, I-ORG, I-ORG, I-ORG, I-ORG, I-ORG, O, O, O, B-LOC, I-LOC, I-LOC, I-LOC, I-LOC, O, O, O, B-INNKPP, O, B-INNKPP, O, O, B-STAT, O, O, B-RSKS]</td>\n",
       "      <td>[ORG: МУП МП ГОРОДСКОГО ОКРУГА САМАРА КРАСНОГЛИНСКИЕ БАНИ, LOC: Брянская область , город Новозыбков, INNKPP: 100601303468, INNKPP: 632501001, STAT: +7-830-199-8031, RSKS: 30310411361955797442]</td>\n",
       "      <td>[Инвестор, МУП, МП, ГОРОДСКОГО, ОКРУГА, САМАРА, КРАСНОГЛИНСКИЕ, БАНИ, Адрес, филиала, банка, Брянская, область, ,, город, Новозыбков, Банк, Инвестор, ИНН/КПП, 100601303468, /, 632501001, тел, ., +7-830-199-8031, корр., счет, 30310411361955797442]</td>\n",
       "      <td>Инвестор МУП МП ГОРОДСКОГО ОКРУГА САМАРА КРАСНОГЛИНСКИЕ БАНИ Адрес филиала банка Брянская область, город Новозыбков Банк Инвестор ИНН/КПП 100601303468 / 632501001 тел. +7-830-199-8031 корр. счет 30310411361955797442</td>\n",
       "      <td>[[ORG, МУП МП ГОРОДСКОГО ОКРУГА САМАРА КРАСНОГЛИНСКИЕ БАНИ], [LOC, Брянская область , город Новозыбков], [INNKPP, 100601303468], [INNKPP, 632501001], [STAT, +7-830-199-8031], [RSKS, 30310411361955797442]]</td>\n",
       "    </tr>\n",
       "    <tr>\n",
       "      <th>1</th>\n",
       "      <td>[ru, ru, ru, ru, ru, ru, ru, ru, ru, ru, ru, ru, ru, ru, ru, ru, ru, ru, ru, ru, ru, ru, ru, ru, ru, ru, ru, ru, ru, ru, ru, ru, ru, ru, ru, ru, ru, ru, ru, ru, ru, ru, ru, ru, ru, ru, ru, ru, ru, ru, ru, ru]</td>\n",
       "      <td>[O, B-ORG, I-ORG, I-ORG, I-ORG, I-ORG, I-ORG, I-ORG, I-ORG, I-ORG, I-ORG, I-ORG, O, O, O, B-INNKPP, O, B-INNKPP, O, O, B-STAT, I-STAT, I-STAT, I-STAT, O, O, B-RSKS, O, O, O, B-ORG, I-ORG, I-ORG, I-ORG, I-ORG, I-ORG, I-ORG, I-ORG, I-ORG, I-ORG, I-ORG, I-ORG, B-INNKPP, O, B-INNKPP, O, B-STAT, O, O, O, B-LOC, I-LOC]</td>\n",
       "      <td>[ORG: ОО НИЖЕГОРОДСКАЯ РЕГИОНАЛЬНАЯ ОБЩЕСТВЕННАЯ ОРГАНИЗАЦИЯ ПРАВОВОЙ ПОДДЕРЖКИ БЫСТРЫЙ ЛЕГИТИМНЫЙ АРБИТРАЖ СПОРОВ, INNKPP: 601500724, INNKPP: 611501001, STAT: +8-( 845 ) -147-5726, RSKS: 42160059899708393439, ORG: КОММЕРЧЕСКИЙ БАНК \" КОМПАНИЯ РОЗНИЧНОГО КРЕДИТОВАНИЯ \" ( ОТКРЫТОЕ АКЦИОНЕРНОЕ ОБЩЕСТВО ), INNKPP: 183116686028, INNKPP: 163201001, STAT: 040557259, LOC: Чувашская республика]</td>\n",
       "      <td>[Поставщик, ОО, НИЖЕГОРОДСКАЯ, РЕГИОНАЛЬНАЯ, ОБЩЕСТВЕННАЯ, ОРГАНИЗАЦИЯ, ПРАВОВОЙ, ПОДДЕРЖКИ, БЫСТРЫЙ, ЛЕГИТИМНЫЙ, АРБИТРАЖ, СПОРОВ, ИНН, КПП, Субподрядчик, 601500724, /, 611501001, тел, ., +8-(, 845, ), -147-5726, счет, №, 42160059899708393439, Филиал, банка, З-чик, КОММЕРЧЕСКИЙ, БАНК, \", КОМПАНИЯ, РОЗНИЧНОГО, КРЕДИТОВАНИЯ, \", (, ОТКРЫТОЕ, АКЦИОНЕРНОЕ, ОБЩЕСТВО, ), 183116686028, /, 163201001, БИК, 040557259, Адрес, банка, Подрядчик, Чувашская, республика]</td>\n",
       "      <td>Поставщик ОО НИЖЕГОРОДСКАЯ РЕГИОНАЛЬНАЯ ОБЩЕСТВЕННАЯ ОРГАНИЗАЦИЯ ПРАВОВОЙ ПОДДЕРЖКИ БЫСТРЫЙ ЛЕГИТИМНЫЙ АРБИТРАЖ СПОРОВ ИНН КПП Субподрядчик 601500724 / 611501001 тел. +8-( 845) -147-5726 счет № 42160059899708393439 Филиал банка З-чик КОММЕРЧЕСКИЙ БАНК \"КОМПАНИЯ РОЗНИЧНОГО КРЕДИТОВАНИЯ\" (ОТКРЫТОЕ АКЦИОНЕРНОЕ ОБЩЕСТВО) 183116686028 / 163201001 БИК 040557259 Адрес банка Подрядчик Чувашская республика</td>\n",
       "      <td>[[ORG, ОО НИЖЕГОРОДСКАЯ РЕГИОНАЛЬНАЯ ОБЩЕСТВЕННАЯ ОРГАНИЗАЦИЯ ПРАВОВОЙ ПОДДЕРЖКИ БЫСТРЫЙ ЛЕГИТИМНЫЙ АРБИТРАЖ СПОРОВ], [INNKPP, 601500724], [INNKPP, 611501001], [STAT, +8-( 845 ) -147-5726], [RSKS, 42160059899708393439], [ORG, КОММЕРЧЕСКИЙ БАНК \" КОМПАНИЯ РОЗНИЧНОГО КРЕДИТОВАНИЯ \" ( ОТКРЫТОЕ АКЦИОНЕРНОЕ ОБЩЕСТВО )], [INNKPP, 183116686028], [INNKPP, 163201001], [STAT, 040557259], [LOC, Чувашская республика]]</td>\n",
       "    </tr>\n",
       "    <tr>\n",
       "      <th>2</th>\n",
       "      <td>[ru, ru, ru, ru, ru, ru, ru, ru, ru, ru, ru, ru, ru, ru, ru, ru, ru, ru, ru, ru, ru, ru, ru, ru, ru, ru, ru, ru, ru, ru, ru, ru, ru, ru]</td>\n",
       "      <td>[O, B-ORG, I-ORG, I-ORG, I-ORG, I-ORG, I-ORG, I-ORG, I-ORG, I-ORG, I-ORG, B-INNKPP, B-LOC, I-LOC, I-LOC, I-LOC, I-LOC, I-LOC, O, O, O, B-ORG, I-ORG, I-ORG, I-ORG, I-ORG, O, O, B-STAT, I-STAT, I-STAT, I-STAT, O, B-STAT]</td>\n",
       "      <td>[ORG: СЕВЕРНОЕ ЛИНЕЙНОЕ ПРОИЗВОДСТВЕННОЕ УПРАВЛЕНИЕ МАГИСТРАЛЬНЫХ ГАЗОПРОВОДОВ ( СЕВЕРНОЕ ЛПУМГ ), INNKPP: 631226435882, LOC: ГОРОД МОСКВА УЛИЦА УСАЧЁВА ДОМ 24, ORG: ООО Банк \" Саратов \", STAT: 8 344 741 9083, STAT: 044175088]</td>\n",
       "      <td>[Субподрядчик, СЕВЕРНОЕ, ЛИНЕЙНОЕ, ПРОИЗВОДСТВЕННОЕ, УПРАВЛЕНИЕ, МАГИСТРАЛЬНЫХ, ГАЗОПРОВОДОВ, (, СЕВЕРНОЕ, ЛПУМГ, ), 631226435882, ГОРОД, МОСКВА, УЛИЦА, УСАЧЁВА, ДОМ, 24, Филиал, банка, Плательщик, ООО, Банк, \", Саратов, \", тел, ., 8, 344, 741, 9083, БИК, 044175088]</td>\n",
       "      <td>Субподрядчик СЕВЕРНОЕ ЛИНЕЙНОЕ ПРОИЗВОДСТВЕННОЕ УПРАВЛЕНИЕ МАГИСТРАЛЬНЫХ ГАЗОПРОВОДОВ (СЕВЕРНОЕ ЛПУМГ) 631226435882 ГОРОД МОСКВА УЛИЦА УСАЧЁВА ДОМ 24 Филиал банка Плательщик ООО Банк \"Саратов\" тел. 8 344 741 9083 БИК 044175088</td>\n",
       "      <td>[[ORG, СЕВЕРНОЕ ЛИНЕЙНОЕ ПРОИЗВОДСТВЕННОЕ УПРАВЛЕНИЕ МАГИСТРАЛЬНЫХ ГАЗОПРОВОДОВ ( СЕВЕРНОЕ ЛПУМГ )], [INNKPP, 631226435882], [LOC, ГОРОД МОСКВА УЛИЦА УСАЧЁВА ДОМ 24], [ORG, ООО Банк \" Саратов \"], [STAT, 8 344 741 9083], [STAT, 044175088]]</td>\n",
       "    </tr>\n",
       "    <tr>\n",
       "      <th>3</th>\n",
       "      <td>[ru, ru, ru, ru, ru, ru, ru, ru, ru, ru, ru, ru, ru, ru, ru, ru, ru, ru, ru, ru, ru, ru, ru, ru, ru, ru, ru, ru, ru, ru, ru, ru, ru, ru, ru, ru, ru, ru, ru, ru]</td>\n",
       "      <td>[O, B-ORG, I-ORG, O, O, B-INNKPP, O, B-INNKPP, B-LOC, I-LOC, I-LOC, I-LOC, I-LOC, I-LOC, I-LOC, I-LOC, I-LOC, I-LOC, I-LOC, I-LOC, I-LOC, I-LOC, I-LOC, I-LOC, O, B-RSKS, O, O, O, B-ORG, I-ORG, I-ORG, I-ORG, I-ORG, I-ORG, I-ORG, I-ORG, I-ORG, O, B-RSKS]</td>\n",
       "      <td>[ORG: ООО ДЮКА, INNKPP: 564500394, INNKPP: 231201001, LOC: 624134 , Свердловская обл , г Новоуральск , ул Чурина , д 12/2 , оф 20, RSKS: 44468253734659494408, ORG: АКЦИОНЕРНОЕ ОБЩЕСТВО КОММЕРЧЕСКИЙ БАНК \" КУБАНСКИЙ ТОРГОВЫЙ БАНК \", RSKS: 30446422624228206241]</td>\n",
       "      <td>[Инвестор, ООО, ДЮКА, ИНН, КПП, 564500394, /, 231201001, 624134, ,, Свердловская, обл, ,, г, Новоуральск, ,, ул, Чурина, ,, д, 12/2, ,, оф, 20, рс, 44468253734659494408, Филиал, банка, П-щик, АКЦИОНЕРНОЕ, ОБЩЕСТВО, КОММЕРЧЕСКИЙ, БАНК, \", КУБАНСКИЙ, ТОРГОВЫЙ, БАНК, \", корр/сч, 30446422624228206241]</td>\n",
       "      <td>Инвестор ООО ДЮКА ИНН КПП 564500394 / 231201001 624134, Свердловская обл, г Новоуральск, ул Чурина, д 12/2, оф 20 рс 44468253734659494408 Филиал банка П-щик АКЦИОНЕРНОЕ ОБЩЕСТВО КОММЕРЧЕСКИЙ БАНК \"КУБАНСКИЙ ТОРГОВЫЙ БАНК\" корр/сч 30446422624228206241</td>\n",
       "      <td>[[ORG, ООО ДЮКА], [INNKPP, 564500394], [INNKPP, 231201001], [LOC, 624134 , Свердловская обл , г Новоуральск , ул Чурина , д 12/2 , оф 20], [RSKS, 44468253734659494408], [ORG, АКЦИОНЕРНОЕ ОБЩЕСТВО КОММЕРЧЕСКИЙ БАНК \" КУБАНСКИЙ ТОРГОВЫЙ БАНК \"], [RSKS, 30446422624228206241]]</td>\n",
       "    </tr>\n",
       "    <tr>\n",
       "      <th>4</th>\n",
       "      <td>[ru, ru, ru, ru, ru, ru, ru, ru, ru, ru, ru, ru, ru, ru, ru, ru, ru, ru, ru, ru, ru, ru, ru, ru, ru, ru, ru, ru, ru, ru]</td>\n",
       "      <td>[O, B-ORG, I-ORG, B-PER, I-PER, I-PER, O, B-INNKPP, O, O, B-INNKPP, O, O, B-ORG, I-ORG, I-ORG, I-ORG, I-ORG, O, B-RSKS, O, O, B-STAT, I-STAT, I-STAT, I-STAT, I-STAT, O, O, B-STAT]</td>\n",
       "      <td>[ORG: Индивидуальный предприниматель, PER: Умаров Алишер Рустамжонович, INNKPP: 9101033534, INNKPP: 850601001, ORG: Таурус Банк ( АО ), RSKS: 30314447881860661838, STAT: +8 958 641 58 51, STAT: 8-896-847-07-54]</td>\n",
       "      <td>[Заказчик, Индивидуальный, предприниматель, Умаров, Алишер, Рустамжонович, ИНН, 9101033534, КПП, З-чик, 850601001, Банк, П-щик, Таурус, Банк, (, АО, ), кор/сч, 30314447881860661838, тел, ., +8, 958, 641, 58, 51, тел, ., 8-896-847-07-54]</td>\n",
       "      <td>Заказчик Индивидуальный предприниматель Умаров Алишер Рустамжонович ИНН 9101033534 КПП З-чик 850601001 Банк П-щик Таурус Банк (АО) кор/сч 30314447881860661838 тел. +8 958 641 58 51 тел. 8-896-847-07-54</td>\n",
       "      <td>[[ORG, Индивидуальный предприниматель Умаров Алишер Рустамжонович], [INNKPP, 9101033534], [INNKPP, 850601001], [ORG, Таурус Банк ( АО )], [RSKS, 30314447881860661838], [STAT, +8 958 641 58 51], [STAT, 8-896-847-07-54]]</td>\n",
       "    </tr>\n",
       "  </tbody>\n",
       "</table>"
      ],
      "text/plain": [
       "<IPython.core.display.HTML object>"
      ]
     },
     "metadata": {},
     "output_type": "display_data"
    }
   ],
   "source": [
    "display(HTML(df.head().to_html()))"
   ]
  },
  {
   "cell_type": "code",
   "execution_count": 12,
   "id": "16e1ef96",
   "metadata": {},
   "outputs": [],
   "source": [
    "# создаем формат [[tag, value]] для оценки качества других NER-моделей\n",
    "def make_tag_value_from_spans(spans):\n",
    "    i = 0\n",
    "    result = []\n",
    "#     if spans[0] == 'None':\n",
    "#         return result\n",
    "    while i < len(spans):\n",
    "        s = spans[i].split(': ')\n",
    "        if s[0] == 'ORG' and s[1].split()[0].upper() in ['ИП', 'ИНДИВИДУАЛЬНЫЙ']:\n",
    "            s1 = spans[i+1].split(': ')\n",
    "            if s1[0] == 'PER':\n",
    "                result.append([s[0], \"{} {}\".format(s[1], s1[1])])\n",
    "                i+=1\n",
    "            else:\n",
    "                result.append([s[0], s[1]])\n",
    "        else:\n",
    "            result.append([s[0], s[1]])\n",
    "        i+=1\n",
    "    return result"
   ]
  },
  {
   "cell_type": "code",
   "execution_count": 13,
   "id": "f1cfa693",
   "metadata": {},
   "outputs": [],
   "source": [
    "# восстанавливаем тэги и их значения\n",
    "df['teg_value'] = df['spans'].apply(make_tag_value_from_spans)"
   ]
  },
  {
   "cell_type": "code",
   "execution_count": 15,
   "id": "6208358e",
   "metadata": {},
   "outputs": [],
   "source": [
    "df[['tokens', 'text', 'teg_value']].to_excel(BASE_DIR.joinpath('data/processed/test_model_example.xlsx'), index=False, engine='openpyxl')"
   ]
  }
 ],
 "metadata": {
  "kernelspec": {
   "display_name": "Python 3",
   "language": "python",
   "name": "python3"
  },
  "language_info": {
   "codemirror_mode": {
    "name": "ipython",
    "version": 3
   },
   "file_extension": ".py",
   "mimetype": "text/x-python",
   "name": "python",
   "nbconvert_exporter": "python",
   "pygments_lexer": "ipython3",
   "version": "3.7.13"
  }
 },
 "nbformat": 4,
 "nbformat_minor": 5
}
